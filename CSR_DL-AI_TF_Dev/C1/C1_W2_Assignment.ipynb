{
  "cells": [
    {
      "cell_type": "markdown",
      "metadata": {
        "id": "view-in-github",
        "colab_type": "text"
      },
      "source": [
        "<a href=\"https://colab.research.google.com/github/doantronghieu/DEEP-LEARNING/blob/main/CSR_TF_Dev_Pro_Cert/C1/C1_W2_Assignment.ipynb\" target=\"_parent\"><img src=\"https://colab.research.google.com/assets/colab-badge.svg\" alt=\"Open In Colab\"/></a>"
      ]
    },
    {
      "cell_type": "markdown",
      "metadata": {
        "id": "_2s0EJ5Fy4u2"
      },
      "source": [
        "# Week 2: Implementing Callbacks in TensorFlow using the MNIST Dataset\n",
        "\n",
        "In the course you learned how to do classification using Fashion MNIST, a data set containing items of clothing. There's another, similar dataset called MNIST which has items of handwriting -- the digits 0 through 9.\n",
        "\n",
        "Write an MNIST classifier that trains to 99% accuracy or above, and does it without a fixed number of epochs -- i.e. you should stop training once you reach that level of accuracy. In the lecture you saw how this was done for the loss but here you will be using accuracy instead.\n",
        "\n",
        "Some notes:\n",
        "1. Given the architecture of the net, it should succeed in less than 10 epochs.\n",
        "2. When it reaches 99% or greater it should print out the string \"Reached 99% accuracy so cancelling training!\" and stop training.\n",
        "3. If you add any additional variables, make sure you use the same names as the ones used in the class. This is important for the function signatures (the parameters and names) of the callbacks."
      ]
    },
    {
      "cell_type": "code",
      "execution_count": 1,
      "metadata": {
        "id": "djVOgMHty4u3"
      },
      "outputs": [],
      "source": [
        "import os\n",
        "import tensorflow as tf\n",
        "import tensorflow.keras as tfk\n",
        "import tensorflow.keras.layers as layers\n",
        "import tensorflow.keras.optimizers as optimizers\n",
        "import tensorflow.nn as nn"
      ]
    },
    {
      "cell_type": "markdown",
      "metadata": {
        "id": "HIVXIfxAN2F4"
      },
      "source": [
        "Begin by loading the data. A couple of things to notice:\n",
        "\n",
        "- The file `mnist.npz` is already included in the current workspace under the `data` directory. By default the `load_data` from Keras accepts a path relative to `~/.keras/datasets` but in this case it is stored somewhere else, as a result of this, you need to specify the full path.\n",
        "\n",
        "- `load_data` returns the train and test sets in the form of the tuples `(x_train, y_train), (x_test, y_test)` but in this exercise you will be needing only the train set so you can ignore the second tuple."
      ]
    },
    {
      "cell_type": "code",
      "source": [
        "import zipfile\n",
        "!wget https://github.com/doantronghieu/DEEP-LEARNING/blob/main/CSR_TF_Dev_Pro_Cert/C1/data.zip?raw=true\n",
        "zip_ref = zipfile.ZipFile(\"data.zip?raw=true\", \"r\")\n",
        "zip_ref.extractall()\n",
        "zip_ref.close()"
      ],
      "metadata": {
        "id": "Cjb61CrhP_oj",
        "outputId": "d0309ed9-dac4-4651-ffdf-4e18ae8638ac",
        "colab": {
          "base_uri": "https://localhost:8080/"
        }
      },
      "execution_count": 20,
      "outputs": [
        {
          "output_type": "stream",
          "name": "stdout",
          "text": [
            "--2022-04-13 23:53:20--  https://github.com/doantronghieu/DEEP-LEARNING/blob/main/CSR_TF_Dev_Pro_Cert/C1/data.zip?raw=true\n",
            "Resolving github.com (github.com)... 140.82.114.4\n",
            "Connecting to github.com (github.com)|140.82.114.4|:443... connected.\n",
            "HTTP request sent, awaiting response... 302 Found\n",
            "Location: https://github.com/doantronghieu/DEEP-LEARNING/raw/main/CSR_TF_Dev_Pro_Cert/C1/data.zip [following]\n",
            "--2022-04-13 23:53:20--  https://github.com/doantronghieu/DEEP-LEARNING/raw/main/CSR_TF_Dev_Pro_Cert/C1/data.zip\n",
            "Reusing existing connection to github.com:443.\n",
            "HTTP request sent, awaiting response... 302 Found\n",
            "Location: https://raw.githubusercontent.com/doantronghieu/DEEP-LEARNING/main/CSR_TF_Dev_Pro_Cert/C1/data.zip [following]\n",
            "--2022-04-13 23:53:20--  https://raw.githubusercontent.com/doantronghieu/DEEP-LEARNING/main/CSR_TF_Dev_Pro_Cert/C1/data.zip\n",
            "Resolving raw.githubusercontent.com (raw.githubusercontent.com)... 185.199.108.133, 185.199.109.133, 185.199.110.133, ...\n",
            "Connecting to raw.githubusercontent.com (raw.githubusercontent.com)|185.199.108.133|:443... connected.\n",
            "HTTP request sent, awaiting response... 200 OK\n",
            "Length: 11499534 (11M) [application/zip]\n",
            "Saving to: ‘data.zip?raw=true.1’\n",
            "\n",
            "\rdata.zip?raw=true.1   0%[                    ]       0  --.-KB/s               \rdata.zip?raw=true.1 100%[===================>]  10.97M  --.-KB/s    in 0.03s   \n",
            "\n",
            "2022-04-13 23:53:20 (317 MB/s) - ‘data.zip?raw=true.1’ saved [11499534/11499534]\n",
            "\n"
          ]
        }
      ]
    },
    {
      "cell_type": "code",
      "source": [
        "# Get the current working directory\n",
        "current_dir = os.getcwd()\n",
        "\n",
        "# Append data/mnist.npz to the previous path to get the full path\n",
        "data_path = os.path.join(current_dir, 'data/mnist.npz')\n",
        "\n",
        "# Discard test set\n",
        "(x_train, y_train), _ = tfk.datasets.mnist.load_data(path=data_path)\n",
        "\n",
        "# Normalize the pixel values\n",
        "x_train = x_train / 255.0\n",
        "\n",
        "print(current_dir)\n",
        "print(data_path)"
      ],
      "metadata": {
        "id": "FD42Rp4jWiNW",
        "outputId": "32297272-8b0a-4c36-cc14-eb784e491e72",
        "colab": {
          "base_uri": "https://localhost:8080/"
        }
      },
      "execution_count": 23,
      "outputs": [
        {
          "output_type": "stream",
          "name": "stdout",
          "text": [
            "/content\n",
            "/content/data/mnist.npz\n"
          ]
        }
      ]
    },
    {
      "cell_type": "markdown",
      "metadata": {
        "id": "nNSZHBj_N2F5"
      },
      "source": [
        "Now take a look at the shape of the training data:"
      ]
    },
    {
      "cell_type": "code",
      "execution_count": 24,
      "metadata": {
        "id": "XkRwAdr9N2F5",
        "outputId": "1ea70b24-e50e-4014-ea90-27702bd5736f",
        "colab": {
          "base_uri": "https://localhost:8080/"
        }
      },
      "outputs": [
        {
          "output_type": "stream",
          "name": "stdout",
          "text": [
            "There are 60000 examples with shape (28, 28)\n"
          ]
        }
      ],
      "source": [
        "data_shape = x_train.shape\n",
        "\n",
        "print(f'There are {data_shape[0]} examples with shape ({data_shape[1]}, {data_shape[2]})')"
      ]
    },
    {
      "cell_type": "markdown",
      "metadata": {
        "id": "0sKbta61N2F6"
      },
      "source": [
        "Now it is time to create your own custom callback. For this complete the `myCallback` class and the `on_epoch_end` method in the cell below. If you need some guidance on how to proceed, check out this [link](https://www.tensorflow.org/guide/keras/custom_callback)."
      ]
    },
    {
      "cell_type": "code",
      "execution_count": 25,
      "metadata": {
        "id": "hftnWpg9N2F6"
      },
      "outputs": [],
      "source": [
        "# Inherit from the correct class\n",
        "class myCallback(tfk.callbacks.Callback):\n",
        "    # Define the function signature\n",
        "    def on_epoch_end(self, epoch, logs={}):\n",
        "        if (logs.get('accuracy') is not None and logs.get('accuracy') > 0.99):\n",
        "            print('\\nReached 99% accuracy so cancelling training!')\n",
        "\n",
        "            # Stop training once the above condition is met\n",
        "            self.model.stop_training = True"
      ]
    },
    {
      "cell_type": "markdown",
      "metadata": {
        "id": "0ZNue4BzN2F7"
      },
      "source": [
        "Now that you have defined your callback it is time to complete the `train_mnist` function below:"
      ]
    },
    {
      "cell_type": "code",
      "execution_count": 26,
      "metadata": {
        "id": "rEHcB3kqyHZ6"
      },
      "outputs": [],
      "source": [
        "def train_mnist(x_train, y_train):\n",
        "    \n",
        "    # Instantiate the callback class\n",
        "    callbacks = myCallback()\n",
        "\n",
        "    # Define the model, it should have 3 layers:\n",
        "    # - A Flatten layer that receives inputs with the same shape as the images\n",
        "    # - A Dense layer with 512 units and ReLU activation function\n",
        "    # - A Dense layer with 10 units and softmax activation function\n",
        "    model = tfk.models.Sequential([\n",
        "        layers.Flatten(input_shape=(28, 28)),\n",
        "        layers.Dense(512, activation=nn.relu),\n",
        "        layers.Dense(10, activation=nn.softmax)                                   \n",
        "    ])\n",
        "\n",
        "    # Compile the model\n",
        "    model.compile(optimizer='adam',\n",
        "                  loss='sparse_categorical_crossentropy',\n",
        "                  metrics=['accuracy'])\n",
        "    \n",
        "    # Fit the model, add the callbacks, save the training accuracy\n",
        "    history = model.fit(x_train, y_train, epochs=10, callbacks=[callbacks])\n",
        "\n",
        "    return history\n",
        "    "
      ]
    },
    {
      "cell_type": "markdown",
      "metadata": {
        "id": "aEO0AagCN2F8"
      },
      "source": [
        "Call the `train_mnist` passing in the appropiate parameters to get the training history:"
      ]
    },
    {
      "cell_type": "code",
      "execution_count": 27,
      "metadata": {
        "id": "sFgpwbGly4u4",
        "outputId": "6559e764-70ff-452a-8484-fa9723c6ae3f",
        "colab": {
          "base_uri": "https://localhost:8080/"
        }
      },
      "outputs": [
        {
          "output_type": "stream",
          "name": "stdout",
          "text": [
            "Epoch 1/10\n",
            "1875/1875 [==============================] - 10s 5ms/step - loss: 0.2011 - accuracy: 0.9413\n",
            "Epoch 2/10\n",
            "1875/1875 [==============================] - 9s 5ms/step - loss: 0.0808 - accuracy: 0.9754\n",
            "Epoch 3/10\n",
            "1875/1875 [==============================] - 10s 5ms/step - loss: 0.0530 - accuracy: 0.9835\n",
            "Epoch 4/10\n",
            "1875/1875 [==============================] - 10s 5ms/step - loss: 0.0362 - accuracy: 0.9884\n",
            "Epoch 5/10\n",
            "1873/1875 [============================>.] - ETA: 0s - loss: 0.0270 - accuracy: 0.9913\n",
            "Reached 99% accuracy so cancelling training!\n",
            "1875/1875 [==============================] - 9s 5ms/step - loss: 0.0270 - accuracy: 0.9913\n"
          ]
        }
      ],
      "source": [
        "hist = train_mnist(x_train, y_train)"
      ]
    },
    {
      "cell_type": "markdown",
      "metadata": {
        "id": "eSYH9FifN2F8"
      },
      "source": [
        "If you see the message `Reached 99% accuracy so cancelling training!` printed out after less than 10 epochs it means your callback worked as expected. "
      ]
    },
    {
      "cell_type": "markdown",
      "metadata": {
        "id": "-jIMMbjmN2F9"
      },
      "source": [
        "**Congratulations on finishing this week's assignment!**\n",
        "\n",
        "You have successfully implemented a callback that gives you more control over the training loop for your model. Nice job!\n",
        "\n",
        "**Keep it up!**"
      ]
    }
  ],
  "metadata": {
    "jupytext": {
      "main_language": "python"
    },
    "kernelspec": {
      "display_name": "Python 3",
      "language": "python",
      "name": "python3"
    },
    "language_info": {
      "codemirror_mode": {
        "name": "ipython",
        "version": 3
      },
      "file_extension": ".py",
      "mimetype": "text/x-python",
      "name": "python",
      "nbconvert_exporter": "python",
      "pygments_lexer": "ipython3",
      "version": "3.8.8"
    },
    "colab": {
      "name": "C1_W2_Assignment.ipynb",
      "provenance": [],
      "include_colab_link": true
    }
  },
  "nbformat": 4,
  "nbformat_minor": 0
}