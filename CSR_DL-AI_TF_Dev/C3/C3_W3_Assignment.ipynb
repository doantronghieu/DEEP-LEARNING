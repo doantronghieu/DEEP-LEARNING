{
  "cells": [
    {
      "cell_type": "code",
      "source": [
        "!wget https://raw.githubusercontent.com/doantronghieu/DEEP-LEARNING/main/helper_DL.py\n",
        "!pip install colorama\n",
        "import matplotlib.pyplot as plt\n",
        "plt.rcParams.update({'font.size':15})\n",
        "import seaborn           as sns\n",
        "sns.set()\n",
        "import helper_DL as helper"
      ],
      "metadata": {
        "id": "rCsCBbcDkpUZ",
        "outputId": "6951767f-d3c1-4d12-ae61-0020f6111930",
        "colab": {
          "base_uri": "https://localhost:8080/"
        }
      },
      "id": "rCsCBbcDkpUZ",
      "execution_count": 3,
      "outputs": [
        {
          "output_type": "stream",
          "name": "stdout",
          "text": [
            "--2022-04-17 02:57:06--  https://raw.githubusercontent.com/doantronghieu/DEEP-LEARNING/main/helper_DL.py\n",
            "Resolving raw.githubusercontent.com (raw.githubusercontent.com)... 185.199.108.133, 185.199.109.133, 185.199.110.133, ...\n",
            "Connecting to raw.githubusercontent.com (raw.githubusercontent.com)|185.199.108.133|:443... connected.\n",
            "HTTP request sent, awaiting response... 200 OK\n",
            "Length: 32335 (32K) [text/plain]\n",
            "Saving to: ‘helper_DL.py.1’\n",
            "\n",
            "\rhelper_DL.py.1        0%[                    ]       0  --.-KB/s               \rhelper_DL.py.1      100%[===================>]  31.58K  --.-KB/s    in 0.002s  \n",
            "\n",
            "2022-04-17 02:57:06 (13.1 MB/s) - ‘helper_DL.py.1’ saved [32335/32335]\n",
            "\n",
            "Requirement already satisfied: colorama in /usr/local/lib/python3.7/dist-packages (0.4.4)\n"
          ]
        }
      ]
    },
    {
      "cell_type": "markdown",
      "id": "14a17241",
      "metadata": {
        "id": "14a17241"
      },
      "source": [
        "\n",
        "# Week 3: Exploring Overfitting in NLP\n",
        "\n",
        "Welcome to this assignment! During this week you saw different ways to handle sequence-like data. You saw how some Keras' layers such as `GRU`, `Conv` and `LSTM` can be used to tackle problems in this space. Now you will put this knowledge into practice by creating a model architecture that does not overfit.\n",
        "\n",
        "For this assignment you will be using a variation of the [Sentiment140 dataset](http://help.sentiment140.com/home), which contains 1.6 million tweets alongside their respective sentiment (0 for negative and 4 for positive).\n",
        "\n",
        "You will also need to create the helper functions very similar to the ones you coded in previous assignments pre-process data and to tokenize sentences. However the objective of the assignment is to find a model architecture that will not overfit.\n",
        "\n",
        "Let's get started!"
      ]
    },
    {
      "cell_type": "code",
      "execution_count": 4,
      "id": "ad536ad1",
      "metadata": {
        "id": "ad536ad1"
      },
      "outputs": [],
      "source": [
        "import csv, random, pickle\n",
        "import numpy as np\n",
        "from scipy.stats import linregress\n",
        "\n",
        "import tensorflow as tf\n",
        "import tensorflow.keras as tfk\n",
        "from tensorflow import nn\n",
        "from tensorflow.keras import layers, losses, optimizers, models, Model\n",
        "import tensorflow.keras.preprocessing as tfkp"
      ]
    },
    {
      "cell_type": "markdown",
      "id": "c0005663",
      "metadata": {
        "id": "c0005663"
      },
      "source": [
        "## Defining some useful global variables\n",
        "\n",
        "Next you will define some global variables that will be used throughout the assignment.\n",
        "\n",
        "- `EMBEDDING_DIM`: Dimension of the dense embedding, will be used in the embedding layer of the model. Defaults to 100.\n",
        "\n",
        "\n",
        "- `MAXLEN`: Maximum length of all sequences. Defaults to 16.\n",
        "\n",
        "\n",
        "- `TRUNCATING`: Truncating strategy (truncate either before or after each sequence.). Defaults to 'post'.\n",
        "\n",
        "\n",
        "- `PADDING`: Padding strategy (pad either before or after each sequence.). Defaults to 'post'.\n",
        "\n",
        "\n",
        "- `OOV_TOKEN`: Token to replace out-of-vocabulary words during text_to_sequence calls. Defaults to \\\"\\\\<OOV>\\\".\n",
        "    \n",
        "    \n",
        "- `MAX_EXAMPLES`: Max number of examples to use. Defaults to 160000 (10% of the original number of examples)\n",
        "    \n",
        "    \n",
        "- `TRAINING_SPLIT`: Proportion of data used for training. Defaults to 0.9"
      ]
    },
    {
      "cell_type": "code",
      "execution_count": 5,
      "id": "f83af4c9",
      "metadata": {
        "id": "f83af4c9"
      },
      "outputs": [],
      "source": [
        "EMBEDDING_DIM  = 100\n",
        "MAXLEN         = 16\n",
        "TRUNCATING     = 'post'\n",
        "PADDING        = 'post'\n",
        "OOV_TOKEN      = '<OOV>'\n",
        "MAX_EXAMPLES   = 160000\n",
        "TRAINING_SPLIT = 0.9"
      ]
    },
    {
      "cell_type": "markdown",
      "id": "5926840a",
      "metadata": {
        "id": "5926840a"
      },
      "source": [
        "## Explore the dataset\n",
        "\n",
        "The dataset is provided in a csv file. \n",
        "\n",
        "Each row of this file contains the following values separated by commas:\n",
        "\n",
        "- target: the polarity of the tweet (0 = negative, 4 = positive)\n",
        "\n",
        "- ids: The id of the tweet\n",
        "\n",
        "- date: the date of the tweet\n",
        "\n",
        "- flag: The query. If there is no query, then this value is NO_QUERY.\n",
        "\n",
        "- user: the user that tweeted\n",
        "\n",
        "- text: the text of the tweet\n",
        "\n",
        "\n",
        "Take a look at the first two examples:"
      ]
    },
    {
      "cell_type": "code",
      "source": [
        "!unzip /content/data.zip"
      ],
      "metadata": {
        "id": "jAkGkf5KzyVO",
        "outputId": "496bfd27-7a12-466b-e988-8f3e557e75a2",
        "colab": {
          "base_uri": "https://localhost:8080/"
        }
      },
      "id": "jAkGkf5KzyVO",
      "execution_count": 6,
      "outputs": [
        {
          "output_type": "stream",
          "name": "stdout",
          "text": [
            "Archive:  /content/data.zip\n",
            "  inflating: data/glove.6B.100d.txt  \n",
            "  inflating: data/training_cleaned.csv  \n"
          ]
        }
      ]
    },
    {
      "cell_type": "code",
      "execution_count": 7,
      "id": "d0a3707f",
      "metadata": {
        "id": "d0a3707f",
        "outputId": "dde2afd6-4463-4232-9f97-9f5dfd5502eb",
        "colab": {
          "base_uri": "https://localhost:8080/"
        }
      },
      "outputs": [
        {
          "output_type": "stream",
          "name": "stdout",
          "text": [
            "First data point looks like this:\n",
            "\"0\",\"1467810369\",\"Mon Apr 06 22:19:45 PDT 2009\",\"NO_QUERY\",\"_TheSpecialOne_\",\"@switchfoot http://twitpic.com/2y1zl - Awww, that's a bummer.  You shoulda got David Carr of Third Day to do it. ;D\"\n",
            "\n",
            "Second data point looks like this:\n",
            "\"0\",\"1467810672\",\"Mon Apr 06 22:19:49 PDT 2009\",\"NO_QUERY\",\"scotthamilton\",\"is upset that he can't update his Facebook by texting it... and might cry as a result  School today also. Blah!\"\n",
            "\n"
          ]
        }
      ],
      "source": [
        "SENTIMENT_CSV = '/content/data/training_cleaned.csv'\n",
        "\n",
        "with open(SENTIMENT_CSV, 'r') as csvfile:\n",
        "    print(f'First data point looks like this:\\n{csvfile.readline()}')\n",
        "    print(f'Second data point looks like this:\\n{csvfile.readline()}')"
      ]
    },
    {
      "cell_type": "markdown",
      "id": "52e80cc0",
      "metadata": {
        "id": "52e80cc0"
      },
      "source": [
        "**Notice that this file does not have a header so you won't need to skip the first row when parsing the file.**\n",
        "\n",
        "For the task at hand you will only need the information of the target and the text, which are the first and last element of each row. "
      ]
    },
    {
      "cell_type": "markdown",
      "id": "78b4e033",
      "metadata": {
        "id": "78b4e033"
      },
      "source": [
        "## Parsing the raw data\n",
        "\n",
        "Now you need to read the data from the csv file. To do so, complete the `parse_data_from_file` function.\n",
        "\n",
        "A couple of things to note:\n",
        "\n",
        "- You should NOT omit the first line as the file does not contain headers.\n",
        "- There is no need to save the data points as numpy arrays, regular lists is fine.\n",
        "- To read from csv files use `csv.reader` by passing the appropriate arguments.\n",
        "- `csv.reader` returns an iterable that returns each row in every iteration. So the label can be accessed via `row[0]` and the text via `row[5]`.\n",
        "- The labels are originally encoded as strings ('0' representing negative and '4' representing positive). **You need to change this so that the labels are integers and 0 is used for representing negative, while 1 should represent positive.**\n"
      ]
    },
    {
      "cell_type": "code",
      "execution_count": 8,
      "id": "2d05cacc",
      "metadata": {
        "id": "2d05cacc"
      },
      "outputs": [],
      "source": [
        "def parse_data_from_file(filename):\n",
        "    \n",
        "    sentences = []\n",
        "    labels    = []\n",
        "\n",
        "    with open(filename, 'r') as csvfile:\n",
        "        reader = csv.reader(csvfile, delimiter = ',')\n",
        "\n",
        "        for row in reader:\n",
        "            labels   .append(0 if (row[0] == 0) else 1)\n",
        "            sentences.append(row[5])\n",
        "    \n",
        "    return sentences, labels"
      ]
    },
    {
      "cell_type": "code",
      "execution_count": 9,
      "id": "87248794",
      "metadata": {
        "id": "87248794",
        "outputId": "89c0bd3f-392f-4135-9593-6e015639af62",
        "colab": {
          "base_uri": "https://localhost:8080/"
        }
      },
      "outputs": [
        {
          "output_type": "stream",
          "name": "stdout",
          "text": [
            "Dataset contains 1600000 examples.\n",
            "\n",
            "Text of second example should look like this:\n",
            "is upset that he can't update his Facebook by texting it... and might cry as a result  School today also. Blah!\n",
            "\n",
            "Text of fourth example should look like this:\n",
            "my whole body feels itchy and like its on fire \n",
            "\n",
            "Labels of last 5 examples should look like this:\n",
            "[1, 1, 1, 1, 1]\n"
          ]
        }
      ],
      "source": [
        "sentences, labels = parse_data_from_file(SENTIMENT_CSV)\n",
        "\n",
        "print(f'Dataset contains {len(sentences)} examples.\\n')\n",
        "print(f'Text of second example should look like this:\\n{sentences[1]}\\n')\n",
        "print(f'Text of fourth example should look like this:\\n{sentences[3]}\\n')\n",
        "print(f'Labels of last 5 examples should look like this:\\n{labels[-5:]}')"
      ]
    },
    {
      "cell_type": "markdown",
      "id": "58d0ee0a",
      "metadata": {
        "id": "58d0ee0a"
      },
      "source": [
        "You might have noticed that this dataset contains a lot of examples. In order to keep a low execution time of this assignment you will be using only 10% of the original data. The next cell does this while also randomnizing the datapoints that will be used:"
      ]
    },
    {
      "cell_type": "code",
      "execution_count": 10,
      "id": "2de39800",
      "metadata": {
        "id": "2de39800",
        "outputId": "790ae56a-85ce-45fe-83c9-5b5eca8eeb70",
        "colab": {
          "base_uri": "https://localhost:8080/"
        }
      },
      "outputs": [
        {
          "output_type": "stream",
          "name": "stdout",
          "text": [
            "There are 160000 sentences and 160000 labels after random sampling.\n",
            "\n"
          ]
        }
      ],
      "source": [
        "# Bunble the two list into a single one\n",
        "sentences_and_labels = list(zip(sentences, labels))\n",
        "\n",
        "# Perform random sampling\n",
        "random.seed(42)\n",
        "sentences_and_labels = random.sample(sentences_and_labels, MAX_EXAMPLES)\n",
        "\n",
        "# Unpack back into separate lists\n",
        "sentences, labels = zip(*sentences_and_labels)\n",
        "\n",
        "print(f'There are {len(sentences)} sentences and {len(labels)} labels after random sampling.\\n')"
      ]
    },
    {
      "cell_type": "markdown",
      "id": "11ce9db2",
      "metadata": {
        "id": "11ce9db2"
      },
      "source": [
        "## Training - Validation Split\n",
        "\n",
        "Now you will code the `train_val_split`, which given the list of sentences, the list of labels and the proportion of data for the training set, should return the training and validation sentences and labels:"
      ]
    },
    {
      "cell_type": "code",
      "execution_count": 11,
      "id": "29d518aa",
      "metadata": {
        "id": "29d518aa"
      },
      "outputs": [],
      "source": [
        "def train_val_split(sentences, labels, training_split):\n",
        "\n",
        "    # Compute the number of sentences that will be used for training (int)\n",
        "    train_size = int(len(sentences) * training_split)\n",
        "\n",
        "    # Split the sentences and labels into train/validation splits\n",
        "    train_sentences      = sentences[:train_size]\n",
        "    train_labels         = labels   [:train_size]\n",
        "    validation_sentences = sentences[train_size:]\n",
        "    validation_labels    = labels   [train_size:]\n",
        "\n",
        "    return train_sentences, validation_sentences, train_labels, validation_labels"
      ]
    },
    {
      "cell_type": "code",
      "execution_count": 12,
      "id": "5ff73c6f",
      "metadata": {
        "id": "5ff73c6f",
        "outputId": "eddcab71-d09a-4055-ea28-6e7016a6a217",
        "colab": {
          "base_uri": "https://localhost:8080/"
        }
      },
      "outputs": [
        {
          "output_type": "stream",
          "name": "stdout",
          "text": [
            "There are 144000 sentences for training.\n",
            "There are 144000 labels for training.\n",
            "There are 16000  sentences for validation.\n",
            "There are 16000  labels for validation.\n"
          ]
        }
      ],
      "source": [
        "train_sentences, validation_sentences, train_labels, validation_labels = train_val_split(sentences, labels, TRAINING_SPLIT)\n",
        "\n",
        "print(f'There are {len(train_sentences):<6} sentences for training.')\n",
        "print(f'There are {len(train_labels):<6} labels for training.')\n",
        "print(f'There are {len(validation_sentences):<6} sentences for validation.')\n",
        "print(f'There are {len(validation_labels):<6} labels for validation.')"
      ]
    },
    {
      "cell_type": "markdown",
      "id": "748ace09",
      "metadata": {
        "id": "748ace09"
      },
      "source": [
        "## Tokenization - Sequences, truncating and padding\n",
        "\n",
        "Now that you have sets for training and validation it is time for you to begin the tokenization process.\n",
        "\n",
        "Begin by completing the `fit_tokenizer` function below. This function should return a [Tokenizer](https://www.tensorflow.org/api_docs/python/tf/keras/preprocessing/text/Tokenizer) that has been fitted to the training sentences."
      ]
    },
    {
      "cell_type": "code",
      "execution_count": 13,
      "id": "4d799486",
      "metadata": {
        "id": "4d799486"
      },
      "outputs": [],
      "source": [
        "def fit_tokenizer(train_sentences, oov_token):\n",
        "\n",
        "    # Instantiate the Tokenizer class\n",
        "    tokenizer = tfkp.text.Tokenizer(oov_token = oov_token)\n",
        "\n",
        "    # Fit the tokenizer to the training sentences\n",
        "    tokenizer.fit_on_texts(train_sentences)\n",
        "\n",
        "    return tokenizer"
      ]
    },
    {
      "cell_type": "code",
      "execution_count": 14,
      "id": "08f59dfc",
      "metadata": {
        "id": "08f59dfc",
        "outputId": "cfe6dcf3-5154-4ec7-e4b2-a8e47ce8efca",
        "colab": {
          "base_uri": "https://localhost:8080/"
        }
      },
      "outputs": [
        {
          "output_type": "stream",
          "name": "stdout",
          "text": [
            "Vocabulary contains 128293 words.\n",
            "\n",
            "<OOV> token included in vocabulary.\n",
            "\n",
            "Index of word 'i' should be 2.\n"
          ]
        }
      ],
      "source": [
        "tokenizer = fit_tokenizer(train_sentences, OOV_TOKEN)\n",
        "word_index = tokenizer.word_index\n",
        "VOCAB_SIZE = len(word_index)\n",
        "\n",
        "print(f'Vocabulary contains {VOCAB_SIZE} words.\\n')\n",
        "print(f'<OOV> token included in vocabulary.' if '<OOV>' in word_index else '<OOV> token NOT included in vocabulary.\\n')\n",
        "print(f\"\\nIndex of word 'i' should be {word_index['i']}.\")"
      ]
    },
    {
      "cell_type": "code",
      "execution_count": 15,
      "id": "c929b515",
      "metadata": {
        "id": "c929b515"
      },
      "outputs": [],
      "source": [
        "def seq_pad_and_trunc(sentences, tokenizer, padding, truncating, maxlen):\n",
        "\n",
        "    # Convert sentences to sequences\n",
        "    sequences = tokenizer.texts_to_sequences(sentences)\n",
        "\n",
        "    # Pad the sequences using the correct padding, truncating and maxlen\n",
        "    pad_trunc_sequences = tfkp.sequence.pad_sequences(sequences, maxlen = maxlen,\n",
        "                                                      padding = padding, \n",
        "                                                      truncating = truncating)\n",
        "    \n",
        "    return pad_trunc_sequences"
      ]
    },
    {
      "cell_type": "code",
      "execution_count": 16,
      "id": "e2a152ab",
      "metadata": {
        "id": "e2a152ab",
        "outputId": "b988cae4-7a94-483a-e0a8-d3ba8a0a806a",
        "colab": {
          "base_uri": "https://localhost:8080/"
        }
      },
      "outputs": [
        {
          "output_type": "stream",
          "name": "stdout",
          "text": [
            "Padded and truncated training sequences have shape:   (144000, 16)\n",
            "Padded and truncated validation sequences have shape: (16000, 16)\n"
          ]
        }
      ],
      "source": [
        "train_pad_trunc_seq = seq_pad_and_trunc(train_sentences,      tokenizer, PADDING, TRUNCATING, MAXLEN)\n",
        "val_pad_trunc_seq   = seq_pad_and_trunc(validation_sentences, tokenizer, PADDING, TRUNCATING, MAXLEN)\n",
        "\n",
        "print(f'Padded and truncated training sequences have shape:   {train_pad_trunc_seq.shape}')\n",
        "print(f'Padded and truncated validation sequences have shape: {val_pad_trunc_seq  .shape}')\n"
      ]
    },
    {
      "cell_type": "markdown",
      "id": "43b1780a",
      "metadata": {
        "id": "43b1780a"
      },
      "source": [
        "Remember that the `pad_sequences` function returns numpy arrays, so your training and validation sequences are already in this format.\n",
        "\n",
        "However the labels are still Python lists. Before going forward you should convert them numpy arrays as well. You can do this by running the following cell:"
      ]
    },
    {
      "cell_type": "code",
      "source": [
        "train_labels = np.array(train_labels)\n",
        "val_labels   = np.array(validation_labels)"
      ],
      "metadata": {
        "id": "7xUS1ivAYt-w"
      },
      "id": "7xUS1ivAYt-w",
      "execution_count": 17,
      "outputs": []
    },
    {
      "cell_type": "markdown",
      "id": "842252a2",
      "metadata": {
        "id": "842252a2"
      },
      "source": [
        "# Using pre-defined Embeddings\n",
        "\n",
        "This time you will not be learning embeddings from your data but you will be using pre-trained word vectors.\n",
        "\n",
        "In particular you will be using the 100 dimension version of [GloVe](https://nlp.stanford.edu/projects/glove/) from Stanford."
      ]
    },
    {
      "cell_type": "code",
      "source": [
        "# Define path to file containing the embeddings\n",
        "GLOVE_FILE = './data/glove.6B.100d.txt'\n",
        "\n",
        "# Initialize an empty embeddings index dictionary\n",
        "GLOVE_EMBEDDINGS = {}\n",
        "\n",
        "# Read file and fill GLOVE_EMBEDDINGS with its contents\n",
        "with open(GLOVE_FILE) as f:\n",
        "    for line in f:\n",
        "        values = line.split()\n",
        "        word   = values[0]\n",
        "        coefs  = np.asarray(values[1:], dtype = 'float32')\n",
        "        GLOVE_EMBEDDINGS[word] = coefs"
      ],
      "metadata": {
        "id": "vHojJZ5NY75j"
      },
      "id": "vHojJZ5NY75j",
      "execution_count": 18,
      "outputs": []
    },
    {
      "cell_type": "markdown",
      "id": "af661535",
      "metadata": {
        "id": "af661535"
      },
      "source": [
        "Now you have access to GloVe's pre-trained word vectors. Isn't that cool?\n",
        "\n",
        "Let's take a look at the vector for the word **dog**:"
      ]
    },
    {
      "cell_type": "code",
      "source": [
        "test_word   = 'dog'\n",
        "test_vector = GLOVE_EMBEDDINGS[test_word]\n",
        "print(f'Vector representation of word \\'{test_word}\\' looks like this:\\n{test_vector}')"
      ],
      "metadata": {
        "id": "ZD3sDbibZtZz",
        "outputId": "3e55aeb2-5447-4c1a-9f98-2fc261095f63",
        "colab": {
          "base_uri": "https://localhost:8080/"
        }
      },
      "id": "ZD3sDbibZtZz",
      "execution_count": 19,
      "outputs": [
        {
          "output_type": "stream",
          "name": "stdout",
          "text": [
            "Vector representation of word 'dog' looks like this:\n",
            "[ 0.30817    0.30938    0.52803   -0.92543   -0.73671    0.63475\n",
            "  0.44197    0.10262   -0.09142   -0.56607   -0.5327     0.2013\n",
            "  0.7704    -0.13983    0.13727    1.1128     0.89301   -0.17869\n",
            " -0.0019722  0.57289    0.59479    0.50428   -0.28991   -1.3491\n",
            "  0.42756    1.2748    -1.1613    -0.41084    0.042804   0.54866\n",
            "  0.18897    0.3759     0.58035    0.66975    0.81156    0.93864\n",
            " -0.51005   -0.070079   0.82819   -0.35346    0.21086   -0.24412\n",
            " -0.16554   -0.78358   -0.48482    0.38968   -0.86356   -0.016391\n",
            "  0.31984   -0.49246   -0.069363   0.018869  -0.098286   1.3126\n",
            " -0.12116   -1.2399    -0.091429   0.35294    0.64645    0.089642\n",
            "  0.70294    1.1244     0.38639    0.52084    0.98787    0.79952\n",
            " -0.34625    0.14095    0.80167    0.20987   -0.86007   -0.15308\n",
            "  0.074523   0.40816    0.019208   0.51587   -0.34428   -0.24525\n",
            " -0.77984    0.27425    0.22418    0.20164    0.017431  -0.014697\n",
            " -1.0235    -0.39695   -0.0056188  0.30569    0.31748    0.021404\n",
            "  0.11837   -0.11319    0.42456    0.53405   -0.16717   -0.27185\n",
            " -0.6255     0.12883    0.62529   -0.52086  ]\n"
          ]
        }
      ]
    },
    {
      "cell_type": "markdown",
      "id": "4483d596",
      "metadata": {
        "id": "4483d596"
      },
      "source": [
        "Feel free to change the `test_word` to see the vector representation of any word you can think of.\n",
        "\n",
        "Also, notice that the dimension of each vector is 100. You can easily double check this by running the following cell:"
      ]
    },
    {
      "cell_type": "code",
      "execution_count": 20,
      "id": "71e55959",
      "metadata": {
        "id": "71e55959",
        "outputId": "62707428-5376-4e4d-f9e9-44ec97ccc7e7",
        "colab": {
          "base_uri": "https://localhost:8080/"
        }
      },
      "outputs": [
        {
          "output_type": "stream",
          "name": "stdout",
          "text": [
            "Each word vector has shape: (100,)\n"
          ]
        }
      ],
      "source": [
        "print(f'Each word vector has shape: {test_vector.shape}')"
      ]
    },
    {
      "cell_type": "markdown",
      "id": "95dde313",
      "metadata": {
        "id": "95dde313"
      },
      "source": [
        "## Represent the words in your vocabulary using the embeddings\n",
        "\n",
        "Save the vector representation of each word in the vocabulary in a numpy array.\n",
        "\n",
        "A couple of things to notice:\n",
        "- If a word in your vocabulary is not present in `GLOVE_EMBEDDINGS` the representation for that word is left as a column of zeros.\n",
        "- `word_index` starts counting at 1, because of this you will need to add an extra column at the left-most side of the `EMBEDDINGS_MATRIX` array. This is the reason why you add 1 to `VOCAB_SIZE` in the cell below:"
      ]
    },
    {
      "cell_type": "code",
      "source": [
        "# Initialize an empty numpy array with the appropriate size\n",
        "EMBEDDINGS_MATRIX = np.zeros((VOCAB_SIZE + 1, EMBEDDING_DIM))\n",
        "\n",
        "# - Iterate all of the words in the vocabulary and if the vector representation\n",
        "# for each word exists within Glove's representation, save it in the \n",
        "# EMBEDDINGS_MATRIX array\n",
        "for word, i in word_index.items():\n",
        "    embedding_vector = GLOVE_EMBEDDINGS.get(word)\n",
        "    if (embedding_vector is not None):\n",
        "        EMBEDDINGS_MATRIX[i] = embedding_vector"
      ],
      "metadata": {
        "id": "X-ow1VPdaeEB"
      },
      "id": "X-ow1VPdaeEB",
      "execution_count": 21,
      "outputs": []
    },
    {
      "cell_type": "markdown",
      "id": "53905c8a",
      "metadata": {
        "id": "53905c8a"
      },
      "source": [
        "Now you have the pre-trained embeddings ready to use!"
      ]
    },
    {
      "cell_type": "markdown",
      "id": "5bf301af",
      "metadata": {
        "id": "5bf301af"
      },
      "source": [
        "## Define a model that does not overfit\n",
        "\n",
        "Now you need to define a model that will handle the problem at hand while not overfitting.\n",
        "\n",
        "A couple of things to note / hints:\n",
        "\n",
        "- The first layer is provided so you can see how the Embedding layer is configured when using pre-trained embeddings\n",
        "\n",
        "\n",
        "- You can try different combinations of layers covered in previous ungraded labs such as:\n",
        "    - `Conv1D`\n",
        "    - `Dropout`\n",
        "    - `GlobalMaxPooling1D`    \n",
        "    - `MaxPooling1D`    \n",
        "    - `LSTM`    \n",
        "    - `Bidirectional(LSTM)`\n",
        "\n",
        "\n",
        "- The last two layers should be `Dense` layers.\n",
        "\n",
        "\n",
        "- There multiple ways of solving this problem. So try an architecture that you think will not overfit.\n",
        "\n",
        "\n",
        "- Try simpler architectures first to avoid long training times. Architectures that are able to solve this problem usually have around 3-4 layers (excluding the last two `Dense` ones)\n",
        "\n",
        "\n",
        "- Include at least one `Dropout` layer to mitigate overfitting."
      ]
    },
    {
      "cell_type": "code",
      "execution_count": 22,
      "id": "8f7485ce",
      "metadata": {
        "id": "8f7485ce"
      },
      "outputs": [],
      "source": [
        "def create_model(vocab_size, embedding_dim, maxlen, embedding_matrix):\n",
        "\n",
        "    model = models.Sequential([\n",
        "        layers.Embedding(vocab_size + 1, embedding_dim, input_length = maxlen,\n",
        "                         weights = [embedding_matrix]),\n",
        "        layers.Dropout(0.2),\n",
        "        layers.Conv1D(32, 5, activation = nn.relu),\n",
        "        layers.GlobalMaxPooling1D(),\n",
        "        layers.Dense(32, activation = nn.relu),\n",
        "        layers.Dense(1, activation = nn.sigmoid)                                                        \n",
        "    ])\n",
        "\n",
        "    model.compile(loss = losses.binary_crossentropy,\n",
        "                  optimizer = optimizers.Adam(),\n",
        "                  metrics = ['accuracy'])\n",
        "    \n",
        "    model.summary()\n",
        "\n",
        "    return model"
      ]
    },
    {
      "cell_type": "code",
      "source": [
        "# Create our untrained model\n",
        "model = create_model(VOCAB_SIZE, EMBEDDING_DIM, MAXLEN, EMBEDDINGS_MATRIX)\n",
        "\n",
        "# Train the model, save the training history\n",
        "history = model.fit(train_pad_trunc_seq, train_labels, epochs = 20,\n",
        "                    validation_data = (val_pad_trunc_seq, validation_labels))"
      ],
      "metadata": {
        "id": "5uTtiXtwcYK0",
        "outputId": "9c1cc806-ec0b-4229-ab16-3948b4bdd672",
        "colab": {
          "base_uri": "https://localhost:8080/"
        }
      },
      "id": "5uTtiXtwcYK0",
      "execution_count": null,
      "outputs": [
        {
          "output_type": "stream",
          "name": "stdout",
          "text": [
            "Model: \"sequential\"\n",
            "_________________________________________________________________\n",
            " Layer (type)                Output Shape              Param #   \n",
            "=================================================================\n",
            " embedding (Embedding)       (None, 16, 100)           12829400  \n",
            "                                                                 \n",
            " dropout (Dropout)           (None, 16, 100)           0         \n",
            "                                                                 \n",
            " conv1d (Conv1D)             (None, 12, 32)            16032     \n",
            "                                                                 \n",
            " global_max_pooling1d (Globa  (None, 32)               0         \n",
            " lMaxPooling1D)                                                  \n",
            "                                                                 \n",
            " dense (Dense)               (None, 32)                1056      \n",
            "                                                                 \n",
            " dense_1 (Dense)             (None, 1)                 33        \n",
            "                                                                 \n",
            "=================================================================\n",
            "Total params: 12,846,521\n",
            "Trainable params: 12,846,521\n",
            "Non-trainable params: 0\n",
            "_________________________________________________________________\n",
            "Epoch 1/20\n",
            "  97/4500 [..............................] - ETA: 10:17 - loss: 0.0235 - accuracy: 1.0000"
          ]
        }
      ]
    },
    {
      "cell_type": "markdown",
      "id": "c71f9bb5",
      "metadata": {
        "id": "c71f9bb5"
      },
      "source": [
        "**To pass this assignment your `val_loss` (validation loss) should either be flat or decreasing.** \n",
        "\n",
        "Although a flat `val_loss` and a lowering `train_loss` (or just `loss`) also indicate some overfitting what you really want to avoid is having a lowering `train_loss` and an increasing `val_loss`.\n",
        "\n",
        "With this in mind, the following three curves will be acceptable solutions:"
      ]
    },
    {
      "cell_type": "markdown",
      "id": "e1e57f27",
      "metadata": {
        "id": "e1e57f27"
      },
      "source": [
        "<table><tr><td><img src='https://github.com/doantronghieu/DEEP-LEARNING/blob/main/CSR_TF_Dev_Pro_Cert/C3/images/valid-1.png?raw=1'></td><td><img src='https://github.com/doantronghieu/DEEP-LEARNING/blob/main/CSR_TF_Dev_Pro_Cert/C3/images/valid-2.jpg?raw=1'></td><td><img src='https://github.com/doantronghieu/DEEP-LEARNING/blob/main/CSR_TF_Dev_Pro_Cert/C3/images/valid-3.jpg?raw=1'></td></tr></table>"
      ]
    },
    {
      "cell_type": "markdown",
      "id": "3f62222e",
      "metadata": {
        "id": "3f62222e"
      },
      "source": [
        "While the following would not be able to pass the grading:"
      ]
    },
    {
      "cell_type": "markdown",
      "id": "80516373",
      "metadata": {
        "id": "80516373"
      },
      "source": [
        "<table><tr><td><img src='https://github.com/doantronghieu/DEEP-LEARNING/blob/main/CSR_TF_Dev_Pro_Cert/C3/images/invalid-1.jpg?raw=1'></td></tr></table>"
      ]
    },
    {
      "cell_type": "markdown",
      "id": "515d68d2",
      "metadata": {
        "id": "515d68d2"
      },
      "source": [
        "Run the following cell to check your loss curves:"
      ]
    },
    {
      "cell_type": "markdown",
      "id": "bbeb126e",
      "metadata": {
        "id": "bbeb126e"
      },
      "source": [
        "If you wish so, you can also check the training and validation accuracies of your model:"
      ]
    },
    {
      "cell_type": "code",
      "execution_count": null,
      "id": "74f67611",
      "metadata": {
        "id": "74f67611"
      },
      "outputs": [],
      "source": [
        "helper.plot_history_curves(history)"
      ]
    },
    {
      "cell_type": "markdown",
      "id": "247f8935",
      "metadata": {
        "id": "247f8935"
      },
      "source": [
        "A more rigorous way of setting the passing threshold of this assignment is to use the slope of your `val_loss` curve.\n",
        "\n",
        "**To pass this assignment the slope of your `val_loss` curve should be 0.0005 at maximum.**"
      ]
    },
    {
      "cell_type": "code",
      "execution_count": null,
      "id": "2be165e0",
      "metadata": {
        "id": "2be165e0"
      },
      "outputs": [],
      "source": [
        "# Test the slope of your val_loss curve\n",
        "slope, *_ = linregress(epochs, val_loss)\n",
        "print(f\"The slope of your validation loss curve is {slope:.5f}\")"
      ]
    },
    {
      "cell_type": "markdown",
      "id": "310ff48b",
      "metadata": {
        "id": "310ff48b"
      },
      "source": [
        "**If your model generated a validation loss curve that meets the criteria above, run the following cell and then submit your assignment for grading. Otherwise, try with a different architecture.**"
      ]
    },
    {
      "cell_type": "code",
      "execution_count": null,
      "id": "6741b2cb",
      "metadata": {
        "id": "6741b2cb"
      },
      "outputs": [],
      "source": [
        "with open('history.pkl', 'wb') as f:\n",
        "    pickle.dump(history.history, f)"
      ]
    },
    {
      "cell_type": "markdown",
      "id": "f159f395",
      "metadata": {
        "id": "f159f395"
      },
      "source": [
        "**Congratulations on finishing this week's assignment!**\n",
        "\n",
        "You have successfully implemented a neural network capable of classifying sentiment in text data while doing a fairly good job of not overfitting! Nice job!\n",
        "\n",
        "**Keep it up!**"
      ]
    }
  ],
  "metadata": {
    "kernelspec": {
      "display_name": "Python 3",
      "language": "python",
      "name": "python3"
    },
    "language_info": {
      "codemirror_mode": {
        "name": "ipython",
        "version": 3
      },
      "file_extension": ".py",
      "mimetype": "text/x-python",
      "name": "python",
      "nbconvert_exporter": "python",
      "pygments_lexer": "ipython3",
      "version": "3.8.8"
    },
    "colab": {
      "name": "C3_W3_Assignment.ipynb",
      "provenance": []
    },
    "accelerator": "GPU"
  },
  "nbformat": 4,
  "nbformat_minor": 5
}