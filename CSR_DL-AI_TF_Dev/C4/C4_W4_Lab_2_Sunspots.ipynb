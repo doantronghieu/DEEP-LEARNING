{
<<<<<<< HEAD:CSR_DL-AI_TF_Dev/C4/C4_W4_Lab_2_Sunspots.ipynb
=======
  "nbformat": 4,
  "nbformat_minor": 0,
  "metadata": {
    "accelerator": "TPU",
    "colab": {
      "name": "C4_W4_Lab_2_Sunspots.ipynb",
      "provenance": [],
      "collapsed_sections": [],
      "include_colab_link": true
    },
    "kernelspec": {
      "name": "python3",
      "display_name": "Python 3"
    },
    "language_info": {
      "name": "python"
    }
  },
>>>>>>> db172bcd6ba345f0fe1698424034b7087d6c230b:CSR_TF_Dev_Pro_Cert/C4/C4_W4_Lab_2_Sunspots.ipynb
  "cells": [
    {
      "cell_type": "markdown",
      "metadata": {
        "colab_type": "text",
        "id": "view-in-github"
      },
      "source": [
        "<a href=\"https://colab.research.google.com/github/doantronghieu/DEEP-LEARNING/blob/main/CSR_TF_Dev_Pro_Cert/C4/C4_W4_Lab_2_Sunspots.ipynb\" target=\"_parent\"><img src=\"https://colab.research.google.com/assets/colab-badge.svg\" alt=\"Open In Colab\"/></a>"
      ]
    },
    {
      "cell_type": "code",
<<<<<<< HEAD:CSR_DL-AI_TF_Dev/C4/C4_W4_Lab_2_Sunspots.ipynb
      "execution_count": null,
      "metadata": {
        "id": "56XEQOGknrAk"
      },
      "outputs": [],
      "source": [
        "import tensorflow as tf\n",
        "print(tf.__version__)"
      ]
    },
    {
      "cell_type": "code",
      "execution_count": null,
      "metadata": {
        "id": "sLl52leVp5wU"
      },
      "outputs": [],
=======
      "metadata": {
        "id": "56XEQOGknrAk"
      },
      "source": [
        "import csv\n",
        "import numpy as np\n",
        "import matplotlib.pyplot as plt\n",
        "import matplotlib.image as mpimg\n",
        "import tensorflow as tf\n",
        "import tensorflow.keras as tfk\n",
        "from tensorflow.keras import layers, optimizers, losses, models, callbacks, metrics\n",
        "import seaborn as sns\n",
        "sns.set()"
      ],
      "execution_count": null,
      "outputs": []
    },
    {
      "cell_type": "code",
>>>>>>> db172bcd6ba345f0fe1698424034b7087d6c230b:CSR_TF_Dev_Pro_Cert/C4/C4_W4_Lab_2_Sunspots.ipynb
      "source": [
        "def plot_series(time, series, format = '-', start = 0, end = None, label = None):\n",
        "    plt.plot(time[start:end], series[start:end], format, label = label)\n",
        "    plt.xlabel('Time')\n",
        "    plt.ylabel('Value')\n",
        "    if label:\n",
        "        plt.legend(fontsize = 14)\n",
        "    plt.grid(True)"
<<<<<<< HEAD:CSR_DL-AI_TF_Dev/C4/C4_W4_Lab_2_Sunspots.ipynb
      ]
=======
      ],
      "metadata": {
        "id": "3QS0aUWP4O-N"
      },
      "execution_count": null,
      "outputs": []
>>>>>>> db172bcd6ba345f0fe1698424034b7087d6c230b:CSR_TF_Dev_Pro_Cert/C4/C4_W4_Lab_2_Sunspots.ipynb
    },
    {
      "cell_type": "code",
      "execution_count": null,
      "metadata": {
        "id": "tP7oqUdkk0gY"
      },
      "outputs": [],
      "source": [
        "# Sunspots.csv\n",
        "!gdown --id 1bLnqPgwoSh6rHz_DKDdDeQyAyl8_nqT5"
      ]
    },
    {
      "cell_type": "code",
      "execution_count": null,
      "metadata": {
        "id": "NcG9r1eClbTh"
      },
      "outputs": [],
      "source": [
        "time_step = []\n",
        "sunspots  = []\n",
        "\n",
        "with open('/content/Sunspots.csv') as csvfile:\n",
        "    reader = csv.reader(csvfile, delimiter = ',')\n",
        "    next(reader)\n",
        "\n",
        "    for row in reader:\n",
        "        time_step.append(int  (row[0]))\n",
        "        sunspots .append(float(row[2]))\n",
        "    \n",
        "series = np.array(sunspots)\n",
<<<<<<< HEAD:CSR_DL-AI_TF_Dev/C4/C4_W4_Lab_2_Sunspots.ipynb
        "time = np.array(time_step)\n",
        "plt.figure(figsize=(10, 6))\n",
        "plot_series(time, series)"
      ]
    },
    {
      "cell_type": "code",
      "execution_count": null,
      "metadata": {
        "id": "VinZVwUa8WO7"
      },
      "outputs": [],
      "source": [
        "series = np.array(sunspots)\n",
        "time = np.array(time_step)\n",
        "plt.figure(figsize=(10, 6))\n",
        "plot_series(time, series)"
      ]
    },
    {
      "cell_type": "code",
      "execution_count": null,
      "metadata": {
        "id": "L92YRw_IpCFG"
      },
      "outputs": [],
      "source": [
=======
        "time   = np.array(time_step)\n",
        "\n",
>>>>>>> db172bcd6ba345f0fe1698424034b7087d6c230b:CSR_TF_Dev_Pro_Cert/C4/C4_W4_Lab_2_Sunspots.ipynb
        "split_time = 3000\n",
        "time_train = time  [:split_time]\n",
        "time_valid = time  [split_time:]\n",
        "x_train    = series[:split_time]\n",
        "x_valid    = series[split_time:]\n",
        "\n",
<<<<<<< HEAD:CSR_DL-AI_TF_Dev/C4/C4_W4_Lab_2_Sunspots.ipynb
        "window_size = 30\n",
        "batch_size = 32\n",
        "shuffle_buffer_size = 1000\n"
      ]
    },
    {
      "cell_type": "code",
      "execution_count": null,
      "metadata": {
        "id": "lJwUUZscnG38"
      },
      "outputs": [],
      "source": [
        "def windowed_dataset(series, window_size, batch_size, shuffle_buffer):\n",
        "    series = tf.expand_dims(series, axis=-1)\n",
        "    ds = tf.data.Dataset.from_tensor_slices(series)\n",
        "    ds = ds.window(window_size + 1, shift=1, drop_remainder=True)\n",
        "    ds = ds.flat_map(lambda w: w.batch(window_size + 1))\n",
        "    ds = ds.shuffle(shuffle_buffer)\n",
        "    ds = ds.map(lambda w: (w[:-1], w[1:]))\n",
        "    return ds.batch(batch_size).prefetch(1)"
      ]
=======
        "window_size         = 30\n",
        "batch_size          = 32\n",
        "shuffle_buffer_size = 1000\n",
        "\n",
        "plt.figure(figsize = (22, 7))\n",
        "plot_series(time, series)"
      ],
      "execution_count": null,
      "outputs": []
    },
    {
      "cell_type": "code",
      "source": [
        "def windowed_dataset(series, window_size, batch_size, shuffle_buffer):\n",
        "    series  = tf.expand_dims(series, axis = -1)\n",
        "    dataset = tf.data.Dataset.from_tensor_slices(series)\n",
        "    dataset = dataset.window(window_size + 1, shift=1, drop_remainder=True)\n",
        "    dataset = dataset.flat_map(lambda window: window.batch(window_size + 1))\n",
        "    dataset = dataset.shuffle(shuffle_buffer).map(lambda window: (window[:-1], window[-1]))\n",
        "    dataset = dataset.batch(batch_size).prefetch(1)\n",
        "    return dataset"
      ],
      "metadata": {
        "id": "UMT_AKLv6Pzf"
      },
      "execution_count": null,
      "outputs": []
    },
    {
      "cell_type": "code",
      "source": [
        "def model_forecast(model, series, window_size):\n",
        "    dataset = tf.data.Dataset.from_tensor_slices(series)\n",
        "    dataset = dataset.window(window_size, shift = 1, drop_remainder = True)\n",
        "    dataset = dataset.flat_map(lambda window: window.batch(window_size))\n",
        "    dataset = dataset.batch(32).prefetch(1)\n",
        "    \n",
        "    forecast =  model.predict(dataset)\n",
        "    \n",
        "    return forecast"
      ],
      "metadata": {
        "id": "tJf_szlD6dme"
      },
      "execution_count": null,
      "outputs": []
>>>>>>> db172bcd6ba345f0fe1698424034b7087d6c230b:CSR_TF_Dev_Pro_Cert/C4/C4_W4_Lab_2_Sunspots.ipynb
    },
    {
      "cell_type": "code",
      "execution_count": null,
      "metadata": {
        "id": "4XwGrf-A_wF0"
      },
      "outputs": [],
      "source": [
<<<<<<< HEAD:CSR_DL-AI_TF_Dev/C4/C4_W4_Lab_2_Sunspots.ipynb
        "def model_forecast(model, series, window_size):\n",
        "    ds = tf.data.Dataset.from_tensor_slices(series)\n",
        "    ds = ds.window(window_size, shift=1, drop_remainder=True)\n",
        "    ds = ds.flat_map(lambda w: w.batch(window_size))\n",
        "    ds = ds.batch(32).prefetch(1)\n",
        "    forecast = model.predict(ds)\n",
        "    return forecast"
      ]
    },
    {
      "cell_type": "code",
      "execution_count": null,
      "metadata": {
        "id": "AclfYY3Mn6Ph"
      },
      "outputs": [],
      "source": [
=======
>>>>>>> db172bcd6ba345f0fe1698424034b7087d6c230b:CSR_TF_Dev_Pro_Cert/C4/C4_W4_Lab_2_Sunspots.ipynb
        "tf.keras.backend.clear_session()\n",
        "tf.random.set_seed(51)\n",
        "np.random.seed(51)\n",
        "\n",
        "window_size = 64\n",
        "batch_size  = 256\n",
        "train_set   = windowed_dataset(x_train, window_size, batch_size, shuffle_buffer_size)\n",
        "\n",
        "print(train_set, '\\n')\n",
        "print(x_train.shape, '\\n')\n",
        "\n",
        "model = models.Sequential([\n",
        "    layers.Conv1D(filters = 32, kernel_size = 5, strides = 1, \n",
        "                  padding = 'causal', activation = 'relu', \n",
        "                  input_shape = [None, 1]),                           \n",
        "    layers.LSTM(64, return_sequences = True),\n",
        "    layers.LSTM(64, return_sequences = True),\n",
        "    layers.Dense(30, activation = 'relu'),\n",
        "    layers.Dense(10, activation = 'relu'),\n",
        "    layers.Dense(1),\n",
        "    layers.Lambda(lambda x: x * 400.0)                           \n",
        "])\n",
        "\n",
<<<<<<< HEAD:CSR_DL-AI_TF_Dev/C4/C4_W4_Lab_2_Sunspots.ipynb
        "lr_schedule = tf.keras.callbacks.LearningRateScheduler(\n",
        "    lambda epoch: 1e-8 * 10**(epoch / 20))\n",
        "optimizer = tf.keras.optimizers.SGD(learning_rate=1e-8, momentum=0.9)\n",
        "model.compile(loss=tf.keras.losses.Huber(),\n",
        "              optimizer=optimizer,\n",
        "              metrics=[\"mae\"])\n",
        "history = model.fit(train_set, epochs=100, callbacks=[lr_schedule])\n"
      ]
    },
    {
      "cell_type": "code",
      "execution_count": null,
      "metadata": {
        "id": "vVcKmg7Q_7rD"
      },
      "outputs": [],
      "source": [
        "plt.semilogx(history.history[\"lr\"], history.history[\"loss\"])\n",
        "plt.axis([1e-8, 1e-4, 0, 60])"
      ]
=======
        "lr_schedule = callbacks.LearningRateScheduler(lambda epoch: 1e-8 * 10 ** (epoch / 20))\n",
        "\n",
        "model.compile(loss = losses.Huber(),\n",
        "              optimizer = optimizers.SGD(learning_rate = 1e-8, momentum = 0.9),\n",
        "              metrics = ['mae'])\n",
        "\n",
        "history = model.fit(train_set, epochs = 100, callbacks = [lr_schedule], verbose = 0)\n",
        "\n",
        "plt.figure(figsize = (22, 7))\n",
        "plt.semilogx(history.history['lr'], history.history['loss'])\n",
        "plt.axis([1e-8, 1e-4, 0, 60])\n",
        "plt.show()"
      ],
      "execution_count": null,
      "outputs": []
>>>>>>> db172bcd6ba345f0fe1698424034b7087d6c230b:CSR_TF_Dev_Pro_Cert/C4/C4_W4_Lab_2_Sunspots.ipynb
    },
    {
      "cell_type": "code",
      "execution_count": null,
      "metadata": {
        "id": "QsksvkcXAAgq"
      },
      "outputs": [],
      "source": [
        "tf.keras.backend.clear_session()\n",
        "tf.random.set_seed(51)\n",
        "np.random.seed(51)\n",
        "\n",
        "window_size = 60\n",
        "batch_size  = 100\n",
        "train_set   = windowed_dataset(x_train, window_size, batch_size, shuffle_buffer_size)\n",
        "\n",
        "print(train_set, '\\n')\n",
        "print(x_train.shape, '\\n')\n",
        "\n",
        "model = models.Sequential([\n",
        "    layers.Conv1D(filters = 60, kernel_size = 5, strides = 1, \n",
        "                  padding = 'causal', activation = 'relu', \n",
        "                  input_shape = [None, 1]),                           \n",
        "    layers.LSTM(60, return_sequences = True),\n",
        "    layers.LSTM(60, return_sequences = True),\n",
        "    layers.Dense(30, activation = 'relu'),\n",
        "    layers.Dense(10, activation = 'relu'),\n",
        "    layers.Dense(1),\n",
        "    layers.Lambda(lambda x: x * 400.0)                           \n",
        "])\n",
        "\n",
        "model.compile(loss = losses.Huber(),\n",
        "              optimizer = optimizers.SGD(learning_rate = 1e-5, momentum = 0.9),\n",
        "              metrics = ['mae'])\n",
        "\n",
<<<<<<< HEAD:CSR_DL-AI_TF_Dev/C4/C4_W4_Lab_2_Sunspots.ipynb
        "optimizer = tf.keras.optimizers.SGD(learning_rate=1e-5, momentum=0.9)\n",
        "model.compile(loss=tf.keras.losses.Huber(),\n",
        "              optimizer=optimizer,\n",
        "              metrics=[\"mae\"])\n",
        "history = model.fit(train_set,epochs=500)"
      ]
    },
    {
      "cell_type": "code",
      "execution_count": null,
      "metadata": {
        "id": "GaC6NNMRp0lb"
      },
      "outputs": [],
      "source": [
        "rnn_forecast = model_forecast(model, series[..., np.newaxis], window_size)\n",
        "rnn_forecast = rnn_forecast[split_time - window_size:-1, -1, 0]"
      ]
    },
    {
      "cell_type": "code",
      "execution_count": null,
      "metadata": {
        "id": "PrktQX3hKYex"
      },
      "outputs": [],
      "source": [
        "plt.figure(figsize=(10, 6))\n",
        "plot_series(time_valid, x_valid)\n",
        "plot_series(time_valid, rnn_forecast)"
      ]
=======
        "history = model.fit(train_set, epochs = 500, verbose = 0)"
      ],
      "execution_count": null,
      "outputs": []
>>>>>>> db172bcd6ba345f0fe1698424034b7087d6c230b:CSR_TF_Dev_Pro_Cert/C4/C4_W4_Lab_2_Sunspots.ipynb
    },
    {
      "cell_type": "code",
      "execution_count": null,
      "metadata": {
        "id": "13XrorC5wQoE"
      },
      "outputs": [],
      "source": [
<<<<<<< HEAD:CSR_DL-AI_TF_Dev/C4/C4_W4_Lab_2_Sunspots.ipynb
        "tf.keras.metrics.mean_absolute_error(x_valid, rnn_forecast).numpy()"
      ]
=======
        "rnn_forecast = model_forecast(model, series[..., np.newaxis], window_size)\n",
        "rnn_forecast = rnn_forecast[split_time - window_size:-1, -1, 0]\n",
        "\n",
        "plt.figure(figsize = (22, 7))\n",
        "plot_series(time_valid, x_valid)\n",
        "plot_series(time_valid, rnn_forecast)\n",
        "\n",
        "print(f'Forecast: {rnn_forecast}\\n')\n",
        "print(f'Error: {metrics.mean_absolute_error(x_valid, rnn_forecast).numpy()}')"
      ],
      "execution_count": null,
      "outputs": []
>>>>>>> db172bcd6ba345f0fe1698424034b7087d6c230b:CSR_TF_Dev_Pro_Cert/C4/C4_W4_Lab_2_Sunspots.ipynb
    },
    {
      "cell_type": "code",
      "execution_count": null,
      "metadata": {
        "id": "MD2kyYUVt3O0"
      },
      "outputs": [],
      "source": [
        "# - Retrieve a list of results on training and test data sets for each \n",
        "# training epoch\n",
        "mae  = history.history['mae']\n",
        "loss = history.history['loss']\n",
        "epochs = range(len(loss)) # Number of epochs\n",
        "\n",
        "epochs_zoom = epochs[200:]\n",
        "mae_zoom    = mae[200:]\n",
        "loss_zoom   = loss[200:]\n",
        "\n",
        "fig, axs = plt.subplots(1, 2, figsize = (22, 10))\n",
        "\n",
        "axs[0].plot(epochs, mae, 'r',  label = 'MAE')\n",
        "axs[0].plot(epochs, loss, 'b', label = 'Loss')\n",
        "axs[0].set(xlabel = 'Epochs', ylabel = 'Accuracy', title = 'MAE and Loss')\n",
        "axs[0].legend()\n",
        "\n",
        "axs[1].plot(epochs_zoom, mae_zoom, 'r', label = 'MAE')\n",
        "axs[1].plot(epochs_zoom, loss_zoom, 'b', label = 'Loss')\n",
        "axs[1].set(xlabel = 'Epochs', ylabel = 'Accuracy', title = 'MAE and Loss')\n",
        "axs[1].legend()\n",
        "\n",
<<<<<<< HEAD:CSR_DL-AI_TF_Dev/C4/C4_W4_Lab_2_Sunspots.ipynb
        "plt.figure()\n",
        "\n",
        "\n",
        "\n",
        "zoomed_loss = loss[200:]\n",
        "zoomed_epochs = range(200,500)\n",
        "\n",
        "\n",
        "#------------------------------------------------\n",
        "# Plot training and validation loss per epoch\n",
        "#------------------------------------------------\n",
        "plt.plot(zoomed_epochs, zoomed_loss, 'r')\n",
        "plt.title('Training loss')\n",
        "plt.xlabel(\"Epochs\")\n",
        "plt.ylabel(\"Loss\")\n",
        "plt.legend([\"Loss\"])\n",
        "\n",
        "plt.figure()"
      ]
    },
    {
      "cell_type": "code",
      "execution_count": null,
      "metadata": {
        "id": "AOVzQXxCwkzP"
      },
      "outputs": [],
      "source": [
        "print(rnn_forecast)"
      ]
=======
        "plt.tight_layout()\n",
        "plt.show()"
      ],
      "execution_count": null,
      "outputs": []
>>>>>>> db172bcd6ba345f0fe1698424034b7087d6c230b:CSR_TF_Dev_Pro_Cert/C4/C4_W4_Lab_2_Sunspots.ipynb
    }
  ],
  "metadata": {
    "accelerator": "GPU",
    "colab": {
      "collapsed_sections": [],
      "include_colab_link": true,
      "name": "C4_W4_Lab_2_Sunspots.ipynb",
      "provenance": [],
      "toc_visible": true
    },
    "kernelspec": {
      "display_name": "Python 3",
      "name": "python3"
    },
    "language_info": {
      "name": "python"
    }
  },
  "nbformat": 4,
  "nbformat_minor": 0
}
