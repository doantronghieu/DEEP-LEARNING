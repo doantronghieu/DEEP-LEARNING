{
  "cells": [
    {
      "cell_type": "markdown",
      "metadata": {
        "id": "view-in-github",
        "colab_type": "text"
      },
      "source": [
        "<a href=\"https://colab.research.google.com/github/tronghieu2810/DEEP-LEARNING/blob/main/UDEMY/%5BMike_X_Cohen%5D_Deep_understanding/measurePerformance/DUDL_measurePerformance_time.ipynb\" target=\"_parent\"><img src=\"https://colab.research.google.com/assets/colab-badge.svg\" alt=\"Open In Colab\"/></a>"
      ]
    },
    {
      "cell_type": "code",
      "execution_count": 1,
      "metadata": {
        "id": "YeuAheYyhdZw"
      },
      "outputs": [],
      "source": [
        "# For DL modeling\n",
        "import torch\n",
        "from torch.utils.data import TensorDataset, DataLoader\n",
        "import torch.nn.functional as F\n",
        "import torch.nn as nn\n",
        "\n",
        "# For number-crunching\n",
        "import numpy as np\n",
        "import scipy.stats as stats\n",
        "\n",
        "# For dataset management\n",
        "import pandas as pd\n",
        "from sklearn.model_selection import train_test_split\n",
        "\n",
        "# For data visualization\n",
        "import matplotlib.pyplot as plt\n",
        "from IPython import display\n",
        "display.set_matplotlib_formats('svg')\n",
        "import seaborn as sns\n",
        "\n",
        "# For timing computations\n",
        "import time\n",
        "\n",
        "import copy\n",
        "\n",
        "import sklearn.metrics as skm"
      ]
    },
    {
      "cell_type": "markdown",
      "metadata": {
        "id": "0HOkOefftqyg"
      },
      "source": [
        "# Import and process the data"
      ]
    },
    {
      "cell_type": "code",
      "execution_count": 2,
      "metadata": {
        "id": "MU7rvmWuhjud"
      },
      "outputs": [],
      "source": [
        "# Import dataset\n",
        "mnist_dataset = np.loadtxt(open('sample_data/mnist_train_small.csv','rb'), delimiter=',')\n",
        "\n",
        "#Extract labels (number IDs) and remove from data\n",
        "labels = mnist_dataset[:, 0]\n",
        "data   = mnist_dataset[:, 1:]\n",
        "\n",
        "# Normalize the data to a range of [0, 1]\n",
        "data_norm = data / np.max(data)"
      ]
    },
    {
      "cell_type": "markdown",
      "metadata": {
        "id": "OhLQ2YSvpiGj"
      },
      "source": [
        "# Create train/test groups using DataLoader"
      ]
    },
    {
      "cell_type": "code",
      "execution_count": 3,
      "metadata": {
        "id": "Y_tZ1ymVp0Sf"
      },
      "outputs": [],
      "source": [
        "# Convert to tensor\n",
        "data_tensor   = torch.tensor(data_norm).float()\n",
        "labels_tensor = torch.tensor(labels).long()\n",
        "\n",
        "#  Use scikitlearn to split the data\n",
        "train_data, test_data, train_labels, test_labels = \\\n",
        "    train_test_split(data_tensor, labels_tensor, test_size=0.1)\n",
        "\n",
        "# Convert into PyTorch Datasets\n",
        "train_data_set = TensorDataset(train_data, train_labels)\n",
        "test_data_set  = TensorDataset(test_data, test_labels)\n",
        "\n",
        "# Translate into Dataloader objects\n",
        "batch_size   = 32\n",
        "train_loader = DataLoader(dataset=train_data_set, batch_size=batch_size,\n",
        "                          shuffle=True, drop_last=True)\n",
        "test_loader  = DataLoader(dataset=test_data_set, \n",
        "                          batch_size=test_data_set.tensors[0].shape[0])"
      ]
    },
    {
      "cell_type": "markdown",
      "metadata": {
        "id": "OK8Opkhgp0bO"
      },
      "source": [
        "# Create the DL model"
      ]
    },
    {
      "cell_type": "code",
      "execution_count": 4,
      "metadata": {
        "id": "JK3OO3tAtZkA"
      },
      "outputs": [],
      "source": [
        "def create_the_MNIST_net():\n",
        "    \"\"\"\n",
        "    MODEL_PERFORM_MNIST_NO7 | MODEL_PERFORM_TIME\n",
        "    \"\"\"\n",
        "    class mnist_net(nn.Module):\n",
        "        def __init__(self):\n",
        "            super().__init__()\n",
        "\n",
        "            # Input layer\n",
        "            self.input = nn.Linear(784, 64)\n",
        "\n",
        "            # Hidden layer\n",
        "            self.fc1 = nn.Linear(64, 32)\n",
        "            self.fc2 = nn.Linear(32, 32)\n",
        "\n",
        "            # Output layer\n",
        "            self.output = nn.Linear(32, 10)\n",
        "\n",
        "        # Forward pass\n",
        "        def forward(self, x):\n",
        "            x = F.relu(self.input(x))\n",
        "            x = F.relu(self.fc1(x))\n",
        "            x = F.relu(self.fc2(x))\n",
        "\n",
        "            return self.output(x)\n",
        "        \n",
        "    # Create the model instance\n",
        "    net = mnist_net()\n",
        "\n",
        "    # Loss Function\n",
        "    loss_func = nn.CrossEntropyLoss()\n",
        "\n",
        "    # Optimizer\n",
        "    optimizer = torch.optim.Adam(net.parameters(), lr=0.01)\n",
        "\n",
        "    return net, loss_func, optimizer\n"
      ]
    },
    {
      "cell_type": "markdown",
      "metadata": {
        "id": "dvfGQIRGp0ht"
      },
      "source": [
        "# Create a function that trains the model"
      ]
    },
    {
      "cell_type": "code",
      "execution_count": 5,
      "metadata": {
        "id": "IblJo1NCp0kl"
      },
      "outputs": [],
      "source": [
        "def train_the_model():\n",
        "    \"\"\"\n",
        "    MODEL_PERFORM_TIME\n",
        "    \"\"\"\n",
        "    \n",
        "    # Start the timer!\n",
        "    time_in_function = time.process_time()\n",
        "\n",
        "    num_epochs = 10\n",
        "\n",
        "    # Create a new model\n",
        "    net, loss_func, optimizer = create_the_MNIST_net()\n",
        "\n",
        "    # Initialize\n",
        "    losses    = torch.zeros(num_epochs)\n",
        "    train_acc = []\n",
        "    test_acc  = []\n",
        "\n",
        "    # Loop over epochs\n",
        "    for epoch_i in range(num_epochs):\n",
        "\n",
        "        # Loop over training data batches\n",
        "        batch_acc  = []\n",
        "        batch_loss = [] \n",
        "\n",
        "        for X, y in train_loader:\n",
        "            # Forward pass and loss\n",
        "            y_hat = net(X)\n",
        "            loss  = loss_func(y_hat,y)\n",
        "\n",
        "            # Backprop\n",
        "            optimizer.zero_grad()\n",
        "            loss.backward()\n",
        "            optimizer.step()\n",
        "\n",
        "            # Loss from this batch\n",
        "            batch_loss.append(loss.item())\n",
        "\n",
        "            # Compute accuracy\n",
        "            matches = torch.argmax(y_hat, axis=1) == y       # Booleans (True/False)\n",
        "            matches_numeric = matches.float()                # Convert to numbers (1/0)\n",
        "            accuracy_pct = 100 * torch.mean(matches_numeric) # Average and *100\n",
        "            batch_acc.append(accuracy_pct)                   # Add to list of accuracies\n",
        "        # End of batch loop.\n",
        "\n",
        "        # Get the average training accuracy of the batches\n",
        "        train_acc.append(np.mean(batch_acc))\n",
        "\n",
        "        # The average losses accross the batches\n",
        "        losses[epoch_i] = np.mean(batch_loss)\n",
        "\n",
        "        # Test accuracy\n",
        "        X, y = next(iter(test_loader)) # Extract X, y from dataloader\n",
        "        with torch.no_grad():\n",
        "            y_hat = net(X)\n",
        "        test_acc.append(100 * torch.mean((torch.argmax(y_hat, axis=1) == y).float()))\n",
        "\n",
        "        # Report the epoch number, computation time, accuracy\n",
        "        comp_time = time.process_time() - time_in_function\n",
        "        print(f'Epoch {epoch_i + 1}/{num_epochs}, elapsed time: {comp_time:.2f} sec, test accuracy: {test_acc[-1]:.0f}')\n",
        "\n",
        "    # End epochs\n",
        "\n",
        "    return train_acc, test_acc, losses, net"
      ]
    },
    {
      "cell_type": "markdown",
      "metadata": {
        "id": "XpGm9xdQ27Ob"
      },
      "source": [
        "# Run the model and show the results!"
      ]
    },
    {
      "cell_type": "code",
      "execution_count": 6,
      "metadata": {
        "id": "l9pCC1R2p0nu",
        "outputId": "c3a54b40-1ebb-4c7a-a992-161c29ecf4b5",
        "colab": {
          "base_uri": "https://localhost:8080/"
        }
      },
      "outputs": [
        {
          "output_type": "stream",
          "name": "stdout",
          "text": [
            "Epoch 1/10, elapsed time: 1.19 sec, test accuracy: 92\n",
            "Epoch 2/10, elapsed time: 2.43 sec, test accuracy: 95\n",
            "Epoch 3/10, elapsed time: 3.67 sec, test accuracy: 95\n",
            "Epoch 4/10, elapsed time: 4.91 sec, test accuracy: 94\n",
            "Epoch 5/10, elapsed time: 6.15 sec, test accuracy: 95\n",
            "Epoch 6/10, elapsed time: 7.41 sec, test accuracy: 95\n",
            "Epoch 7/10, elapsed time: 8.66 sec, test accuracy: 95\n",
            "Epoch 8/10, elapsed time: 9.89 sec, test accuracy: 96\n",
            "Epoch 9/10, elapsed time: 11.14 sec, test accuracy: 95\n",
            "Epoch 10/10, elapsed time: 12.39 sec, test accuracy: 95\n"
          ]
        }
      ],
      "source": [
        "train_acc, test_acc, losses, net = train_the_model()"
      ]
    },
    {
      "cell_type": "code",
      "execution_count": 7,
      "metadata": {
        "id": "gHzKOZjnp0qn",
        "outputId": "4a9ae866-7072-4351-a269-2be3cb81e05f",
        "colab": {
          "base_uri": "https://localhost:8080/"
        }
      },
      "outputs": [
        {
          "output_type": "stream",
          "name": "stdout",
          "text": [
            "Epoch 1/10, elapsed time: 1.06 sec, test accuracy: 92\n",
            "Epoch 2/10, elapsed time: 2.33 sec, test accuracy: 93\n",
            "Epoch 3/10, elapsed time: 3.55 sec, test accuracy: 94\n",
            "Epoch 4/10, elapsed time: 4.76 sec, test accuracy: 95\n",
            "Epoch 5/10, elapsed time: 6.02 sec, test accuracy: 94\n",
            "Epoch 6/10, elapsed time: 7.24 sec, test accuracy: 95\n",
            "Epoch 7/10, elapsed time: 8.49 sec, test accuracy: 95\n",
            "Epoch 8/10, elapsed time: 9.75 sec, test accuracy: 94\n",
            "Epoch 9/10, elapsed time: 11.01 sec, test accuracy: 94\n",
            "Epoch 10/10, elapsed time: 12.28 sec, test accuracy: 95\n",
            "Epoch 1/10, elapsed time: 1.06 sec, test accuracy: 93\n",
            "Epoch 2/10, elapsed time: 2.24 sec, test accuracy: 94\n",
            "Epoch 3/10, elapsed time: 3.49 sec, test accuracy: 93\n",
            "Epoch 4/10, elapsed time: 4.76 sec, test accuracy: 94\n",
            "Epoch 5/10, elapsed time: 6.06 sec, test accuracy: 94\n",
            "Epoch 6/10, elapsed time: 7.32 sec, test accuracy: 95\n",
            "Epoch 7/10, elapsed time: 8.58 sec, test accuracy: 95\n",
            "Epoch 8/10, elapsed time: 9.80 sec, test accuracy: 94\n",
            "Epoch 9/10, elapsed time: 11.09 sec, test accuracy: 96\n",
            "Epoch 10/10, elapsed time: 12.35 sec, test accuracy: 95\n",
            "Epoch 1/10, elapsed time: 1.07 sec, test accuracy: 91\n",
            "Epoch 2/10, elapsed time: 2.25 sec, test accuracy: 93\n",
            "Epoch 3/10, elapsed time: 3.46 sec, test accuracy: 95\n",
            "Epoch 4/10, elapsed time: 4.69 sec, test accuracy: 96\n",
            "Epoch 5/10, elapsed time: 5.99 sec, test accuracy: 94\n",
            "Epoch 6/10, elapsed time: 7.24 sec, test accuracy: 94\n",
            "Epoch 7/10, elapsed time: 8.49 sec, test accuracy: 94\n",
            "Epoch 8/10, elapsed time: 9.71 sec, test accuracy: 94\n",
            "Epoch 9/10, elapsed time: 11.01 sec, test accuracy: 95\n",
            "Epoch 10/10, elapsed time: 12.31 sec, test accuracy: 93\n",
            "Epoch 1/10, elapsed time: 1.07 sec, test accuracy: 91\n",
            "Epoch 2/10, elapsed time: 2.29 sec, test accuracy: 94\n",
            "Epoch 3/10, elapsed time: 3.51 sec, test accuracy: 92\n",
            "Epoch 4/10, elapsed time: 4.74 sec, test accuracy: 94\n",
            "Epoch 5/10, elapsed time: 6.00 sec, test accuracy: 95\n",
            "Epoch 6/10, elapsed time: 7.31 sec, test accuracy: 95\n",
            "Epoch 7/10, elapsed time: 8.57 sec, test accuracy: 96\n",
            "Epoch 8/10, elapsed time: 9.80 sec, test accuracy: 95\n",
            "Epoch 9/10, elapsed time: 11.09 sec, test accuracy: 95\n",
            "Epoch 10/10, elapsed time: 12.37 sec, test accuracy: 95\n",
            "Epoch 1/10, elapsed time: 1.19 sec, test accuracy: 92\n",
            "Epoch 2/10, elapsed time: 2.54 sec, test accuracy: 94\n",
            "Epoch 3/10, elapsed time: 3.81 sec, test accuracy: 94\n",
            "Epoch 4/10, elapsed time: 5.08 sec, test accuracy: 95\n",
            "Epoch 5/10, elapsed time: 6.36 sec, test accuracy: 95\n",
            "Epoch 6/10, elapsed time: 7.62 sec, test accuracy: 93\n",
            "Epoch 7/10, elapsed time: 8.88 sec, test accuracy: 94\n",
            "Epoch 8/10, elapsed time: 10.14 sec, test accuracy: 94\n",
            "Epoch 9/10, elapsed time: 11.43 sec, test accuracy: 94\n",
            "Epoch 10/10, elapsed time: 12.69 sec, test accuracy: 95\n",
            "Epoch 1/10, elapsed time: 1.08 sec, test accuracy: 93\n",
            "Epoch 2/10, elapsed time: 2.31 sec, test accuracy: 93\n",
            "Epoch 3/10, elapsed time: 3.57 sec, test accuracy: 93\n",
            "Epoch 4/10, elapsed time: 4.82 sec, test accuracy: 93\n",
            "Epoch 5/10, elapsed time: 6.10 sec, test accuracy: 94\n",
            "Epoch 6/10, elapsed time: 7.40 sec, test accuracy: 95\n",
            "Epoch 7/10, elapsed time: 8.67 sec, test accuracy: 95\n",
            "Epoch 8/10, elapsed time: 9.97 sec, test accuracy: 95\n",
            "Epoch 9/10, elapsed time: 11.23 sec, test accuracy: 95\n",
            "Epoch 10/10, elapsed time: 12.50 sec, test accuracy: 95\n",
            "Epoch 1/10, elapsed time: 1.08 sec, test accuracy: 93\n",
            "Epoch 2/10, elapsed time: 2.27 sec, test accuracy: 94\n",
            "Epoch 3/10, elapsed time: 3.50 sec, test accuracy: 94\n",
            "Epoch 4/10, elapsed time: 4.80 sec, test accuracy: 94\n",
            "Epoch 5/10, elapsed time: 6.05 sec, test accuracy: 95\n",
            "Epoch 6/10, elapsed time: 7.30 sec, test accuracy: 95\n",
            "Epoch 7/10, elapsed time: 8.66 sec, test accuracy: 96\n",
            "Epoch 8/10, elapsed time: 9.96 sec, test accuracy: 95\n",
            "Epoch 9/10, elapsed time: 11.45 sec, test accuracy: 96\n",
            "Epoch 10/10, elapsed time: 12.72 sec, test accuracy: 95\n",
            "Epoch 1/10, elapsed time: 1.10 sec, test accuracy: 92\n",
            "Epoch 2/10, elapsed time: 2.31 sec, test accuracy: 93\n",
            "Epoch 3/10, elapsed time: 3.56 sec, test accuracy: 94\n",
            "Epoch 4/10, elapsed time: 4.80 sec, test accuracy: 93\n",
            "Epoch 5/10, elapsed time: 6.06 sec, test accuracy: 94\n",
            "Epoch 6/10, elapsed time: 7.33 sec, test accuracy: 95\n",
            "Epoch 7/10, elapsed time: 8.58 sec, test accuracy: 95\n",
            "Epoch 8/10, elapsed time: 9.83 sec, test accuracy: 95\n",
            "Epoch 9/10, elapsed time: 11.11 sec, test accuracy: 95\n",
            "Epoch 10/10, elapsed time: 12.39 sec, test accuracy: 95\n",
            "Epoch 1/10, elapsed time: 1.09 sec, test accuracy: 92\n",
            "Epoch 2/10, elapsed time: 2.28 sec, test accuracy: 93\n",
            "Epoch 3/10, elapsed time: 3.48 sec, test accuracy: 93\n",
            "Epoch 4/10, elapsed time: 4.71 sec, test accuracy: 94\n",
            "Epoch 5/10, elapsed time: 5.94 sec, test accuracy: 94\n",
            "Epoch 6/10, elapsed time: 7.17 sec, test accuracy: 95\n",
            "Epoch 7/10, elapsed time: 8.41 sec, test accuracy: 95\n",
            "Epoch 8/10, elapsed time: 9.65 sec, test accuracy: 95\n",
            "Epoch 9/10, elapsed time: 10.91 sec, test accuracy: 95\n",
            "Epoch 10/10, elapsed time: 12.17 sec, test accuracy: 94\n",
            "Epoch 1/10, elapsed time: 1.08 sec, test accuracy: 92\n",
            "Epoch 2/10, elapsed time: 2.30 sec, test accuracy: 94\n",
            "Epoch 3/10, elapsed time: 3.54 sec, test accuracy: 94\n",
            "Epoch 4/10, elapsed time: 4.80 sec, test accuracy: 94\n",
            "Epoch 5/10, elapsed time: 6.05 sec, test accuracy: 95\n",
            "Epoch 6/10, elapsed time: 7.34 sec, test accuracy: 94\n",
            "Epoch 7/10, elapsed time: 8.61 sec, test accuracy: 95\n",
            "Epoch 8/10, elapsed time: 9.95 sec, test accuracy: 94\n",
            "Epoch 9/10, elapsed time: 11.21 sec, test accuracy: 94\n",
            "Epoch 10/10, elapsed time: 12.48 sec, test accuracy: 95\n",
            "\n",
            "\n",
            "Total elapsed experiment time: 2.07 minutes\n"
          ]
        }
      ],
      "source": [
        "# Start the timer!\n",
        "timer_outside_function = time.process_time()\n",
        "\n",
        "for i in range(10):\n",
        "    train_the_model()\n",
        "\n",
        "total_experiment_time = time.process_time() - timer_outside_function\n",
        "print(f'\\n\\nTotal elapsed experiment time: {total_experiment_time/60:.2f} minutes')"
      ]
    },
    {
      "cell_type": "code",
      "execution_count": 7,
      "metadata": {
        "id": "VOsqp9Dosb1i"
      },
      "outputs": [],
      "source": [
        ""
      ]
    },
    {
      "cell_type": "markdown",
      "metadata": {
        "id": "7KP-981UsbjS"
      },
      "source": [
        "# Additional explorations"
      ]
    },
    {
      "cell_type": "code",
      "execution_count": 8,
      "metadata": {
        "id": "JdnIdmBjsd2U"
      },
      "outputs": [],
      "source": [
        "# 1) Modify the TotalExperimentTime code so that it prints minutes and seconds. For example, 500 seconds is \n",
        "#    8 minutes and 20 seconds.\n",
        "# \n",
        "# 2) Modify the code inside the training function so that the display prints on only every 5th epoch.\n",
        "# "
      ]
    }
  ],
  "metadata": {
    "colab": {
      "collapsed_sections": [],
      "name": "DUDL_measurePerformance_time.ipynb",
      "provenance": [],
      "include_colab_link": true
    },
    "kernelspec": {
      "display_name": "Python 3",
      "name": "python3"
    },
    "accelerator": "GPU"
  },
  "nbformat": 4,
  "nbformat_minor": 0
}