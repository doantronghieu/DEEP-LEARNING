{
  "cells": [
    {
      "cell_type": "markdown",
      "metadata": {
        "colab_type": "text",
        "id": "view-in-github"
      },
      "source": [
        "<a href=\"https://colab.research.google.com/github/tronghieu2810/DEEP-LEARNING/blob/main/UDEMY/%5BMike_X_Cohen%5D_Deep_understanding/python/Total_Python.ipynb\" target=\"_parent\"><img src=\"https://colab.research.google.com/assets/colab-badge.svg\" alt=\"Open In Colab\"/></a>"
      ]
    },
    {
      "cell_type": "markdown",
      "metadata": {
        "id": "zZlZMw6LHKUV"
      },
      "source": [
        "# DATA TYPES"
      ]
    },
    {
      "cell_type": "markdown",
      "metadata": {
        "id": "vyN55f3UHKUa"
      },
      "source": [
        "## VARIABLES"
      ]
    },
    {
      "cell_type": "code",
      "execution_count": null,
      "metadata": {
        "id": "cuiuqD2bHKUb",
        "outputId": "69dbe9b3-dfdd-4f5c-c453-70139216824f"
      },
      "outputs": [
        {
          "data": {
            "text/plain": [
              "13"
            ]
          },
          "execution_count": 110,
          "metadata": {},
          "output_type": "execute_result"
        }
      ],
      "source": [
        "7 + 6"
      ]
    },
    {
      "cell_type": "code",
      "execution_count": null,
      "metadata": {
        "id": "Hukw_CtDHKUc"
      },
      "outputs": [],
      "source": [
        "a = 4"
      ]
    },
    {
      "cell_type": "code",
      "execution_count": null,
      "metadata": {
        "id": "SmHM9B1EHKUc"
      },
      "outputs": [],
      "source": [
        "b = 5"
      ]
    },
    {
      "cell_type": "code",
      "execution_count": null,
      "metadata": {
        "id": "7bn2sGnLHKUd",
        "outputId": "6242db2d-5da8-49cc-8b63-473c8cd323ae"
      },
      "outputs": [
        {
          "name": "stdout",
          "output_type": "stream",
          "text": [
            "4\n",
            "5\n"
          ]
        }
      ],
      "source": [
        "# This code cell inspects the values of the variables\n",
        "print(a) # Print out a\n",
        "print(b)"
      ]
    },
    {
      "cell_type": "code",
      "execution_count": null,
      "metadata": {
        "id": "TFS0Rl8-HKUd",
        "outputId": "2a8ab380-2c6c-480b-a3e3-b4bc0799e1f6"
      },
      "outputs": [
        {
          "data": {
            "text/plain": [
              "float"
            ]
          },
          "execution_count": 114,
          "metadata": {},
          "output_type": "execute_result"
        }
      ],
      "source": [
        "c = 7\n",
        "d = 7.0\n",
        "\n",
        "type(d)"
      ]
    },
    {
      "cell_type": "code",
      "execution_count": null,
      "metadata": {
        "id": "HMdAwNsrHKUe",
        "outputId": "5742b291-8f98-4f67-d31b-ff63df525cd4"
      },
      "outputs": [
        {
          "name": "stdout",
          "output_type": "stream",
          "text": [
            "My name is Harry\n",
            "<class 'str'>\n"
          ]
        }
      ],
      "source": [
        "e = 'Hello'\n",
        "f = \"My name is Harry\"\n",
        "\n",
        "print(f)\n",
        "print(type(f))"
      ]
    },
    {
      "cell_type": "code",
      "execution_count": null,
      "metadata": {
        "id": "0y28T3T6HKUe"
      },
      "outputs": [],
      "source": [
        "a_variable_name = 10\n",
        "filter_order = 18\n",
        "user_name = 'Harry'\n",
        "param_4_model_A = 1.234\n",
        "_3casdf = 4\n",
        "\n",
        "# not allowed = 123\n",
        "# 3casdf = 4"
      ]
    },
    {
      "cell_type": "code",
      "execution_count": null,
      "metadata": {
        "id": "OqdK4Jc1HKUf",
        "outputId": "38c04801-8051-4a33-c233-ee6d9263a446"
      },
      "outputs": [
        {
          "name": "stdout",
          "output_type": "stream",
          "text": [
            "Variable          Type      Data/Info\n",
            "-------------------------------------\n",
            "D                 dict      n=2\n",
            "E                 dict      n=3\n",
            "a                 int       4\n",
            "a_list            list      n=6\n",
            "a_tuple           tuple     n=6\n",
            "a_variable_name   int       10\n",
            "b                 int       5\n",
            "c                 int       7\n",
            "d                 float     7.0\n",
            "e                 str       Hello\n",
            "f                 str       My name is Harry\n",
            "filter_order      int       18\n",
            "first_name        str       My\n",
            "full_name         str       My name\n",
            "idx               float     4.0\n",
            "last_name         str       name\n",
            "list_list         list      n=9\n",
            "lst               list      n=6\n",
            "mix_list          list      n=4\n",
            "num1              float     11.0\n",
            "num2              float     2.0\n",
            "os                module    <module 'os' from 'C:\\\\Py<...>n\\\\Python39\\\\lib\\\\os.py'>\n",
            "param_4_model_A   float     1.234\n",
            "result            bool      True\n",
            "side_a            float     3.0\n",
            "side_b            float     4.0\n",
            "side_c            float     5.0\n",
            "site              module    <module 'site' from 'C:\\\\<...>\\Python39\\\\lib\\\\site.py'>\n",
            "str_list          list      n=5\n",
            "sys               module    <module 'sys' (built-in)>\n",
            "t                 bool      True\n",
            "test              bool      True\n",
            "user_name         str       Harry\n",
            "var_A             int       8\n",
            "var_B             str       Test\n",
            "x                 int       10\n",
            "y                 int       16\n",
            "z                 int       0\n"
          ]
        }
      ],
      "source": [
        "%whos"
      ]
    },
    {
      "cell_type": "code",
      "execution_count": null,
      "metadata": {
        "id": "V_uCW-mjHKUg",
        "outputId": "1857c4a7-09ca-4d42-e55e-ed4bd486eab8"
      },
      "outputs": [
        {
          "name": "stdout",
          "output_type": "stream",
          "text": [
            "3\n",
            "Test\n"
          ]
        }
      ],
      "source": [
        "# Multiple assignment\n",
        "var_A = 3\n",
        "var_B = 'Test'\n",
        "\n",
        "print(var_A)\n",
        "print(var_B)\n",
        "\n",
        "var_A, var_B = 3, 'Test'"
      ]
    },
    {
      "cell_type": "code",
      "execution_count": null,
      "metadata": {
        "id": "pOvyQRUKHKUg",
        "outputId": "80498936-2cda-47dd-8d4b-e5caebf07d3c"
      },
      "outputs": [
        {
          "name": "stdout",
          "output_type": "stream",
          "text": [
            "<class 'int'>\n"
          ]
        }
      ],
      "source": [
        "var_A = 8\n",
        "print(type(var_A))"
      ]
    },
    {
      "cell_type": "markdown",
      "metadata": {
        "id": "QQTrv7scHKUg"
      },
      "source": [
        "## MATH AND PRINTING"
      ]
    },
    {
      "cell_type": "code",
      "execution_count": null,
      "metadata": {
        "id": "QuL-OyR1HKUg"
      },
      "outputs": [],
      "source": [
        "x = 7\n",
        "y = 4.3\n",
        "z = 0"
      ]
    },
    {
      "cell_type": "code",
      "execution_count": null,
      "metadata": {
        "id": "NnmAhjXbHKUh",
        "outputId": "684c73e7-ad82-4137-e9fe-a93f47674f7f"
      },
      "outputs": [
        {
          "name": "stdout",
          "output_type": "stream",
          "text": [
            "21.8\n"
          ]
        }
      ],
      "source": [
        "# Floating-point algebra\n",
        "c = y + 3.5 * x - 7\n",
        "print(c)"
      ]
    },
    {
      "cell_type": "code",
      "execution_count": null,
      "metadata": {
        "id": "wGxdnHUIHKUh",
        "outputId": "eea20c6f-1dd5-454f-b44c-1d3e47023764"
      },
      "outputs": [
        {
          "name": "stdout",
          "output_type": "stream",
          "text": [
            "1.3333333333333333\n",
            "7\n"
          ]
        }
      ],
      "source": [
        "print(4 / 3)\n",
        "c = 4 \\\n",
        "    + 3\n",
        "print(c)"
      ]
    },
    {
      "cell_type": "code",
      "execution_count": null,
      "metadata": {
        "id": "tVpN6oznHKUh",
        "outputId": "22b4a486-0fbc-4514-dc56-0e29bb0fe9fb"
      },
      "outputs": [
        {
          "data": {
            "text/plain": [
              "3.0"
            ]
          },
          "execution_count": 123,
          "metadata": {},
          "output_type": "execute_result"
        }
      ],
      "source": [
        "3 * 2\n",
        "3 ** 2\n",
        "9 ** 1/2\n",
        "9 ** (1/2)"
      ]
    },
    {
      "cell_type": "code",
      "execution_count": null,
      "metadata": {
        "id": "oXFl41YjHKUi",
        "outputId": "567fa5e0-6bbc-427e-b3a6-ba71a3f3acfc"
      },
      "outputs": [
        {
          "name": "stdout",
          "output_type": "stream",
          "text": [
            "Myname\n",
            "My name\n",
            "MyMyMy\n"
          ]
        }
      ],
      "source": [
        "first_name = 'My'\n",
        "last_name  = 'name'\n",
        "\n",
        "# Overloading\n",
        "print(first_name + last_name)\n",
        "\n",
        "full_name = first_name + ' ' + last_name\n",
        "print(full_name)\n",
        "\n",
        "# print(first_name - last_name)\n",
        "\n",
        "print(first_name * 3)\n",
        "# print(first_name * 3.5)"
      ]
    },
    {
      "cell_type": "code",
      "execution_count": null,
      "metadata": {
        "id": "uKmcTmoTHKUi",
        "outputId": "cf1e39dd-cfca-41b2-b136-4b8a2a036185"
      },
      "outputs": [
        {
          "name": "stdout",
          "output_type": "stream",
          "text": [
            "7 * 3 = 2.1\n",
            "11.3\n",
            "7 + 4.3 = 11.3\n"
          ]
        }
      ],
      "source": [
        "print('7 * 3 = 2.1')\n",
        "print(x + y)\n",
        "# print(x + ' + ' + y + ' = ' + (x + y))\n",
        "print(str(x) + ' + ' + str(y) + ' = ' + str(x + y))\n"
      ]
    },
    {
      "cell_type": "code",
      "execution_count": null,
      "metadata": {
        "id": "jEOcehqRHKUi"
      },
      "outputs": [],
      "source": [
        "# ans = input('Give me a number: ')\n",
        "# print(ans)\n",
        "# print(type(ans))\n",
        "\n",
        "# ans = float(ans)\n",
        "# print(type(ans))\n",
        "\n",
        "# ans = float(input('\\nGive me a number: '))\n",
        "# print(ans)\n",
        "# print(type(ans))"
      ]
    },
    {
      "cell_type": "code",
      "execution_count": null,
      "metadata": {
        "id": "9dg2Cp6sHKUj"
      },
      "outputs": [],
      "source": [
        "# Pythagorean theoreom\n",
        "# c ** 2 = a ** 2 + b ** 2\n",
        "\n",
        "# Get 02 input from user\n",
        "#   side 'a'\n",
        "#   side 'b'\n",
        "#       Compute and print out the length of side 'c'\n",
        "\n",
        "# side_a = float(input('Length of side a: '))\n",
        "# side_b = float(input('Length of side b: '))\n",
        "# print('')\n",
        "# side_c = (side_a ** 2 + side_b ** 2) ** (1 / 2)\n",
        "\n",
        "# print(f'The length of side C is: {side_c}')"
      ]
    },
    {
      "cell_type": "markdown",
      "metadata": {
        "id": "aH47RddVHKUj"
      },
      "source": [
        "## LIST"
      ]
    },
    {
      "cell_type": "code",
      "execution_count": null,
      "metadata": {
        "id": "A0Sz1G0IHKUj",
        "outputId": "6e2aa828-1023-4897-8834-d82caafdbd97"
      },
      "outputs": [
        {
          "name": "stdout",
          "output_type": "stream",
          "text": [
            "[4, 5, 6, 2, 0, 3]\n",
            "<class 'list'>\n",
            "\n",
            "['Hi', 'my', 'name', 'is', 'Harry']\n",
            "<class 'list'>\n",
            "\n",
            "[8, 5.01, 'Test', 50.1]\n",
            "<class 'list'>\n",
            "\n",
            "[1, 2, 3, 'Hi', 'Bye', [0.5, 0.25, 'i'], 4, 5, 6]\n",
            "<class 'list'>\n"
          ]
        }
      ],
      "source": [
        "a_list = [4, 5, 6, 2, 0, 3]\n",
        "str_list = ['Hi', 'my', 'name', 'is', 'Harry']\n",
        "mix_list = [8, 5.01, 'Test', 50.1]\n",
        "list_list = [1, 2, 3, 'Hi', 'Bye', [0.5, 1/4, 'i'], 4, 5, 6]\n",
        "\n",
        "print(a_list)\n",
        "print(type(a_list))\n",
        "print('')\n",
        "print(str_list)\n",
        "print(type(str_list))\n",
        "print('')\n",
        "print(mix_list)\n",
        "print(type(mix_list))\n",
        "print('')\n",
        "print(list_list)\n",
        "print(type(list_list))"
      ]
    },
    {
      "cell_type": "code",
      "execution_count": null,
      "metadata": {
        "id": "rIlAhqbLHKUk"
      },
      "outputs": [],
      "source": [
        "list_list = [1, # A number\n",
        "             2, # This a a parameter\n",
        "             3, \n",
        "             'Hi', # This is the 4th element (index 03)\n",
        "             'Bye', \n",
        "             [0.5, 1/4, 'i'], \n",
        "             4, \n",
        "             5, \n",
        "             6]"
      ]
    },
    {
      "cell_type": "code",
      "execution_count": null,
      "metadata": {
        "id": "oqh5Dm3gHKUk",
        "outputId": "fd516f19-e872-4ca3-e776-bfcc856da3ef"
      },
      "outputs": [
        {
          "name": "stdout",
          "output_type": "stream",
          "text": [
            "[4, 5, 6, 2, 0, 3]\n",
            "True\n",
            "False\n",
            "True\n",
            "False\n"
          ]
        }
      ],
      "source": [
        "print(a_list)\n",
        "print(4 in a_list)\n",
        "print(40 in a_list)\n",
        "print(40 not in a_list)\n",
        "print(4 not in a_list)"
      ]
    },
    {
      "cell_type": "code",
      "execution_count": null,
      "metadata": {
        "id": "lkeePdFwHKUk",
        "outputId": "3658c142-6f4f-4644-c295-5013778e4a6c"
      },
      "outputs": [
        {
          "name": "stdout",
          "output_type": "stream",
          "text": [
            "[4, 5, 6, 2, 0, 3, 'Hi', 'my', 'name', 'is', 'Harry']\n",
            "[4, 5, 6, 2, 0, 3, 4, 5, 6, 2, 0, 3, 4, 5, 6, 2, 0, 3]\n",
            "['Hi', 'my', 'name', 'is', 'Harry', 'Hi', 'my', 'name', 'is', 'Harry', 'Hi', 'my', 'name', 'is', 'Harry']\n"
          ]
        }
      ],
      "source": [
        "print(a_list + str_list)\n",
        "print(a_list * 3) # Repeat a list\n",
        "print(str_list * 3)"
      ]
    },
    {
      "cell_type": "code",
      "execution_count": null,
      "metadata": {
        "id": "TBWrgkXxHKUk",
        "outputId": "5ff01fa2-42c8-496e-e35c-e01189dcab43"
      },
      "outputs": [
        {
          "name": "stdout",
          "output_type": "stream",
          "text": [
            "[4, 5, 6, 2, 0, 3]\n",
            "[4, 5, 6, 2, 0, 3, -100]\n"
          ]
        }
      ],
      "source": [
        "# Method\n",
        "print(a_list)\n",
        "a_list.append(-100)\n",
        "print(a_list)"
      ]
    },
    {
      "cell_type": "code",
      "execution_count": null,
      "metadata": {
        "id": "s2KzOqFeHKUk",
        "outputId": "d1d0352c-d5e8-4b8a-bb60-60a5edbc2fac"
      },
      "outputs": [
        {
          "name": "stdout",
          "output_type": "stream",
          "text": [
            "[4, 5, 6, 2, 0, 3, -100]\n",
            "[-100, 0, 2, 3, 4, 5, 6]\n"
          ]
        }
      ],
      "source": [
        "print(a_list)\n",
        "a_list.sort()\n",
        "print(a_list)"
      ]
    },
    {
      "cell_type": "code",
      "execution_count": null,
      "metadata": {
        "id": "F1SqQOoYHKUl",
        "outputId": "830b131b-7500-4972-dc44-2925e3f5371c"
      },
      "outputs": [
        {
          "name": "stdout",
          "output_type": "stream",
          "text": [
            "1\n",
            "1\n",
            "0\n"
          ]
        }
      ],
      "source": [
        "# Use a list method to find the number of '-100's in list\n",
        "print(a_list.count(-100))\n",
        "print(a_list.count(0))\n",
        "print(a_list.count(100))"
      ]
    },
    {
      "cell_type": "code",
      "execution_count": null,
      "metadata": {
        "id": "QF8w5F9wHKUl",
        "outputId": "0cd6324a-bfd2-4633-9265-15d360aa7ad0"
      },
      "outputs": [
        {
          "name": "stdout",
          "output_type": "stream",
          "text": [
            "[1, 2, 3, 4, 5]\n",
            "[1, 2, 3, 4, 5, 7]\n",
            "[1, 2, 9, 3, 4, 5, 7]\n",
            "[1, 2, 9, 3, 'qwerty', 4, 5, 7]\n",
            "[1, 2, 3, 'qwerty', 4, 5, 7]\n"
          ]
        }
      ],
      "source": [
        "lst = [1, 2, 3, 4, 5]\n",
        "\n",
        "print(lst)\n",
        "lst.append(7)\n",
        "print(lst)\n",
        "\n",
        "lst.insert(2, 9)\n",
        "print(lst)\n",
        "\n",
        "lst.insert(4, 'qwerty')\n",
        "print(lst)\n",
        "\n",
        "lst.remove(9)\n",
        "print(lst)"
      ]
    },
    {
      "cell_type": "code",
      "execution_count": null,
      "metadata": {
        "id": "2jbRIPxoHKUm"
      },
      "outputs": [],
      "source": [
        "# lst.remove(19)\n",
        "# print(lst)"
      ]
    },
    {
      "cell_type": "code",
      "execution_count": null,
      "metadata": {
        "id": "CJxsVGhPHKUm"
      },
      "outputs": [],
      "source": [
        "# lst.sort()\n",
        "# print(lst)"
      ]
    },
    {
      "cell_type": "code",
      "execution_count": null,
      "metadata": {
        "id": "rBjauvpaHKUm",
        "outputId": "e6d830b9-f5fb-4d85-c455-ac7852f4e67e"
      },
      "outputs": [
        {
          "name": "stdout",
          "output_type": "stream",
          "text": [
            "[1, 2, 3, 4, 5, 7]\n",
            "[7, 5, 4, 3, 2, 1]\n"
          ]
        }
      ],
      "source": [
        "# Remove the string 'qwerty'\n",
        "lst.remove('qwerty')\n",
        "print(lst)\n",
        "# Sort\n",
        "lst.sort(reverse=True)\n",
        "print(lst)"
      ]
    },
    {
      "cell_type": "markdown",
      "metadata": {
        "id": "xWiUN4-CHKUm"
      },
      "source": [
        "## TUPLES"
      ]
    },
    {
      "cell_type": "code",
      "execution_count": null,
      "metadata": {
        "id": "TfZiRrI0HKUn",
        "outputId": "be7496a2-f11e-4c8a-9d5f-52b13326d170"
      },
      "outputs": [
        {
          "name": "stdout",
          "output_type": "stream",
          "text": [
            "(3, 'abc', 1.2)\n",
            "<class 'tuple'>\n",
            "\n",
            "(3, 'abc', 1.2)\n",
            "<class 'tuple'>\n",
            "\n",
            "(3, 'abc', 1.2, 3, 'abc', 1.2, 3, 'abc', 1.2)\n"
          ]
        }
      ],
      "source": [
        "a_tuple = (3, 'abc', 1.2)\n",
        "print(a_tuple)\n",
        "print(type(a_tuple))\n",
        "\n",
        "a_tuple = 3, 'abc', 1.2\n",
        "print('')\n",
        "print(a_tuple)\n",
        "print(type(a_tuple))\n",
        "\n",
        "print('')\n",
        "print(a_tuple * 3)\n",
        "\n",
        "a_list = [3, 'abc', 1.2]"
      ]
    },
    {
      "cell_type": "code",
      "execution_count": null,
      "metadata": {
        "id": "AdgHtdV_HKUn",
        "outputId": "8263dc9b-dbd8-4a75-d86a-880c0b0722ef"
      },
      "outputs": [
        {
          "name": "stdout",
          "output_type": "stream",
          "text": [
            "[3, 'abc', 1.2]\n",
            "3\n",
            "[11, 'abc', 1.2]\n"
          ]
        }
      ],
      "source": [
        "# List is mutable\n",
        "# Tuple is immutable\n",
        "\n",
        "print(a_list)\n",
        "print(a_list[0])\n",
        "a_list[0] = 11\n",
        "print(a_list)\n",
        "\n",
        "# print(a_tuple)\n",
        "# print(a_tuple[0])\n",
        "# a_tuple[0] = 11\n",
        "# print(a_tuple)"
      ]
    },
    {
      "cell_type": "markdown",
      "metadata": {
        "id": "A2zHRivWHKUn"
      },
      "source": [
        "## BOOLEANS"
      ]
    },
    {
      "cell_type": "code",
      "execution_count": null,
      "metadata": {
        "id": "zZwqv38HHKUn",
        "outputId": "330d1762-fca1-4f75-8e8a-3851693c7938"
      },
      "outputs": [
        {
          "name": "stdout",
          "output_type": "stream",
          "text": [
            "<class 'bool'>\n"
          ]
        }
      ],
      "source": [
        "t = True\n",
        "f = False\n",
        "\n",
        "# True = 234\n",
        "# t = true, t = TRue\n",
        "\n",
        "print(type(t))"
      ]
    },
    {
      "cell_type": "code",
      "execution_count": null,
      "metadata": {
        "id": "n1LFiP50HKUn",
        "outputId": "027e1dc8-a7af-4290-ae95-2999fa2e0480"
      },
      "outputs": [
        {
          "name": "stdout",
          "output_type": "stream",
          "text": [
            "True\n",
            "False\n",
            "True\n",
            "True\n"
          ]
        }
      ],
      "source": [
        "print(4 == 4)\n",
        "print(4 == 4.1)\n",
        "print(4 == 4.0)\n",
        "\n",
        "test = (4 == 4)\n",
        "print(test)"
      ]
    },
    {
      "cell_type": "code",
      "execution_count": null,
      "metadata": {
        "id": "d4hllNZFHKUo",
        "outputId": "ad437848-8096-4ba1-bd9a-152b84c492e0"
      },
      "outputs": [
        {
          "name": "stdout",
          "output_type": "stream",
          "text": [
            "False\n",
            "True\n",
            "False\n",
            "True\n",
            "False\n",
            "True\n"
          ]
        }
      ],
      "source": [
        "print(4 > 5)\n",
        "print(44 > 5)\n",
        "print(7 < 7)\n",
        "print(7 <= 7)\n",
        "print(7 != 7)\n",
        "print(7 != 8)"
      ]
    },
    {
      "cell_type": "code",
      "execution_count": null,
      "metadata": {
        "id": "RuMTNKzqHKUo",
        "outputId": "d297a90b-3c58-4ee2-e6dd-e81235e8178d"
      },
      "outputs": [
        {
          "name": "stdout",
          "output_type": "stream",
          "text": [
            "True\n",
            "False\n",
            "False\n",
            "True\n",
            "\n",
            "True\n",
            "False\n"
          ]
        }
      ],
      "source": [
        "# Conjunctive comparison\n",
        "x = 10\n",
        "y = 16\n",
        "print((x > 5) and (x < 15))\n",
        "# print((x > 5) and ( < 15))\n",
        "print((x > 5) and (y < 15))\n",
        "print((x > 5) and (y < 15) and (x + y) < 50)\n",
        "print((x > 5) and (y > 15) and (x + y) < 50)\n",
        "print('')\n",
        "print((x > 5) or (y < 15))\n",
        "print((x < 5) or (y < 15))"
      ]
    },
    {
      "cell_type": "code",
      "execution_count": null,
      "metadata": {
        "id": "wpJN9c0sHKUo",
        "outputId": "cedcfa21-0509-4f27-adcc-c6fbebd3137b"
      },
      "outputs": [
        {
          "name": "stdout",
          "output_type": "stream",
          "text": [
            "5.9\n",
            "False\n",
            "True\n",
            "True\n",
            "True\n",
            "\n",
            "True\n",
            "True\n",
            "False\n"
          ]
        }
      ],
      "source": [
        "print(float('5.9'))\n",
        "print(bool(0))\n",
        "print(bool(1))\n",
        "print(bool(10))\n",
        "print(bool(-10))\n",
        "print('')\n",
        "print(bool('true'))\n",
        "print(bool('false'))\n",
        "print(bool(''))"
      ]
    },
    {
      "cell_type": "code",
      "execution_count": null,
      "metadata": {
        "id": "-GUVJPwqHKUo"
      },
      "outputs": [],
      "source": [
        "# \"\"\"\n",
        "# 1/ Input from the user 3 numbers: a, b, c\n",
        "# 2/ Check whether c ** 2 = a ** 2 + b ** 2\n",
        "# 3/ Print out the result\n",
        "# \"\"\"\n",
        "\n",
        "# side_a = float(input('Input length of side a: '))\n",
        "# side_b = float(input('Input length of side b: '))\n",
        "# side_c = float(input('Input length of side c: '))\n",
        "\n",
        "# result = (side_c ** 2 == side_a ** 2 + side_b ** 2)\n",
        "\n",
        "# print(f'Your answer is: {result}')"
      ]
    },
    {
      "cell_type": "markdown",
      "metadata": {
        "id": "0iDbg9LjHKUo"
      },
      "source": [
        "## DICTIONARIES"
      ]
    },
    {
      "cell_type": "code",
      "execution_count": null,
      "metadata": {
        "id": "Kl7m_kTGHKUo",
        "outputId": "0f38281f-7c75-4c8b-a16a-32d7b0d9fb5a"
      },
      "outputs": [
        {
          "name": "stdout",
          "output_type": "stream",
          "text": [
            "{}\n"
          ]
        }
      ],
      "source": [
        "# Key/Value pairs\n",
        "D = dict()\n",
        "print(D)\n",
        "\n",
        "# [] lists\n",
        "# () tuples\n",
        "# {} dict"
      ]
    },
    {
      "cell_type": "code",
      "execution_count": null,
      "metadata": {
        "id": "EZR4NaPnHKUp",
        "outputId": "6664cdac-b18c-48a0-fce0-68336a36d98d"
      },
      "outputs": [
        {
          "name": "stdout",
          "output_type": "stream",
          "text": [
            "{'name': 'Harry', 'age_range': [20, 50]}\n",
            "{'name': 'Harry', 'age_range': [20, 50], 'Fav_color': 'purple'}\n"
          ]
        }
      ],
      "source": [
        "# Key       Value\n",
        "D['name'] = 'Harry'\n",
        "D['age_range'] = [20, 50]\n",
        "\n",
        "\n",
        "print(D)\n",
        "\n",
        "E = {'name': 'Harry', 'age_range': [20, 50], 'Fav_color': 'purple'}\n",
        "\n",
        "print(E)"
      ]
    },
    {
      "cell_type": "code",
      "execution_count": null,
      "metadata": {
        "id": "gtHgHzHkHKUp",
        "outputId": "0fb9ba94-395d-4788-99dd-21b6b65235ba"
      },
      "outputs": [
        {
          "name": "stdout",
          "output_type": "stream",
          "text": [
            "Harrison\n"
          ]
        }
      ],
      "source": [
        "D['name'] = 'Harrison'\n",
        "\n",
        "print(D['name'])"
      ]
    },
    {
      "cell_type": "code",
      "execution_count": null,
      "metadata": {
        "id": "akyS2M5eHKUp",
        "outputId": "457c5893-366a-4f16-d4ed-54f4b7afff1e"
      },
      "outputs": [
        {
          "name": "stdout",
          "output_type": "stream",
          "text": [
            "dict_keys(['name', 'age_range', 'Fav_color'])\n",
            "True\n",
            "False\n",
            "\n",
            "dict_values(['Harry', [20, 50], 'purple'])\n",
            "\n",
            "dict_items([('name', 'Harry'), ('age_range', [20, 50]), ('Fav_color', 'purple')])\n"
          ]
        }
      ],
      "source": [
        "print(E.keys())\n",
        "print('name' in E)\n",
        "print('Harry' in E)\n",
        "\n",
        "print('')\n",
        "print(E.values())\n",
        "\n",
        "print('')\n",
        "print(E.items())"
      ]
    },
    {
      "cell_type": "code",
      "execution_count": null,
      "metadata": {
        "id": "70RVhvHuHKUp"
      },
      "outputs": [],
      "source": [
        "# \"\"\"\n",
        "# 1/ Input two numbers from the user\n",
        "# 2/ Create a dict with 03 keys: 'first_num', 'second_num', 'product'\n",
        "# \"\"\"\n",
        "\n",
        "# D = dict()\n",
        "\n",
        "# num1 = float(input('Number 1: '))\n",
        "# num2 = float(input('Number 2: '))\n",
        "\n",
        "# D['first_num'] = num1\n",
        "# D['second_num'] = num2\n",
        "\n",
        "# D['product'] = num1 * num2\n",
        "\n",
        "# print(D.items())"
      ]
    },
    {
      "cell_type": "markdown",
      "metadata": {
        "id": "GqD1H7KCHKUp"
      },
      "source": [
        "# INDEXING"
      ]
    },
    {
      "cell_type": "code",
      "execution_count": null,
      "metadata": {
        "id": "zZ0IhdcuHKUp",
        "outputId": "ef2a1134-8608-45e1-f36e-c2a423460d27"
      },
      "outputs": [
        {
          "name": "stdout",
          "output_type": "stream",
          "text": [
            "-6\n",
            "qwerty\n",
            "qwerty\n",
            "\n",
            "10.01\n",
            "10.01\n",
            "qwerty\n",
            "\n",
            "4\n"
          ]
        }
      ],
      "source": [
        "a_list = [4, 6, 2, -6, 'qwerty', 10.01]\n",
        "\n",
        "print(a_list[3])\n",
        "print(a_list[4])\n",
        "# print(a_list[4.5])\n",
        "# print(a_list[4.0])\n",
        "\n",
        "idx = 4.0\n",
        "print(a_list[int(idx)])\n",
        "\n",
        "print('')\n",
        "print(a_list[len(a_list) - 1])\n",
        "# print(a_list[len(a_list)])\n",
        "print(a_list[-1])\n",
        "print(a_list[-2])\n",
        "\n",
        "print('')\n",
        "a_tuple= (4, 6, 2, -6, 'qwerty', 10.01)\n",
        "print(a_tuple[0])\n"
      ]
    },
    {
      "cell_type": "code",
      "execution_count": null,
      "metadata": {
        "id": "o9VGiOVbHKUp",
        "outputId": "b1380a34-c11a-4666-9634-ec9730e58dd6"
      },
      "outputs": [
        {
          "name": "stdout",
          "output_type": "stream",
          "text": [
            "[4, 6, 2, -6, [10, 20, 30], 10.01]\n",
            "<class 'list'>\n",
            "20\n"
          ]
        }
      ],
      "source": [
        "a_list = [4, 6, 2, -6, [10, 20, 30], 10.01]\n",
        "print(a_list)\n",
        "print(type(a_list[4]))\n",
        "print(a_list[4][1])"
      ]
    },
    {
      "cell_type": "markdown",
      "metadata": {
        "id": "-G8KHX38HKUq"
      },
      "source": [
        "# SLICING"
      ]
    },
    {
      "cell_type": "code",
      "execution_count": null,
      "metadata": {
        "id": "NfN2X3nfHKUq",
        "outputId": "508d53d7-9a94-4193-fc92-d04a11f4d76d"
      },
      "outputs": [
        {
          "name": "stdout",
          "output_type": "stream",
          "text": [
            "range(5, 11)\n",
            "<class 'range'>\n",
            "[5, 6, 7, 8, 9, 10]\n",
            "7\n",
            "\n",
            "[5, 6]\n",
            "[5, 6, 7]\n",
            "[5, 6, 7]\n",
            "[6, 7]\n",
            "[8, 9, 10]\n",
            "\n",
            "[5, 7, 9]\n",
            "[5, 8]\n",
            "\n",
            "[6, 8, 10]\n",
            "[6, 9]\n",
            "[6, 10]\n",
            "[6]\n",
            "\n",
            "[10, 9, 8, 7, 6, 5]\n"
          ]
        }
      ],
      "source": [
        "a = range(5, 11)\n",
        "print(a)\n",
        "print(type(range(3)))\n",
        "\n",
        "a = list(range(5, 11))\n",
        "print(a)\n",
        "print(a[2])\n",
        "\n",
        "\n",
        "# a[start:stop:skip]\n",
        "print('')\n",
        "print(a[0:2])\n",
        "print(a[0:3])\n",
        "print(a[:3])\n",
        "print(a[1:3])\n",
        "print(a[3:])\n",
        "\n",
        "print('')\n",
        "print(a[::2])\n",
        "print(a[::3])\n",
        "\n",
        "print('')\n",
        "print(a[1::2])\n",
        "print(a[1::3])\n",
        "print(a[1::4])\n",
        "print(a[1::5])\n",
        "\n",
        "# Reverse a list\n",
        "print('')\n",
        "print(a[::-1])"
      ]
    },
    {
      "cell_type": "code",
      "execution_count": null,
      "metadata": {
        "id": "P5BdARhjHKUq"
      },
      "outputs": [],
      "source": []
    },
    {
      "cell_type": "markdown",
      "metadata": {
        "id": "XF2RwfP7HKUq"
      },
      "source": [
        "# FUNCTION"
      ]
    },
    {
      "cell_type": "markdown",
      "metadata": {
        "id": "UmVD4OpoHKUq"
      },
      "source": [
        "## INPUTS AND OUTPUTS"
      ]
    },
    {
      "cell_type": "code",
      "execution_count": null,
      "metadata": {
        "colab": {
          "base_uri": "https://localhost:8080/"
        },
        "id": "OVEXphaUHRFN",
        "outputId": "f663d5ca-a724-4139-fd8b-338211514f2d"
      },
      "outputs": [
        {
          "name": "stdout",
          "output_type": "stream",
          "text": [
            "60\n",
            "6\n",
            "7.1\n",
            "The sum is: 7.1\n"
          ]
        }
      ],
      "source": [
        "print(sum([10, 20, 30]))\n",
        "\n",
        "var = [1, 2, 3]\n",
        "print(sum(var))\n",
        "\n",
        "# var = [1, 2, 3, 'a']\n",
        "# print(sum(var))\n",
        "\n",
        "# var = [1, 2, 3, [1, 2, 3]]\n",
        "# print(sum(var))\n",
        "\n",
        "var = [1, 2, 3, 1.1]\n",
        "print(sum(var))\n",
        "\n",
        "# print(sum[var])\n",
        "\n",
        "output = sum(var)\n",
        "print(f'The sum is: {output}')"
      ]
    },
    {
      "cell_type": "code",
      "execution_count": null,
      "metadata": {
        "colab": {
          "base_uri": "https://localhost:8080/"
        },
        "id": "HLtb-WQBIa4K",
        "outputId": "c69a7f30-1b0c-4679-fdf5-ff0f8b0c1520"
      },
      "outputs": [
        {
          "data": {
            "text/plain": [
              "1.775"
            ]
          },
          "execution_count": 6,
          "metadata": {},
          "output_type": "execute_result"
        }
      ],
      "source": [
        "# Compute the mean (average) of 'var'\n",
        "sum(var) / len(var)"
      ]
    },
    {
      "cell_type": "markdown",
      "metadata": {
        "id": "_JyhF8TXHKUq"
      },
      "source": [
        "## NUMPY"
      ]
    },
    {
      "cell_type": "code",
      "execution_count": null,
      "metadata": {
        "id": "SQhI8kb-I3gl"
      },
      "outputs": [],
      "source": [
        "import numpy as np"
      ]
    },
    {
      "cell_type": "code",
      "execution_count": null,
      "metadata": {
        "colab": {
          "base_uri": "https://localhost:8080/"
        },
        "id": "DcrID-XmJRoa",
        "outputId": "c837063e-31c8-4fa4-c214-f1e6b05df6ee"
      },
      "outputs": [
        {
          "name": "stdout",
          "output_type": "stream",
          "text": [
            "3.0\n"
          ]
        }
      ],
      "source": [
        "numbers = [1, 2, 3, 4, 5]\n",
        "\n",
        "print(np.mean(numbers))"
      ]
    },
    {
      "cell_type": "code",
      "execution_count": null,
      "metadata": {
        "colab": {
          "base_uri": "https://localhost:8080/"
        },
        "id": "_CkMR37lKCQ7",
        "outputId": "80111cc1-e02c-4cc8-d81b-2f5348f370e7"
      },
      "outputs": [
        {
          "name": "stdout",
          "output_type": "stream",
          "text": [
            "[1.  2.5 4.  5.5 7. ]\n",
            "<class 'numpy.ndarray'>\n"
          ]
        }
      ],
      "source": [
        "x = np.linspace(1, 7, 5)\n",
        "print(x)\n",
        "print(type(x))"
      ]
    },
    {
      "cell_type": "code",
      "execution_count": null,
      "metadata": {
        "colab": {
          "base_uri": "https://localhost:8080/"
        },
        "id": "i5IwsgV_KWTl",
        "outputId": "80e67944-4112-4827-f2e8-3ae936667bc6"
      },
      "outputs": [
        {
          "name": "stdout",
          "output_type": "stream",
          "text": [
            "<class 'list'>\n",
            "<class 'numpy.ndarray'>\n"
          ]
        }
      ],
      "source": [
        "print(type(numbers))\n",
        "numbers_np = np.array(numbers)\n",
        "print(type(numbers_np))"
      ]
    },
    {
      "cell_type": "code",
      "execution_count": null,
      "metadata": {
        "colab": {
          "base_uri": "https://localhost:8080/"
        },
        "id": "EppdrUOTKiun",
        "outputId": "89c825a1-c1d6-4ad3-976c-42e710635456"
      },
      "outputs": [
        {
          "name": "stdout",
          "output_type": "stream",
          "text": [
            "1\n"
          ]
        }
      ],
      "source": [
        "print(numbers_np.min())"
      ]
    },
    {
      "cell_type": "code",
      "execution_count": null,
      "metadata": {
        "colab": {
          "base_uri": "https://localhost:8080/"
        },
        "id": "K4gzpOO-KyBv",
        "outputId": "237d3521-499c-4709-b20c-1041755109f4"
      },
      "outputs": [
        {
          "name": "stdout",
          "output_type": "stream",
          "text": [
            "<class 'list'>\n",
            "5\n"
          ]
        }
      ],
      "source": [
        "print(type(numbers))\n",
        "print(np.max(numbers))"
      ]
    },
    {
      "cell_type": "code",
      "execution_count": null,
      "metadata": {
        "colab": {
          "base_uri": "https://localhost:8080/"
        },
        "id": "DqblMeT1LuBx",
        "outputId": "47967787-a0f6-4ba7-d778-75a3052f231d"
      },
      "outputs": [
        {
          "name": "stdout",
          "output_type": "stream",
          "text": [
            "[2, 34, 5, 6, 1, 8, 0, 1, 2, 8, 4]\n",
            "[0, 1, 1, 2, 2, 4, 5, 6, 8, 8, 34]\n",
            "[ 0  1  1  2  2  4  5  6  8  8 34]\n"
          ]
        }
      ],
      "source": [
        "\"\"\"\n",
        "- in-place operation\n",
        "- not in-place operation\n",
        "\"\"\"\n",
        "\n",
        "n = [2, 34, 5, 6, 1, 8, 0, 1, 2, 8, 4]\n",
        "print(n)\n",
        "\n",
        "n.sort() # in-place\n",
        "print(n)\n",
        "\n",
        "nn = np.array(n)\n",
        "nn.sort()\n",
        "print(nn)"
      ]
    },
    {
      "cell_type": "code",
      "execution_count": null,
      "metadata": {
        "colab": {
          "base_uri": "https://localhost:8080/"
        },
        "id": "C2CJV0TSMVd7",
        "outputId": "30f065d7-3110-4910-c108-3977530ed4d2"
      },
      "outputs": [
        {
          "name": "stdout",
          "output_type": "stream",
          "text": [
            "[2, 34, 5, 6, 1, 8, 0, 1, 2, 8, 4]\n",
            "[ 0  1  1  2  2  4  5  6  8  8 34]\n"
          ]
        }
      ],
      "source": [
        "nnn = [2, 34, 5, 6, 1, 8, 0, 1, 2, 8, 4]\n",
        "np.sort(nnn) # Not in-place\n",
        "print(nnn)\n",
        "\n",
        "nnns = np.sort(nnn)\n",
        "print(nnns)\n"
      ]
    },
    {
      "cell_type": "markdown",
      "metadata": {
        "id": "y0iwPGHwHKUq"
      },
      "source": [
        "## PANDAS"
      ]
    },
    {
      "cell_type": "code",
      "execution_count": null,
      "metadata": {
        "id": "uhyUepnxMqou"
      },
      "outputs": [],
      "source": [
        "import pandas as pd"
      ]
    },
    {
      "cell_type": "code",
      "execution_count": null,
      "metadata": {
        "colab": {
          "base_uri": "https://localhost:8080/"
        },
        "id": "VYcSJ_wOSZy2",
        "outputId": "b4b5e203-c7ef-443b-8280-2098b08f2ee0"
      },
      "outputs": [
        {
          "name": "stdout",
          "output_type": "stream",
          "text": [
            "0.3370757779896079\n",
            "[ 1.18464997 -0.57335907 -1.14716552 -1.51954784  0.89152401]\n",
            "[[-0.01551557  1.95523225  0.67088267 -0.32251679  0.32557383]\n",
            " [ 0.90245694  0.35860198  1.79458222  1.88674833 -2.31047704]\n",
            " [-0.13055637 -0.06833227  0.66469377  0.61022251  0.11125906]\n",
            " [-1.37787576 -0.04099091  0.01314916  1.18378028  0.89544629]\n",
            " [-1.21982902  1.99222718 -0.2320755   0.65764897  1.34898459]]\n"
          ]
        }
      ],
      "source": [
        "# Create random data\n",
        "print(np.random.randn())\n",
        "print(np.random.randn(5))\n",
        "print(np.random.randn(5, 5))"
      ]
    },
    {
      "cell_type": "code",
      "execution_count": null,
      "metadata": {
        "colab": {
          "base_uri": "https://localhost:8080/"
        },
        "id": "IAmEsqx6TFcD",
        "outputId": "367e5c5f-db42-40b9-d352-2abd67d5963b"
      },
      "outputs": [
        {
          "name": "stdout",
          "output_type": "stream",
          "text": [
            "[ True False False False False  True  True False False  True  True False\n",
            " False False  True  True  True  True False  True False  True  True  True\n",
            "  True  True  True  True False False False  True False  True False False\n",
            "  True  True  True  True  True False  True  True False False False  True\n",
            " False False  True  True False  True  True  True False  True  True False\n",
            "  True  True False False  True False  True  True  True False False False\n",
            " False  True  True False False False  True False False False False  True\n",
            "  True False False  True False False  True False  True False False  True\n",
            " False False False  True] \n",
            "\n",
            "{'Temp (C)': array([18.88754547, 22.14255828, 20.72231985, 25.89217781, 28.17594797,\n",
            "       20.82782811, 17.19552264, 19.38713362, 19.37982359, 23.793688  ,\n",
            "       20.75628574, 19.46027146, 22.04673443,  9.33004075, 17.64377928,\n",
            "       17.01965656, 18.72721112, 28.57646778, 18.59063799, 23.42339064,\n",
            "       22.44175081, 12.80006043, 23.86134275, 32.19156873, 13.72817748,\n",
            "       22.12458165, 15.0676372 , 29.4629297 , 19.02744453, 21.48362144,\n",
            "       21.43836965, 15.8707266 , 28.66749992, 20.74740013, 20.27654161,\n",
            "       21.46246116,  6.91112831, 21.79997238, 18.35351731, 27.74047541,\n",
            "       20.99324205, 15.55307786, 25.53832988, 17.10017847,  8.61598296,\n",
            "       26.65077955, 15.98322371, 22.88002865, 14.78028257, 18.86071555,\n",
            "       33.00438538, 24.31907974, 21.92426806, 22.16902223, 25.29554452,\n",
            "       20.32993314, 17.98589358, 22.92860346, 20.1852566 , 20.73195654,\n",
            "       21.57019937, 25.48758295, 16.75151224, 18.51607109, 23.36528966,\n",
            "       24.89452171, 24.72413673, 19.17248924, 15.5512928 , 17.49262976,\n",
            "       17.37749717, 30.45592398, 12.25373739, 15.7313258 , 21.22897726,\n",
            "       23.52864742, 18.01491514, 28.0068443 , 23.70416526, 18.18353646,\n",
            "       12.94217539, 17.27821284, 22.78565532,  7.56713783, 16.43933402,\n",
            "       15.31859262, 26.45160786, 14.56388919, 18.10236942, 23.74006891,\n",
            "       17.20342351, 23.08176272, 17.54431741, 22.7172436 , 25.13960927,\n",
            "       25.94435803, 14.70342149, 25.29575243, 12.20725055, 18.96421843]), 'Ice cream': array([ True, False, False, False, False,  True,  True, False, False,\n",
            "        True,  True, False, False, False,  True,  True,  True,  True,\n",
            "       False,  True, False,  True,  True,  True,  True,  True,  True,\n",
            "        True, False, False, False,  True, False,  True, False, False,\n",
            "        True,  True,  True,  True,  True, False,  True,  True, False,\n",
            "       False, False,  True, False, False,  True,  True, False,  True,\n",
            "        True,  True, False,  True,  True, False,  True,  True, False,\n",
            "       False,  True, False,  True,  True,  True, False, False, False,\n",
            "       False,  True,  True, False, False, False,  True, False, False,\n",
            "       False, False,  True,  True, False, False,  True, False, False,\n",
            "        True, False,  True, False, False,  True, False, False, False,\n",
            "        True])} \n",
            "\n",
            "<class 'pandas.core.frame.DataFrame'> \n",
            "\n"
          ]
        }
      ],
      "source": [
        "var1 = np.random.randn(100) * 5 + 20\n",
        "var2 = np.random.randn(100) > 0\n",
        "print(var2, '\\n')\n",
        "\n",
        "# Variable labels\n",
        "labels = ['Temp (C)', 'Ice cream']\n",
        "\n",
        "# Put them together into a dictionary\n",
        "D = {labels[0]: var1, labels[1]: var2}\n",
        "print(D, '\\n')\n",
        "\n",
        "# Import the dictionary into a pandas dataframe\n",
        "df = pd.DataFrame(data=D)\n",
        "print(type(df), '\\n')"
      ]
    },
    {
      "cell_type": "code",
      "execution_count": null,
      "metadata": {
        "colab": {
          "base_uri": "https://localhost:8080/"
        },
        "id": "gvtn2PTLULQB",
        "outputId": "e2a51b2d-8e5a-4aec-c88d-9a3f09ac56e4"
      },
      "outputs": [
        {
          "name": "stdout",
          "output_type": "stream",
          "text": [
            "     Temp (C)  Ice cream\n",
            "0   18.887545       True\n",
            "1   22.142558      False\n",
            "2   20.722320      False\n",
            "3   25.892178      False\n",
            "4   28.175948      False\n",
            "..        ...        ...\n",
            "95  25.944358       True\n",
            "96  14.703421      False\n",
            "97  25.295752      False\n",
            "98  12.207251      False\n",
            "99  18.964218       True\n",
            "\n",
            "[100 rows x 2 columns] \n",
            "\n",
            "    Temp (C)  Ice cream\n",
            "0  18.887545       True\n",
            "1  22.142558      False\n",
            "2  20.722320      False\n",
            "3  25.892178      False\n",
            "4  28.175948      False \n",
            "\n",
            "Temp (C)     100\n",
            "Ice cream    100\n",
            "dtype: int64 \n",
            "\n",
            "Temp (C)     20.372677\n",
            "Ice cream     0.500000\n",
            "dtype: float64 \n",
            "\n"
          ]
        }
      ],
      "source": [
        "print(df, '\\n')\n",
        "print(df.head(), '\\n')\n",
        "print(df.count(), '\\n')\n",
        "print(df.mean(), '\\n')"
      ]
    },
    {
      "cell_type": "code",
      "execution_count": null,
      "metadata": {
        "colab": {
          "base_uri": "https://localhost:8080/"
        },
        "id": "dQns6nBjUtY_",
        "outputId": "1586f472-40d4-4f8e-a559-e9c5864ec770"
      },
      "outputs": [
        {
          "name": "stdout",
          "output_type": "stream",
          "text": [
            "[ 0  1  2  3  4  5  6  7  8  9 10] \n",
            "\n",
            "    nums  square       log\n",
            "0      0       0      -inf\n",
            "1      1       1  0.000000\n",
            "2      2       4  0.693147\n",
            "3      3       9  1.098612\n",
            "4      4      16  1.386294\n",
            "5      5      25  1.609438\n",
            "6      6      36  1.791759\n",
            "7      7      49  1.945910\n",
            "8      8      64  2.079442\n",
            "9      9      81  2.197225\n",
            "10    10     100  2.302585\n"
          ]
        },
        {
          "name": "stderr",
          "output_type": "stream",
          "text": [
            "/usr/local/lib/python3.7/dist-packages/ipykernel_launcher.py:7: RuntimeWarning: divide by zero encountered in log\n",
            "  import sys\n"
          ]
        }
      ],
      "source": [
        "# Create a Pandas dataframe with:\n",
        "#  Integer going from 0 to 10, their square, their log\n",
        "\n",
        "nums = np.array(range(11))\n",
        "print(nums, '\\n')\n",
        "\n",
        "df = pd.DataFrame({'nums': nums, 'square': nums ** 2, 'log': np.log(nums)})\n",
        "print(df)"
      ]
    },
    {
      "cell_type": "markdown",
      "metadata": {
        "id": "ZbOIILwdHKUq"
      },
      "source": [
        "## GETTING HELP ON FUNCTIONS"
      ]
    },
    {
      "cell_type": "code",
      "execution_count": null,
      "metadata": {
        "colab": {
          "base_uri": "https://localhost:8080/"
        },
        "id": "UJCcohZpV3kZ",
        "outputId": "c69bff44-bfcc-4a2c-c688-ba3ff46831b0"
      },
      "outputs": [
        {
          "name": "stdout",
          "output_type": "stream",
          "text": [
            "6\n",
            "16\n"
          ]
        }
      ],
      "source": [
        "x = [1, 2, 3]\n",
        "print(sum(x))\n",
        "print(sum(x, 10))"
      ]
    },
    {
      "cell_type": "code",
      "execution_count": null,
      "metadata": {
        "colab": {
          "base_uri": "https://localhost:8080/"
        },
        "id": "CumYKxd3XEH6",
        "outputId": "8399dbb4-9b85-482d-d7ba-e9fd6b283593"
      },
      "outputs": [
        {
          "name": "stdout",
          "output_type": "stream",
          "text": [
            "Help on built-in function sum in module builtins:\n",
            "\n",
            "sum(iterable, start=0, /)\n",
            "    Return the sum of a 'start' value (default: 0) plus an iterable of numbers\n",
            "    \n",
            "    When the iterable is empty, return the start value.\n",
            "    This function is intended specifically for use with numeric values and may\n",
            "    reject non-numeric types.\n",
            "\n"
          ]
        }
      ],
      "source": [
        "# sum?\n",
        "# help(sum)"
      ]
    },
    {
      "cell_type": "code",
      "execution_count": null,
      "metadata": {
        "id": "EXHuqiHLXXzP"
      },
      "outputs": [],
      "source": [
        "# np.linspace??"
      ]
    },
    {
      "cell_type": "markdown",
      "metadata": {
        "id": "gSzPHtGHHKUr"
      },
      "source": [
        "## CREATING FUNCTIONS"
      ]
    },
    {
      "cell_type": "code",
      "execution_count": null,
      "metadata": {
        "colab": {
          "base_uri": "https://localhost:8080/"
        },
        "id": "1NyZyZr8X3PZ",
        "outputId": "b625f0cd-97ea-4888-f5ab-089880fe62c8"
      },
      "outputs": [
        {
          "name": "stdout",
          "output_type": "stream",
          "text": [
            "hi\n"
          ]
        }
      ],
      "source": [
        "def awesome_function():\n",
        "    print(1 + 1)\n",
        "\n",
        "print('hi')"
      ]
    },
    {
      "cell_type": "code",
      "execution_count": null,
      "metadata": {
        "colab": {
          "base_uri": "https://localhost:8080/"
        },
        "id": "q4tYZiMAY4_8",
        "outputId": "118531df-0937-4423-cea0-fda992e97572"
      },
      "outputs": [
        {
          "name": "stdout",
          "output_type": "stream",
          "text": [
            "2\n"
          ]
        }
      ],
      "source": [
        "awesome_function()"
      ]
    },
    {
      "cell_type": "code",
      "execution_count": null,
      "metadata": {
        "colab": {
          "base_uri": "https://localhost:8080/"
        },
        "id": "2IqGEETxY9Sg",
        "outputId": "9d924c83-43ea-4a11-fe8f-6a02fbf3735e"
      },
      "outputs": [
        {
          "data": {
            "text/plain": [
              "<function __main__.awesome_function>"
            ]
          },
          "execution_count": 46,
          "metadata": {},
          "output_type": "execute_result"
        }
      ],
      "source": [
        "awesome_function"
      ]
    },
    {
      "cell_type": "code",
      "execution_count": null,
      "metadata": {
        "id": "IkQD76vpZW3q"
      },
      "outputs": [],
      "source": [
        "def super_awesome_function(input1, input2):\n",
        "    res = input1 + input2\n",
        "    return res"
      ]
    },
    {
      "cell_type": "code",
      "execution_count": null,
      "metadata": {
        "colab": {
          "base_uri": "https://localhost:8080/"
        },
        "id": "uqqIlkGAZen2",
        "outputId": "7ed1b059-efba-4bbf-d487-eabb463ad470"
      },
      "outputs": [
        {
          "name": "stdout",
          "output_type": "stream",
          "text": [
            "3\n"
          ]
        }
      ],
      "source": [
        "result = super_awesome_function(1, 2)\n",
        "print(result)"
      ]
    },
    {
      "cell_type": "code",
      "execution_count": null,
      "metadata": {
        "id": "QKLOU9pyZnYa"
      },
      "outputs": [],
      "source": [
        "def super_awesome_function(input1, input2):\n",
        "    prod = input1 * input2\n",
        "    sum  = input1 + input2\n",
        "    return (prod, sum)"
      ]
    },
    {
      "cell_type": "code",
      "execution_count": null,
      "metadata": {
        "colab": {
          "base_uri": "https://localhost:8080/"
        },
        "id": "ozlicsYkaJCA",
        "outputId": "014dcc7d-825c-48c1-af11-3adc4a085469"
      },
      "outputs": [
        {
          "name": "stdout",
          "output_type": "stream",
          "text": [
            "(-70, 3)\n",
            "-70\n",
            "-70 | 3\n"
          ]
        }
      ],
      "source": [
        "result = super_awesome_function(10, -7)\n",
        "print(result)\n",
        "\n",
        "prod = result[0]\n",
        "print(prod)\n",
        "\n",
        "out1, out2 = super_awesome_function(10, -7)\n",
        "print(out1, '|', out2)"
      ]
    },
    {
      "cell_type": "code",
      "execution_count": null,
      "metadata": {
        "colab": {
          "base_uri": "https://localhost:8080/"
        },
        "id": "mHg_5iJIafzy",
        "outputId": "73ebf611-cd03-438b-c1f2-69cb5ed0ff25"
      },
      "outputs": [
        {
          "data": {
            "text/plain": [
              "15"
            ]
          },
          "execution_count": 60,
          "metadata": {},
          "output_type": "execute_result"
        }
      ],
      "source": [
        "# Lambda function\n",
        "func_name = lambda x : x ** 2 - 1\n",
        "\n",
        "func_name(4)"
      ]
    },
    {
      "cell_type": "code",
      "execution_count": null,
      "metadata": {
        "id": "HktmEeEEbHKt"
      },
      "outputs": [],
      "source": [
        "\"\"\"\n",
        "Create a function that computes a factorial\n",
        "4! = 4 * 3 * 2 * 1\n",
        "Compare against math.factorial()\n",
        "\"\"\"\n",
        "\n",
        "n = 4\n",
        "def my_factorial(n):\n",
        "    return np.prod(np.arange(1, n + 1))"
      ]
    },
    {
      "cell_type": "code",
      "execution_count": null,
      "metadata": {
        "colab": {
          "base_uri": "https://localhost:8080/"
        },
        "id": "oS7OCcNNb5Sw",
        "outputId": "a156dd85-33fc-4302-b025-1a3b75d43089"
      },
      "outputs": [
        {
          "data": {
            "text/plain": [
              "24"
            ]
          },
          "execution_count": 62,
          "metadata": {},
          "output_type": "execute_result"
        }
      ],
      "source": [
        "my_factorial(4)"
      ]
    },
    {
      "cell_type": "code",
      "execution_count": null,
      "metadata": {
        "colab": {
          "base_uri": "https://localhost:8080/"
        },
        "id": "xAMHxVIacAI9",
        "outputId": "6d254a6f-b99a-44ff-8bf0-9bf16e8b9f16"
      },
      "outputs": [
        {
          "data": {
            "text/plain": [
              "24"
            ]
          },
          "execution_count": 63,
          "metadata": {},
          "output_type": "execute_result"
        }
      ],
      "source": [
        "import math\n",
        "\n",
        "math.factorial(4)"
      ]
    },
    {
      "cell_type": "markdown",
      "metadata": {
        "id": "y9ziSrUNHKUr"
      },
      "source": [
        "## GLOBAL AND LOCAL VARIABLE SCOPES"
      ]
    },
    {
      "cell_type": "code",
      "execution_count": null,
      "metadata": {
        "id": "vv_qglbG84b_"
      },
      "outputs": [],
      "source": [
        "# Local scope\n",
        "# Global scope"
      ]
    },
    {
      "cell_type": "code",
      "execution_count": 1,
      "metadata": {
        "id": "yckn9lVh9Fz2"
      },
      "outputs": [],
      "source": [
        "def fun_fun():\n",
        "    xx = 7\n",
        "    yy = 10\n",
        "    print(x)"
      ]
    },
    {
      "cell_type": "code",
      "execution_count": 2,
      "metadata": {
        "colab": {
          "base_uri": "https://localhost:8080/"
        },
        "id": "IMMwQSyb9KBP",
        "outputId": "7740a8c0-5425-4046-fe6c-171015808a79"
      },
      "outputs": [
        {
          "name": "stdout",
          "output_type": "stream",
          "text": [
            "7\n"
          ]
        }
      ],
      "source": [
        "fun_fun()"
      ]
    },
    {
      "cell_type": "code",
      "execution_count": null,
      "metadata": {
        "id": "6WiKyIqx9NIF"
      },
      "outputs": [],
      "source": [
        "# x -> Not define"
      ]
    },
    {
      "cell_type": "code",
      "execution_count": 3,
      "metadata": {
        "colab": {
          "base_uri": "https://localhost:8080/"
        },
        "id": "4dnPUQvu9lxX",
        "outputId": "96c749a1-7f2c-45ed-d14c-c305f69bbdef"
      },
      "outputs": [
        {
          "name": "stdout",
          "output_type": "stream",
          "text": [
            "3\n",
            "7\n",
            "None\n",
            "3\n"
          ]
        }
      ],
      "source": [
        "x = 3\n",
        "print(x)\n",
        "print(fun_fun())\n",
        "print(x)"
      ]
    },
    {
      "cell_type": "code",
      "execution_count": 4,
      "metadata": {
        "id": "KoJ106f195pY"
      },
      "outputs": [],
      "source": [
        "def f2():\n",
        "    print(z)"
      ]
    },
    {
      "cell_type": "code",
      "execution_count": 5,
      "metadata": {
        "colab": {
          "base_uri": "https://localhost:8080/"
        },
        "id": "EBh-OcVT99Q2",
        "outputId": "b0e8f8fe-d0f4-48d9-8473-f163dfe51ca7"
      },
      "outputs": [
        {
          "name": "stdout",
          "output_type": "stream",
          "text": [
            "13\n"
          ]
        }
      ],
      "source": [
        "z = 13\n",
        "f2()"
      ]
    },
    {
      "cell_type": "code",
      "execution_count": 11,
      "metadata": {
        "colab": {
          "base_uri": "https://localhost:8080/"
        },
        "id": "TdO-xRsH-pK4",
        "outputId": "9821917f-d3a6-44ac-e37d-24c7a9e10fb1"
      },
      "outputs": [
        {
          "name": "stdout",
          "output_type": "stream",
          "text": [
            "10 coin flips had 40.0% heads.\n"
          ]
        }
      ],
      "source": [
        "\"\"\"\n",
        "Write a function that flips a coin N times, and report the average\n",
        "\"\"\"\n",
        "\n",
        "import numpy as np\n",
        "\n",
        "def coin_flip(N):\n",
        "    prop_coin_flips = np.mean(np.random.randn(N) > 0)\n",
        "    print(f'{N} coin flips had {100 * prop_coin_flips}% heads.')\n",
        "\n",
        "coin_flip(10)"
      ]
    },
    {
      "cell_type": "markdown",
      "metadata": {
        "id": "vt8YeHMzHKUr"
      },
      "source": [
        "## COPIES AND REFERENTS OF VARIABLES"
      ]
    },
    {
      "cell_type": "code",
      "execution_count": 1,
      "metadata": {},
      "outputs": [
        {
          "name": "stdout",
          "output_type": "stream",
          "text": [
            "[5, 3]\n",
            "[5, 3]\n"
          ]
        }
      ],
      "source": [
        "a = [4, 3]\n",
        "b = a\n",
        "\n",
        "b[0] = 5\n",
        "print(a)\n",
        "print(b)"
      ]
    },
    {
      "cell_type": "code",
      "execution_count": 2,
      "metadata": {},
      "outputs": [
        {
          "name": "stdout",
          "output_type": "stream",
          "text": [
            "2631663155200\n",
            "2631663155200\n"
          ]
        }
      ],
      "source": [
        "print(id(a))\n",
        "print(id(b))"
      ]
    },
    {
      "cell_type": "code",
      "execution_count": 4,
      "metadata": {},
      "outputs": [
        {
          "name": "stdout",
          "output_type": "stream",
          "text": [
            "[6, 3]\n",
            "[5, 3]\n",
            "2631663156864\n",
            "2631663155200\n"
          ]
        }
      ],
      "source": [
        "c = a[:]\n",
        "c[0] = 6\n",
        "print(c)\n",
        "print(a)\n",
        "print(id(c))\n",
        "print(id(a))"
      ]
    },
    {
      "cell_type": "code",
      "execution_count": 6,
      "metadata": {},
      "outputs": [
        {
          "name": "stdout",
          "output_type": "stream",
          "text": [
            "2631645203328\n",
            "2631645202752\n"
          ]
        }
      ],
      "source": [
        "import copy\n",
        "\n",
        "a = {'q': 1, 'w': 2}\n",
        "b = copy.deepcopy(a)\n",
        "\n",
        "print(id(a))\n",
        "print(id(b))"
      ]
    },
    {
      "cell_type": "markdown",
      "metadata": {
        "id": "nZwMCjy4HKUr"
      },
      "source": [
        "## CLASSES AND OBJECT-ORIENTED PROGRAMMING"
      ]
    },
    {
      "cell_type": "code",
      "execution_count": null,
      "metadata": {},
      "outputs": [],
      "source": [
        "# Class: Blueprint for creating a set of attributes and methods\n",
        "# Instance"
      ]
    },
    {
      "cell_type": "code",
      "execution_count": 18,
      "metadata": {},
      "outputs": [],
      "source": [
        "class model(object):\n",
        "    # Constructor method\n",
        "    def __init__(self, num_layers, num_units, name):\n",
        "        self.layers  = num_layers # Attributes\n",
        "        self.units   = num_units\n",
        "        self.name    = name\n",
        "        self.weights = 1\n",
        "    \n",
        "    def how_many_units(self):\n",
        "        total_units = self.layers * self.units\n",
        "        print(f'There are {total_units} in units the model.')\n",
        "    \n",
        "    def train_the_model(self, x):\n",
        "        self.weights += x\n",
        "        return self.weights\n",
        "    \n",
        "    def __str__(self):\n",
        "        return f'This is a {self.name} architecture.'"
      ]
    },
    {
      "cell_type": "code",
      "execution_count": 19,
      "metadata": {},
      "outputs": [
        {
          "name": "stdout",
          "output_type": "stream",
          "text": [
            "There are 60 in units the model.\n"
          ]
        },
        {
          "data": {
            "text/plain": [
              "'This is a CNN architecture.'"
            ]
          },
          "execution_count": 19,
          "metadata": {},
          "output_type": "execute_result"
        }
      ],
      "source": [
        "m1 = model(12, 5, 'CNN')\n",
        "m1.how_many_units()\n",
        "\n",
        "m1.train_the_model(2.5)\n",
        "str(m1)"
      ]
    },
    {
      "cell_type": "code",
      "execution_count": 22,
      "metadata": {},
      "outputs": [],
      "source": [
        "\"\"\"\n",
        "Create a new class\n",
        "1/ Weights should be a random numbers matrix of size (layers * units)\n",
        "2/ Change the training method to multiply input X and add input Y\n",
        "\"\"\"\n",
        "import numpy as np\n",
        "\n",
        "class model2(object):\n",
        "    # Constructor method\n",
        "    def __init__(self, num_layers, num_units, name):\n",
        "        self.layers  = num_layers # Attributes\n",
        "        self.units   = num_units\n",
        "        self.name    = name\n",
        "        self.weights = np.random.randn(num_layers, self.units)\n",
        "    \n",
        "    def how_many_units(self):\n",
        "        total_units = self.layers * self.units\n",
        "        print(f'There are {total_units} in units the model.')\n",
        "    \n",
        "    def train_the_model(self, x, y):\n",
        "        self.weights += self.weights * x + y\n",
        "    \n",
        "    def __str__(self):\n",
        "        return f'This is a {self.name} architecture.'"
      ]
    },
    {
      "cell_type": "code",
      "execution_count": 25,
      "metadata": {},
      "outputs": [
        {
          "data": {
            "text/plain": [
              "array([[-0.75548701, -0.18954204,  0.00134429],\n",
              "       [ 0.56126208, -0.82055356, -0.73683534]])"
            ]
          },
          "execution_count": 25,
          "metadata": {},
          "output_type": "execute_result"
        }
      ],
      "source": [
        "m2 = model2(2, 3, 'X')\n",
        "m2.weights"
      ]
    },
    {
      "cell_type": "code",
      "execution_count": 27,
      "metadata": {},
      "outputs": [
        {
          "data": {
            "text/plain": [
              "array([[ 5.20061688, 10.29412161, 12.01209864],\n",
              "       [17.05135873,  4.61501795,  5.36848193]])"
            ]
          },
          "execution_count": 27,
          "metadata": {},
          "output_type": "execute_result"
        }
      ],
      "source": [
        "m2.train_the_model(2, 3)\n",
        "m2.weights"
      ]
    },
    {
      "cell_type": "markdown",
      "metadata": {
        "id": "XxKDRjWGHKUr"
      },
      "source": [
        "# FLOW CONTROL"
      ]
    },
    {
      "cell_type": "markdown",
      "metadata": {
        "id": "No1gI__VHKUr"
      },
      "source": [
        "## IF-ELSE STATEMENTS"
      ]
    },
    {
      "cell_type": "code",
      "execution_count": 4,
      "metadata": {},
      "outputs": [
        {
          "name": "stdout",
          "output_type": "stream",
          "text": [
            "This is true!\n",
            "Outside if\n",
            "a\n",
            "b\n"
          ]
        }
      ],
      "source": [
        "# If statements\n",
        "# Conditional\n",
        "\n",
        "x = 4\n",
        "\n",
        "if True:\n",
        "    print('This is true!')\n",
        "\n",
        "if False:\n",
        "    print('This is true!')\n",
        "\n",
        "print('Outside if')\n",
        "\n",
        "if (x == 4):\n",
        "    print('a')\n",
        "if 4:\n",
        "    print('b')\n",
        "if 0:\n",
        "    print('c')"
      ]
    },
    {
      "cell_type": "code",
      "execution_count": 5,
      "metadata": {},
      "outputs": [],
      "source": [
        "import numpy as np"
      ]
    },
    {
      "cell_type": "code",
      "execution_count": 17,
      "metadata": {},
      "outputs": [
        {
          "name": "stdout",
          "output_type": "stream",
          "text": [
            "The number is: negative\n"
          ]
        }
      ],
      "source": [
        "r = np.random.randn()\n",
        "\n",
        "if (r > 0):\n",
        "    outcome = 'positive'\n",
        "else:\n",
        "    outcome = 'negative'\n",
        "\n",
        "print(f'The number is: {outcome}')"
      ]
    },
    {
      "cell_type": "code",
      "execution_count": 18,
      "metadata": {},
      "outputs": [
        {
          "name": "stdout",
          "output_type": "stream",
          "text": [
            "Total yum!\n"
          ]
        }
      ],
      "source": [
        "cake_type = 'carrot'\n",
        "\n",
        "if (cake_type == 'carrot'):\n",
        "    print('Total yum!')\n",
        "elif (cake_type == 'chocolate'):\n",
        "    print('Yummy as well!')\n",
        "elif (cake_type == 'fruitcake'):\n",
        "    print('Is this thing good for me?')\n",
        "else:\n",
        "    print(\"OK, I'll try it!\")"
      ]
    },
    {
      "cell_type": "code",
      "execution_count": 19,
      "metadata": {},
      "outputs": [
        {
          "name": "stdout",
          "output_type": "stream",
          "text": [
            "Yummy as well!\n"
          ]
        }
      ],
      "source": [
        "cake_type = 'chocolate'\n",
        "\n",
        "if (cake_type == 'carrot'):\n",
        "    print('Total yum!')\n",
        "elif (cake_type == 'chocolate'):\n",
        "    print('Yummy as well!')\n",
        "elif (cake_type == 'fruitcake'):\n",
        "    print('Is this thing good for me?')\n",
        "else:\n",
        "    print(\"OK, I'll try it!\")"
      ]
    },
    {
      "cell_type": "code",
      "execution_count": 20,
      "metadata": {},
      "outputs": [
        {
          "name": "stdout",
          "output_type": "stream",
          "text": [
            "OK, I'll try it!\n"
          ]
        }
      ],
      "source": [
        "cake_type = 'abc'\n",
        "\n",
        "if (cake_type == 'carrot'):\n",
        "    print('Total yum!')\n",
        "elif (cake_type == 'chocolate'):\n",
        "    print('Yummy as well!')\n",
        "elif (cake_type == 'fruitcake'):\n",
        "    print('Is this thing good for me?')\n",
        "else:\n",
        "    print(\"OK, I'll try it!\")"
      ]
    },
    {
      "cell_type": "code",
      "execution_count": 21,
      "metadata": {},
      "outputs": [
        {
          "name": "stdout",
          "output_type": "stream",
          "text": [
            "I dunno.\n"
          ]
        }
      ],
      "source": [
        "print('Probably carrot cake.') if (cake_type[0] == 'c') else print('I dunno.')"
      ]
    },
    {
      "cell_type": "code",
      "execution_count": 23,
      "metadata": {},
      "outputs": [
        {
          "name": "stdout",
          "output_type": "stream",
          "text": [
            "False\n",
            "At least one conditional is false\n"
          ]
        }
      ],
      "source": [
        "# Conjunctive conditionals\n",
        "print((1 < 4) and (4 == 5))\n",
        "\n",
        "if ((1 < 3) and (4 == 5)):\n",
        "    print('Both conditionals are true')\n",
        "else:\n",
        "    print('At least one conditional is false')"
      ]
    },
    {
      "cell_type": "code",
      "execution_count": 25,
      "metadata": {},
      "outputs": [],
      "source": [
        "\"\"\"\n",
        "Create a function that computes the \"dot product\" between 02 vectors\n",
        "    1/ Check both inputs are numpy arrays\n",
        "    2/ Check the 02 inputs are the same length\n",
        "    3a/ Break out of the function and give a helpful error message\n",
        "    3a/ Compute and return the dot product\n",
        "\"\"\"\n",
        "\n",
        "def dot_product(a, b):\n",
        "    # Check that both vectors are numpy arrays\n",
        "    if (not(isinstance(a, np.ndarray) and isinstance(b, np.ndarray))):\n",
        "        raise Exception('Input must be numpy arrays')\n",
        "    \n",
        "    # Check that both vectors have the same length\n",
        "    if (not(len(a) == (len(b)))):\n",
        "        raise Exception('Input must be the same length')\n",
        "    \n",
        "    # Return the dot product\n",
        "    return sum(a * b)"
      ]
    },
    {
      "cell_type": "code",
      "execution_count": 24,
      "metadata": {},
      "outputs": [
        {
          "name": "stdout",
          "output_type": "stream",
          "text": [
            "32\n",
            "[ 4 10 18]\n"
          ]
        }
      ],
      "source": [
        "a = np.array([1, 2, 3])\n",
        "b = np.array([4, 5, 6])\n",
        "\n",
        "print(np.dot(a, b))\n",
        "print(a * b)\n",
        "print(dot_product(a, b))"
      ]
    },
    {
      "cell_type": "code",
      "execution_count": 28,
      "metadata": {},
      "outputs": [
        {
          "ename": "Exception",
          "evalue": "Input must be the same length",
          "output_type": "error",
          "traceback": [
            "\u001b[1;31m---------------------------------------------------------------------------\u001b[0m",
            "\u001b[1;31mException\u001b[0m                                 Traceback (most recent call last)",
            "\u001b[1;32mC:\\Users\\DOANTR~1\\AppData\\Local\\Temp/ipykernel_16832/283337657.py\u001b[0m in \u001b[0;36m<module>\u001b[1;34m\u001b[0m\n\u001b[0;32m      1\u001b[0m \u001b[0ma\u001b[0m \u001b[1;33m=\u001b[0m \u001b[0mnp\u001b[0m\u001b[1;33m.\u001b[0m\u001b[0marray\u001b[0m\u001b[1;33m(\u001b[0m\u001b[1;33m[\u001b[0m\u001b[1;36m1\u001b[0m\u001b[1;33m,\u001b[0m \u001b[1;36m2\u001b[0m\u001b[1;33m]\u001b[0m\u001b[1;33m)\u001b[0m\u001b[1;33m\u001b[0m\u001b[1;33m\u001b[0m\u001b[0m\n\u001b[0;32m      2\u001b[0m \u001b[0mb\u001b[0m \u001b[1;33m=\u001b[0m \u001b[0mnp\u001b[0m\u001b[1;33m.\u001b[0m\u001b[0marray\u001b[0m\u001b[1;33m(\u001b[0m\u001b[1;33m[\u001b[0m\u001b[1;36m4\u001b[0m\u001b[1;33m,\u001b[0m \u001b[1;36m5\u001b[0m\u001b[1;33m,\u001b[0m \u001b[1;36m6\u001b[0m\u001b[1;33m]\u001b[0m\u001b[1;33m)\u001b[0m\u001b[1;33m\u001b[0m\u001b[1;33m\u001b[0m\u001b[0m\n\u001b[1;32m----> 3\u001b[1;33m \u001b[0mprint\u001b[0m\u001b[1;33m(\u001b[0m\u001b[0mdot_product\u001b[0m\u001b[1;33m(\u001b[0m\u001b[0ma\u001b[0m\u001b[1;33m,\u001b[0m \u001b[0mb\u001b[0m\u001b[1;33m)\u001b[0m\u001b[1;33m)\u001b[0m\u001b[1;33m\u001b[0m\u001b[1;33m\u001b[0m\u001b[0m\n\u001b[0m",
            "\u001b[1;32mC:\\Users\\DOANTR~1\\AppData\\Local\\Temp/ipykernel_16832/2522154869.py\u001b[0m in \u001b[0;36mdot_product\u001b[1;34m(a, b)\u001b[0m\n\u001b[0;32m     14\u001b[0m     \u001b[1;31m# Check that both vectors have the same length\u001b[0m\u001b[1;33m\u001b[0m\u001b[1;33m\u001b[0m\u001b[0m\n\u001b[0;32m     15\u001b[0m     \u001b[1;32mif\u001b[0m \u001b[1;33m(\u001b[0m\u001b[1;32mnot\u001b[0m\u001b[1;33m(\u001b[0m\u001b[0mlen\u001b[0m\u001b[1;33m(\u001b[0m\u001b[0ma\u001b[0m\u001b[1;33m)\u001b[0m \u001b[1;33m==\u001b[0m \u001b[1;33m(\u001b[0m\u001b[0mlen\u001b[0m\u001b[1;33m(\u001b[0m\u001b[0mb\u001b[0m\u001b[1;33m)\u001b[0m\u001b[1;33m)\u001b[0m\u001b[1;33m)\u001b[0m\u001b[1;33m)\u001b[0m\u001b[1;33m:\u001b[0m\u001b[1;33m\u001b[0m\u001b[1;33m\u001b[0m\u001b[0m\n\u001b[1;32m---> 16\u001b[1;33m         \u001b[1;32mraise\u001b[0m \u001b[0mException\u001b[0m\u001b[1;33m(\u001b[0m\u001b[1;34m'Input must be the same length'\u001b[0m\u001b[1;33m)\u001b[0m\u001b[1;33m\u001b[0m\u001b[1;33m\u001b[0m\u001b[0m\n\u001b[0m\u001b[0;32m     17\u001b[0m \u001b[1;33m\u001b[0m\u001b[0m\n\u001b[0;32m     18\u001b[0m     \u001b[1;31m# Return the dot product\u001b[0m\u001b[1;33m\u001b[0m\u001b[1;33m\u001b[0m\u001b[0m\n",
            "\u001b[1;31mException\u001b[0m: Input must be the same length"
          ]
        }
      ],
      "source": [
        "# a = np.array([1, 2])\n",
        "# b = np.array([4, 5, 6])\n",
        "# print(dot_product(a, b))"
      ]
    },
    {
      "cell_type": "code",
      "execution_count": 29,
      "metadata": {},
      "outputs": [
        {
          "name": "stdout",
          "output_type": "stream",
          "text": [
            "1.0\n",
            "2.0\n",
            "3.0\n",
            "4.0\n",
            "5.0\n",
            "6.0\n",
            "7.0\n",
            "8.0\n",
            "9.0\n",
            "10.0\n"
          ]
        }
      ],
      "source": [
        "numbers = np.linspace(1, 10, 10)\n",
        "for i in numbers:\n",
        "    print(i)"
      ]
    },
    {
      "cell_type": "code",
      "execution_count": 33,
      "metadata": {},
      "outputs": [
        {
          "name": "stdout",
          "output_type": "stream",
          "text": [
            "2.5\n",
            "0\n",
            "2\n"
          ]
        }
      ],
      "source": [
        "# Modulus\n",
        "# Parity - odd/even\n",
        "print(5 / 2)\n",
        "print(6 % 2)\n",
        "print(5 % 3)"
      ]
    },
    {
      "cell_type": "markdown",
      "metadata": {
        "id": "NK_jrYFfHKUr"
      },
      "source": [
        "## FOR LOOPS "
      ]
    },
    {
      "cell_type": "code",
      "execution_count": null,
      "metadata": {},
      "outputs": [
        {
          "name": "stdout",
          "output_type": "stream",
          "text": [
            "0 in an even number\n",
            "Done testing.\n",
            "1 in an odd number\n",
            "Done testing.\n",
            "2 in an even number\n",
            "Done testing.\n",
            "3 in an odd number\n",
            "Done testing.\n",
            "4 in an even number\n",
            "Done testing.\n",
            "5 in an odd number\n",
            "Done testing.\n",
            "6 in an even number\n",
            "Done testing.\n",
            "7 in an odd number\n",
            "Done testing.\n",
            "8 in an even number\n",
            "Done testing.\n",
            "9 in an odd number\n",
            "Done testing.\n",
            "10 in an even number\n",
            "Done testing.\n",
            "11 in an odd number\n",
            "Done testing.\n",
            "12 in an even number\n",
            "Done testing.\n",
            "13 in an odd number\n",
            "Done testing.\n",
            "14 in an even number\n",
            "Done testing.\n",
            "15 in an odd number\n",
            "Done testing.\n",
            "16 in an even number\n",
            "Done testing.\n",
            "17 in an odd number\n",
            "Done testing.\n"
          ]
        }
      ],
      "source": [
        "# Embed multiple flow-control statements\n",
        "for n in range(18):\n",
        "    if (n % 2 == 0):\n",
        "        print(f'{n} in an even number')\n",
        "    else:\n",
        "        print(f'{n} in an odd number')\n",
        "    \n",
        "    print('Done testing.')"
      ]
    },
    {
      "cell_type": "code",
      "execution_count": null,
      "metadata": {},
      "outputs": [],
      "source": [
        "\"\"\"\n",
        "Fibonacci series: [0, 1, 1, 2, 3, 5, 8, 13, 21, ...]\n",
        "Create a function that reports the Fib. series for input N\n",
        "\"\"\"\n",
        "\n",
        "def fib_seq(N):\n",
        "    v = [0, 1]\n",
        "    for i in range(N - 2):\n",
        "        v.append(sum(v[-2:]))\n",
        "    \n",
        "    print(v)"
      ]
    },
    {
      "cell_type": "code",
      "execution_count": null,
      "metadata": {},
      "outputs": [
        {
          "name": "stdout",
          "output_type": "stream",
          "text": [
            "[0, 1, 1, 2, 3, 5, 8]\n"
          ]
        }
      ],
      "source": [
        "fib_seq(7)"
      ]
    },
    {
      "cell_type": "markdown",
      "metadata": {
        "id": "OyUSCu5iHKUr"
      },
      "source": [
        "## ENUMERATE AND ZIP"
      ]
    },
    {
      "cell_type": "code",
      "execution_count": 41,
      "metadata": {},
      "outputs": [],
      "source": [
        "import numpy as np"
      ]
    },
    {
      "cell_type": "code",
      "execution_count": 44,
      "metadata": {},
      "outputs": [
        {
          "name": "stdout",
          "output_type": "stream",
          "text": [
            "Index 0 has a value of -5.0\n",
            "Index 1 has a value of -3.333333333333333\n",
            "Index 2 has a value of -1.6666666666666665\n",
            "Index 3 has a value of 0.0\n",
            "Index 4 has a value of 1.666666666666667\n",
            "Index 5 has a value of 3.333333333333334\n",
            "Index 6 has a value of 5.0\n",
            "\n",
            "Index 0 has a value of -5.0\n",
            "Index 1 has a value of -3.333333333333333\n",
            "Index 2 has a value of -1.6666666666666665\n",
            "Index 3 has a value of 0.0\n",
            "Index 4 has a value of 1.666666666666667\n",
            "Index 5 has a value of 3.333333333333334\n",
            "Index 6 has a value of 5.0\n"
          ]
        }
      ],
      "source": [
        "ns = np.linspace(-5, 5, 7)\n",
        "\n",
        "for i in range(len(ns)):\n",
        "    print(f'Index {i} has a value of {ns[i]}')\n",
        "print('')\n",
        "\n",
        "for i, n in enumerate(ns):\n",
        "    # n = ns[i]\n",
        "    print(f'Index {i} has a value of {n}')"
      ]
    },
    {
      "cell_type": "code",
      "execution_count": 46,
      "metadata": {},
      "outputs": [
        {
          "name": "stdout",
          "output_type": "stream",
          "text": [
            "0 H\n",
            "1 e\n",
            "2 l\n",
            "3 l\n",
            "4 o\n",
            "5  \n",
            "6 m\n",
            "7 y\n",
            "8  \n",
            "9 n\n",
            "10 a\n",
            "11 m\n",
            "12 e\n",
            "13  \n",
            "14 i\n",
            "15 s\n",
            "16  \n",
            "17 H\n",
            "18 a\n",
            "19 r\n",
            "20 r\n",
            "21 y\n",
            "[0. 1. 0. 0. 1. 0. 0. 0. 0. 0. 1. 0. 1. 0. 1. 0. 0. 0. 1. 0. 0. 0.]\n"
          ]
        }
      ],
      "source": [
        "text = 'Hello my name is Harry'\n",
        "\n",
        "vowels = np.zeros(len(text))\n",
        "\n",
        "for (i, l) in enumerate(text):\n",
        "    print(i, l)\n",
        "    \n",
        "    if (l in 'aeiou'):\n",
        "        vowels[i] = 1\n",
        "\n",
        "print(vowels)"
      ]
    },
    {
      "cell_type": "code",
      "execution_count": 47,
      "metadata": {},
      "outputs": [
        {
          "name": "stdout",
          "output_type": "stream",
          "text": [
            "3 - q\n",
            "4 - w\n",
            "5 - e\n",
            "6 - r\n",
            "3 - t\n",
            "-17 - y\n"
          ]
        }
      ],
      "source": [
        "list_A = [3, 4, 5, 6, 3, -17]\n",
        "list_B = ['q', 'w', 'e', 'r', 't', 'y']\n",
        "\n",
        "for a, b in zip(list_A, list_B):\n",
        "    print(f'{a} - {b}')\n",
        "\n",
        "# for a, b in zip(list_A, list_B):\n",
        "#     print(f'{a} - {b}')"
      ]
    },
    {
      "cell_type": "code",
      "execution_count": 49,
      "metadata": {},
      "outputs": [
        {
          "name": "stdout",
          "output_type": "stream",
          "text": [
            "3 - q\n",
            "4 - w\n",
            "5 - e\n",
            "6 - r\n"
          ]
        }
      ],
      "source": [
        "list_A = [3, 4, 5, 6]\n",
        "list_B = ['q', 'w', 'e', 'r', 't', 'y']\n",
        "\n",
        "for a, b in zip(list_A, list_B):\n",
        "    print(f'{a} - {b}')"
      ]
    },
    {
      "cell_type": "code",
      "execution_count": 52,
      "metadata": {},
      "outputs": [
        {
          "name": "stdout",
          "output_type": "stream",
          "text": [
            "{'alpha': 10, 'beta': 20, 'gamme': 30}\n",
            "10\n"
          ]
        }
      ],
      "source": [
        "\"\"\"\n",
        "Given the following lists, create a dictionary using zip\n",
        "\"\"\"\n",
        "names  = ['alpha', 'beta', 'gamme']\n",
        "values = [10, 20, 30]\n",
        "\n",
        "D = dict(zip(names, values))\n",
        "print(D)\n",
        "print(D['alpha'])"
      ]
    },
    {
      "cell_type": "markdown",
      "metadata": {},
      "source": [
        "## CONTINUE"
      ]
    },
    {
      "cell_type": "code",
      "execution_count": 53,
      "metadata": {},
      "outputs": [
        {
          "name": "stdout",
          "output_type": "stream",
          "text": [
            "1\n",
            "3\n",
            "5\n",
            "7\n",
            "9\n"
          ]
        }
      ],
      "source": [
        "for i in range(10):\n",
        "    if (i % 2 == 0):\n",
        "        continue\n",
        "    \n",
        "    print(i)"
      ]
    },
    {
      "cell_type": "code",
      "execution_count": 57,
      "metadata": {},
      "outputs": [
        {
          "name": "stdout",
          "output_type": "stream",
          "text": [
            "Hll, my nm s HrrY"
          ]
        }
      ],
      "source": [
        "text = 'HellO, my name is HarrY'\n",
        "\n",
        "for i in text:\n",
        "    if (i in 'aeiouAEIOU'):\n",
        "        continue\n",
        "    print(i, end='')"
      ]
    },
    {
      "cell_type": "markdown",
      "metadata": {
        "id": "LpbhSe-jHKUr"
      },
      "source": [
        "## INITIALIZING VARIABLES"
      ]
    },
    {
      "cell_type": "code",
      "execution_count": 58,
      "metadata": {},
      "outputs": [],
      "source": [
        "import numpy as np"
      ]
    },
    {
      "cell_type": "code",
      "execution_count": 61,
      "metadata": {},
      "outputs": [
        {
          "name": "stdout",
          "output_type": "stream",
          "text": [
            "<class 'numpy.ndarray'>\n",
            "[0. 0. 0. 0. 0. 0. 0. 0. 0. 0.]\n",
            "<class 'numpy.ndarray'>\n",
            "[2 2 2 2 2 2 2 2 2 2]\n"
          ]
        }
      ],
      "source": [
        "r = np.zeros(10)\n",
        "print(type(r))\n",
        "print(r)\n",
        "\n",
        "r = np.full(10, 2)\n",
        "print(type(r))\n",
        "print(r)"
      ]
    },
    {
      "cell_type": "code",
      "execution_count": 62,
      "metadata": {},
      "outputs": [
        {
          "name": "stdout",
          "output_type": "stream",
          "text": [
            "[ 0.  1.  4.  9. 16. 25. 36. 49. 64. 81.]\n"
          ]
        }
      ],
      "source": [
        "N = 10\n",
        "r = np.zeros(N)\n",
        "\n",
        "for i in range(N):\n",
        "    r[i] = i ** 2\n",
        "print(r)"
      ]
    },
    {
      "cell_type": "code",
      "execution_count": 64,
      "metadata": {},
      "outputs": [
        {
          "name": "stdout",
          "output_type": "stream",
          "text": [
            "[ 0.  1.  4.  9. 16. 25. 36. 49. 64. 81.]\n"
          ]
        }
      ],
      "source": [
        "N = 10\n",
        "r = np.array([])\n",
        "\n",
        "for i in range(N):\n",
        "    r = np.append(r, i ** 2)\n",
        "print(r)"
      ]
    },
    {
      "cell_type": "code",
      "execution_count": 69,
      "metadata": {},
      "outputs": [
        {
          "name": "stdout",
          "output_type": "stream",
          "text": [
            "[ 3.08 66.11  3.35]\n"
          ]
        }
      ],
      "source": [
        "\"\"\"\n",
        "Compare three methods of creating an array\n",
        "- N = 10000\n",
        "- r[i] = i ** 2\n",
        "- Time test\n",
        "\"\"\"\n",
        "import time\n",
        "N   = 10000\n",
        "toc = [0] * 3\n",
        "\n",
        "# List append\n",
        "tic = time.perf_counter()\n",
        "r = []\n",
        "\n",
        "for i in range(N):\n",
        "    r.append(i ** 2)\n",
        "toc[0] = 1000 * (time.perf_counter() - tic) # ms\n",
        "\n",
        "# Numpy append\n",
        "tic = time.perf_counter()\n",
        "r = np.array([])\n",
        "\n",
        "for i in range(N):\n",
        "    r = np.append(r, i ** 2)\n",
        "toc[1] = 1000 * (time.perf_counter() - tic) # ms\n",
        "\n",
        "# Numpy initialization\n",
        "tic = time.perf_counter()\n",
        "r = np.zeros(N)\n",
        "for i in range(N):\n",
        "    r[i] = i**2\n",
        "toc[2] = 1000 * (time.perf_counter() - tic) # ms\n",
        "\n",
        "print(np.round(toc, 2))\n"
      ]
    },
    {
      "cell_type": "markdown",
      "metadata": {
        "id": "2GtAuHClHKUs"
      },
      "source": [
        "## SINGLE-LINE LOOPS (LIST COMPREHENSION)"
      ]
    },
    {
      "cell_type": "code",
      "execution_count": 112,
      "metadata": {},
      "outputs": [
        {
          "name": "stdout",
          "output_type": "stream",
          "text": [
            "6\n"
          ]
        }
      ],
      "source": [
        "import random\n",
        "\n",
        "print(random.randint(1, 10))\n",
        "\n",
        "r = random.randint(1, 10)\n",
        "print('r is large') if (r > 5) else print('r is small')"
      ]
    },
    {
      "cell_type": "code",
      "execution_count": 113,
      "metadata": {},
      "outputs": [
        {
          "name": "stdout",
          "output_type": "stream",
          "text": [
            "0 1 4 9 16 25 36 49 64 81 "
          ]
        }
      ],
      "source": [
        "for i in range(10):\n",
        "    print(i ** 2, end=' ')"
      ]
    },
    {
      "cell_type": "code",
      "execution_count": 115,
      "metadata": {},
      "outputs": [
        {
          "name": "stdout",
          "output_type": "stream",
          "text": [
            "0 1 4 9 16 25 36 49 64 81 "
          ]
        },
        {
          "data": {
            "text/plain": [
              "[None, None, None, None, None, None, None, None, None, None]"
            ]
          },
          "execution_count": 115,
          "metadata": {},
          "output_type": "execute_result"
        }
      ],
      "source": [
        "[print(i ** 2, end=' ') for i in range(10)]"
      ]
    },
    {
      "cell_type": "code",
      "execution_count": 117,
      "metadata": {},
      "outputs": [
        {
          "name": "stdout",
          "output_type": "stream",
          "text": [
            "[0, 1, 4, 9, 16, 25, 36, 49, 64, 81]\n",
            "[36, 49, 64, 81]\n"
          ]
        }
      ],
      "source": [
        "lst = [(i ** 2) for i in range(10)]\n",
        "print(lst)\n",
        "\n",
        "lst = [(i ** 2) for i in range(10) if (i > 5)]\n",
        "print(lst)"
      ]
    },
    {
      "cell_type": "code",
      "execution_count": null,
      "metadata": {},
      "outputs": [],
      "source": [
        "\"\"\"\n",
        "Convert the following loops into single-line loop\n",
        "\"\"\""
      ]
    },
    {
      "cell_type": "code",
      "execution_count": null,
      "metadata": {},
      "outputs": [],
      "source": [
        "new_list = [''] * 10\n",
        "\n",
        "# for i in range(10):\n",
        "#     if (i % 2 == 1):\n",
        "#         new_list[i] = 'Odd'\n",
        "#     else:\n",
        "#         new_list[i] = i\n",
        "\n",
        "nl = ['Odd' if (i % 2 == 0) else i for i in range(10)]"
      ]
    },
    {
      "cell_type": "code",
      "execution_count": null,
      "metadata": {},
      "outputs": [],
      "source": [
        "# Repeat without using numpy\n",
        "\n",
        "x1 = np.linspace(-3, 3, 11)\n",
        "y1 = x1 ** 2\n",
        "\n",
        "x2 = [i/(5/3) for i in range(-5, 6)]\n",
        "y2 = [(i ** 2) for i in x2]"
      ]
    },
    {
      "cell_type": "markdown",
      "metadata": {
        "id": "91O3GYPOHKUs"
      },
      "source": [
        "## WHILE LOOPS "
      ]
    },
    {
      "cell_type": "code",
      "execution_count": 118,
      "metadata": {},
      "outputs": [
        {
          "name": "stdout",
          "output_type": "stream",
          "text": [
            "0 1 2 3 4 5 6 7 "
          ]
        }
      ],
      "source": [
        "toggle = True\n",
        "i = 0\n",
        "\n",
        "while toggle:\n",
        "    print(i, end=' ')\n",
        "    i += 1\n",
        "    \n",
        "    if (i == 8):\n",
        "        toggle = False"
      ]
    },
    {
      "cell_type": "code",
      "execution_count": 119,
      "metadata": {},
      "outputs": [
        {
          "name": "stdout",
          "output_type": "stream",
          "text": [
            "0 1 2 3 4 5 6 7 "
          ]
        }
      ],
      "source": [
        "i = 0\n",
        "while True:\n",
        "    print(i, end=' ')\n",
        "    i += 1\n",
        "    if (i == 8): break\n",
        "    \n",
        "    # More code -> Don't run :(\n",
        "        "
      ]
    },
    {
      "cell_type": "code",
      "execution_count": 120,
      "metadata": {},
      "outputs": [
        {
          "name": "stdout",
          "output_type": "stream",
          "text": [
            "0 1 2 3 4 5 6 7 "
          ]
        }
      ],
      "source": [
        "i = 0\n",
        "while (i < 8):\n",
        "    print(i, end=' ')\n",
        "    i += 1"
      ]
    },
    {
      "cell_type": "code",
      "execution_count": null,
      "metadata": {},
      "outputs": [],
      "source": [
        "\"\"\"\n",
        "For:   Prefer when you know in advance the number of iterations\n",
        "While: Prefer when you DON'T know in advance exactly how many iteration\n",
        "\"\"\""
      ]
    },
    {
      "cell_type": "code",
      "execution_count": 121,
      "metadata": {},
      "outputs": [],
      "source": [
        "\"\"\" Poisson counter\n",
        "1/ Specify a target number: np.exp(-lambda) | e^lambda, lambda = 10\n",
        "2/ Initialize a counter = 0, curr_val = 1\n",
        "3/ Multiply curr_val by a random number U[0, 1]\n",
        "4/ Repeat step 3 until curr_val < target\n",
        "5/ Return the number of times that you go through steps 4\n",
        "\"\"\"\n",
        "\n",
        "import numpy as np\n",
        "\n",
        "def poisson_counter(lamb):\n",
        "    # 1/ Specify a target number: np.exp(-lambda) | e^lambda, lambda = 10\n",
        "    \n",
        "    # 2/ Initialize a counter = 0, curr_val = 1\n",
        "    counter, curr_val = 0, 1\n",
        "    target = np.exp(-lamb)\n",
        "    \n",
        "    # 3/ Multiply curr_val by a random number U[0, 1]\n",
        "    # 4/ Repeat step 3 until curr_val < target\n",
        "    while (curr_val > target):\n",
        "        counter  += 1\n",
        "        curr_val *= np.random.randn()\n",
        "        \n",
        "    # 5/ Return the number of times that you go through steps 4\n",
        "    return counter"
      ]
    },
    {
      "cell_type": "code",
      "execution_count": 161,
      "metadata": {},
      "outputs": [
        {
          "data": {
            "text/plain": [
              "6"
            ]
          },
          "execution_count": 161,
          "metadata": {},
          "output_type": "execute_result"
        }
      ],
      "source": [
        "poisson_counter(10)"
      ]
    },
    {
      "cell_type": "markdown",
      "metadata": {
        "id": "9Tus0kBzHKUs"
      },
      "source": [
        "## BROADCASTING IN NUMPY"
      ]
    },
    {
      "cell_type": "code",
      "execution_count": 165,
      "metadata": {},
      "outputs": [
        {
          "name": "stdout",
          "output_type": "stream",
          "text": [
            "[[1 2 3]\n",
            " [2 3 4]\n",
            " [3 4 5]\n",
            " [4 5 6]] \n",
            "\n",
            "[10 20 30]\n"
          ]
        }
      ],
      "source": [
        "import numpy as np\n",
        "\n",
        "X = np.array([[1, 2, 3],\n",
        "            [2, 3, 4],\n",
        "            [3, 4, 5],\n",
        "            [4, 5, 6]])\n",
        "\n",
        "W = np.array([10, 20, 30])\n",
        "\n",
        "print(X, '\\n')\n",
        "print(W)"
      ]
    },
    {
      "cell_type": "code",
      "execution_count": 166,
      "metadata": {},
      "outputs": [
        {
          "data": {
            "text/plain": [
              "array([[11., 22., 33.],\n",
              "       [12., 23., 34.],\n",
              "       [13., 24., 35.],\n",
              "       [14., 25., 36.]])"
            ]
          },
          "execution_count": 166,
          "metadata": {},
          "output_type": "execute_result"
        }
      ],
      "source": [
        "Y = np.zeros(X.shape)\n",
        "\n",
        "for i in range(X.shape[0]):\n",
        "    Y[i, :] = X[i, :] + W\n",
        "\n",
        "Y"
      ]
    },
    {
      "cell_type": "code",
      "execution_count": 168,
      "metadata": {},
      "outputs": [
        {
          "data": {
            "text/plain": [
              "array([[11, 22, 33],\n",
              "       [12, 23, 34],\n",
              "       [13, 24, 35],\n",
              "       [14, 25, 36]])"
            ]
          },
          "execution_count": 168,
          "metadata": {},
          "output_type": "execute_result"
        }
      ],
      "source": [
        "import copy\n",
        "Y = copy.deepcopy(X)\n",
        "\n",
        "for i in range(X.shape[0]):\n",
        "    Y[i, :] = X[i, :] + W\n",
        "\n",
        "Y"
      ]
    },
    {
      "cell_type": "code",
      "execution_count": 169,
      "metadata": {},
      "outputs": [
        {
          "data": {
            "text/plain": [
              "array([[11, 22, 33],\n",
              "       [12, 23, 34],\n",
              "       [13, 24, 35],\n",
              "       [14, 25, 36]])"
            ]
          },
          "execution_count": 169,
          "metadata": {},
          "output_type": "execute_result"
        }
      ],
      "source": [
        "Z = X + W\n",
        "Z"
      ]
    },
    {
      "cell_type": "code",
      "execution_count": 172,
      "metadata": {},
      "outputs": [
        {
          "name": "stdout",
          "output_type": "stream",
          "text": [
            "[-1  0  1  0] \n",
            "\n",
            "[[-1]\n",
            " [ 0]\n",
            " [ 1]\n",
            " [ 0]] \n",
            "\n",
            "[[-1  0  1  0]] \n",
            "\n",
            "[[-1]\n",
            " [ 0]\n",
            " [ 1]\n",
            " [ 0]] \n",
            "\n",
            "[[1 2 3]\n",
            " [2 3 4]\n",
            " [3 4 5]\n",
            " [4 5 6]] \n",
            "\n",
            "[[-1 -2 -3]\n",
            " [ 0  0  0]\n",
            " [ 3  4  5]\n",
            " [ 0  0  0]]\n"
          ]
        }
      ],
      "source": [
        "v = np.array([-1, 0, 1, 0])\n",
        "print(v, '\\n')\n",
        "\n",
        "v = np.array([[-1], [0], [1], [0]])\n",
        "print(v, '\\n')\n",
        "\n",
        "v = np.array([-1, 0, 1, 0], ndmin=2)\n",
        "print(v, '\\n')\n",
        "\n",
        "v = np.array([-1, 0, 1, 0], ndmin=2).T\n",
        "print(v, '\\n')\n",
        "\n",
        "print(X, '\\n')\n",
        "print(X*v)"
      ]
    },
    {
      "cell_type": "code",
      "execution_count": 176,
      "metadata": {},
      "outputs": [
        {
          "name": "stdout",
          "output_type": "stream",
          "text": [
            "[0 1 2 3 4 5 6 7 8] \n",
            "\n",
            "[[0 1 2]\n",
            " [3 4 5]\n",
            " [6 7 8]] \n",
            "\n",
            "[[0 1 2]\n",
            " [3 4 5]\n",
            " [6 7 8]\n",
            " [0 1 2]\n",
            " [3 4 5]\n",
            " [6 7 8]\n",
            " [0 1 2]\n",
            " [3 4 5]\n",
            " [6 7 8]] \n",
            "\n",
            "[[ 0  0  0]\n",
            " [ 3  4  5]\n",
            " [12 14 16]\n",
            " [ 0  3  6]\n",
            " [12 16 20]\n",
            " [30 35 40]\n",
            " [ 0  6 12]\n",
            " [21 28 35]\n",
            " [48 56 64]]\n"
          ]
        }
      ],
      "source": [
        "\"\"\"\n",
        "1/ Create a vector of integers from 0 -> 8 (v)\n",
        "2/ Reshape v into a 3x3 matrix (M) (np.reshape)\n",
        "3/ Repeat M into a 9x3 matrix (C) (np.tile)\n",
        "4/ Broadcast-multiple C with v (B)\n",
        "\"\"\"\n",
        "\n",
        "v = np.arange(9)\n",
        "print(v, '\\n')\n",
        "\n",
        "M = np.reshape(v, (3, 3))\n",
        "print(M, '\\n')\n",
        "\n",
        "C = np.tile(M, (3, 1))\n",
        "print(C, '\\n')\n",
        "\n",
        "B = C * np.reshape(v, (len(v), 1))\n",
        "# B = C * np.reshape(v, (-1, 1))\n",
        "print(B)"
      ]
    },
    {
      "cell_type": "markdown",
      "metadata": {
        "id": "5VgE5yQeHKUs"
      },
      "source": [
        "## FUNCTION ERROR CHECKING AND HANDLING"
      ]
    },
    {
      "cell_type": "markdown",
      "metadata": {
        "id": "c_RPgfANHKUs"
      },
      "source": [
        "# TEXT AND PLOTS"
      ]
    },
    {
      "cell_type": "markdown",
      "metadata": {
        "id": "Ma18zpMyHKUs"
      },
      "source": [
        "## PRINTING AND STRING INTERPOLATION"
      ]
    },
    {
      "cell_type": "markdown",
      "metadata": {
        "id": "J2pAoWOTHKUs"
      },
      "source": [
        "## PLOTTING DOTS AND LINES"
      ]
    },
    {
      "cell_type": "markdown",
      "metadata": {
        "id": "biYDnUl0HKUs"
      },
      "source": [
        "## SUBPLOT GEOMETRY"
      ]
    },
    {
      "cell_type": "markdown",
      "metadata": {
        "id": "2ymimdC5HKUs"
      },
      "source": [
        "## MAKING THE GRAPHS LOOK NICER"
      ]
    },
    {
      "cell_type": "markdown",
      "metadata": {
        "id": "aZop3-MFHKUs"
      },
      "source": [
        "## SEABORN"
      ]
    },
    {
      "cell_type": "markdown",
      "metadata": {
        "id": "WjnZ7yIxHKUs"
      },
      "source": [
        "## IMAGES"
      ]
    },
    {
      "cell_type": "markdown",
      "metadata": {
        "id": "HVKCNf0qHKUt"
      },
      "source": [
        "## EXPORT PLOTS IN LOW AND HIGH RESOLUTION"
      ]
    }
  ],
  "metadata": {
    "colab": {
      "include_colab_link": true,
      "name": "Total_Python.ipynb",
      "provenance": [],
      "toc_visible": true
    },
    "interpreter": {
      "hash": "ee5cc6fef2d70a7e71ee3826687cbd150f18158e0b1eef11d4f4f92bb920e304"
    },
    "kernelspec": {
      "display_name": "Python 3.9.7 64-bit",
      "language": "python",
      "name": "python3"
    },
    "language_info": {
      "codemirror_mode": {
        "name": "ipython",
        "version": 3
      },
      "file_extension": ".py",
      "mimetype": "text/x-python",
      "name": "python",
      "nbconvert_exporter": "python",
      "pygments_lexer": "ipython3",
      "version": "3.9.7"
    },
    "orig_nbformat": 4
  },
  "nbformat": 4,
  "nbformat_minor": 0
}
