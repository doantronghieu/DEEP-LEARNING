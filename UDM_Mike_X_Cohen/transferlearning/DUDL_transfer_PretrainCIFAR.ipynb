{
  "nbformat": 4,
  "nbformat_minor": 0,
  "metadata": {
    "colab": {
      "name": "DUDL_transfer_PretrainCIFAR.ipynb",
      "provenance": [],
      "collapsed_sections": [],
      "include_colab_link": true
    },
    "kernelspec": {
      "name": "python3",
      "display_name": "Python 3"
    },
    "accelerator": "GPU",
    "widgets": {
      "application/vnd.jupyter.widget-state+json": {
        "7d2fbf5705b04d1dac966855814e7357": {
          "model_module": "@jupyter-widgets/controls",
          "model_name": "HBoxModel",
          "model_module_version": "1.5.0",
          "state": {
            "_view_name": "HBoxView",
            "_dom_classes": [],
            "_model_name": "HBoxModel",
            "_view_module": "@jupyter-widgets/controls",
            "_model_module_version": "1.5.0",
            "_view_count": null,
            "_view_module_version": "1.5.0",
            "box_style": "",
            "layout": "IPY_MODEL_e1f6dead1a864b46862c58c651c40919",
            "_model_module": "@jupyter-widgets/controls",
            "children": [
              "IPY_MODEL_2d7e1b99983f477ea321fa8b3ddcf720",
              "IPY_MODEL_b6c3ea649b4746c48f62ea259d8e0df5",
              "IPY_MODEL_c2d68b4927344f6e8784a31b6a486d9f"
            ]
          }
        },
        "e1f6dead1a864b46862c58c651c40919": {
          "model_module": "@jupyter-widgets/base",
          "model_name": "LayoutModel",
          "model_module_version": "1.2.0",
          "state": {
            "_view_name": "LayoutView",
            "grid_template_rows": null,
            "right": null,
            "justify_content": null,
            "_view_module": "@jupyter-widgets/base",
            "overflow": null,
            "_model_module_version": "1.2.0",
            "_view_count": null,
            "flex_flow": null,
            "width": null,
            "min_width": null,
            "border": null,
            "align_items": null,
            "bottom": null,
            "_model_module": "@jupyter-widgets/base",
            "top": null,
            "grid_column": null,
            "overflow_y": null,
            "overflow_x": null,
            "grid_auto_flow": null,
            "grid_area": null,
            "grid_template_columns": null,
            "flex": null,
            "_model_name": "LayoutModel",
            "justify_items": null,
            "grid_row": null,
            "max_height": null,
            "align_content": null,
            "visibility": null,
            "align_self": null,
            "height": null,
            "min_height": null,
            "padding": null,
            "grid_auto_rows": null,
            "grid_gap": null,
            "max_width": null,
            "order": null,
            "_view_module_version": "1.2.0",
            "grid_template_areas": null,
            "object_position": null,
            "object_fit": null,
            "grid_auto_columns": null,
            "margin": null,
            "display": null,
            "left": null
          }
        },
        "2d7e1b99983f477ea321fa8b3ddcf720": {
          "model_module": "@jupyter-widgets/controls",
          "model_name": "HTMLModel",
          "model_module_version": "1.5.0",
          "state": {
            "_view_name": "HTMLView",
            "style": "IPY_MODEL_b8b1aa8cb6644a689210adff6932d199",
            "_dom_classes": [],
            "description": "",
            "_model_name": "HTMLModel",
            "placeholder": "​",
            "_view_module": "@jupyter-widgets/controls",
            "_model_module_version": "1.5.0",
            "value": "",
            "_view_count": null,
            "_view_module_version": "1.5.0",
            "description_tooltip": null,
            "_model_module": "@jupyter-widgets/controls",
            "layout": "IPY_MODEL_bd0f2f07bf664e36b2acaafa62870795"
          }
        },
        "b6c3ea649b4746c48f62ea259d8e0df5": {
          "model_module": "@jupyter-widgets/controls",
          "model_name": "FloatProgressModel",
          "model_module_version": "1.5.0",
          "state": {
            "_view_name": "ProgressView",
            "style": "IPY_MODEL_1fe45fcd2d454bfda14bf1dc2f418549",
            "_dom_classes": [],
            "description": "",
            "_model_name": "FloatProgressModel",
            "bar_style": "success",
            "max": 170498071,
            "_view_module": "@jupyter-widgets/controls",
            "_model_module_version": "1.5.0",
            "value": 170498071,
            "_view_count": null,
            "_view_module_version": "1.5.0",
            "orientation": "horizontal",
            "min": 0,
            "description_tooltip": null,
            "_model_module": "@jupyter-widgets/controls",
            "layout": "IPY_MODEL_cba247aec70649029ad84de5c1a3a410"
          }
        },
        "c2d68b4927344f6e8784a31b6a486d9f": {
          "model_module": "@jupyter-widgets/controls",
          "model_name": "HTMLModel",
          "model_module_version": "1.5.0",
          "state": {
            "_view_name": "HTMLView",
            "style": "IPY_MODEL_3c08c1d1fb2c489cae7551b3d020201b",
            "_dom_classes": [],
            "description": "",
            "_model_name": "HTMLModel",
            "placeholder": "​",
            "_view_module": "@jupyter-widgets/controls",
            "_model_module_version": "1.5.0",
            "value": " 170499072/? [00:11&lt;00:00, 16061174.68it/s]",
            "_view_count": null,
            "_view_module_version": "1.5.0",
            "description_tooltip": null,
            "_model_module": "@jupyter-widgets/controls",
            "layout": "IPY_MODEL_7222b0ec5ebf461783314fc91027752c"
          }
        },
        "b8b1aa8cb6644a689210adff6932d199": {
          "model_module": "@jupyter-widgets/controls",
          "model_name": "DescriptionStyleModel",
          "model_module_version": "1.5.0",
          "state": {
            "_view_name": "StyleView",
            "_model_name": "DescriptionStyleModel",
            "description_width": "",
            "_view_module": "@jupyter-widgets/base",
            "_model_module_version": "1.5.0",
            "_view_count": null,
            "_view_module_version": "1.2.0",
            "_model_module": "@jupyter-widgets/controls"
          }
        },
        "bd0f2f07bf664e36b2acaafa62870795": {
          "model_module": "@jupyter-widgets/base",
          "model_name": "LayoutModel",
          "model_module_version": "1.2.0",
          "state": {
            "_view_name": "LayoutView",
            "grid_template_rows": null,
            "right": null,
            "justify_content": null,
            "_view_module": "@jupyter-widgets/base",
            "overflow": null,
            "_model_module_version": "1.2.0",
            "_view_count": null,
            "flex_flow": null,
            "width": null,
            "min_width": null,
            "border": null,
            "align_items": null,
            "bottom": null,
            "_model_module": "@jupyter-widgets/base",
            "top": null,
            "grid_column": null,
            "overflow_y": null,
            "overflow_x": null,
            "grid_auto_flow": null,
            "grid_area": null,
            "grid_template_columns": null,
            "flex": null,
            "_model_name": "LayoutModel",
            "justify_items": null,
            "grid_row": null,
            "max_height": null,
            "align_content": null,
            "visibility": null,
            "align_self": null,
            "height": null,
            "min_height": null,
            "padding": null,
            "grid_auto_rows": null,
            "grid_gap": null,
            "max_width": null,
            "order": null,
            "_view_module_version": "1.2.0",
            "grid_template_areas": null,
            "object_position": null,
            "object_fit": null,
            "grid_auto_columns": null,
            "margin": null,
            "display": null,
            "left": null
          }
        },
        "1fe45fcd2d454bfda14bf1dc2f418549": {
          "model_module": "@jupyter-widgets/controls",
          "model_name": "ProgressStyleModel",
          "model_module_version": "1.5.0",
          "state": {
            "_view_name": "StyleView",
            "_model_name": "ProgressStyleModel",
            "description_width": "",
            "_view_module": "@jupyter-widgets/base",
            "_model_module_version": "1.5.0",
            "_view_count": null,
            "_view_module_version": "1.2.0",
            "bar_color": null,
            "_model_module": "@jupyter-widgets/controls"
          }
        },
        "cba247aec70649029ad84de5c1a3a410": {
          "model_module": "@jupyter-widgets/base",
          "model_name": "LayoutModel",
          "model_module_version": "1.2.0",
          "state": {
            "_view_name": "LayoutView",
            "grid_template_rows": null,
            "right": null,
            "justify_content": null,
            "_view_module": "@jupyter-widgets/base",
            "overflow": null,
            "_model_module_version": "1.2.0",
            "_view_count": null,
            "flex_flow": null,
            "width": null,
            "min_width": null,
            "border": null,
            "align_items": null,
            "bottom": null,
            "_model_module": "@jupyter-widgets/base",
            "top": null,
            "grid_column": null,
            "overflow_y": null,
            "overflow_x": null,
            "grid_auto_flow": null,
            "grid_area": null,
            "grid_template_columns": null,
            "flex": null,
            "_model_name": "LayoutModel",
            "justify_items": null,
            "grid_row": null,
            "max_height": null,
            "align_content": null,
            "visibility": null,
            "align_self": null,
            "height": null,
            "min_height": null,
            "padding": null,
            "grid_auto_rows": null,
            "grid_gap": null,
            "max_width": null,
            "order": null,
            "_view_module_version": "1.2.0",
            "grid_template_areas": null,
            "object_position": null,
            "object_fit": null,
            "grid_auto_columns": null,
            "margin": null,
            "display": null,
            "left": null
          }
        },
        "3c08c1d1fb2c489cae7551b3d020201b": {
          "model_module": "@jupyter-widgets/controls",
          "model_name": "DescriptionStyleModel",
          "model_module_version": "1.5.0",
          "state": {
            "_view_name": "StyleView",
            "_model_name": "DescriptionStyleModel",
            "description_width": "",
            "_view_module": "@jupyter-widgets/base",
            "_model_module_version": "1.5.0",
            "_view_count": null,
            "_view_module_version": "1.2.0",
            "_model_module": "@jupyter-widgets/controls"
          }
        },
        "7222b0ec5ebf461783314fc91027752c": {
          "model_module": "@jupyter-widgets/base",
          "model_name": "LayoutModel",
          "model_module_version": "1.2.0",
          "state": {
            "_view_name": "LayoutView",
            "grid_template_rows": null,
            "right": null,
            "justify_content": null,
            "_view_module": "@jupyter-widgets/base",
            "overflow": null,
            "_model_module_version": "1.2.0",
            "_view_count": null,
            "flex_flow": null,
            "width": null,
            "min_width": null,
            "border": null,
            "align_items": null,
            "bottom": null,
            "_model_module": "@jupyter-widgets/base",
            "top": null,
            "grid_column": null,
            "overflow_y": null,
            "overflow_x": null,
            "grid_auto_flow": null,
            "grid_area": null,
            "grid_template_columns": null,
            "flex": null,
            "_model_name": "LayoutModel",
            "justify_items": null,
            "grid_row": null,
            "max_height": null,
            "align_content": null,
            "visibility": null,
            "align_self": null,
            "height": null,
            "min_height": null,
            "padding": null,
            "grid_auto_rows": null,
            "grid_gap": null,
            "max_width": null,
            "order": null,
            "_view_module_version": "1.2.0",
            "grid_template_areas": null,
            "object_position": null,
            "object_fit": null,
            "grid_auto_columns": null,
            "margin": null,
            "display": null,
            "left": null
          }
        }
      }
    }
  },
  "cells": [
    {
      "cell_type": "markdown",
      "metadata": {
        "id": "view-in-github",
        "colab_type": "text"
      },
      "source": [
        "<a href=\"https://colab.research.google.com/github/tronghieu2810/DEEP-LEARNING/blob/main/UDEMY/%5BMike_X_Cohen%5D_Deep_understanding/transferlearning/DUDL_transfer_PretrainCIFAR.ipynb\" target=\"_parent\"><img src=\"https://colab.research.google.com/assets/colab-badge.svg\" alt=\"Open In Colab\"/></a>"
      ]
    },
    {
      "cell_type": "code",
      "metadata": {
        "id": "YeuAheYyhdZw"
      },
      "source": [
        "# import libraries\n",
        "import numpy as np\n",
        "\n",
        "import torch\n",
        "import torch.nn as nn\n",
        "import torch.nn.functional as F\n",
        "\n",
        "# for importing data\n",
        "import torchvision\n",
        "import torchvision.transforms as T\n",
        "from torch.utils.data import DataLoader, Subset\n",
        "\n",
        "import copy\n",
        "\n",
        "import matplotlib.pyplot as plt\n",
        "from IPython import display\n",
        "display.set_matplotlib_formats('svg')"
      ],
      "execution_count": 1,
      "outputs": []
    },
    {
      "cell_type": "code",
      "metadata": {
        "id": "IBSQO5HB6Kje"
      },
      "source": [
        "# use GPU if available\n",
        "device = torch.device('cuda:0' if torch.cuda.is_available() else 'cpu')"
      ],
      "execution_count": 2,
      "outputs": []
    },
    {
      "cell_type": "markdown",
      "metadata": {
        "id": "0HOkOefftqyg"
      },
      "source": [
        "# Import the CIFAR dataset"
      ]
    },
    {
      "cell_type": "code",
      "source": [
        "# Transformations\n",
        "transform = T.Compose([T.ToTensor(),\n",
        "                       T.Normalize([0.5, 0.5, 0.5], [0.5, 0.5, 0.5])])\n",
        "\n",
        "# Import the data and simultaneously apply the transform\n",
        "train_data_set = torchvision.datasets.CIFAR10(root='./data', train=True,   download=True, transform=transform)\n",
        "test_data_set  = torchvision.datasets.CIFAR10(root='./data', train=False,  download=True, transform=transform)\n",
        "\n",
        "# Translate into Dataloader objects\n",
        "batch_size   = 32\n",
        "train_loader_full = DataLoader(dataset=train_data_set, batch_size=batch_size,\n",
        "                        shuffle=True, drop_last=True)\n",
        "test_loader_full  = DataLoader(dataset=test_data_set, \n",
        "                        batch_size=256)\n",
        "\n",
        "# Create smaller DataLoaders with only 2k images (used later)\n",
        "train_data_set_small = Subset(train_data_set, range(2000))\n",
        "test_data_set_small  = Subset(test_data_set,  range(2000))\n",
        "train_loader_small   = DataLoader(train_data_set_small, batch_size=batch_size, shuffle=True)\n",
        "test_loader_small    = DataLoader(test_data_set_small,  batch_size=batch_size, shuffle=True)"
      ],
      "metadata": {
        "id": "YFpVbCYh6UAP",
        "outputId": "3b248a8a-06b7-4a33-dc81-46819673ca7f",
        "colab": {
          "base_uri": "https://localhost:8080/",
          "height": 101,
          "referenced_widgets": [
            "7d2fbf5705b04d1dac966855814e7357",
            "e1f6dead1a864b46862c58c651c40919",
            "2d7e1b99983f477ea321fa8b3ddcf720",
            "b6c3ea649b4746c48f62ea259d8e0df5",
            "c2d68b4927344f6e8784a31b6a486d9f",
            "b8b1aa8cb6644a689210adff6932d199",
            "bd0f2f07bf664e36b2acaafa62870795",
            "1fe45fcd2d454bfda14bf1dc2f418549",
            "cba247aec70649029ad84de5c1a3a410",
            "3c08c1d1fb2c489cae7551b3d020201b",
            "7222b0ec5ebf461783314fc91027752c"
          ]
        }
      },
      "execution_count": 3,
      "outputs": [
        {
          "output_type": "stream",
          "name": "stdout",
          "text": [
            "Downloading https://www.cs.toronto.edu/~kriz/cifar-10-python.tar.gz to ./data/cifar-10-python.tar.gz\n"
          ]
        },
        {
          "output_type": "display_data",
          "data": {
            "application/vnd.jupyter.widget-view+json": {
              "model_id": "7d2fbf5705b04d1dac966855814e7357",
              "version_minor": 0,
              "version_major": 2
            },
            "text/plain": [
              "  0%|          | 0/170498071 [00:00<?, ?it/s]"
            ]
          },
          "metadata": {}
        },
        {
          "output_type": "stream",
          "name": "stdout",
          "text": [
            "Extracting ./data/cifar-10-python.tar.gz to ./data\n",
            "Files already downloaded and verified\n"
          ]
        }
      ]
    },
    {
      "cell_type": "code",
      "source": [
        "# INSPECT A FEW RANDOM IMAGES\n",
        "X, y = next(iter(train_loader_small))\n",
        "\n",
        "fig, axs = plt.subplots(4, 4, figsize=(10, 10))\n",
        "\n",
        "for (i, ax) in enumerate(axs.flatten()):\n",
        "    # Extract that image (need to transpose it back to 32*32*3)\n",
        "    pic = X.data[i].numpy().transpose((1, 2, 0))\n",
        "    pic = pic /2 + 0.5\n",
        "\n",
        "    label = train_data_set.classes[y[i]]\n",
        "\n",
        "    ax.imshow(pic)\n",
        "    ax.text(0, 0, label, ha='left', va='top', fontweight='bold', color='k', backgroundcolor='y')\n",
        "    ax.axis('off')\n",
        "\n",
        "plt.tight_layout()\n",
        "plt.show()"
      ],
      "metadata": {
        "id": "dZRnP6NI71s4",
        "outputId": "c5644270-93b5-4243-dd81-820903477aed",
        "colab": {
          "base_uri": "https://localhost:8080/",
          "height": 972
        }
      },
      "execution_count": 4,
      "outputs": [
        {
          "output_type": "display_data",
          "data": {
            "text/plain": [
              "<Figure size 720x720 with 16 Axes>"
            ],
            "image/svg+xml": "<?xml version=\"1.0\" encoding=\"utf-8\" standalone=\"no\"?>\n<!DOCTYPE svg PUBLIC \"-//W3C//DTD SVG 1.1//EN\"\n  \"http://www.w3.org/Graphics/SVG/1.1/DTD/svg11.dtd\">\n<!-- Created with matplotlib (https://matplotlib.org/) -->\n<svg height=\"712.8pt\" version=\"1.1\" viewBox=\"0 0 710.452174 712.8\" width=\"710.452174pt\" xmlns=\"http://www.w3.org/2000/svg\" xmlns:xlink=\"http://www.w3.org/1999/xlink\">\n <defs>\n  <style type=\"text/css\">\n*{stroke-linecap:butt;stroke-linejoin:round;}\n  </style>\n </defs>\n <g id=\"figure_1\">\n  <g id=\"patch_1\">\n   <path d=\"M 0 712.8 \nL 710.452174 712.8 \nL 710.452174 0 \nL 0 0 \nz\n\" style=\"fill:none;\"/>\n  </g>\n  <g id=\"axes_1\">\n   <g clip-path=\"url(#p8165517b4a)\">\n    <image height=\"167\" id=\"image41e5969cfb\" transform=\"scale(1 -1)translate(0 -167)\" width=\"167\" x=\"7.2\" xlink:href=\"data:image/png;base64,\niVBORw0KGgoAAAANSUhEUgAAAKcAAACnCAYAAAB0FkzsAAAABHNCSVQICAgIfAhkiAAAC1NJREFUeJztndtvXFcVxte5zMVjj29J3KRuYichVUMBkeQBgsoDFKlIFZWoeOCZP4s3/gEQggdAlEtBqEEBIaW0aXCdOI4Ty/E19njsmTlneMgb37fRnrixl5Pv97h8zt7nzHyztT+vvddOqhXrWwxJKBz4QwT9Pu86SZ69zaMk9D782uf4IM9A6Hn6R/hVpEfXtRD/H4lTuEXiFG6ROIVb8tgJb+gyZgJiDY1H4zOIqTkOHOfX0cgp3CJxCrdInMItEqdwS06jA0yiYy2NP+sz0GuKI0Ajp3CLxCncInEKt0icwi0Sp3BLnkRa1pDbZvFYZ37QVCFLfw7SJnvOF83BH/Qdj/Iz0sgp3CJxCrdInMItEqdwS56nB9QnmR3zSTSbRh8sqcnvjm+TrWWNvbtk61ijez44sb6PLpkdwNGwfg7yuQ2CRk7hFolTuEXiFG6ROIVb8gsXL0ZeGpjykglzWZZRMTMWC7RJZuZ90ibLELHrAt1Y0Y9rkz1PWRa8H/pMz/4+wTape4n9LjgFeU727uy75NcFzByJaeQUbpE4hVskTuEWiVO4Jb/6jbcgmKRofpI0ow0kRN8sG8Qm4f2iG/OMT69ls2hiQJgpKYuAIaJGh0zsyf3sfYqiR/sp++w5iaEpiKEi15mZFcx0kv7LHomRfnoBk0QNEXt3+l3wNssirk2NnMItEqdwi8Qp3CJxCrdInMIt+ckzMxBMM9RsyK2nxNkz6LJC4mLNeGqPueiU/FeApQCZM37af+RZDeTh2b0ht86uZZ8bO/whmHol79Tt4X8/ii4+U5c4+G6nQ/thKciCuW2aOqVNsowqfR+NnMItEqdwi8Qp3CJxCrfke60WRpkhCp3gRuMYZGYhCRiVYGdwWZyhCZkKmlKNvJ+vWeUGLza1x0xJFjCi+519DJKHzzMswZoG2mRUqlWI1eoViCWk1GuS8H7YZ5ySjZYaOYVbJE7hFolTuEXiFG7JHz+YhyDd+FXy7Mf+/h7Etre3IZYRk7W6skbbZHaoIGsqiz4+U4+sVSzYOknjJq3okfvp2kl2XSjjRQwRyahcv34dYlevXaNt/v3GRxC7efMfEEtIeY5qhZmcGu1npNmEWHN0HGKjzRMQawzjvWZmlXodYxU0WRo5hVskTuEWiVO4ReIUbskX7n4GwXq9AbFOly+p2t3dhdjs+QsQ+/qVKxD75S9+Tttcf/QIYq2dHYh12dorQugXyBJRaWTliYzYtoTdbGZsJV3z9GmIvfHGJYhVh4Zom5cvXYbYwu1PIba88hhi/V189r0tnpVbXcf7hxsjEBtvjkGsRoyXmVmtgfoaJTGNnMItEqdwi8Qp3CJxCrfk83fvQvDkxCTEKoG9QvvEKJ2YxGzB/N17EBuq8BO1q6QSSL2C/WdGsgrU0HCjkpKyfezXmpMsCzNErFa6mdlWghmiEfIZP9nG5Ysra5/TNutV/Oy+VEFTMUGWso3PTkFsdXmD9rNNMoD9FprTLMd+ykCJy9YOaqbXxnfXyCncInEKt0icwi0Sp3CLxCnckm8Rh5iSihDjNe6sWTWLxdufQOzRyip23mnTNsdIWrKWEmfNKmmQ9rKAW09InG3Jyokzz4g1Z2snzcx6GXnODK9t76KLTft8k9iDzfsQa/Twu3y9iv3MVvBTetjg41SL/EekTVz4cmsLYjsF/36NpDrbZCmsRk7hFolTuEXiFG6ROIVbcraoMSfz+mZAxjnJULUW5iA2TDaEZYGNZw3DeIWdWEbuTcj7hNKXzL6w9GdGKotkzIwFlpeOkzY39rFiR4tU8Vh7iGtbzcxe6eM62uYGms6zr05D7Afv/whiN2/h5jgzs08WcRPikw1MdTaIydoi36OZ2dwWpj8ftTBlrZFTuEXiFG6ROIVbJE7hlpxZhaEcNTsWWM+ZkWoYSRcn9gmp/87MlJlZlcRLYl/YIyXkeUIF/zD3YVZjZQTZzaTvSgMrWZiZnSAm7e7GJsQmScbs/MwZ2ua5DayqcuHqNyH22jtvQ2zm3fcgtpPzzWjDb2JscRmfvZPi99sIbPhb/cMHEPvPygLENHIKt0icwi0Sp3CLxCnckrPDiU5P4ST8Jz9+nzbQqGHpvF4H/9vfJ/XOWQlDM7MqMTV1YqhSUpmk7BJDFDgMq1JDS1Qh71PN8LqSGKJalf/W8w4++w7JEO2TjX2VNmZTzMzSKXx3I2Ui768/hNitn/0UYu0//ZH205zEfsbGzkIs++rXIDY9yc3cmc/vYXBOhkgcIyRO4RaJU7hF4hRukTiFW3JLUJ9Lm+gQP36AawXNzC6eOwexYXLq18gQqelIDjEwMzPi4vsF2VBG0oKlsXsDR02TdZ7Mha+t45rGDknR9kt022Zmnc0nEGPHTzdGRzE2gpvBzMySE7hOs6iis27t439JVpbQGXenXqP9tDN8zjFSSzPZx894bgFLHZmZzS8tQoylojVyCrdInMItEqdwi8Qp3JJUq7jorixIui9Qe3KEnMY1TOpuvjqOp3l9fwYn9WZm05cuQuxB8xTEyh4ar0odf29ZYC1qTjau1Uhs4TM81OH+Ap58d+8xN40b67j+sTmMBvHb3/0exN5+74e0zfNvfgViW09wjefcvz+G2OryPYgldHWrWaWOz1m0cN3p/B2s8vLhR3+lbd5ZJIaIXKeRU7hF4hRukTiFWyRO4ZY8IeUGU7IjLFSMf3cPJ8dtUvlubRMn62trvEj+u8SUnL2GhmiOHASwv4OZmzLhO+nYUdUZSRGVDTzCeW4P750nZR7NzHpdfM5NYjp/9xfc+LW0h2bKzOyt77yD9//q1xD7598+hBhb3toYw+yUmdloHeMbLfwuN0gVkC5ZX2oW2JgYeXKeEC6QOIVbJE7hFolTuCWpVXDdGNsOFjJEgWajrgqdSH2anE72rcuvQ2yWbKrqkyWAe4Ha821i5npkg9za2jrEbt2+DbFNcry3mdmpqZMQOz2NS9S+fOVa1HVmZn/+/W8h9q8bNyC2u0eWC7KlhmSj49M4xliZenrEd0AH/YBB/V80cgq3SJzCLRKncIvEKdySVIkhOixCJotNl3Hhltn5V/Do7NlTeFT0hYkJ2s/MKcw61chhYDu7ePjU1g5mSTrJMO2nTd5zrzEEscb0LMR+8wGvxHHnU1yixmr5s31W7GCzoArI/QzWZqDQSrS51sgp3CJxCrdInMItEqdwi8Qp3HJobj32tDQzsx5b8MeOkC4wj1Yht9Zr/Dc4MYKOebKG1SzI4WTWILU9h+rYnpnZNlngurSFVUAekuPFW6SuqZlZlT0UyTVSY/4cvvFB2pRbF8ceiVO4ReIUbpE4hVuO1BCxzWRmZn2y26lPfkdFZN28LPCKBVlQ2mPFTtiaRmY0QhP9yM1bWYrRlO38skAKkl4XFztMZIjEsUfiFG6ROIVbJE7hlkNcz0k2VQUmxil5JOoL2P20eiP/DbKlityMRWasAjP9hNSpZ+9OjUpoTSQPRzHQcs6D9HOQm00jp3CMxCncInEKt0icwi24m+u5gVPu0JK5uLu5SeKeIt5VBHJWGBnAvdArI9/9oG6V1tYYwKgcZTJJI6dwi8Qp3CJxCrdInMIth2iIvnjiJ+uDTOtj3QLLJH3xRBbcCN9PYke9ZC4WjZzCLRKncIvEKdwicQq3SJzCLXl0/caXhJf53b2hkVO4ReIUbpE4hVskTuEWiVO4ReIUbpE4hVskTuEWiVO4JVdG5MXhRfsmNXIKt0icwi0Sp3CLxCnccqw3uL3MvAw+ViOncIvEKdwicQq3SJzCLRKncIvc+hER67YPWo7mOJt6jZzCLRKncIvEKdwicQq3yBA9I4dVKeVlSFOG0Mgp3CJxCrdInMItEqdwy38Bor2xCtzdPhAAAAAASUVORK5CYII=\" y=\"-6.7\"/>\n   </g>\n   <g id=\"text_1\">\n    <g id=\"patch_2\">\n     <path d=\"M 5.801563 23.479687 \nL 77.40625 23.479687 \nL 77.40625 5.801562 \nL 5.801563 5.801562 \nz\n\" style=\"fill:#bfbf00;stroke:#bfbf00;stroke-linejoin:miter;\"/>\n    </g>\n    <!-- automobile -->\n    <defs>\n     <path d=\"M 32.90625 24.609375 \nQ 27.4375 24.609375 24.671875 22.75 \nQ 21.921875 20.90625 21.921875 17.28125 \nQ 21.921875 13.96875 24.140625 12.078125 \nQ 26.375 10.203125 30.328125 10.203125 \nQ 35.25 10.203125 38.625 13.734375 \nQ 42 17.28125 42 22.609375 \nL 42 24.609375 \nz\nM 59.625 31.203125 \nL 59.625 0 \nL 42 0 \nL 42 8.109375 \nQ 38.484375 3.125 34.078125 0.84375 \nQ 29.6875 -1.421875 23.390625 -1.421875 \nQ 14.890625 -1.421875 9.59375 3.53125 \nQ 4.296875 8.5 4.296875 16.40625 \nQ 4.296875 26.03125 10.90625 30.515625 \nQ 17.53125 35.015625 31.6875 35.015625 \nL 42 35.015625 \nL 42 36.375 \nQ 42 40.53125 38.71875 42.453125 \nQ 35.453125 44.390625 28.515625 44.390625 \nQ 22.90625 44.390625 18.0625 43.265625 \nQ 13.234375 42.140625 9.078125 39.890625 \nL 9.078125 53.21875 \nQ 14.703125 54.59375 20.359375 55.296875 \nQ 26.03125 56 31.6875 56 \nQ 46.484375 56 53.046875 50.171875 \nQ 59.625 44.34375 59.625 31.203125 \nz\n\" id=\"DejaVuSans-Bold-97\"/>\n     <path d=\"M 7.8125 21.296875 \nL 7.8125 54.6875 \nL 25.390625 54.6875 \nL 25.390625 49.21875 \nQ 25.390625 44.78125 25.34375 38.0625 \nQ 25.296875 31.34375 25.296875 29.109375 \nQ 25.296875 22.515625 25.640625 19.609375 \nQ 25.984375 16.703125 26.8125 15.375 \nQ 27.875 13.671875 29.609375 12.734375 \nQ 31.34375 11.8125 33.59375 11.8125 \nQ 39.0625 11.8125 42.1875 16.015625 \nQ 45.3125 20.21875 45.3125 27.6875 \nL 45.3125 54.6875 \nL 62.796875 54.6875 \nL 62.796875 0 \nL 45.3125 0 \nL 45.3125 7.90625 \nQ 41.359375 3.125 36.9375 0.84375 \nQ 32.515625 -1.421875 27.203125 -1.421875 \nQ 17.71875 -1.421875 12.765625 4.390625 \nQ 7.8125 10.203125 7.8125 21.296875 \nz\n\" id=\"DejaVuSans-Bold-117\"/>\n     <path d=\"M 27.484375 70.21875 \nL 27.484375 54.6875 \nL 45.515625 54.6875 \nL 45.515625 42.1875 \nL 27.484375 42.1875 \nL 27.484375 19 \nQ 27.484375 15.1875 29 13.84375 \nQ 30.515625 12.5 35.015625 12.5 \nL 44 12.5 \nL 44 0 \nL 29 0 \nQ 18.65625 0 14.328125 4.3125 \nQ 10.015625 8.640625 10.015625 19 \nL 10.015625 42.1875 \nL 1.3125 42.1875 \nL 1.3125 54.6875 \nL 10.015625 54.6875 \nL 10.015625 70.21875 \nz\n\" id=\"DejaVuSans-Bold-116\"/>\n     <path d=\"M 34.421875 43.5 \nQ 28.609375 43.5 25.5625 39.328125 \nQ 22.515625 35.15625 22.515625 27.296875 \nQ 22.515625 19.4375 25.5625 15.25 \nQ 28.609375 11.078125 34.421875 11.078125 \nQ 40.140625 11.078125 43.15625 15.25 \nQ 46.1875 19.4375 46.1875 27.296875 \nQ 46.1875 35.15625 43.15625 39.328125 \nQ 40.140625 43.5 34.421875 43.5 \nz\nM 34.421875 56 \nQ 48.53125 56 56.46875 48.375 \nQ 64.40625 40.765625 64.40625 27.296875 \nQ 64.40625 13.8125 56.46875 6.1875 \nQ 48.53125 -1.421875 34.421875 -1.421875 \nQ 20.265625 -1.421875 12.28125 6.1875 \nQ 4.296875 13.8125 4.296875 27.296875 \nQ 4.296875 40.765625 12.28125 48.375 \nQ 20.265625 56 34.421875 56 \nz\n\" id=\"DejaVuSans-Bold-111\"/>\n     <path d=\"M 59.078125 45.609375 \nQ 62.40625 50.6875 66.96875 53.34375 \nQ 71.53125 56 77 56 \nQ 86.421875 56 91.359375 50.1875 \nQ 96.296875 44.390625 96.296875 33.296875 \nL 96.296875 0 \nL 78.71875 0 \nL 78.71875 28.515625 \nQ 78.765625 29.15625 78.78125 29.828125 \nQ 78.8125 30.515625 78.8125 31.78125 \nQ 78.8125 37.59375 77.09375 40.203125 \nQ 75.390625 42.828125 71.578125 42.828125 \nQ 66.609375 42.828125 63.890625 38.71875 \nQ 61.1875 34.625 61.078125 26.859375 \nL 61.078125 0 \nL 43.5 0 \nL 43.5 28.515625 \nQ 43.5 37.59375 41.9375 40.203125 \nQ 40.375 42.828125 36.375 42.828125 \nQ 31.34375 42.828125 28.609375 38.703125 \nQ 25.875 34.578125 25.875 26.90625 \nL 25.875 0 \nL 8.296875 0 \nL 8.296875 54.6875 \nL 25.875 54.6875 \nL 25.875 46.6875 \nQ 29.109375 51.3125 33.28125 53.65625 \nQ 37.453125 56 42.484375 56 \nQ 48.140625 56 52.484375 53.265625 \nQ 56.84375 50.53125 59.078125 45.609375 \nz\n\" id=\"DejaVuSans-Bold-109\"/>\n     <path d=\"M 37.5 11.28125 \nQ 43.109375 11.28125 46.0625 15.375 \nQ 49.03125 19.484375 49.03125 27.296875 \nQ 49.03125 35.109375 46.0625 39.203125 \nQ 43.109375 43.3125 37.5 43.3125 \nQ 31.890625 43.3125 28.875 39.1875 \nQ 25.875 35.0625 25.875 27.296875 \nQ 25.875 19.53125 28.875 15.40625 \nQ 31.890625 11.28125 37.5 11.28125 \nz\nM 25.875 46.6875 \nQ 29.5 51.46875 33.890625 53.734375 \nQ 38.28125 56 44 56 \nQ 54.109375 56 60.59375 47.96875 \nQ 67.09375 39.9375 67.09375 27.296875 \nQ 67.09375 14.65625 60.59375 6.609375 \nQ 54.109375 -1.421875 44 -1.421875 \nQ 38.28125 -1.421875 33.890625 0.84375 \nQ 29.5 3.125 25.875 7.90625 \nL 25.875 0 \nL 8.40625 0 \nL 8.40625 75.984375 \nL 25.875 75.984375 \nz\n\" id=\"DejaVuSans-Bold-98\"/>\n     <path d=\"M 8.40625 54.6875 \nL 25.875 54.6875 \nL 25.875 0 \nL 8.40625 0 \nz\nM 8.40625 75.984375 \nL 25.875 75.984375 \nL 25.875 61.71875 \nL 8.40625 61.71875 \nz\n\" id=\"DejaVuSans-Bold-105\"/>\n     <path d=\"M 8.40625 75.984375 \nL 25.875 75.984375 \nL 25.875 0 \nL 8.40625 0 \nz\n\" id=\"DejaVuSans-Bold-108\"/>\n     <path d=\"M 62.984375 27.484375 \nL 62.984375 22.515625 \nL 22.125 22.515625 \nQ 22.75 16.359375 26.5625 13.28125 \nQ 30.375 10.203125 37.203125 10.203125 \nQ 42.71875 10.203125 48.5 11.84375 \nQ 54.296875 13.484375 60.40625 16.796875 \nL 60.40625 3.328125 \nQ 54.203125 0.984375 48 -0.21875 \nQ 41.796875 -1.421875 35.59375 -1.421875 \nQ 20.75 -1.421875 12.515625 6.125 \nQ 4.296875 13.671875 4.296875 27.296875 \nQ 4.296875 40.671875 12.375 48.328125 \nQ 20.453125 56 34.625 56 \nQ 47.515625 56 55.25 48.234375 \nQ 62.984375 40.484375 62.984375 27.484375 \nz\nM 45.015625 33.296875 \nQ 45.015625 38.28125 42.109375 41.328125 \nQ 39.203125 44.390625 34.515625 44.390625 \nQ 29.4375 44.390625 26.265625 41.53125 \nQ 23.09375 38.671875 22.3125 33.296875 \nz\n\" id=\"DejaVuSans-Bold-101\"/>\n    </defs>\n    <g transform=\"translate(9.801563 17.4)scale(0.1 -0.1)\">\n     <use xlink:href=\"#DejaVuSans-Bold-97\"/>\n     <use x=\"67.480469\" xlink:href=\"#DejaVuSans-Bold-117\"/>\n     <use x=\"138.671875\" xlink:href=\"#DejaVuSans-Bold-116\"/>\n     <use x=\"186.474609\" xlink:href=\"#DejaVuSans-Bold-111\"/>\n     <use x=\"255.175781\" xlink:href=\"#DejaVuSans-Bold-109\"/>\n     <use x=\"359.375\" xlink:href=\"#DejaVuSans-Bold-111\"/>\n     <use x=\"428.076172\" xlink:href=\"#DejaVuSans-Bold-98\"/>\n     <use x=\"499.658203\" xlink:href=\"#DejaVuSans-Bold-105\"/>\n     <use x=\"533.935547\" xlink:href=\"#DejaVuSans-Bold-108\"/>\n     <use x=\"568.212891\" xlink:href=\"#DejaVuSans-Bold-101\"/>\n    </g>\n   </g>\n  </g>\n  <g id=\"axes_2\">\n   <g clip-path=\"url(#pc3d0e23c36)\">\n    <image height=\"167\" id=\"imagec1fa874211\" transform=\"scale(1 -1)translate(0 -167)\" width=\"167\" x=\"183.717391\" xlink:href=\"data:image/png;base64,\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\" y=\"-6.7\"/>\n   </g>\n   <g id=\"text_2\">\n    <g id=\"patch_3\">\n     <path d=\"M 182.318954 23.479687 \nL 207.775204 23.479687 \nL 207.775204 5.801562 \nL 182.318954 5.801562 \nz\n\" style=\"fill:#bfbf00;stroke:#bfbf00;stroke-linejoin:miter;\"/>\n    </g>\n    <!-- cat -->\n    <defs>\n     <path d=\"M 52.59375 52.984375 \nL 52.59375 38.71875 \nQ 49.03125 41.15625 45.4375 42.328125 \nQ 41.84375 43.5 37.984375 43.5 \nQ 30.671875 43.5 26.59375 39.234375 \nQ 22.515625 34.96875 22.515625 27.296875 \nQ 22.515625 19.625 26.59375 15.34375 \nQ 30.671875 11.078125 37.984375 11.078125 \nQ 42.09375 11.078125 45.78125 12.296875 \nQ 49.46875 13.53125 52.59375 15.921875 \nL 52.59375 1.609375 \nQ 48.484375 0.09375 44.265625 -0.65625 \nQ 40.046875 -1.421875 35.796875 -1.421875 \nQ 21 -1.421875 12.640625 6.171875 \nQ 4.296875 13.765625 4.296875 27.296875 \nQ 4.296875 40.828125 12.640625 48.40625 \nQ 21 56 35.796875 56 \nQ 40.09375 56 44.265625 55.25 \nQ 48.4375 54.5 52.59375 52.984375 \nz\n\" id=\"DejaVuSans-Bold-99\"/>\n    </defs>\n    <g transform=\"translate(186.318954 17.4)scale(0.1 -0.1)\">\n     <use xlink:href=\"#DejaVuSans-Bold-99\"/>\n     <use x=\"59.277344\" xlink:href=\"#DejaVuSans-Bold-97\"/>\n     <use x=\"126.757812\" xlink:href=\"#DejaVuSans-Bold-116\"/>\n    </g>\n   </g>\n  </g>\n  <g id=\"axes_3\">\n   <g clip-path=\"url(#p71908e1d76)\">\n    <image height=\"167\" id=\"imageb1af9a9d11\" transform=\"scale(1 -1)translate(0 -167)\" width=\"167\" x=\"360.234783\" xlink:href=\"data:image/png;base64,\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\" y=\"-6.7\"/>\n   </g>\n   <g id=\"text_3\">\n    <g id=\"patch_4\">\n     <path d=\"M 358.836345 23.479687 \nL 430.441033 23.479687 \nL 430.441033 5.801562 \nL 358.836345 5.801562 \nz\n\" style=\"fill:#bfbf00;stroke:#bfbf00;stroke-linejoin:miter;\"/>\n    </g>\n    <!-- automobile -->\n    <g transform=\"translate(362.836345 17.4)scale(0.1 -0.1)\">\n     <use xlink:href=\"#DejaVuSans-Bold-97\"/>\n     <use x=\"67.480469\" xlink:href=\"#DejaVuSans-Bold-117\"/>\n     <use x=\"138.671875\" xlink:href=\"#DejaVuSans-Bold-116\"/>\n     <use x=\"186.474609\" xlink:href=\"#DejaVuSans-Bold-111\"/>\n     <use x=\"255.175781\" xlink:href=\"#DejaVuSans-Bold-109\"/>\n     <use x=\"359.375\" xlink:href=\"#DejaVuSans-Bold-111\"/>\n     <use x=\"428.076172\" xlink:href=\"#DejaVuSans-Bold-98\"/>\n     <use x=\"499.658203\" xlink:href=\"#DejaVuSans-Bold-105\"/>\n     <use x=\"533.935547\" xlink:href=\"#DejaVuSans-Bold-108\"/>\n     <use x=\"568.212891\" xlink:href=\"#DejaVuSans-Bold-101\"/>\n    </g>\n   </g>\n  </g>\n  <g id=\"axes_4\">\n   <g clip-path=\"url(#pabbcc00ad2)\">\n    <image height=\"167\" id=\"image001975737b\" transform=\"scale(1 -1)translate(0 -167)\" width=\"167\" x=\"536.752174\" xlink:href=\"data:image/png;base64,\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\" y=\"-6.7\"/>\n   </g>\n   <g id=\"text_4\">\n    <g id=\"patch_5\">\n     <path d=\"M 535.353736 23.479687 \nL 575.008424 23.479687 \nL 575.008424 5.801562 \nL 535.353736 5.801562 \nz\n\" style=\"fill:#bfbf00;stroke:#bfbf00;stroke-linejoin:miter;\"/>\n    </g>\n    <!-- horse -->\n    <defs>\n     <path d=\"M 63.375 33.296875 \nL 63.375 0 \nL 45.796875 0 \nL 45.796875 5.421875 \nL 45.796875 25.390625 \nQ 45.796875 32.5625 45.484375 35.25 \nQ 45.171875 37.9375 44.390625 39.203125 \nQ 43.359375 40.921875 41.59375 41.875 \nQ 39.84375 42.828125 37.59375 42.828125 \nQ 32.125 42.828125 29 38.59375 \nQ 25.875 34.375 25.875 26.90625 \nL 25.875 0 \nL 8.40625 0 \nL 8.40625 75.984375 \nL 25.875 75.984375 \nL 25.875 46.6875 \nQ 29.828125 51.46875 34.265625 53.734375 \nQ 38.71875 56 44.09375 56 \nQ 53.5625 56 58.46875 50.1875 \nQ 63.375 44.390625 63.375 33.296875 \nz\n\" id=\"DejaVuSans-Bold-104\"/>\n     <path d=\"M 49.03125 39.796875 \nQ 46.734375 40.875 44.453125 41.375 \nQ 42.1875 41.890625 39.890625 41.890625 \nQ 33.15625 41.890625 29.515625 37.5625 \nQ 25.875 33.25 25.875 25.203125 \nL 25.875 0 \nL 8.40625 0 \nL 8.40625 54.6875 \nL 25.875 54.6875 \nL 25.875 45.703125 \nQ 29.25 51.078125 33.609375 53.53125 \nQ 37.984375 56 44.09375 56 \nQ 44.96875 56 45.984375 55.921875 \nQ 47.015625 55.859375 48.96875 55.609375 \nz\n\" id=\"DejaVuSans-Bold-114\"/>\n     <path d=\"M 51.125 52.984375 \nL 51.125 39.703125 \nQ 45.515625 42.046875 40.28125 43.21875 \nQ 35.0625 44.390625 30.421875 44.390625 \nQ 25.4375 44.390625 23.015625 43.140625 \nQ 20.609375 41.890625 20.609375 39.3125 \nQ 20.609375 37.203125 22.4375 36.078125 \nQ 24.265625 34.96875 29 34.421875 \nL 32.078125 33.984375 \nQ 45.515625 32.28125 50.140625 28.375 \nQ 54.78125 24.46875 54.78125 16.109375 \nQ 54.78125 7.375 48.328125 2.96875 \nQ 41.890625 -1.421875 29.109375 -1.421875 \nQ 23.6875 -1.421875 17.890625 -0.5625 \nQ 12.109375 0.296875 6 2 \nL 6 15.28125 \nQ 11.234375 12.75 16.71875 11.46875 \nQ 22.21875 10.203125 27.875 10.203125 \nQ 33.015625 10.203125 35.59375 11.609375 \nQ 38.1875 13.03125 38.1875 15.828125 \nQ 38.1875 18.171875 36.40625 19.3125 \nQ 34.625 20.453125 29.296875 21.09375 \nL 26.21875 21.484375 \nQ 14.546875 22.953125 9.859375 26.90625 \nQ 5.171875 30.859375 5.171875 38.921875 \nQ 5.171875 47.609375 11.125 51.796875 \nQ 17.09375 56 29.390625 56 \nQ 34.234375 56 39.546875 55.265625 \nQ 44.875 54.546875 51.125 52.984375 \nz\n\" id=\"DejaVuSans-Bold-115\"/>\n    </defs>\n    <g transform=\"translate(539.353736 17.4)scale(0.1 -0.1)\">\n     <use xlink:href=\"#DejaVuSans-Bold-104\"/>\n     <use x=\"71.191406\" xlink:href=\"#DejaVuSans-Bold-111\"/>\n     <use x=\"139.892578\" xlink:href=\"#DejaVuSans-Bold-114\"/>\n     <use x=\"189.208984\" xlink:href=\"#DejaVuSans-Bold-115\"/>\n     <use x=\"248.730469\" xlink:href=\"#DejaVuSans-Bold-101\"/>\n    </g>\n   </g>\n  </g>\n  <g id=\"axes_5\">\n   <g clip-path=\"url(#p7dae2e5614)\">\n    <image height=\"167\" id=\"image1130c9f1d0\" transform=\"scale(1 -1)translate(0 -167)\" width=\"167\" x=\"7.2\" xlink:href=\"data:image/png;base64,\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\" y=\"-184\"/>\n   </g>\n   <g id=\"text_5\">\n    <g id=\"patch_6\">\n     <path d=\"M 5.801563 200.779687 \nL 37.457813 200.779687 \nL 37.457813 183.101562 \nL 5.801563 183.101562 \nz\n\" style=\"fill:#bfbf00;stroke:#bfbf00;stroke-linejoin:miter;\"/>\n    </g>\n    <!-- ship -->\n    <defs>\n     <path d=\"M 25.875 7.90625 \nL 25.875 -20.796875 \nL 8.40625 -20.796875 \nL 8.40625 54.6875 \nL 25.875 54.6875 \nL 25.875 46.6875 \nQ 29.5 51.46875 33.890625 53.734375 \nQ 38.28125 56 44 56 \nQ 54.109375 56 60.59375 47.96875 \nQ 67.09375 39.9375 67.09375 27.296875 \nQ 67.09375 14.65625 60.59375 6.609375 \nQ 54.109375 -1.421875 44 -1.421875 \nQ 38.28125 -1.421875 33.890625 0.84375 \nQ 29.5 3.125 25.875 7.90625 \nz\nM 37.5 43.3125 \nQ 31.890625 43.3125 28.875 39.1875 \nQ 25.875 35.0625 25.875 27.296875 \nQ 25.875 19.53125 28.875 15.40625 \nQ 31.890625 11.28125 37.5 11.28125 \nQ 43.109375 11.28125 46.0625 15.375 \nQ 49.03125 19.484375 49.03125 27.296875 \nQ 49.03125 35.109375 46.0625 39.203125 \nQ 43.109375 43.3125 37.5 43.3125 \nz\n\" id=\"DejaVuSans-Bold-112\"/>\n    </defs>\n    <g transform=\"translate(9.801563 194.7)scale(0.1 -0.1)\">\n     <use xlink:href=\"#DejaVuSans-Bold-115\"/>\n     <use x=\"59.521484\" xlink:href=\"#DejaVuSans-Bold-104\"/>\n     <use x=\"130.712891\" xlink:href=\"#DejaVuSans-Bold-105\"/>\n     <use x=\"164.990234\" xlink:href=\"#DejaVuSans-Bold-112\"/>\n    </g>\n   </g>\n  </g>\n  <g id=\"axes_6\">\n   <g clip-path=\"url(#pe951f01e59)\">\n    <image height=\"167\" id=\"image719b3f1f3f\" transform=\"scale(1 -1)translate(0 -167)\" width=\"167\" x=\"183.717391\" xlink:href=\"data:image/png;base64,\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\" y=\"-184\"/>\n   </g>\n   <g id=\"text_6\">\n    <g id=\"patch_7\">\n     <path d=\"M 182.318954 200.779687 \nL 207.775204 200.779687 \nL 207.775204 183.101562 \nL 182.318954 183.101562 \nz\n\" style=\"fill:#bfbf00;stroke:#bfbf00;stroke-linejoin:miter;\"/>\n    </g>\n    <!-- cat -->\n    <g transform=\"translate(186.318954 194.7)scale(0.1 -0.1)\">\n     <use xlink:href=\"#DejaVuSans-Bold-99\"/>\n     <use x=\"59.277344\" xlink:href=\"#DejaVuSans-Bold-97\"/>\n     <use x=\"126.757812\" xlink:href=\"#DejaVuSans-Bold-116\"/>\n    </g>\n   </g>\n  </g>\n  <g id=\"axes_7\">\n   <g clip-path=\"url(#p87caf99663)\">\n    <image height=\"167\" id=\"image6956815052\" transform=\"scale(1 -1)translate(0 -167)\" width=\"167\" x=\"360.234783\" xlink:href=\"data:image/png;base64,\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\" y=\"-184\"/>\n   </g>\n   <g id=\"text_7\">\n    <g id=\"patch_8\">\n     <path d=\"M 358.836345 200.779687 \nL 390.492595 200.779687 \nL 390.492595 183.101562 \nL 358.836345 183.101562 \nz\n\" style=\"fill:#bfbf00;stroke:#bfbf00;stroke-linejoin:miter;\"/>\n    </g>\n    <!-- ship -->\n    <g transform=\"translate(362.836345 194.7)scale(0.1 -0.1)\">\n     <use xlink:href=\"#DejaVuSans-Bold-115\"/>\n     <use x=\"59.521484\" xlink:href=\"#DejaVuSans-Bold-104\"/>\n     <use x=\"130.712891\" xlink:href=\"#DejaVuSans-Bold-105\"/>\n     <use x=\"164.990234\" xlink:href=\"#DejaVuSans-Bold-112\"/>\n    </g>\n   </g>\n  </g>\n  <g id=\"axes_8\">\n   <g clip-path=\"url(#p7ad27dcb6f)\">\n    <image height=\"167\" id=\"imagee89f3aa0fa\" transform=\"scale(1 -1)translate(0 -167)\" width=\"167\" x=\"536.752174\" xlink:href=\"data:image/png;base64,\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\" y=\"-184\"/>\n   </g>\n   <g id=\"text_8\">\n    <g id=\"patch_9\">\n     <path d=\"M 535.353736 200.779687 \nL 575.008424 200.779687 \nL 575.008424 183.101562 \nL 535.353736 183.101562 \nz\n\" style=\"fill:#bfbf00;stroke:#bfbf00;stroke-linejoin:miter;\"/>\n    </g>\n    <!-- horse -->\n    <g transform=\"translate(539.353736 194.7)scale(0.1 -0.1)\">\n     <use xlink:href=\"#DejaVuSans-Bold-104\"/>\n     <use x=\"71.191406\" xlink:href=\"#DejaVuSans-Bold-111\"/>\n     <use x=\"139.892578\" xlink:href=\"#DejaVuSans-Bold-114\"/>\n     <use x=\"189.208984\" xlink:href=\"#DejaVuSans-Bold-115\"/>\n     <use x=\"248.730469\" xlink:href=\"#DejaVuSans-Bold-101\"/>\n    </g>\n   </g>\n  </g>\n  <g id=\"axes_9\">\n   <g clip-path=\"url(#p4fb218855e)\">\n    <image height=\"167\" id=\"image00426aeda0\" transform=\"scale(1 -1)translate(0 -167)\" width=\"167\" x=\"7.2\" xlink:href=\"data:image/png;base64,\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\" y=\"-361.3\"/>\n   </g>\n   <g id=\"text_9\">\n    <g id=\"patch_10\">\n     <path d=\"M 5.801563 378.157812 \nL 34.9875 378.157812 \nL 34.9875 360.401562 \nL 5.801563 360.401562 \nz\n\" style=\"fill:#bfbf00;stroke:#bfbf00;stroke-linejoin:miter;\"/>\n    </g>\n    <!-- dog -->\n    <defs>\n     <path d=\"M 45.609375 46.6875 \nL 45.609375 75.984375 \nL 63.1875 75.984375 \nL 63.1875 0 \nL 45.609375 0 \nL 45.609375 7.90625 \nQ 42 3.078125 37.640625 0.828125 \nQ 33.296875 -1.421875 27.59375 -1.421875 \nQ 17.484375 -1.421875 10.984375 6.609375 \nQ 4.5 14.65625 4.5 27.296875 \nQ 4.5 39.9375 10.984375 47.96875 \nQ 17.484375 56 27.59375 56 \nQ 33.25 56 37.625 53.734375 \nQ 42 51.46875 45.609375 46.6875 \nz\nM 34.078125 11.28125 \nQ 39.703125 11.28125 42.65625 15.375 \nQ 45.609375 19.484375 45.609375 27.296875 \nQ 45.609375 35.109375 42.65625 39.203125 \nQ 39.703125 43.3125 34.078125 43.3125 \nQ 28.515625 43.3125 25.5625 39.203125 \nQ 22.609375 35.109375 22.609375 27.296875 \nQ 22.609375 19.484375 25.5625 15.375 \nQ 28.515625 11.28125 34.078125 11.28125 \nz\n\" id=\"DejaVuSans-Bold-100\"/>\n     <path d=\"M 45.609375 9.28125 \nQ 42 4.5 37.640625 2.25 \nQ 33.296875 0 27.59375 0 \nQ 17.578125 0 11.03125 7.875 \nQ 4.5 15.765625 4.5 27.984375 \nQ 4.5 40.234375 11.03125 48.0625 \nQ 17.578125 55.90625 27.59375 55.90625 \nQ 33.296875 55.90625 37.640625 53.65625 \nQ 42 51.421875 45.609375 46.578125 \nL 45.609375 54.6875 \nL 63.1875 54.6875 \nL 63.1875 5.515625 \nQ 63.1875 -7.671875 54.859375 -14.625 \nQ 46.53125 -21.578125 30.71875 -21.578125 \nQ 25.59375 -21.578125 20.796875 -20.796875 \nQ 16.015625 -20.015625 11.1875 -18.40625 \nL 11.1875 -4.78125 \nQ 15.765625 -7.421875 20.15625 -8.71875 \nQ 24.5625 -10.015625 29 -10.015625 \nQ 37.59375 -10.015625 41.59375 -6.25 \nQ 45.609375 -2.484375 45.609375 5.515625 \nz\nM 34.078125 43.3125 \nQ 28.65625 43.3125 25.625 39.296875 \nQ 22.609375 35.296875 22.609375 27.984375 \nQ 22.609375 20.453125 25.53125 16.578125 \nQ 28.46875 12.703125 34.078125 12.703125 \nQ 39.546875 12.703125 42.578125 16.703125 \nQ 45.609375 20.703125 45.609375 27.984375 \nQ 45.609375 35.296875 42.578125 39.296875 \nQ 39.546875 43.3125 34.078125 43.3125 \nz\n\" id=\"DejaVuSans-Bold-103\"/>\n    </defs>\n    <g transform=\"translate(9.801563 372)scale(0.1 -0.1)\">\n     <use xlink:href=\"#DejaVuSans-Bold-100\"/>\n     <use x=\"71.582031\" xlink:href=\"#DejaVuSans-Bold-111\"/>\n     <use x=\"140.283203\" xlink:href=\"#DejaVuSans-Bold-103\"/>\n    </g>\n   </g>\n  </g>\n  <g id=\"axes_10\">\n   <g clip-path=\"url(#pcc7c36c48f)\">\n    <image height=\"167\" id=\"imagee773c6d651\" transform=\"scale(1 -1)translate(0 -167)\" width=\"167\" x=\"183.717391\" xlink:href=\"data:image/png;base64,\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\" y=\"-361.3\"/>\n   </g>\n   <g id=\"text_10\">\n    <g id=\"patch_11\">\n     <path d=\"M 182.318954 378.079687 \nL 213.975204 378.079687 \nL 213.975204 360.401562 \nL 182.318954 360.401562 \nz\n\" style=\"fill:#bfbf00;stroke:#bfbf00;stroke-linejoin:miter;\"/>\n    </g>\n    <!-- ship -->\n    <g transform=\"translate(186.318954 372)scale(0.1 -0.1)\">\n     <use xlink:href=\"#DejaVuSans-Bold-115\"/>\n     <use x=\"59.521484\" xlink:href=\"#DejaVuSans-Bold-104\"/>\n     <use x=\"130.712891\" xlink:href=\"#DejaVuSans-Bold-105\"/>\n     <use x=\"164.990234\" xlink:href=\"#DejaVuSans-Bold-112\"/>\n    </g>\n   </g>\n  </g>\n  <g id=\"axes_11\">\n   <g clip-path=\"url(#pe191394c40)\">\n    <image height=\"167\" id=\"imaged49b65e84a\" transform=\"scale(1 -1)translate(0 -167)\" width=\"167\" x=\"360.234783\" xlink:href=\"data:image/png;base64,\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\" y=\"-361.3\"/>\n   </g>\n   <g id=\"text_11\">\n    <g id=\"patch_12\">\n     <path d=\"M 358.836345 378.079687 \nL 430.441033 378.079687 \nL 430.441033 360.401562 \nL 358.836345 360.401562 \nz\n\" style=\"fill:#bfbf00;stroke:#bfbf00;stroke-linejoin:miter;\"/>\n    </g>\n    <!-- automobile -->\n    <g transform=\"translate(362.836345 372)scale(0.1 -0.1)\">\n     <use xlink:href=\"#DejaVuSans-Bold-97\"/>\n     <use x=\"67.480469\" xlink:href=\"#DejaVuSans-Bold-117\"/>\n     <use x=\"138.671875\" xlink:href=\"#DejaVuSans-Bold-116\"/>\n     <use x=\"186.474609\" xlink:href=\"#DejaVuSans-Bold-111\"/>\n     <use x=\"255.175781\" xlink:href=\"#DejaVuSans-Bold-109\"/>\n     <use x=\"359.375\" xlink:href=\"#DejaVuSans-Bold-111\"/>\n     <use x=\"428.076172\" xlink:href=\"#DejaVuSans-Bold-98\"/>\n     <use x=\"499.658203\" xlink:href=\"#DejaVuSans-Bold-105\"/>\n     <use x=\"533.935547\" xlink:href=\"#DejaVuSans-Bold-108\"/>\n     <use x=\"568.212891\" xlink:href=\"#DejaVuSans-Bold-101\"/>\n    </g>\n   </g>\n  </g>\n  <g id=\"axes_12\">\n   <g clip-path=\"url(#p2dafeb9b30)\">\n    <image height=\"167\" id=\"imagebf693709b7\" transform=\"scale(1 -1)translate(0 -167)\" width=\"167\" x=\"536.752174\" xlink:href=\"data:image/png;base64,\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\" y=\"-361.3\"/>\n   </g>\n   <g id=\"text_12\">\n    <g id=\"patch_13\">\n     <path d=\"M 535.353736 378.079687 \nL 606.958424 378.079687 \nL 606.958424 360.401562 \nL 535.353736 360.401562 \nz\n\" style=\"fill:#bfbf00;stroke:#bfbf00;stroke-linejoin:miter;\"/>\n    </g>\n    <!-- automobile -->\n    <g transform=\"translate(539.353736 372)scale(0.1 -0.1)\">\n     <use xlink:href=\"#DejaVuSans-Bold-97\"/>\n     <use x=\"67.480469\" xlink:href=\"#DejaVuSans-Bold-117\"/>\n     <use x=\"138.671875\" xlink:href=\"#DejaVuSans-Bold-116\"/>\n     <use x=\"186.474609\" xlink:href=\"#DejaVuSans-Bold-111\"/>\n     <use x=\"255.175781\" xlink:href=\"#DejaVuSans-Bold-109\"/>\n     <use x=\"359.375\" xlink:href=\"#DejaVuSans-Bold-111\"/>\n     <use x=\"428.076172\" xlink:href=\"#DejaVuSans-Bold-98\"/>\n     <use x=\"499.658203\" xlink:href=\"#DejaVuSans-Bold-105\"/>\n     <use x=\"533.935547\" xlink:href=\"#DejaVuSans-Bold-108\"/>\n     <use x=\"568.212891\" xlink:href=\"#DejaVuSans-Bold-101\"/>\n    </g>\n   </g>\n  </g>\n  <g id=\"axes_13\">\n   <g clip-path=\"url(#pa82f10834c)\">\n    <image height=\"167\" id=\"imagef91e2c9885\" transform=\"scale(1 -1)translate(0 -167)\" width=\"167\" x=\"7.2\" xlink:href=\"data:image/png;base64,\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\" y=\"-538.6\"/>\n   </g>\n   <g id=\"text_13\">\n    <g id=\"patch_14\">\n     <path d=\"M 5.801563 555.457812 \nL 34.9875 555.457812 \nL 34.9875 537.701562 \nL 5.801563 537.701562 \nz\n\" style=\"fill:#bfbf00;stroke:#bfbf00;stroke-linejoin:miter;\"/>\n    </g>\n    <!-- dog -->\n    <g transform=\"translate(9.801563 549.3)scale(0.1 -0.1)\">\n     <use xlink:href=\"#DejaVuSans-Bold-100\"/>\n     <use x=\"71.582031\" xlink:href=\"#DejaVuSans-Bold-111\"/>\n     <use x=\"140.283203\" xlink:href=\"#DejaVuSans-Bold-103\"/>\n    </g>\n   </g>\n  </g>\n  <g id=\"axes_14\">\n   <g clip-path=\"url(#p6349493692)\">\n    <image height=\"167\" id=\"image99877341a1\" transform=\"scale(1 -1)translate(0 -167)\" width=\"167\" x=\"183.717391\" xlink:href=\"data:image/png;base64,\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\" y=\"-538.6\"/>\n   </g>\n   <g id=\"text_14\">\n    <g id=\"patch_15\">\n     <path d=\"M 182.318954 555.379687 \nL 236.662704 555.379687 \nL 236.662704 537.701562 \nL 182.318954 537.701562 \nz\n\" style=\"fill:#bfbf00;stroke:#bfbf00;stroke-linejoin:miter;\"/>\n    </g>\n    <!-- airplane -->\n    <defs>\n     <path d=\"M 63.375 33.296875 \nL 63.375 0 \nL 45.796875 0 \nL 45.796875 5.421875 \nL 45.796875 25.484375 \nQ 45.796875 32.5625 45.484375 35.25 \nQ 45.171875 37.9375 44.390625 39.203125 \nQ 43.359375 40.921875 41.59375 41.875 \nQ 39.84375 42.828125 37.59375 42.828125 \nQ 32.125 42.828125 29 38.59375 \nQ 25.875 34.375 25.875 26.90625 \nL 25.875 0 \nL 8.40625 0 \nL 8.40625 54.6875 \nL 25.875 54.6875 \nL 25.875 46.6875 \nQ 29.828125 51.46875 34.265625 53.734375 \nQ 38.71875 56 44.09375 56 \nQ 53.5625 56 58.46875 50.1875 \nQ 63.375 44.390625 63.375 33.296875 \nz\n\" id=\"DejaVuSans-Bold-110\"/>\n    </defs>\n    <g transform=\"translate(186.318954 549.3)scale(0.1 -0.1)\">\n     <use xlink:href=\"#DejaVuSans-Bold-97\"/>\n     <use x=\"67.480469\" xlink:href=\"#DejaVuSans-Bold-105\"/>\n     <use x=\"101.757812\" xlink:href=\"#DejaVuSans-Bold-114\"/>\n     <use x=\"151.074219\" xlink:href=\"#DejaVuSans-Bold-112\"/>\n     <use x=\"222.65625\" xlink:href=\"#DejaVuSans-Bold-108\"/>\n     <use x=\"256.933594\" xlink:href=\"#DejaVuSans-Bold-97\"/>\n     <use x=\"324.414062\" xlink:href=\"#DejaVuSans-Bold-110\"/>\n     <use x=\"395.605469\" xlink:href=\"#DejaVuSans-Bold-101\"/>\n    </g>\n   </g>\n  </g>\n  <g id=\"axes_15\">\n   <g clip-path=\"url(#pea7a170ed1)\">\n    <image height=\"167\" id=\"imaged21188a38d\" transform=\"scale(1 -1)translate(0 -167)\" width=\"167\" x=\"360.234783\" xlink:href=\"data:image/png;base64,\niVBORw0KGgoAAAANSUhEUgAAAKcAAACnCAYAAAB0FkzsAAAABHNCSVQICAgIfAhkiAAADvNJREFUeJztnUtvJNlxhSMfVcVi8dGP6e5Rj2Y0K9mQBMiwYUkwYEEwbAgY/TmtBWnvjZcCDP8Ibyz4oUG3pJnp6QfZTbJJFuuVmV70bs53gSQE2NHA+ZbBzHvzEUzcUxE3ovrlv/zzEN9kUFOJno4lW1XpuV2HY9LsdV3r+b2eP3RbPVenjoiIpm5gbp29g+ukeYZ+h/MMPV2Azt3UUz2s0vuOiOjgeQwjn/GO7qfwzofQMXd9j8fKuYXjOrLD9HznxiTAzmnSYuc0abFzmrS0bduKkRbHJEhK9LDgJVuJ8fPTIp6EBiuiigQEXCfNPYxb078bE/5Sga0OHbQC0RYRMTRqpydMT20C55bESw+CKDo6FnQ1jhjRwFykx/zlNGmxc5q02DlNWuycJi0tLvbHRn2CF72FgIxQihBRBKGBRfxup1GaatAxq5ZFBV38AEqHomADiIKqJCp2FJHRaFLV6pNrC4KINZ4aKWpE76yH4yIiahizhedJQrIYdUKfo7mNSYqd06TFzmnSYuc0abFzmrS0FYUFSXUW1Bznbqppt9mIbbm8wiH7nc4/nc10TFDrNaj1yZ6eG1G6JVLmoLb7lY7X6/VERHRbPb/rdJ5prbZJO8Exm4nmfvbwrekg55XyU6tC3iip/QZsmPNaUuv06we4nL+cJi12TpMWO6dJi53TpKWlPD4KRVHuY0TEdqsiYLlSoXP+5pXYXn75NY65uVaxcXh8LLb5wYHY9irIk1zs4TyTVv8364nmt+5AZHXbc7G1oaIvImJ1rc9zswLh1u2LbTHjkGjVqsirYYPcANe+o9BpxWHSCuKktOntNvm+JIh6em+jRzTm/xg7p0mLndOkxc5p0tJOpxBpAEFEEYCIiM1aRcDV5aXYLi9UQJy9eIFjPv2v/9Exr67FdnjnUGztTBf208JivYaF+f7BQmzNYi62vVaf0b19FTQREd1OnzEEt2Lz4J7O3XOEaHZX38d0X6+9HkDQUC7qpBBFq2HMSu+HBHM5QkQiD0QWnm1MAuycJi12TpMWO6dJSzudgSCiDVkTXphTZKCdqO0YUt4etCwgls+fi+13X/xJbJ8+PhJbc6Bzvzm9wHnWb9die/nVl2J7e3OjJ4No3KtYVNSDPrsqNBK1DxGv4/sqSCIi7n4Az/PDx2I7eqC2xd1HYju8+wDnmcHzbEB0conKwoY/KAlJAUh/OU1a7JwmLXZOkxY7p0mLndOkpeUiiuPUVETEfK6hvSnU/Dy7VmV8dvIax7x3qGHJz/7xp2L7p89+JrbvfPeh2LobnTsiYtqr4t2sVJmfX+p1Pj85Fdvnv3+K8zz578/1/Bd6/sXqpdiePdPc1ndjQh5u/IfYdpXmsv7gb/9ebP/w81/gPNO5vksqDUShylIOMNH3zuc07xF2TpMWO6dJi53TpKWlxe2fu1mJqlQ0jS6sv/X4Yxzz048+FNvRsYY6Ty/fiu3zf/tXsS2GQtH/t5qLOqt089df/egvxfaTz/5abN0vfojznDzTjXxffqW27VQF2vyuCryIiNPnS7E9efpMbL8HWw3VQqaNirEIDrNuNuNqdpYgocQNHIxJip3TpMXOadJi5zRpGd2woPRrPy5u4df+jz5W8TP75BO+ql6FSgfr7T8804jM1esTsb05OeN5zjRyVG81GvTi9I9i++LkD2I7PtZ8zIiIo6le/BzKHd77QMXP4rHmXkZEHN5X4dYeqnj5/t+omHv+td7js684ujVAHu600ahT30EVkdsIa7D5y2nSYuc0abFzmrTYOU1a2oY2Jt2igxsJqqaBOuK6Vg/QTRERseuhtvlERUV1ByJJn2j046Pv8eatzStNWxtuNHKzWj0R23T/rtiuIeIUEXF1oyUhe3hux7Ax8ApKMkZEPD/VlLnnz2AjXaelRU6fqxB8eP+7OE8/uyO2FkQS+cdQaGrN3d70OH85TVrsnCYtdk6TFjunSUs7gf0+AyiVUvWGamx9cCyRV7gqqAhB5x8ttOLHHKqIHB1ylKW+A/atRmluVhr5+fBb98U2C674cbNUAXK11ue5neg8605r4UdEVHN9xo8+1Shct4Ga/d0XYrsHEbwIFqJbeD3cW4DLZnKJTafMmfcIO6dJi53TpMXOadJi5zRpadsaqjdAruEAIcUi0PUL1XrpdDifZr8HzQWqI+jKNhQaFlB90F6bBrTDd8R2CWHBsy3P07caAryGXyQGuJ6+5/BlBeVSqxbycCEkuv9QQ6+7OW9Qq2udH3o1oM/0fWFjIfxM0zQ6qL+cJi12TpMWO6dJi53TpKWlTUjU2Sza8eXsoGlYDLcohzd2gx0JJ6zVSOHQiKgD8h+hY1lba0iz6nVD13rDpRZZvWhoj8RHTYmwEQEdoPG5USj5/gcaei1uYAzIo4XJb9MGfeyx/nKatNg5TVrsnCYtdk6TFs7nLCZajmOsICpNQ+vosYKIhhwg5zQiogIBUkG5ROo4NgwqaLqB67dPGt10N1+AqAjIiSTl8+5gNRVybr/JDDaolVqWD3DvKESBYg7wyPbX/nKatNg5TVrsnCYtdk6TlnYCrapps1KxSxZAS/hCkAahqMbYRTSpsaEq1SunjXhgg5S7fqfPaH6oDcMiIvoK0sHA1g8adSKR9O6S1L7T0zlKA4+tFM3pdpA+OVIvl4Q1ls10hMi8T9g5TVrsnCYtdk6TFjunSUuLKg1rbo7v0EXhy3GBtXdUoJjH/lhA4Udq0R3BocGOrpRqRzbwjGAzWUSh/MpON8gNHeTWFm6cwsH0inoIS3YD1cdkZU12aj/NNTfHj0n4y2nSYuc0abFzmrTYOU1a2gpy8ypQNLfp4EbiZ2QK4K3A2qAQqiSB9m4AFQtDqK0HRYTF+Iuqj0KqJArGK0m6JsrJHLtZsPh+4fNVFwSmjlmyg8+AoPKX06TFzmnSYuc0abFzmrS0FI3BxX5hcYu/9eNK+BaKaHTuKCzscZ5C9zkwNzjmuIbL9CwjWPz0cI8dqEaKxkREkJCtYf4OGwmgZMV5AjbyUWSNXllXEHMVqDwUt3y6Mf//2DlNWuycJi12TpOWdmzVDFpslxhIZBU3mSkYwRgbleCSH4Vj9Zpa+H/FjnYUICqliJGR9tbhgaXOeWQjUQHCi6p7lLLYQBBV1JmN7r3UwQ124vXu4GbeJ+ycJi12TpMWO6dJCwsi2jNTyHnDeAzXMKQjR485Nmg0UHWOwmKfat/j/haozjGArQNbRMRuZCpbT9EY2O8TEdHATVUwTw97lfqt2kolEHdrLetIY+52ev4azo2IWC6XYNNj/eU0abFzmrTYOU1a7JwmLXZOk5Z20oxU67fY4IZbt0qF94Eewl49JAfSde46Ctex4sVKHJT/COevtzdiW95c4TzbzUZsG1DM65Uq1s2au8I1sGuPjr14+1ZsVAVkB9cTEfH2zRs9H46lmq4buO+IiPOLc7WdX4jNX06TFjunSYud06TFzmnS0p6+fCVG2uBGoiAiosUOcLrgvry8FNt0qp3NIiKur6/FdnOjIa/tRvMCr5cqCs7enOE8KxAQU2jgQKG97VKv8fqC57lZqngiebgCQVRqk121mou6hTzJs3MVH12nx01aaLsdESsQVBWIn725doUrbWo8PTkR28WFzuMvp0mLndOkxc5p0mLnNGlpf/PrX4mxg4V1qUTeo0ePxHZ1qYvbk5OXYptNaREdsVqpgKCEzoY20sG1L29gvIhYgqi5c3xH54Ea+S0omjWIvoiI1yDI6N63FDXacpSlp/rzkHO7ulGRhe+y8H43S4160ZEHBwuxHR4e4Zh1Bf4Veu/+cpq02DlNWuycJi12TpOW6uFffCxLe9p8RW2mIyK+/fG3xdbAwvz1qxdi29/XRXRExGSm0Qqu/w4ng5haYPSCoZQ5ihrVEFFZbaGndES8ea1pZyQ6sdJK4bnT8+gg1ZAe0d7enthK6W3X1yrysI8ATHRUEEQ7iFBdXao49ZfTpMXOadJi5zRpsXOatLTN3jixMAFREBFxAeltR0cqdPbv6OJ4Pp/jmFQH/S2kVE0hXW8GEuD8nCM3+/N9sT16+EBsOxA6T77+Smzrwr96D5VAlhuI3FC35kLkZtHovR+CwGxhzPlM3/myUOKygkZi7QzSJEFIrrdc8YN8abKnY/rLadJi5zRpsXOatNg5TVrsnCYtbT3XUFbT6OapyZTVOoXclhCaaya6me2qEO7brHRTF9WjWG+gTiQ0RqjrQt7otYbsDjaqjvf3DtV2fF9s569PcR6qODJbHI86rtvyBrcAxXv8wV2xDVuoDQrP/WDBoeR1r8+IGjNM4P1uCzU/t1DLk5pc+Mtp0mLnNGmxc5q02DlNWtof/fjvxHhwcCA2EkkRXEZwAzmV67XaVoWNZ5dXuqkKyxXCwjrARl3MIiLWUDj/Aips7Gq99/mBboS7Vwg13kAxfsqZnUz1/BbeRUTEwQJE3kzDsfVE55nC/WA9yYh4fE9F1rZTIUoVQ96cax5rRMSrF1plZusObuZ9ws5p0mLnNGmxc5q0VL/93b/LSnQOG6AmhXKFtLBfg9BZ3UDJQKi4EcG5mzuIOpU2ZX2TtiDm6Dq3Kx2zg0hUQC39UkSEShsS/IxZqBwc6Ds6PNRI1gTunTbsbekeI2KxryKrg8okVEXk1YkKn4iIp0+eio3er7+cJi12TpMWO6dJi53TpKX6z+WlrLgpGlOKEKEd2jDXsLCvCpuqaH4SBrQRDjpaF+cZIJpE9c4HatAF41Hr6ghe7BNY3aPQXKxp9dgKRBpdKKW8lVpa1+M6fMcA77x031Qjn6qV+Mtp0mLnNGmxc5q02DlNWuycJi1t1Boyq0iOlZQ1+HcNCpPCnKUmCBVJRMjJnLRQo5LkaaGbdkP5k6CY6XKgo3T0hYnwVwV4HmNt7+yqbjtQzKTMe6iP2VGOZ0T0/bhanD3M3VVaYiYiYrLQ0CsFbv3lNGmxc5q02DlNWuycJi3tdgehOQofFsJoJJ6opmRD4UvsOBBB4ocW4Sib4MDiLDQAbLRCjUWioDARiQq6KgrbllqJB0QbSTvtKN8W3vkWwocRGIkO0GLoMxyGLrw3sPrLadJi5zRpsXOatNg5TVr+F+1/fRhB23W5AAAAAElFTkSuQmCC\" y=\"-538.6\"/>\n   </g>\n   <g id=\"text_15\">\n    <g id=\"patch_16\">\n     <path d=\"M 358.836345 555.379687 \nL 390.492595 555.379687 \nL 390.492595 537.701562 \nL 358.836345 537.701562 \nz\n\" style=\"fill:#bfbf00;stroke:#bfbf00;stroke-linejoin:miter;\"/>\n    </g>\n    <!-- ship -->\n    <g transform=\"translate(362.836345 549.3)scale(0.1 -0.1)\">\n     <use xlink:href=\"#DejaVuSans-Bold-115\"/>\n     <use x=\"59.521484\" xlink:href=\"#DejaVuSans-Bold-104\"/>\n     <use x=\"130.712891\" xlink:href=\"#DejaVuSans-Bold-105\"/>\n     <use x=\"164.990234\" xlink:href=\"#DejaVuSans-Bold-112\"/>\n    </g>\n   </g>\n  </g>\n  <g id=\"axes_16\">\n   <g clip-path=\"url(#pf8d8ef63e0)\">\n    <image height=\"167\" id=\"image749999595c\" transform=\"scale(1 -1)translate(0 -167)\" width=\"167\" x=\"536.752174\" xlink:href=\"data:image/png;base64,\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\" y=\"-538.6\"/>\n   </g>\n   <g id=\"text_16\">\n    <g id=\"patch_17\">\n     <path d=\"M 535.353736 555.379687 \nL 575.008424 555.379687 \nL 575.008424 537.701562 \nL 535.353736 537.701562 \nz\n\" style=\"fill:#bfbf00;stroke:#bfbf00;stroke-linejoin:miter;\"/>\n    </g>\n    <!-- horse -->\n    <g transform=\"translate(539.353736 549.3)scale(0.1 -0.1)\">\n     <use xlink:href=\"#DejaVuSans-Bold-104\"/>\n     <use x=\"71.191406\" xlink:href=\"#DejaVuSans-Bold-111\"/>\n     <use x=\"139.892578\" xlink:href=\"#DejaVuSans-Bold-114\"/>\n     <use x=\"189.208984\" xlink:href=\"#DejaVuSans-Bold-115\"/>\n     <use x=\"248.730469\" xlink:href=\"#DejaVuSans-Bold-101\"/>\n    </g>\n   </g>\n  </g>\n </g>\n <defs>\n  <clipPath id=\"p8165517b4a\">\n   <rect height=\"166.5\" width=\"166.5\" x=\"7.2\" y=\"7.2\"/>\n  </clipPath>\n  <clipPath id=\"pc3d0e23c36\">\n   <rect height=\"166.5\" width=\"166.5\" x=\"183.717391\" y=\"7.2\"/>\n  </clipPath>\n  <clipPath id=\"p71908e1d76\">\n   <rect height=\"166.5\" width=\"166.5\" x=\"360.234783\" y=\"7.2\"/>\n  </clipPath>\n  <clipPath id=\"pabbcc00ad2\">\n   <rect height=\"166.5\" width=\"166.5\" x=\"536.752174\" y=\"7.2\"/>\n  </clipPath>\n  <clipPath id=\"p7dae2e5614\">\n   <rect height=\"166.5\" width=\"166.5\" x=\"7.2\" y=\"184.5\"/>\n  </clipPath>\n  <clipPath id=\"pe951f01e59\">\n   <rect height=\"166.5\" width=\"166.5\" x=\"183.717391\" y=\"184.5\"/>\n  </clipPath>\n  <clipPath id=\"p87caf99663\">\n   <rect height=\"166.5\" width=\"166.5\" x=\"360.234783\" y=\"184.5\"/>\n  </clipPath>\n  <clipPath id=\"p7ad27dcb6f\">\n   <rect height=\"166.5\" width=\"166.5\" x=\"536.752174\" y=\"184.5\"/>\n  </clipPath>\n  <clipPath id=\"p4fb218855e\">\n   <rect height=\"166.5\" width=\"166.5\" x=\"7.2\" y=\"361.8\"/>\n  </clipPath>\n  <clipPath id=\"pcc7c36c48f\">\n   <rect height=\"166.5\" width=\"166.5\" x=\"183.717391\" y=\"361.8\"/>\n  </clipPath>\n  <clipPath id=\"pe191394c40\">\n   <rect height=\"166.5\" width=\"166.5\" x=\"360.234783\" y=\"361.8\"/>\n  </clipPath>\n  <clipPath id=\"p2dafeb9b30\">\n   <rect height=\"166.5\" width=\"166.5\" x=\"536.752174\" y=\"361.8\"/>\n  </clipPath>\n  <clipPath id=\"pa82f10834c\">\n   <rect height=\"166.5\" width=\"166.5\" x=\"7.2\" y=\"539.1\"/>\n  </clipPath>\n  <clipPath id=\"p6349493692\">\n   <rect height=\"166.5\" width=\"166.5\" x=\"183.717391\" y=\"539.1\"/>\n  </clipPath>\n  <clipPath id=\"pea7a170ed1\">\n   <rect height=\"166.5\" width=\"166.5\" x=\"360.234783\" y=\"539.1\"/>\n  </clipPath>\n  <clipPath id=\"pf8d8ef63e0\">\n   <rect height=\"166.5\" width=\"166.5\" x=\"536.752174\" y=\"539.1\"/>\n  </clipPath>\n </defs>\n</svg>\n"
          },
          "metadata": {
            "needs_background": "light"
          }
        }
      ]
    },
    {
      "cell_type": "markdown",
      "metadata": {
        "id": "OK8Opkhgp0bO"
      },
      "source": [
        "# Create the CNN-AE model"
      ]
    },
    {
      "cell_type": "code",
      "metadata": {
        "id": "JK3OO3tAtZkA"
      },
      "source": [
        "# create a class for the model\n",
        "def makeTheAENet(printtoggle=False):\n",
        "\n",
        "  class aenet(nn.Module):\n",
        "    def __init__(self,printtoggle):\n",
        "      super().__init__()\n",
        "      \n",
        "      # print toggle\n",
        "      self.print = printtoggle\n",
        "\n",
        "      ### -------------- encoding layers -------------- ###\n",
        "      # first convolution layer\n",
        "      self.encconv1  = nn.Conv2d(3,16,4,padding=1,stride=2) # note: using stride instead of pool to downsample\n",
        "      # output size: (32+2*1-4)/2 + 1 = 16\n",
        "\n",
        "      # second convolution layer\n",
        "      self.encconv2  = nn.Conv2d(16,32,4,padding=1,stride=2)\n",
        "      # output size: (16+2*1-4)/2 + 1 = 8\n",
        "\n",
        "      # third convolution layer\n",
        "      self.encconv3  = nn.Conv2d(32,64,4,padding=1,stride=2)\n",
        "      # output size: (8+2*1-4)/2 + 1 = 4\n",
        "      \n",
        "\n",
        "      ### -------------- decoding layers -------------- ###\n",
        "      \n",
        "      # first convolution layer\n",
        "      self.decconv1  = nn.ConvTranspose2d(64,32,4,padding=1,stride=2)\n",
        "\n",
        "      # second convolution layer\n",
        "      self.decconv2  = nn.ConvTranspose2d(32,16,4,padding=1,stride=2)\n",
        "\n",
        "      # third convolution layer (output)\n",
        "      self.decconv3  = nn.ConvTranspose2d(16,3,4,padding=1,stride=2)\n",
        "\n",
        "\n",
        "    def forward(self,x):\n",
        "      \n",
        "      if self.print: print(f'Input: {list(x.shape)}')\n",
        "      \n",
        "      # first encoder layer\n",
        "      x = F.leaky_relu( self.encconv1(x) )\n",
        "      if self.print: print(f'First encoder block: {list(x.shape)}')\n",
        "\n",
        "      # first encoder layer\n",
        "      x = F.leaky_relu( self.encconv2(x) )\n",
        "      if self.print: print(f'Second encoder block: {list(x.shape)}')\n",
        "\n",
        "      # first encoder layer\n",
        "      x = F.leaky_relu( self.encconv3(x) )\n",
        "      if self.print: print(f'Third encoder block: {list(x.shape)}')\n",
        "\n",
        "\n",
        "\n",
        "\n",
        "      # first decoder block\n",
        "      x = F.leaky_relu( self.decconv1(x) )\n",
        "      if self.print: print(f'First decoder block: {list(x.shape)}')\n",
        "\n",
        "      # second decoder block\n",
        "      x = F.leaky_relu( self.decconv2(x) )\n",
        "      if self.print: print(f'Second decoder block: {list(x.shape)}')\n",
        "\n",
        "      # third decoder block (output)\n",
        "      x = F.leaky_relu( self.decconv3(x) )\n",
        "      if self.print: print(f'Decoder output: {list(x.shape)}')\n",
        "\n",
        "      return x\n",
        "\n",
        "  # create the model instance\n",
        "  net = aenet(printtoggle)\n",
        "  \n",
        "  # loss function\n",
        "  lossfun = nn.MSELoss()\n",
        "\n",
        "  # optimizer\n",
        "  optimizer = torch.optim.Adam(net.parameters(),lr=.001,weight_decay=1e-5)\n",
        "\n",
        "  return net,lossfun,optimizer\n"
      ],
      "execution_count": null,
      "outputs": []
    },
    {
      "cell_type": "code",
      "metadata": {
        "id": "y6icEJcXp0el"
      },
      "source": [
        "# test the model with one batch\n",
        "aenet,lossfun,optimizer = makeTheAENet(True)\n",
        "\n",
        "X,y = iter(train_loaderSmall).next()\n",
        "yHat = aenet(X)\n",
        "\n",
        "# now compute the loss\n",
        "loss = lossfun(yHat,X)\n",
        "print(' ')\n",
        "print('Loss:')\n",
        "print(loss)"
      ],
      "execution_count": null,
      "outputs": []
    },
    {
      "cell_type": "code",
      "metadata": {
        "id": "Dhd1iUO9xjbv"
      },
      "source": [
        ""
      ],
      "execution_count": null,
      "outputs": []
    },
    {
      "cell_type": "markdown",
      "metadata": {
        "id": "dvfGQIRGp0ht"
      },
      "source": [
        "# Create a function that trains the AE model"
      ]
    },
    {
      "cell_type": "code",
      "metadata": {
        "id": "IblJo1NCp0kl"
      },
      "source": [
        "# a function that trains the model\n",
        "\n",
        "def function2trainTheAEModel(net,lossfun,optimizer):\n",
        "\n",
        "  # number of epochs\n",
        "  numepochs = 15\n",
        "  \n",
        "  # send the model to the GPU\n",
        "  net.to(device)\n",
        "\n",
        "  # initialize losses\n",
        "  trainLoss = torch.zeros(numepochs)\n",
        "  testLoss  = torch.zeros(numepochs)\n",
        "\n",
        "\n",
        "  # loop over epochs\n",
        "  for epochi in range(numepochs):\n",
        "\n",
        "    # loop over training data batches\n",
        "    net.train() # switch to train mode\n",
        "    batchLoss = []\n",
        "\n",
        "    for X,y in train_loaderFull:\n",
        "\n",
        "      # push data to GPU\n",
        "      X = X.to(device)\n",
        "      y = y.to(device)\n",
        "\n",
        "      # forward pass and loss\n",
        "      yHat = net(X)\n",
        "      loss = lossfun(yHat,X)\n",
        "\n",
        "      # backprop\n",
        "      optimizer.zero_grad()\n",
        "      loss.backward()\n",
        "      optimizer.step()\n",
        "\n",
        "      # loss and accuracy from this batch\n",
        "      batchLoss.append(loss.item())\n",
        "    # end of batch loop...\n",
        "\n",
        "    # and get average losses and accuracies across the batches\n",
        "    trainLoss[epochi] = np.mean(batchLoss)\n",
        "\n",
        "\n",
        "    #### test performance (here done in batches!)\n",
        "    net.eval() # switch to test mode\n",
        "    batchLoss = []\n",
        "\n",
        "    for X,y in test_loaderFull:\n",
        "\n",
        "      # push data to GPU\n",
        "      X = X.to(device)\n",
        "      y = y.to(device)\n",
        "\n",
        "      # forward pass and loss\n",
        "      with torch.no_grad():\n",
        "        yHat = net(X)\n",
        "        loss = lossfun(yHat,X)\n",
        "      \n",
        "      # loss and accuracy from this batch\n",
        "      batchLoss.append(loss.item())\n",
        "    # end of batch loop...\n",
        "\n",
        "    # and get average losses and accuracies across the batches\n",
        "    testLoss[epochi] = np.mean(batchLoss)\n",
        "\n",
        "  # end epochs\n",
        "\n",
        "  # function output\n",
        "  return trainLoss,testLoss,net"
      ],
      "execution_count": null,
      "outputs": []
    },
    {
      "cell_type": "markdown",
      "metadata": {
        "id": "XpGm9xdQ27Ob"
      },
      "source": [
        "# Run the AE model and show the results!"
      ]
    },
    {
      "cell_type": "code",
      "metadata": {
        "id": "l9pCC1R2p0nu"
      },
      "source": [
        "# ~3 minutes with 15 epochs on GPU\n",
        "\n",
        "# create a new model (comment out to re-train)\n",
        "netAE,lossfun,optimizer = makeTheAENet()\n",
        "\n",
        "trainLossAE,testLossAE,netAE = function2trainTheAEModel(netAE,lossfun,optimizer)"
      ],
      "execution_count": null,
      "outputs": []
    },
    {
      "cell_type": "code",
      "metadata": {
        "id": "nOLzbmwM_dj5"
      },
      "source": [
        "plt.plot(trainLossAE,'s-',label='AE Train')\n",
        "plt.plot(testLossAE,'o-',label='AE Test')\n",
        "plt.xlabel('Epochs')\n",
        "plt.ylabel('Loss (MSE)')\n",
        "plt.title('Model loss (final value: %g)'%testLossAE[-1])\n",
        "plt.legend()\n",
        "\n",
        "plt.show()"
      ],
      "execution_count": null,
      "outputs": []
    },
    {
      "cell_type": "code",
      "metadata": {
        "id": "7FayyS9cmT45"
      },
      "source": [
        "## show some random examples\n",
        "\n",
        "# get some data\n",
        "X,y = next(iter(test_loaderSmall))\n",
        "\n",
        "# forward pass and loss\n",
        "netAE.cpu()\n",
        "netAE.eval() # switch to test mode\n",
        "yHat = netAE(X)\n",
        "\n",
        "\n",
        "fig,axs = plt.subplots(2,10,figsize=(14,4))\n",
        "\n",
        "for i in range(10):\n",
        "  pic = yHat[i,:,:,:].detach().numpy().transpose((1,2,0))\n",
        "  pic = pic/2 + .5 # undo normalization\n",
        "  axs[0,i].imshow(pic)\n",
        "  axs[0,i].set_title(f'[ {np.min(pic):.2f}, {np.max(pic):.2f} ]',fontsize=10)\n",
        "  axs[0,i].axis('off')\n",
        "\n",
        "  pic = X[i,:,:,:].detach().numpy().transpose((1,2,0))\n",
        "  pic = pic/2 + .5 # undo normalization\n",
        "  axs[1,i].imshow(pic)\n",
        "  axs[1,i].set_title(f'[ {np.min(pic):.2f}, {np.max(pic):.2f} ]',fontsize=10)\n",
        "  axs[1,i].axis('off')\n",
        "\n",
        "  \n",
        "plt.show()"
      ],
      "execution_count": null,
      "outputs": []
    },
    {
      "cell_type": "code",
      "metadata": {
        "id": "00q2VUFV0e5B"
      },
      "source": [
        ""
      ],
      "execution_count": null,
      "outputs": []
    },
    {
      "cell_type": "markdown",
      "metadata": {
        "id": "9yhD8WNVhZ7D"
      },
      "source": [
        "# Now create a new model that does classification"
      ]
    },
    {
      "cell_type": "code",
      "metadata": {
        "id": "ZMrEZh3mhnTV"
      },
      "source": [
        "# create a class for the model\n",
        "def makeTheClassNet(printtoggle=False):\n",
        "\n",
        "  class cnnnet(nn.Module):\n",
        "    def __init__(self,printtoggle):\n",
        "      super().__init__()\n",
        "      \n",
        "      # print toggle\n",
        "      self.print = printtoggle\n",
        "\n",
        "      ### -------------- encoding layers -------------- ###\n",
        "      # first convolution layer\n",
        "      self.encconv1  = nn.Conv2d(3,16,4,padding=1,stride=2) # note: using stride instead of pool to downsample\n",
        "      # output size: (28+2*1-4)/2 + 1 = 14\n",
        "\n",
        "      # second convolution layer\n",
        "      self.encconv2  = nn.Conv2d(16,32,4,padding=1,stride=2)\n",
        "      # output size: (14+2*1-4)/2 + 1 = 7\n",
        "\n",
        "      # third convolution layer\n",
        "      self.encconv3  = nn.Conv2d(32,64,4,padding=1,stride=2)\n",
        "      # output size: (7+2*1-4)/2 + 1 = 4\n",
        "      \n",
        "      \n",
        "\n",
        "      ### ------------- linear layers ------------- ###\n",
        "      self.fc1  = nn.Linear(4*4*64,128)\n",
        "      self.fc2  = nn.Linear(128,64)\n",
        "      self.fc3  = nn.Linear(64,10)\n",
        "      \n",
        "\n",
        "    def forward(self,x):\n",
        "      \n",
        "      if self.print: print(f'Input: {list(x.shape)}')\n",
        "      \n",
        "      # first encoder layer\n",
        "      x = F.leaky_relu(self.encconv1(x))\n",
        "      if self.print: print(f'First encoder layer: {list(x.shape)}')\n",
        "\n",
        "      # second encoder layer\n",
        "      x = F.leaky_relu(self.encconv2(x))\n",
        "      if self.print: print(f'Second encoder layer: {list(x.shape)}')\n",
        "\n",
        "      # third encoder layer\n",
        "      x = F.leaky_relu(self.encconv3(x))\n",
        "      if self.print: print(f'Third encoder layer: {list(x.shape)}')\n",
        "\n",
        "      # reshape to linear\n",
        "      nUnits = x.shape.numel()/x.shape[0]\n",
        "      x = x.view(-1,int(nUnits))\n",
        "      if self.print: print(f'Post-convolution vectorized: {list(x.shape)}')\n",
        "\n",
        "      # linear layers\n",
        "      x = F.leaky_relu(self.fc1(x))\n",
        "      if self.print: print(f'First linear layer: {list(x.shape)}')\n",
        "\n",
        "      x = F.leaky_relu(self.fc2(x))\n",
        "      if self.print: print(f'Second linear layer: {list(x.shape)}')\n",
        "      \n",
        "      x = F.leaky_relu(self.fc3(x))\n",
        "      if self.print: print(f'Output linear layer: {list(x.shape)}')\n",
        "\n",
        "      return x\n",
        "\n",
        "  # create the model instance\n",
        "  net = cnnnet(printtoggle)\n",
        "  \n",
        "  # loss function\n",
        "  lossfun = nn.CrossEntropyLoss()\n",
        "\n",
        "  # optimizer\n",
        "  optimizer = torch.optim.Adam(net.parameters(),lr=.001)\n",
        "\n",
        "  return net,lossfun,optimizer"
      ],
      "execution_count": null,
      "outputs": []
    },
    {
      "cell_type": "code",
      "metadata": {
        "id": "JYhl-EughnWt"
      },
      "source": [
        "# test the model with one batch\n",
        "tmpnet,lossfun,optimizer = makeTheClassNet(True)\n",
        "\n",
        "X,y = iter(train_loaderSmall).next()\n",
        "yHat = tmpnet(X)\n",
        "\n",
        "# # now let's compute the loss\n",
        "loss = lossfun(yHat,y)\n",
        "print(' ')\n",
        "print('Loss:')\n",
        "print(loss)"
      ],
      "execution_count": null,
      "outputs": []
    },
    {
      "cell_type": "markdown",
      "metadata": {
        "id": "Duekhbb3hnZt"
      },
      "source": [
        "# Now we need another function to train the classifier"
      ]
    },
    {
      "cell_type": "code",
      "metadata": {
        "id": "iKLxEmTukAa9"
      },
      "source": [
        "# a function that trains the model\n",
        "\n",
        "def function2trainTheClassModel(net,lossfun,optimizer,train_loader,test_loader):\n",
        "\n",
        "  # number of epochs\n",
        "  numepochs = 10\n",
        "  \n",
        "  # send the model to the GPU\n",
        "  net.to(device)\n",
        "\n",
        "  # initialize losses\n",
        "  trainLoss = torch.zeros(numepochs)\n",
        "  testLoss  = torch.zeros(numepochs)\n",
        "  trainAcc  = torch.zeros(numepochs)\n",
        "  testAcc   = torch.zeros(numepochs)\n",
        "\n",
        "\n",
        "  # loop over epochs\n",
        "  for epochi in range(numepochs):\n",
        "\n",
        "    # loop over training data batches\n",
        "    net.train() # switch to train mode\n",
        "    batchLoss = []\n",
        "    batchAcc  = []\n",
        "\n",
        "    for X,y in train_loader:\n",
        "\n",
        "      # push data to GPU\n",
        "      X = X.to(device)\n",
        "      y = y.to(device)\n",
        "\n",
        "      # forward pass and loss\n",
        "      yHat = net(X)\n",
        "      loss = lossfun(yHat,y)\n",
        "      \n",
        "      # backprop\n",
        "      optimizer.zero_grad()\n",
        "      loss.backward()\n",
        "      optimizer.step()\n",
        "\n",
        "      # loss and accuracy from this batch\n",
        "      batchLoss.append(loss.item())\n",
        "      batchAcc.append( torch.mean((torch.argmax(yHat,axis=1) == y).float()).item() )\n",
        "    # end of batch loop...\n",
        "\n",
        "    # and get average losses and accuracies across the batches\n",
        "    trainLoss[epochi] = np.mean(batchLoss)\n",
        "    trainAcc[epochi]  = 100*np.mean(batchAcc)\n",
        "\n",
        "\n",
        "\n",
        "    #### test performance (here done in batches!)\n",
        "    net.eval() # switch to test mode\n",
        "    batchLoss = []\n",
        "    batchAcc  = []\n",
        "\n",
        "    for X,y in test_loader:\n",
        "\n",
        "      # push data to GPU\n",
        "      X = X.to(device)\n",
        "      y = y.to(device)\n",
        "\n",
        "      # forward pass and loss\n",
        "      with torch.no_grad():\n",
        "        yHat = net(X)\n",
        "        loss = lossfun(yHat,y)\n",
        "      \n",
        "      # loss and accuracy from this batch\n",
        "      batchLoss.append(loss.item())\n",
        "      batchAcc.append( torch.mean((torch.argmax(yHat,axis=1) == y).float()).item() )\n",
        "    # end of batch loop...\n",
        "\n",
        "    # and get average losses and accuracies across the batches\n",
        "    testLoss[epochi] = np.mean(batchLoss)\n",
        "    testAcc[epochi]  = 100*np.mean(batchAcc)\n",
        "\n",
        "  # end epochs\n",
        "\n",
        "  # function output\n",
        "  return trainLoss,testLoss,trainAcc,testAcc,net"
      ],
      "execution_count": null,
      "outputs": []
    },
    {
      "cell_type": "code",
      "metadata": {
        "id": "o7CniAF5ka6O"
      },
      "source": [
        "# train a new model from scratch (not pre-trained!)\n",
        "\n",
        "# create a naive network\n",
        "naivenet,lossfun,optimizer = makeTheClassNet()\n",
        "\n",
        "# train it from scratch\n",
        "trainLossNaive,testLossNaive,trainAccNaive,testAccNaive,naivenet = function2trainTheClassModel(\n",
        "                                                                      naivenet,lossfun,optimizer,train_loaderSmall,test_loaderSmall)"
      ],
      "execution_count": null,
      "outputs": []
    },
    {
      "cell_type": "code",
      "metadata": {
        "id": "Br6b5KptlX6f"
      },
      "source": [
        "fig,ax = plt.subplots(1,2,figsize=(16,5))\n",
        "\n",
        "ax[0].plot(trainLossNaive,'s-',label='Train')\n",
        "ax[0].plot(testLossNaive,'o-',label='Test')\n",
        "ax[0].set_xlabel('Epochs')\n",
        "ax[0].set_ylabel('Loss (MSE)')\n",
        "ax[0].set_title('Model loss')\n",
        "\n",
        "ax[1].plot(trainAccNaive,'s-',label='Train')\n",
        "ax[1].plot(testAccNaive,'o-',label='Test')\n",
        "ax[1].set_xlabel('Epochs')\n",
        "ax[1].set_ylabel('Accuracy (%)')\n",
        "ax[1].set_title(f'Final model test accuracy: {testAccNaive[-1]:.2f}%')\n",
        "ax[1].legend()\n",
        "\n",
        "plt.show()"
      ],
      "execution_count": null,
      "outputs": []
    },
    {
      "cell_type": "code",
      "metadata": {
        "id": "EBMzDDc68g-T"
      },
      "source": [
        ""
      ],
      "execution_count": null,
      "outputs": []
    },
    {
      "cell_type": "markdown",
      "metadata": {
        "id": "Bz51kMMVmduJ"
      },
      "source": [
        "# Build a new model but replace the convolution layers with with AE layer"
      ]
    },
    {
      "cell_type": "code",
      "metadata": {
        "id": "sA_ePFV3mkcL"
      },
      "source": [
        "# create a new network (weights replaced below)\n",
        "pretrainNet,lossfun,optimizer = makeTheClassNet()\n",
        "\n",
        "\n",
        "#### Note about the code below: Both networks have the same number of layers overall; in other applications\n",
        "#    you may need to modify the code to find the matching layers.\n",
        "\n",
        "# then replace the conv weights in TARGET model from encoder weights in SOURCE model\n",
        "for target,source in zip(pretrainNet.named_parameters(),aenet.named_parameters()):\n",
        "  print('PRETRAIN: ' + target[0] + '  AENET: ' + source[0])\n",
        "  \n",
        "  if 'enc' in target[0]:\n",
        "    \n",
        "    # copy over the parameters...\n",
        "    target[1].data = copy.deepcopy( source[1].data )\n",
        "    \n",
        "    # ...and then freeze that layer\n",
        "    # target[1].requires_grad = False"
      ],
      "execution_count": null,
      "outputs": []
    },
    {
      "cell_type": "code",
      "metadata": {
        "id": "BVqAEZy2T7u2"
      },
      "source": [
        "# double-check that they match\n",
        "pretrainNet.cpu().encconv1.weight[10] - aenet.encconv1.weight[10]"
      ],
      "execution_count": null,
      "outputs": []
    },
    {
      "cell_type": "code",
      "metadata": {
        "id": "A9HQwTRfoE8B"
      },
      "source": [
        "# train the pretrained model\n",
        "\n",
        "# training\n",
        "trainLossPre,testLossPre,trainAccPre,testAccPre,pretrainNet = function2trainTheClassModel(\n",
        "                                                                pretrainNet,lossfun,optimizer,train_loaderSmall,test_loaderSmall)"
      ],
      "execution_count": null,
      "outputs": []
    },
    {
      "cell_type": "code",
      "metadata": {
        "id": "lRXqqbGkok6t"
      },
      "source": [
        "fig,ax = plt.subplots(1,2,figsize=(16,5))\n",
        "\n",
        "ax[0].plot(trainLossPre,'rs-',label='PRE Train')\n",
        "ax[0].plot(testLossPre,'ro--',label='PRE Test')\n",
        "ax[0].plot(trainLossNaive,'bs-',label='NAIVE Train')\n",
        "ax[0].plot(testLossNaive,'bo--',label='NAIVE Test')\n",
        "ax[0].set_xlabel('Epochs')\n",
        "ax[0].set_ylabel('Loss (MSE)')\n",
        "ax[0].set_title('Model loss')\n",
        "ax[0].legend()\n",
        "\n",
        "ax[1].plot(trainAccPre,'rs-',label='PRE Train')\n",
        "ax[1].plot(testAccPre,'ro--',label='PRE Test')\n",
        "ax[1].plot(trainAccNaive,'bs-',label='NAIVE Train')\n",
        "ax[1].plot(testAccNaive,'bo--',label='NAIVE Test')\n",
        "ax[1].set_xlabel('Epochs')\n",
        "ax[1].set_ylabel('Accuracy (%)')\n",
        "ax[1].set_title(f'Final NaiveTest/PREtest accuracy: {testAccNaive[-1]:.2f}/{testAccPre[-1]:.2f}%')\n",
        "ax[1].legend()\n",
        "\n",
        "plt.show()"
      ],
      "execution_count": null,
      "outputs": []
    },
    {
      "cell_type": "code",
      "metadata": {
        "id": "8R82hsCIRt6d"
      },
      "source": [
        ""
      ],
      "execution_count": null,
      "outputs": []
    },
    {
      "cell_type": "markdown",
      "metadata": {
        "id": "e5mdUigGwy3d"
      },
      "source": [
        "# Additional explorations"
      ]
    },
    {
      "cell_type": "code",
      "metadata": {
        "id": "I0CDtaECwy5s"
      },
      "source": [
        "# 1) Performance was overall low. But we only trained on 2k images, whereas the full CIFAR10 dataset has 60,000 images.\n",
        "#    Maybe the benefit of AE-pretraining will be seen with a larger image size? Modify the code to use the entire dataset.\n",
        "# \n",
        "# 2) You discovered in the \"CNN Milestone\" section (project 1) that a simple classifier doesn't do very well on this \n",
        "#    dataset, and that we got better performance from a more complex model. Modify the classifier here so that it matches\n",
        "#    the architecture from that project. Does the AE-pretraining help with that model architecture?\n",
        "# "
      ],
      "execution_count": null,
      "outputs": []
    }
  ]
}