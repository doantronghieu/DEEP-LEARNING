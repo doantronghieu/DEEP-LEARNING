{
  "cells": [
    {
      "cell_type": "markdown",
      "metadata": {
        "id": "view-in-github",
        "colab_type": "text"
      },
      "source": [
        "<a href=\"https://colab.research.google.com/github/tronghieu2810/DEEP-LEARNING/blob/main/UDEMY/%5BMike_X_Cohen%5D_Deep_understanding/data/DUDL_data_noiseAugmentation.ipynb\" target=\"_parent\"><img src=\"https://colab.research.google.com/assets/colab-badge.svg\" alt=\"Open In Colab\"/></a>"
      ]
    },
    {
      "cell_type": "code",
      "execution_count": 1,
      "metadata": {
        "id": "YeuAheYyhdZw"
      },
      "outputs": [],
      "source": [
        "# import libraries\n",
        "import numpy as np\n",
        "\n",
        "import torch\n",
        "import torch.nn as nn\n",
        "import torch.nn.functional as F\n",
        "from torch.utils.data import DataLoader,TensorDataset\n",
        "from sklearn.model_selection import train_test_split\n",
        "\n",
        "import matplotlib.pyplot as plt"
      ]
    },
    {
      "cell_type": "markdown",
      "metadata": {
        "id": "OhLQ2YSvpiGj"
      },
      "source": [
        "# A function that returns a dataset with a specified size"
      ]
    },
    {
      "cell_type": "code",
      "execution_count": 2,
      "metadata": {
        "id": "Y_tZ1ymVp0Sf"
      },
      "outputs": [],
      "source": [
        "data_full = np.loadtxt(open('sample_data/mnist_train_small.csv','rb'),delimiter=',')\n",
        "\n",
        "# Normalize the data to a range of [0 1]\n",
        "data_full[:, 1:] = data_full[:, 1:] / np.max(data_full)\n",
        "\n",
        "# Now for the function\n",
        "def make_the_dataset(N, double_the_data=False):\n",
        "\n",
        "    # Extract labels (number IDs) and remove from data\n",
        "    labels = data_full[:N, 0]\n",
        "    data   = data_full[:N, 1:]\n",
        "\n",
        "    # Make a noisy copy of ALL the data\n",
        "    if double_the_data:\n",
        "        data_noise = data + np.random.random_sample(size=data.shape) / 2\n",
        "        data       = np.concatenate((data, data_noise), axis=0)\n",
        "        labels     = np.concatenate((labels, labels), axis=0)\n",
        "\n",
        "    # Convert to tensor\n",
        "    data_tensor   = torch.tensor(data).float()\n",
        "    labels_tensor = torch.tensor(labels).long()\n",
        "\n",
        "    # Use scikitlearn to split the data\n",
        "    train_data, dev_data, train_labels, dev_labels = train_test_split(data_tensor, labels_tensor, train_size=0.9)\n",
        "\n",
        "    # # Make an exact copy of the TRAIN data\n",
        "    # if doubleTheData:\n",
        "    #   train_data   = torch.cat((train_data,train_data),axis=0)\n",
        "    #   train_labels = torch.cat((train_labels,train_labels),axis=0)\n",
        "    \n",
        "    # Convert into PyTorch Datasets\n",
        "    train_data_set = TensorDataset(train_data, train_labels)\n",
        "    dev_data_set   = TensorDataset(dev_data, dev_labels)\n",
        "\n",
        "    # Translate into Dataloader objects\n",
        "    batch_size   = 20\n",
        "    train_loader = DataLoader(dataset=train_data_set, batch_size=batch_size,\n",
        "                            shuffle=True, drop_last=True)\n",
        "    dev_loader  = DataLoader(dataset=dev_data_set, \n",
        "                            batch_size=dev_data_set.tensors[0].shape[0])\n",
        "    \n",
        "    # Create a test set (don't need a dataloader)\n",
        "    test_data   = torch.tensor(data_full[N:, 1:]).float()\n",
        "    test_labels = torch.tensor(data_full[N:, 0]).long() \n",
        "\n",
        "    return train_loader, dev_loader, (test_data, test_labels)"
      ]
    },
    {
      "cell_type": "code",
      "execution_count": 3,
      "metadata": {
        "id": "rQQAEnLDBeNm",
        "outputId": "ebea1b70-ae40-4cbb-a261-ca3ae5837380",
        "colab": {
          "base_uri": "https://localhost:8080/",
          "height": 466
        }
      },
      "outputs": [
        {
          "output_type": "display_data",
          "data": {
            "image/png": "[encoded data removed]",
            "text/plain": [
              "<Figure size 864x576 with 12 Axes>"
            ]
          },
          "metadata": {
            "needs_background": "light"
          }
        }
      ],
      "source": [
        "# VISUALIZE THE IMAGES\n",
        "# Get some sample data\n",
        "train_loader, dev_loader, test_data_set = make_the_dataset(N=12, double_the_data=True)\n",
        "\n",
        "# Pop out the data matrices\n",
        "img = train_loader.dataset.tensors[0].detach()\n",
        "\n",
        "# Show the numbers\n",
        "fig, ax = plt.subplots(3, 4, figsize=(12, 8))\n",
        "for i, ax in enumerate(ax.flatten()):\n",
        "    ax.imshow(np.reshape(img[i, :], (28, 28)), cmap='gray')\n",
        "    ax.axis('off')\n",
        "\n",
        "plt.show()"
      ]
    },
    {
      "cell_type": "markdown",
      "metadata": {
        "id": "OK8Opkhgp0bO"
      },
      "source": [
        "# Create the DL model"
      ]
    },
    {
      "cell_type": "code",
      "execution_count": 4,
      "metadata": {
        "id": "JK3OO3tAtZkA"
      },
      "outputs": [],
      "source": [
        "def create_the_MNIST_net():\n",
        "    \"\"\"\"\n",
        "    FFN_SCRAMBLEDMNIST | FFN_SHIFTEDMNIST | DATA_ DATA_OVERSAMPLING\n",
        "    \"\"\"\n",
        "    class mnist_net(nn.Module):\n",
        "        def __init__(self):\n",
        "            super().__init__()\n",
        "\n",
        "            # Input layer\n",
        "            self.input = nn.Linear(784, 64)\n",
        "\n",
        "            # Hidden layer\n",
        "            self.fc1 = nn.Linear(64, 32)\n",
        "            self.fc2 = nn.Linear(32, 32)\n",
        "\n",
        "            # Output layer\n",
        "            self.output = nn.Linear(32, 10)\n",
        "\n",
        "        # Forward pass\n",
        "        def forward(self, x):\n",
        "            x = F.relu(self.input(x))\n",
        "            x = F.relu(self.fc1(x))\n",
        "            x = F.relu(self.fc2(x))\n",
        "\n",
        "            return self.output(x)\n",
        "        \n",
        "    # Create the model instance\n",
        "    net = mnist_net()\n",
        "\n",
        "    # Loss Function\n",
        "    loss_func = nn.CrossEntropyLoss()\n",
        "\n",
        "    # Optimizer\n",
        "    optimizer = torch.optim.SGD(net.parameters(), lr=0.01)\n",
        "\n",
        "    return net, loss_func, optimizer\n"
      ]
    },
    {
      "cell_type": "markdown",
      "metadata": {
        "id": "dvfGQIRGp0ht"
      },
      "source": [
        "# Create a function that trains the model"
      ]
    },
    {
      "cell_type": "code",
      "execution_count": 5,
      "metadata": {
        "id": "IblJo1NCp0kl"
      },
      "outputs": [],
      "source": [
        "def train_the_model():\n",
        "    \"\"\"\n",
        "    DATA_NOISE_AUGMENTATION\n",
        "    \"\"\"\n",
        "    \n",
        "    num_epochs = 50\n",
        "\n",
        "    # Create a new model\n",
        "    net, loss_func, optimizer = create_the_MNIST_net()\n",
        "\n",
        "    # Initialize\n",
        "    losses    = torch.zeros(num_epochs)\n",
        "    train_acc = []\n",
        "    dev_acc  = []\n",
        "\n",
        "    # Loop over epochs\n",
        "    for epoch_i in range(num_epochs):\n",
        "\n",
        "        # Loop over training data batches\n",
        "        batch_acc  = []\n",
        "        batch_loss = [] \n",
        "\n",
        "        for X, y in train_loader:\n",
        "            # Forward pass and loss\n",
        "            y_hat = net(X)\n",
        "            loss  = loss_func(y_hat,y)\n",
        "\n",
        "            # Backprop\n",
        "            optimizer.zero_grad()\n",
        "            loss.backward()\n",
        "            optimizer.step()\n",
        "\n",
        "            # Loss from this batch\n",
        "            batch_loss.append(loss.item())\n",
        "\n",
        "            # Compute accuracy\n",
        "            matches = torch.argmax(y_hat, axis=1) == y       # Booleans (True/False)\n",
        "            matches_numeric = matches.float()                # Convert to numbers (1/0)\n",
        "            accuracy_pct = 100 * torch.mean(matches_numeric) # Average and *100\n",
        "            batch_acc.append(accuracy_pct)                   # Add to list of accuracies\n",
        "        # End of batch loop.\n",
        "\n",
        "        # Get the average training accuracy of the batches\n",
        "        train_acc.append(np.mean(batch_acc))\n",
        "\n",
        "        # The average losses accross the batches\n",
        "        losses[epoch_i] = np.mean(batch_loss)\n",
        "\n",
        "        # Test accuracy\n",
        "        X, y = next(iter(dev_loader)) # Extract X, y from dataloader\n",
        "        with torch.no_grad():\n",
        "          y_hat = net(X)\n",
        "        dev_acc.append(100 * torch.mean((torch.argmax(y_hat, axis=1) == y).float()))\n",
        "\n",
        "    # End epochs\n",
        "\n",
        "    return train_acc, dev_acc, losses, net"
      ]
    },
    {
      "cell_type": "markdown",
      "metadata": {
        "id": "XpGm9xdQ27Ob"
      },
      "source": [
        "# Run an experiment showing better performance with increased N\n",
        "\n"
      ]
    },
    {
      "cell_type": "code",
      "execution_count": 6,
      "metadata": {
        "id": "l9pCC1R2p0nu"
      },
      "outputs": [],
      "source": [
        "# List of data sample sizes\n",
        "sample_sizes = np.arange(start=500, stop=4001, step=500)\n",
        "\n",
        "# Initialize results matrix\n",
        "results_single = np.zeros(shape=(len(sample_sizes), 3))\n",
        "results_double = np.zeros(shape=(len(sample_sizes), 3))\n",
        "\n",
        "for sample_size_idx, sample_size_i in enumerate(sample_sizes):\n",
        "\n",
        "    # Without doubling the data!\n",
        "    # Generate a dataset and train the model\n",
        "    train_loader, dev_loader, test_data_set        = make_the_dataset(N=sample_size_i, double_the_data=False)\n",
        "    train_acc, dev_acc, losses, net                = train_the_model()\n",
        "\n",
        "    # Grab the results\n",
        "    results_single[sample_size_idx, 0] = np.mean(train_acc[-5:])\n",
        "    results_single[sample_size_idx, 1] = np.mean(dev_acc[-5:])\n",
        "    results_single[sample_size_idx, 2] = torch.mean(losses[-5:]).item()\n",
        "\n",
        "    # With doubling the data!\n",
        "    # Generate a dataset and train the model\n",
        "    train_loader, dev_loader, test_data_set        = make_the_dataset(N=sample_size_i, double_the_data=True)\n",
        "    train_acc, dev_acc, losses, net                = train_the_model()\n",
        "\n",
        "    # Grab the results\n",
        "    results_double[sample_size_idx, 0] = np.mean(train_acc[-5:])\n",
        "    results_double[sample_size_idx, 1] = np.mean(dev_acc[-5:])\n",
        "    results_double[sample_size_idx, 2] = torch.mean(losses[-5:]).item()\n"
      ]
    },
    {
      "cell_type": "code",
      "execution_count": 7,
      "metadata": {
        "id": "9SnUUHPm7xQE",
        "outputId": "71478e84-ae97-4d83-a923-2e183c69abab",
        "colab": {
          "base_uri": "https://localhost:8080/",
          "height": 369
        }
      },
      "outputs": [
        {
          "output_type": "display_data",
          "data": {
            "image/png": "[encoded data removed]",
            "text/plain": [
              "<Figure size 1080x360 with 3 Axes>"
            ]
          },
          "metadata": {
            "needs_background": "light"
          }
        }
      ],
      "source": [
        "fig, ax = plt.subplots(1, 3, figsize=(15, 5))\n",
        "\n",
        "# Axis and title labels\n",
        "titles      = ['Train', 'Devset', 'Losses']\n",
        "y_ax_labels = ['Accuracy', 'Accuracy', 'Losses']\n",
        "\n",
        "# Common features\n",
        "for i in range(3):\n",
        "\n",
        "    # Plot the lines\n",
        "    ax[i].plot(sample_sizes, results_single[:, i], 's-', label='Original')\n",
        "    ax[i].plot(sample_sizes, results_double[:, i], 's-', label='Augmented')\n",
        "\n",
        "    # Make it look nicer\n",
        "    ax[i].set_ylabel(y_ax_labels[i])\n",
        "    ax[i].set_title(titles[i])\n",
        "    ax[i].legend()\n",
        "    ax[i].set_xlabel('Unique sample size')\n",
        "    ax[i].grid('on')\n",
        "\n",
        "    if (i < 2):\n",
        "        ax[i].set_ylim([20, 102])\n",
        "\n",
        "plt.tight_layout()\n",
        "plt.show()"
      ]
    },
    {
      "cell_type": "markdown",
      "metadata": {
        "id": "2QVdrgkBHPVS"
      },
      "source": [
        "# Now for test accuracy!"
      ]
    },
    {
      "cell_type": "code",
      "execution_count": 9,
      "metadata": {
        "id": "p_ezuI0NLP_U",
        "outputId": "f75e22ee-08b9-4774-dbb2-db2929fca1ac",
        "colab": {
          "base_uri": "https://localhost:8080/"
        }
      },
      "outputs": [
        {
          "output_type": "stream",
          "name": "stdout",
          "text": [
            "ORIGINAL MODEL  (N = 500)\n",
            "  Train: 57.95%, Devset: 58.00%, Test: 0.52%\n",
            "\n",
            "\n",
            "AUGMENTED MODEL (N = 500)\n",
            "  Train: 92.89%, Devset: 84.00%, Test: 0.78%\n",
            "\n",
            "\n"
          ]
        }
      ],
      "source": [
        "# TEST ACCURACY\n",
        "sample_size = 500\n",
        "\n",
        "train_loader, dev_loader, test_data_set = make_the_dataset(N=sample_size, double_the_data=False)\n",
        "train_acc_O, dev_acc_O, losses_O, net_O = train_the_model() # O = original\n",
        "\n",
        "train_loader, dev_loader, test_data_set = make_the_dataset(N=sample_size, double_the_data=True)\n",
        "train_acc_A, dev_acc_A, losses_A, net_A = train_the_model() # A = augmented\n",
        "\n",
        "# Extract the test data\n",
        "X, y = test_data_set\n",
        "\n",
        "# Run the original model\n",
        "y_hat  = net_O(X)\n",
        "test_O = torch.mean((torch.argmax(y_hat, axis=1) == y).float())\n",
        "\n",
        "\n",
        "# And the augmented model\n",
        "y_hat  = net_A(X)\n",
        "test_A = torch.mean((torch.argmax(y_hat, axis=1) == y).float())\n",
        "\n",
        "# Print the results!\n",
        "print(f'ORIGINAL MODEL  (N = {sample_size})\\n  Train: {train_acc_O[-1]:.2f}%, Devset: {dev_acc_O[-1]:.2f}%, Test: {test_O:.2f}%\\n\\n')\n",
        "print(f'AUGMENTED MODEL (N = {sample_size})\\n  Train: {train_acc_A[-1]:.2f}%, Devset: {dev_acc_A[-1]:.2f}%, Test: {test_A:.2f}%\\n\\n')\n"
      ]
    },
    {
      "cell_type": "markdown",
      "metadata": {
        "id": "Uh28k_l29urR"
      },
      "source": [
        "# Additional explorations\n",
        "1) It looks like noise augmentation only helped for small sample sizes (<1000). Write code to run a new experiment that\n",
        "   reproduces this experiment 10 times, but only using sample sizes [500,1000,2000]. Then make a plot showing the increase\n",
        "   in devset accuracy for all 10 runs. That will help determine whether our finding above was a quirk of sampling \n",
        "   variability or a meaningful effect.\n",
        "\n",
        "2) Immediately after loading in the MNIST data (top of the script), there is the following code:\n",
        "   dataFull[:,1:] = dataFull[:,1:] / np.max(dataFull)\n",
        "   This is different from the corresponding normalization code in the previous MNIST videos. Do you need the [:,1:]?\n",
        "   What happens when you change that line to: dataFull = dataFull / np.max(dataFull)\n",
        "   Can you still train the model?\n",
        "\n",
        "3) We augmented the data using noisy copies. Another idea is to augment the dataset using color-flipped copies. Thus,\n",
        "   the numbers will be black on a white background. Try it and see how the results compare to the noise-added version!"
      ]
    }
  ],
  "metadata": {
    "colab": {
      "collapsed_sections": [],
      "name": "DUDL_data_noiseAugmentation.ipynb",
      "provenance": [],
      "include_colab_link": true
    },
    "kernelspec": {
      "display_name": "Python 3",
      "name": "python3"
    },
    "language_info": {
      "codemirror_mode": {
        "name": "ipython",
        "version": 3
      },
      "file_extension": ".py",
      "mimetype": "text/x-python",
      "name": "python",
      "nbconvert_exporter": "python",
      "pygments_lexer": "ipython3",
      "version": "3.9.7"
    },
    "accelerator": "GPU"
  },
  "nbformat": 4,
  "nbformat_minor": 0
}