{
 "cells": [
  {
   "cell_type": "code",
   "execution_count": 2,
   "metadata": {},
   "outputs": [],
   "source": [
    "import numpy as np"
   ]
  },
  {
   "cell_type": "code",
   "execution_count": 12,
   "metadata": {},
   "outputs": [
    {
     "name": "stdout",
     "output_type": "stream",
     "text": [
      "[[ 0.22634598]\n",
      " [ 0.40349508]\n",
      " [-0.43096187]\n",
      " [ 0.42725214]\n",
      " [-1.0950401 ]] \n",
      "=====================\n",
      "(5, 1) \n",
      "=====================\n",
      "[[ 0.22634598  0.40349508 -0.43096187  0.42725214 -1.0950401 ]] \n",
      "=====================\n",
      "(1, 5) \n",
      "=====================\n",
      "[[ 0.0512325   0.09132949 -0.09754649  0.0967068  -0.24785792]\n",
      " [ 0.09132949  0.16280828 -0.173891    0.17239414 -0.44184329]\n",
      " [-0.09754649 -0.173891    0.18572813 -0.18412938  0.47192053]\n",
      " [ 0.0967068   0.17239414 -0.18412938  0.18254439 -0.46785822]\n",
      " [-0.24785792 -0.44184329  0.47192053 -0.46785822  1.19911283]] \n",
      "=====================\n"
     ]
    }
   ],
   "source": [
    "a = np.random.randn(5, 1)\n",
    "print(a, '\\n=====================')\n",
    "print(a.shape, '\\n=====================')\n",
    "print(a.T, '\\n=====================')\n",
    "print(a.T.shape, '\\n=====================')\n",
    "print(np.dot(a, a.T), '\\n=====================')"
   ]
  }
 ],
 "metadata": {
  "interpreter": {
   "hash": "ee5cc6fef2d70a7e71ee3826687cbd150f18158e0b1eef11d4f4f92bb920e304"
  },
  "kernelspec": {
   "display_name": "Python 3.9.7 64-bit",
   "language": "python",
   "name": "python3"
  },
  "language_info": {
   "codemirror_mode": {
    "name": "ipython",
    "version": 3
   },
   "file_extension": ".py",
   "mimetype": "text/x-python",
   "name": "python",
   "nbconvert_exporter": "python",
   "pygments_lexer": "ipython3",
   "version": "3.9.7"
  },
  "orig_nbformat": 4
 },
 "nbformat": 4,
 "nbformat_minor": 2
}
