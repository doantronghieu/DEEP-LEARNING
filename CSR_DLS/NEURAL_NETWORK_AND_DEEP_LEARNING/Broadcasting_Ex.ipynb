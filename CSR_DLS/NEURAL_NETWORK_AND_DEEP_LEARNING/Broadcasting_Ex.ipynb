{
 "cells": [
  {
   "cell_type": "code",
   "execution_count": 1,
   "metadata": {},
   "outputs": [],
   "source": [
    "import numpy as np"
   ]
  },
  {
   "cell_type": "code",
   "execution_count": 13,
   "metadata": {},
   "outputs": [
    {
     "name": "stdout",
     "output_type": "stream",
     "text": [
      "[[ 56.    0.    4.4  68. ]\n",
      " [  1.2 104.   52.    8. ]\n",
      " [  1.8 135.   99.    0.9]] \n",
      "===========================\n",
      "[ 59.  239.  155.4  76.9] \n",
      "===========================\n",
      "[[94.91525424  0.          2.83140283 88.42652796]\n",
      " [ 2.03389831 43.51464435 33.46203346 10.40312094]\n",
      " [ 3.05084746 56.48535565 63.70656371  1.17035111]] \n",
      "===========================\n"
     ]
    }
   ],
   "source": [
    "A = np.array([\n",
    "    [56.0, 0.0, 4.4, 68.0],\n",
    "    [1.2, 104.0, 52.0, 8.0],\n",
    "    [1.8, 135.0, 99.0, 0.9]\n",
    "])\n",
    "print(A, '\\n===========================')\n",
    "\n",
    "cal = A.sum(axis=0)\n",
    "print(cal, '\\n===========================')\n",
    "\n",
    "percentage = 100 * A / cal.reshape(1, 4)\n",
    "print(percentage, '\\n===========================')\n"
   ]
  }
 ],
 "metadata": {
  "interpreter": {
   "hash": "ee5cc6fef2d70a7e71ee3826687cbd150f18158e0b1eef11d4f4f92bb920e304"
  },
  "kernelspec": {
   "display_name": "Python 3.9.7 64-bit",
   "language": "python",
   "name": "python3"
  },
  "language_info": {
   "codemirror_mode": {
    "name": "ipython",
    "version": 3
   },
   "file_extension": ".py",
   "mimetype": "text/x-python",
   "name": "python",
   "nbconvert_exporter": "python",
   "pygments_lexer": "ipython3",
   "version": "3.9.7"
  },
  "orig_nbformat": 4
 },
 "nbformat": 4,
 "nbformat_minor": 2
}
