{
  "nbformat": 4,
  "nbformat_minor": 0,
  "metadata": {
    "accelerator": "TPU",
    "colab": {
      "name": "C4_W4_Lab_2_Sunspots.ipynb",
      "provenance": [],
      "collapsed_sections": [],
      "include_colab_link": true
    },
    "kernelspec": {
      "name": "python3",
      "display_name": "Python 3"
    },
    "language_info": {
      "name": "python"
    }
  },
  "cells": [
    {
      "cell_type": "markdown",
      "metadata": {
        "id": "view-in-github",
        "colab_type": "text"
      },
      "source": [
        "<a href=\"https://colab.research.google.com/github/doantronghieu/DEEP-LEARNING/blob/main/CSR_TF_Dev_Pro_Cert/C4/C4_W4_Lab_2_Sunspots.ipynb\" target=\"_parent\"><img src=\"https://colab.research.google.com/assets/colab-badge.svg\" alt=\"Open In Colab\"/></a>"
      ]
    },
    {
      "cell_type": "code",
      "metadata": {
        "id": "56XEQOGknrAk"
      },
      "source": [
        "import csv\n",
        "import numpy as np\n",
        "import matplotlib.pyplot as plt\n",
        "import matplotlib.image as mpimg\n",
        "import tensorflow as tf\n",
        "import tensorflow.keras as tfk\n",
        "from tensorflow.keras import layers, optimizers, losses, models, callbacks, metrics\n",
        "import seaborn as sns\n",
        "sns.set()"
      ],
      "execution_count": null,
      "outputs": []
    },
    {
      "cell_type": "code",
      "source": [
        "def plot_series(time, series, format = '-', start = 0, end = None, label = None):\n",
        "    plt.plot(time[start:end], series[start:end], format, label = label)\n",
        "    plt.xlabel('Time')\n",
        "    plt.ylabel('Value')\n",
        "    if label:\n",
        "        plt.legend(fontsize = 14)\n",
        "    plt.grid(True)"
      ],
      "metadata": {
        "id": "3QS0aUWP4O-N"
      },
      "execution_count": null,
      "outputs": []
    },
    {
      "cell_type": "code",
      "metadata": {
        "id": "tP7oqUdkk0gY"
      },
      "source": [
        "# Sunspots.csv\n",
        "!gdown --id 1bLnqPgwoSh6rHz_DKDdDeQyAyl8_nqT5"
      ],
      "execution_count": null,
      "outputs": []
    },
    {
      "cell_type": "code",
      "metadata": {
        "id": "NcG9r1eClbTh"
      },
      "source": [
        "time_step = []\n",
        "sunspots  = []\n",
        "\n",
        "with open('/content/Sunspots.csv') as csvfile:\n",
        "    reader = csv.reader(csvfile, delimiter = ',')\n",
        "    next(reader)\n",
        "\n",
        "    for row in reader:\n",
        "        time_step.append(int  (row[0]))\n",
        "        sunspots .append(float(row[2]))\n",
        "    \n",
        "series = np.array(sunspots)\n",
        "time   = np.array(time_step)\n",
        "\n",
        "split_time = 3000\n",
        "time_train = time  [:split_time]\n",
        "time_valid = time  [split_time:]\n",
        "x_train    = series[:split_time]\n",
        "x_valid    = series[split_time:]\n",
        "\n",
        "window_size         = 30\n",
        "batch_size          = 32\n",
        "shuffle_buffer_size = 1000\n",
        "\n",
        "plt.figure(figsize = (22, 7))\n",
        "plot_series(time, series)"
      ],
      "execution_count": null,
      "outputs": []
    },
    {
      "cell_type": "code",
      "source": [
        "def windowed_dataset(series, window_size, batch_size, shuffle_buffer):\n",
        "    series  = tf.expand_dims(series, axis = -1)\n",
        "    dataset = tf.data.Dataset.from_tensor_slices(series)\n",
        "    dataset = dataset.window(window_size + 1, shift=1, drop_remainder=True)\n",
        "    dataset = dataset.flat_map(lambda window: window.batch(window_size + 1))\n",
        "    dataset = dataset.shuffle(shuffle_buffer).map(lambda window: (window[:-1], window[-1]))\n",
        "    dataset = dataset.batch(batch_size).prefetch(1)\n",
        "    return dataset"
      ],
      "metadata": {
        "id": "UMT_AKLv6Pzf"
      },
      "execution_count": null,
      "outputs": []
    },
    {
      "cell_type": "code",
      "source": [
        "def model_forecast(model, series, window_size):\n",
        "    dataset = tf.data.Dataset.from_tensor_slices(series)\n",
        "    dataset = dataset.window(window_size, shift = 1, drop_remainder = True)\n",
        "    dataset = dataset.flat_map(lambda window: window.batch(window_size))\n",
        "    dataset = dataset.batch(32).prefetch(1)\n",
        "    \n",
        "    forecast =  model.predict(dataset)\n",
        "    \n",
        "    return forecast"
      ],
      "metadata": {
        "id": "tJf_szlD6dme"
      },
      "execution_count": null,
      "outputs": []
    },
    {
      "cell_type": "code",
      "metadata": {
        "id": "4XwGrf-A_wF0"
      },
      "source": [
        "tf.keras.backend.clear_session()\n",
        "tf.random.set_seed(51)\n",
        "np.random.seed(51)\n",
        "\n",
        "window_size = 64\n",
        "batch_size  = 256\n",
        "train_set   = windowed_dataset(x_train, window_size, batch_size, shuffle_buffer_size)\n",
        "\n",
        "print(train_set, '\\n')\n",
        "print(x_train.shape, '\\n')\n",
        "\n",
        "model = models.Sequential([\n",
        "    layers.Conv1D(filters = 32, kernel_size = 5, strides = 1, \n",
        "                  padding = 'causal', activation = 'relu', \n",
        "                  input_shape = [None, 1]),                           \n",
        "    layers.LSTM(64, return_sequences = True),\n",
        "    layers.LSTM(64, return_sequences = True),\n",
        "    layers.Dense(30, activation = 'relu'),\n",
        "    layers.Dense(10, activation = 'relu'),\n",
        "    layers.Dense(1),\n",
        "    layers.Lambda(lambda x: x * 400.0)                           \n",
        "])\n",
        "\n",
        "lr_schedule = callbacks.LearningRateScheduler(lambda epoch: 1e-8 * 10 ** (epoch / 20))\n",
        "\n",
        "model.compile(loss = losses.Huber(),\n",
        "              optimizer = optimizers.SGD(learning_rate = 1e-8, momentum = 0.9),\n",
        "              metrics = ['mae'])\n",
        "\n",
        "history = model.fit(train_set, epochs = 100, callbacks = [lr_schedule], verbose = 0)\n",
        "\n",
        "plt.figure(figsize = (22, 7))\n",
        "plt.semilogx(history.history['lr'], history.history['loss'])\n",
        "plt.axis([1e-8, 1e-4, 0, 60])\n",
        "plt.show()"
      ],
      "execution_count": null,
      "outputs": []
    },
    {
      "cell_type": "code",
      "metadata": {
        "id": "QsksvkcXAAgq"
      },
      "source": [
        "tf.keras.backend.clear_session()\n",
        "tf.random.set_seed(51)\n",
        "np.random.seed(51)\n",
        "\n",
        "window_size = 60\n",
        "batch_size  = 100\n",
        "train_set   = windowed_dataset(x_train, window_size, batch_size, shuffle_buffer_size)\n",
        "\n",
        "print(train_set, '\\n')\n",
        "print(x_train.shape, '\\n')\n",
        "\n",
        "model = models.Sequential([\n",
        "    layers.Conv1D(filters = 60, kernel_size = 5, strides = 1, \n",
        "                  padding = 'causal', activation = 'relu', \n",
        "                  input_shape = [None, 1]),                           \n",
        "    layers.LSTM(60, return_sequences = True),\n",
        "    layers.LSTM(60, return_sequences = True),\n",
        "    layers.Dense(30, activation = 'relu'),\n",
        "    layers.Dense(10, activation = 'relu'),\n",
        "    layers.Dense(1),\n",
        "    layers.Lambda(lambda x: x * 400.0)                           \n",
        "])\n",
        "\n",
        "model.compile(loss = losses.Huber(),\n",
        "              optimizer = optimizers.SGD(learning_rate = 1e-5, momentum = 0.9),\n",
        "              metrics = ['mae'])\n",
        "\n",
        "history = model.fit(train_set, epochs = 500, verbose = 0)"
      ],
      "execution_count": null,
      "outputs": []
    },
    {
      "cell_type": "code",
      "metadata": {
        "id": "13XrorC5wQoE"
      },
      "source": [
        "rnn_forecast = model_forecast(model, series[..., np.newaxis], window_size)\n",
        "rnn_forecast = rnn_forecast[split_time - window_size:-1, -1, 0]\n",
        "\n",
        "plt.figure(figsize = (22, 7))\n",
        "plot_series(time_valid, x_valid)\n",
        "plot_series(time_valid, rnn_forecast)\n",
        "\n",
        "print(f'Forecast: {rnn_forecast}\\n')\n",
        "print(f'Error: {metrics.mean_absolute_error(x_valid, rnn_forecast).numpy()}')"
      ],
      "execution_count": null,
      "outputs": []
    },
    {
      "cell_type": "code",
      "metadata": {
        "id": "MD2kyYUVt3O0"
      },
      "source": [
        "# - Retrieve a list of results on training and test data sets for each \n",
        "# training epoch\n",
        "mae  = history.history['mae']\n",
        "loss = history.history['loss']\n",
        "epochs = range(len(loss)) # Number of epochs\n",
        "\n",
        "epochs_zoom = epochs[200:]\n",
        "mae_zoom    = mae[200:]\n",
        "loss_zoom   = loss[200:]\n",
        "\n",
        "fig, axs = plt.subplots(1, 2, figsize = (22, 10))\n",
        "\n",
        "axs[0].plot(epochs, mae, 'r',  label = 'MAE')\n",
        "axs[0].plot(epochs, loss, 'b', label = 'Loss')\n",
        "axs[0].set(xlabel = 'Epochs', ylabel = 'Accuracy', title = 'MAE and Loss')\n",
        "axs[0].legend()\n",
        "\n",
        "axs[1].plot(epochs_zoom, mae_zoom, 'r', label = 'MAE')\n",
        "axs[1].plot(epochs_zoom, loss_zoom, 'b', label = 'Loss')\n",
        "axs[1].set(xlabel = 'Epochs', ylabel = 'Accuracy', title = 'MAE and Loss')\n",
        "axs[1].legend()\n",
        "\n",
        "plt.tight_layout()\n",
        "plt.show()"
      ],
      "execution_count": null,
      "outputs": []
    }
  ]
}