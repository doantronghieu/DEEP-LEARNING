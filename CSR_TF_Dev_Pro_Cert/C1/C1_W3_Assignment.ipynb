{
  "cells": [
    {
      "cell_type": "markdown",
      "metadata": {
        "id": "view-in-github",
        "colab_type": "text"
      },
      "source": [
        "<a href=\"https://colab.research.google.com/github/doantronghieu/DEEP-LEARNING/blob/main/CSR_TF_Dev_Pro_Cert/C1/C1_W3_Assignment.ipynb\" target=\"_parent\"><img src=\"https://colab.research.google.com/assets/colab-badge.svg\" alt=\"Open In Colab\"/></a>"
      ]
    },
    {
      "cell_type": "markdown",
      "metadata": {
        "id": "iQjHqsmTAVLU"
      },
      "source": [
        "# Week 3: Improve MNIST with Convolutions\n",
        "\n",
        "In the videos you looked at how you would improve Fashion MNIST using Convolutions. For this exercise see if you can improve MNIST to 99.5% accuracy or more by adding only a single convolutional layer and a single MaxPooling 2D layer to the model from the  assignment of the previous week. \n",
        "\n",
        "You should stop training once the accuracy goes above this amount. It should happen in less than 10 epochs, so it's ok to hard code the number of epochs for training, but your training must end once it hits the above metric. If it doesn't, then you'll need to redesign your callback.\n",
        "\n",
        "When 99.5% accuracy has been hit, you should print out the string \"Reached 99.5% accuracy so cancelling training!\"\n"
      ]
    },
    {
      "cell_type": "code",
      "execution_count": 1,
      "metadata": {
        "id": "ZpztRwBouwYp"
      },
      "outputs": [],
      "source": [
        "import os\n",
        "import numpy as np\n",
        "\n",
        "import tensorflow as tf\n",
        "import tensorflow.keras as tfk\n",
        "from tensorflow.keras import layers\n",
        "from tensorflow.keras import optimizers\n",
        "from tensorflow import nn"
      ]
    },
    {
      "cell_type": "markdown",
      "metadata": {
        "id": "HYdwf09iCKSy"
      },
      "source": [
        "Begin by loading the data. A couple of things to notice:\n",
        "\n",
        "- The file `mnist.npz` is already included in the current workspace under the `data` directory. By default the `load_data` from Keras accepts a path relative to `~/.keras/datasets` but in this case it is stored somewhere else, as a result of this, you need to specify the full path.\n",
        "\n",
        "- `load_data` returns the train and test sets in the form of the tuples `(x_train, y_train), (x_test, y_test)` but in this exercise you will be needing only the train set so you can ignore the second tuple."
      ]
    },
    {
      "cell_type": "code",
      "execution_count": 2,
      "metadata": {
        "id": "sTtBO724CKSy",
        "outputId": "9d317971-8995-4793-b4e5-383580e41db5",
        "colab": {
          "base_uri": "https://localhost:8080/"
        }
      },
      "outputs": [
        {
          "output_type": "stream",
          "name": "stdout",
          "text": [
            "--2022-04-14 03:19:53--  https://github.com/doantronghieu/DEEP-LEARNING/blob/main/CSR_TF_Dev_Pro_Cert/C1/data.zip?raw=true\n",
            "Resolving github.com (github.com)... 140.82.112.3\n",
            "Connecting to github.com (github.com)|140.82.112.3|:443... connected.\n",
            "HTTP request sent, awaiting response... 302 Found\n",
            "Location: https://github.com/doantronghieu/DEEP-LEARNING/raw/main/CSR_TF_Dev_Pro_Cert/C1/data.zip [following]\n",
            "--2022-04-14 03:19:53--  https://github.com/doantronghieu/DEEP-LEARNING/raw/main/CSR_TF_Dev_Pro_Cert/C1/data.zip\n",
            "Reusing existing connection to github.com:443.\n",
            "HTTP request sent, awaiting response... 302 Found\n",
            "Location: https://raw.githubusercontent.com/doantronghieu/DEEP-LEARNING/main/CSR_TF_Dev_Pro_Cert/C1/data.zip [following]\n",
            "--2022-04-14 03:19:53--  https://raw.githubusercontent.com/doantronghieu/DEEP-LEARNING/main/CSR_TF_Dev_Pro_Cert/C1/data.zip\n",
            "Resolving raw.githubusercontent.com (raw.githubusercontent.com)... 185.199.111.133, 185.199.108.133, 185.199.110.133, ...\n",
            "Connecting to raw.githubusercontent.com (raw.githubusercontent.com)|185.199.111.133|:443... connected.\n",
            "HTTP request sent, awaiting response... 200 OK\n",
            "Length: 11499534 (11M) [application/zip]\n",
            "Saving to: ‘data.zip?raw=true’\n",
            "\n",
            "data.zip?raw=true   100%[===================>]  10.97M  --.-KB/s    in 0.07s   \n",
            "\n",
            "2022-04-14 03:19:54 (169 MB/s) - ‘data.zip?raw=true’ saved [11499534/11499534]\n",
            "\n",
            "Archive:  data.zip?raw=true\n",
            "  inflating: data/download.jpg       \n",
            "  inflating: data/mnist.npz          \n"
          ]
        }
      ],
      "source": [
        "!wget https://github.com/doantronghieu/DEEP-LEARNING/blob/main/CSR_TF_Dev_Pro_Cert/C1/data.zip?raw=true\n",
        "!unzip data.zip?raw=true"
      ]
    },
    {
      "cell_type": "code",
      "source": [
        "# Load the data\n",
        "\n",
        "# Get current working directory\n",
        "current_dir = os.getcwd()\n",
        "\n",
        "# Append data/mnist.npz to the previous path to get the full path\n",
        "data_path = os.path.join(current_dir, 'data/mnist.npz')\n",
        "\n",
        "# Get only training set\n",
        "(training_images, training_labels), _ = tfk.datasets.mnist.load_data(path=data_path)"
      ],
      "metadata": {
        "id": "Ro4xsuFcFb6C"
      },
      "execution_count": 3,
      "outputs": []
    },
    {
      "cell_type": "markdown",
      "metadata": {
        "id": "slCZaqxFCKSz"
      },
      "source": [
        "One important step when dealing with image data is to preprocess the data. During the preprocess step you can apply transformations to the dataset that will be fed into your convolutional neural network.\n",
        "\n",
        "Here you will apply two transformations to the data:\n",
        "- Reshape the data so that it has an extra dimension. The reason for this \n",
        "is that commonly you will use 3-dimensional arrays (without counting the batch dimension) to represent image data. The third dimension represents the color using RGB values. This data might be in black and white format so the third dimension doesn't really add any additional information for the classification process but it is a good practice regardless.\n",
        "\n",
        "\n",
        "- Normalize the pixel values so that these are values between 0 and 1. You can achieve this by dividing every value in the array by the maximum.\n",
        "\n",
        "Remember that these tensors are of type `numpy.ndarray` so you can use functions like [reshape](https://numpy.org/doc/stable/reference/generated/numpy.reshape.html) or [divide](https://numpy.org/doc/stable/reference/generated/numpy.divide.html) to complete the `reshape_and_normalize` function below:"
      ]
    },
    {
      "cell_type": "code",
      "execution_count": 4,
      "metadata": {
        "id": "j78_m21FCKS0"
      },
      "outputs": [],
      "source": [
        "def reshape_and_normalize(images):\n",
        "    \n",
        "    # Reshape the images to add an extra dimension\n",
        "    images = np.expand_dims(images, axis=-1)\n",
        "\n",
        "    # Normalize the pixel values\n",
        "    images = images / 255.0\n",
        "\n",
        "    return images"
      ]
    },
    {
      "cell_type": "markdown",
      "metadata": {
        "id": "vZt5KRsACKS0"
      },
      "source": [
        "Test your function with the next cell:"
      ]
    },
    {
      "cell_type": "code",
      "execution_count": 5,
      "metadata": {
        "id": "GNrjk0YfCKS1",
        "outputId": "f0ce0698-dc4b-447e-eb5f-9b1d0016c708",
        "colab": {
          "base_uri": "https://localhost:8080/"
        }
      },
      "outputs": [
        {
          "output_type": "stream",
          "name": "stdout",
          "text": [
            "Maximum pixel value after normalization: 1.0\n",
            "Shape of training set after reshaping:   (60000, 28, 28, 1)\n",
            "Shape of one image after reshaping:      (28, 28, 1)\n"
          ]
        }
      ],
      "source": [
        "# Reload the images\n",
        "(training_images, _), _ = tfk.datasets.mnist.load_data(path=data_path)\n",
        "\n",
        "# Apply function\n",
        "training_images = reshape_and_normalize(training_images)\n",
        "\n",
        "print(f'Maximum pixel value after normalization: {np.max(training_images)}')\n",
        "print(f'Shape of training set after reshaping:   {training_images.shape}')\n",
        "print(f'Shape of one image after reshaping:      {training_images[0].shape}')"
      ]
    },
    {
      "cell_type": "markdown",
      "metadata": {
        "id": "CaPzwcpVCKS2"
      },
      "source": [
        "Now complete the callback that will ensure that training will stop after an accuracy of 99.5% is reached:"
      ]
    },
    {
      "cell_type": "code",
      "execution_count": 6,
      "metadata": {
        "id": "dgp8LeiHCKS2"
      },
      "outputs": [],
      "source": [
        "# Inherit from the Callback class\n",
        "class myCallback(tfk.callbacks.Callback):\n",
        "    \n",
        "    # Define the method that checks the accuracy at the end of each epoch\n",
        "    def on_epoch_end(self, epoch, logs={}):\n",
        "        if (logs.get('accuracy') is not None and logs.get('accuracy') > 0.995):\n",
        "            print('\\nReached 99.5% accuracy so cancelling training!')\n",
        "\n",
        "            # Stop training once the above condition is met\n",
        "            self.model.stop_training = True"
      ]
    },
    {
      "cell_type": "markdown",
      "metadata": {
        "id": "KKbvcSqqCKS2"
      },
      "source": [
        "Finally, complete the `convolutional_model` function below. This function should return your convolutional neural network:"
      ]
    },
    {
      "cell_type": "code",
      "execution_count": 7,
      "metadata": {
        "id": "OJ51V7--CKS3"
      },
      "outputs": [],
      "source": [
        "def convolutional_model():\n",
        "    \"\"\"\n",
        "    Define the model, it should have 5 layers:\n",
        "    - A Conv2D layer with 32 filters, a kernel_size of 3x3, ReLU activation function\n",
        "       and an input shape that matches that of every image in the training set\n",
        "    - A MaxPooling2D layer with a pool_size of 2x2\n",
        "    - A Flatten layer with no arguments\n",
        "    - A Dense layer with 128 units and ReLU activation function\n",
        "    - A Dense layer with 10 units and softmax activation function\n",
        "    \"\"\"\n",
        "\n",
        "    model = tfk.models.Sequential([\n",
        "        layers.Conv2D(32, (3, 3), activation=nn.relu, input_shape=(28, 28, 1)),\n",
        "        layers.MaxPooling2D(2, 2),\n",
        "        layers.Flatten(),\n",
        "        layers.Dense(128, activation=nn.relu),\n",
        "        layers.Dense(10, activation=nn.softmax)                                   \n",
        "    ])\n",
        "\n",
        "    # Compile the model\n",
        "    model.compile(optimizer=optimizers.Adam(),\n",
        "                  loss='sparse_categorical_crossentropy',\n",
        "                  metrics=['accuracy'])\n",
        "    \n",
        "    return model"
      ]
    },
    {
      "cell_type": "code",
      "execution_count": 8,
      "metadata": {
        "id": "D0Kca6QPCKS3",
        "outputId": "d6c1ec48-611b-44ce-baa1-2066143a8839",
        "colab": {
          "base_uri": "https://localhost:8080/"
        }
      },
      "outputs": [
        {
          "output_type": "stream",
          "name": "stdout",
          "text": [
            "Epoch 1/10\n",
            "1875/1875 [==============================] - 31s 16ms/step - loss: 0.1459 - accuracy: 0.9569\n",
            "Epoch 2/10\n",
            "1875/1875 [==============================] - 31s 16ms/step - loss: 0.0509 - accuracy: 0.9842\n",
            "Epoch 3/10\n",
            "1875/1875 [==============================] - 30s 16ms/step - loss: 0.0328 - accuracy: 0.9901\n",
            "Epoch 4/10\n",
            "1875/1875 [==============================] - 30s 16ms/step - loss: 0.0208 - accuracy: 0.9938\n",
            "Epoch 5/10\n",
            "1875/1875 [==============================] - ETA: 0s - loss: 0.0146 - accuracy: 0.9951\n",
            "Reached 99.5% accuracy so cancelling training!\n",
            "1875/1875 [==============================] - 30s 16ms/step - loss: 0.0146 - accuracy: 0.9951\n"
          ]
        }
      ],
      "source": [
        "# Save our untrained model\n",
        "model = convolutional_model()\n",
        "\n",
        "# Instantiate the callback class\n",
        "callbacks = myCallback()\n",
        "\n",
        "# Train the model\n",
        "history = model.fit(training_images, training_labels, epochs=10, callbacks=[callbacks])"
      ]
    },
    {
      "cell_type": "markdown",
      "metadata": {
        "id": "IkzyDJdmCKS3"
      },
      "source": [
        "If you see the message that you defined in your callback printed out after less than 10 epochs it means your callback worked as expected. You can also double check by running the following cell:"
      ]
    },
    {
      "cell_type": "code",
      "execution_count": 9,
      "metadata": {
        "id": "ymMkm21gCKS3",
        "outputId": "7ca35f05-cc15-4bb8-b724-9ec43b9a10a2",
        "colab": {
          "base_uri": "https://localhost:8080/"
        }
      },
      "outputs": [
        {
          "output_type": "stream",
          "name": "stdout",
          "text": [
            "Your model was trained for 5 epochs\n"
          ]
        }
      ],
      "source": [
        "print(f\"Your model was trained for {len(history.epoch)} epochs\")"
      ]
    },
    {
      "cell_type": "markdown",
      "metadata": {
        "id": "9doh8cRpCKS4"
      },
      "source": [
        "**Congratulations on finishing this week's assignment!**\n",
        "\n",
        "You have successfully implemented a CNN to assist you in the image classification task. Nice job!\n",
        "\n",
        "**Keep it up!**"
      ]
    }
  ],
  "metadata": {
    "jupytext": {
      "main_language": "python"
    },
    "kernelspec": {
      "display_name": "Python 3",
      "name": "python3"
    },
    "colab": {
      "name": "C1_W3_Assignment.ipynb",
      "provenance": [],
      "include_colab_link": true
    }
  },
  "nbformat": 4,
  "nbformat_minor": 0
}