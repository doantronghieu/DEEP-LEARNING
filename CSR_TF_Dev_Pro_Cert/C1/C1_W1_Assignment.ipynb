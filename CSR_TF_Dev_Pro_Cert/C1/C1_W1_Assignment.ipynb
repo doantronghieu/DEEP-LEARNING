{
 "cells": [
  {
   "cell_type": "markdown",
   "metadata": {
    "id": "mw2VBrBcgvGa"
   },
   "source": [
    "# Week 1 Assignment: Housing Prices\n",
    "\n",
    "In this exercise you'll try to build a neural network that predicts the price of a house according to a simple formula.\n",
    "\n",
    "Imagine that house pricing is as easy as:\n",
    "\n",
    "A house has a base cost of 50k, and every additional bedroom adds a cost of 50k. This will make a 1 bedroom house cost 100k, a 2 bedroom house cost 150k etc.\n",
    "\n",
    "How would you create a neural network that learns this relationship so that it would predict a 7 bedroom house as costing close to 400k etc.\n",
    "\n",
    "Hint: Your network might work better if you scale the house price down. You don't have to give the answer 400...it might be better to create something that predicts the number 4, and then your answer is in the 'hundreds of thousands' etc."
   ]
  },
  {
   "cell_type": "code",
   "execution_count": 1,
   "metadata": {
    "id": "PUNO2E6SeURH"
   },
   "outputs": [],
   "source": [
    "import tensorflow as tf\n",
    "import numpy as np"
   ]
  },
  {
   "cell_type": "code",
   "execution_count": 2,
   "metadata": {
    "id": "B-74xrKrBqGJ"
   },
   "outputs": [],
   "source": [
    "def house_model():\n",
    "    # Define input and output tensors with the values for houses with 1 up to 6 bedrooms\n",
    "    # Explicitly set the dtype as float\n",
    "    xs = np.array([1.0, 2.0, 3.0, 4.0, 5.0, 6.0], dtype=float)\n",
    "    ys = np.array([1.0, 1.5, 2.0, 2.5, 3.0, 3.5], dtype=float)\n",
    "    \n",
    "    # Define the model (1 dense layer and 1 unit)\n",
    "    model = tf.keras.Sequential([\n",
    "        tf.keras.layers.Dense(units=1, input_shape=[1])\n",
    "    ])\n",
    "    \n",
    "    # Compile the model\n",
    "    # Set the optimizer to Stochastic Gradient Descent\n",
    "    # Use Mean Squared Error as the loss function\n",
    "    model.compile(optimizer='sgd', loss='mean_squared_error')\n",
    "    \n",
    "    # Train the model for 1000 epochs by feeding the i/o tensors\n",
    "    model.fit(xs, ys, epochs=50)\n",
    "    \n",
    "    return model"
   ]
  },
  {
   "cell_type": "markdown",
   "metadata": {},
   "source": [
    "Now that you have a function that returns a compiled and trained model when invoked, use it to get the model to predict the price of houses: "
   ]
  },
  {
   "cell_type": "code",
   "execution_count": 3,
   "metadata": {},
   "outputs": [
    {
     "name": "stdout",
     "output_type": "stream",
     "text": [
      "Epoch 1/50\n",
      "1/1 [==============================] - 0s 310ms/step - loss: 74.7624\n",
      "Epoch 2/50\n",
      "1/1 [==============================] - 0s 3ms/step - loss: 34.6023\n",
      "Epoch 3/50\n",
      "1/1 [==============================] - 0s 3ms/step - loss: 16.0150\n",
      "Epoch 4/50\n",
      "1/1 [==============================] - 0s 3ms/step - loss: 7.4122\n",
      "Epoch 5/50\n",
      "1/1 [==============================] - 0s 2ms/step - loss: 3.4306\n",
      "Epoch 6/50\n",
      "1/1 [==============================] - 0s 2ms/step - loss: 1.5878\n",
      "Epoch 7/50\n",
      "1/1 [==============================] - 0s 1ms/step - loss: 0.7349\n",
      "Epoch 8/50\n",
      "1/1 [==============================] - 0s 2ms/step - loss: 0.3401\n",
      "Epoch 9/50\n",
      "1/1 [==============================] - 0s 3ms/step - loss: 0.1574\n",
      "Epoch 10/50\n",
      "1/1 [==============================] - 0s 3ms/step - loss: 0.0729\n",
      "Epoch 11/50\n",
      "1/1 [==============================] - 0s 3ms/step - loss: 0.0337\n",
      "Epoch 12/50\n",
      "1/1 [==============================] - 0s 4ms/step - loss: 0.0156\n",
      "Epoch 13/50\n",
      "1/1 [==============================] - 0s 4ms/step - loss: 0.0072\n",
      "Epoch 14/50\n",
      "1/1 [==============================] - 0s 2ms/step - loss: 0.0034\n",
      "Epoch 15/50\n",
      "1/1 [==============================] - 0s 2ms/step - loss: 0.0016\n",
      "Epoch 16/50\n",
      "1/1 [==============================] - 0s 4ms/step - loss: 7.2741e-04\n",
      "Epoch 17/50\n",
      "1/1 [==============================] - 0s 2ms/step - loss: 3.4263e-04\n",
      "Epoch 18/50\n",
      "1/1 [==============================] - 0s 2ms/step - loss: 1.6450e-04\n",
      "Epoch 19/50\n",
      "1/1 [==============================] - 0s 1000us/step - loss: 8.2014e-05\n",
      "Epoch 20/50\n",
      "1/1 [==============================] - 0s 3ms/step - loss: 4.3791e-05\n",
      "Epoch 21/50\n",
      "1/1 [==============================] - 0s 2ms/step - loss: 2.6059e-05\n",
      "Epoch 22/50\n",
      "1/1 [==============================] - 0s 3ms/step - loss: 1.7811e-05\n",
      "Epoch 23/50\n",
      "1/1 [==============================] - 0s 3ms/step - loss: 1.3951e-05\n",
      "Epoch 24/50\n",
      "1/1 [==============================] - 0s 6ms/step - loss: 1.2124e-05\n",
      "Epoch 25/50\n",
      "1/1 [==============================] - 0s 2ms/step - loss: 1.1236e-05\n",
      "Epoch 26/50\n",
      "1/1 [==============================] - 0s 2ms/step - loss: 1.0785e-05\n",
      "Epoch 27/50\n",
      "1/1 [==============================] - 0s 3ms/step - loss: 1.0535e-05\n",
      "Epoch 28/50\n",
      "1/1 [==============================] - 0s 3ms/step - loss: 1.0379e-05\n",
      "Epoch 29/50\n",
      "1/1 [==============================] - 0s 3ms/step - loss: 1.0267e-05\n",
      "Epoch 30/50\n",
      "1/1 [==============================] - 0s 4ms/step - loss: 1.0175e-05\n",
      "Epoch 31/50\n",
      "1/1 [==============================] - 0s 4ms/step - loss: 1.0093e-05\n",
      "Epoch 32/50\n",
      "1/1 [==============================] - 0s 3ms/step - loss: 1.0016e-05\n",
      "Epoch 33/50\n",
      "1/1 [==============================] - 0s 3ms/step - loss: 9.9412e-06\n",
      "Epoch 34/50\n",
      "1/1 [==============================] - 0s 2ms/step - loss: 9.8679e-06\n",
      "Epoch 35/50\n",
      "1/1 [==============================] - 0s 3ms/step - loss: 9.7957e-06\n",
      "Epoch 36/50\n",
      "1/1 [==============================] - 0s 3ms/step - loss: 9.7241e-06\n",
      "Epoch 37/50\n",
      "1/1 [==============================] - 0s 3ms/step - loss: 9.6531e-06\n",
      "Epoch 38/50\n",
      "1/1 [==============================] - 0s 4ms/step - loss: 9.5828e-06\n",
      "Epoch 39/50\n",
      "1/1 [==============================] - 0s 2ms/step - loss: 9.5130e-06\n",
      "Epoch 40/50\n",
      "1/1 [==============================] - 0s 3ms/step - loss: 9.4434e-06\n",
      "Epoch 41/50\n",
      "1/1 [==============================] - 0s 2ms/step - loss: 9.3749e-06\n",
      "Epoch 42/50\n",
      "1/1 [==============================] - 0s 4ms/step - loss: 9.3064e-06\n",
      "Epoch 43/50\n",
      "1/1 [==============================] - 0s 2ms/step - loss: 9.2385e-06\n",
      "Epoch 44/50\n",
      "1/1 [==============================] - 0s 2ms/step - loss: 9.1714e-06\n",
      "Epoch 45/50\n",
      "1/1 [==============================] - 0s 4ms/step - loss: 9.1045e-06\n",
      "Epoch 46/50\n",
      "1/1 [==============================] - 0s 3ms/step - loss: 9.0384e-06\n",
      "Epoch 47/50\n",
      "1/1 [==============================] - 0s 3ms/step - loss: 8.9723e-06\n",
      "Epoch 48/50\n",
      "1/1 [==============================] - 0s 4ms/step - loss: 8.9071e-06\n",
      "Epoch 49/50\n",
      "1/1 [==============================] - 0s 3ms/step - loss: 8.8422e-06\n",
      "Epoch 50/50\n",
      "1/1 [==============================] - 0s 4ms/step - loss: 8.7777e-06\n"
     ]
    }
   ],
   "source": [
    "# Get the trained model\n",
    "model = house_model()"
   ]
  },
  {
   "cell_type": "markdown",
   "metadata": {},
   "source": [
    "Now that your model has finished training it is time to test it out! You can do so by running the next cell."
   ]
  },
  {
   "cell_type": "code",
   "execution_count": 4,
   "metadata": {
    "id": "kMlInDdSBqGK"
   },
   "outputs": [
    {
     "name": "stdout",
     "output_type": "stream",
     "text": [
      "[4.0042734]\n"
     ]
    }
   ],
   "source": [
    "new_y = 7.0\n",
    "prediction = model.predict([new_y])[0]\n",
    "print(prediction)"
   ]
  },
  {
   "cell_type": "markdown",
   "metadata": {},
   "source": [
    "If everything went as expected you should see a prediction value very close to 4. **If not, try adjusting your code before submitting the assignment.** Notice that you can play around with the value of `new_y` to get different predictions. In general you should see that the network was able to learn the linear relationship between `x` and `y`, so if you use a value of 8.0 you should get a prediction close to 4.5 and so on."
   ]
  },
  {
   "cell_type": "markdown",
   "metadata": {},
   "source": [
    "**Congratulations on finishing this week's assignment!**\n",
    "\n",
    "You have successfully coded a neural network that learned the linear relationship between two variables. Nice job!\n",
    "\n",
    "**Keep it up!**"
   ]
  }
 ],
 "metadata": {
  "kernelspec": {
   "display_name": "Python 3",
   "language": "python",
   "name": "python3"
  },
  "language_info": {
   "codemirror_mode": {
    "name": "ipython",
    "version": 3
   },
   "file_extension": ".py",
   "mimetype": "text/x-python",
   "name": "python",
   "nbconvert_exporter": "python",
   "pygments_lexer": "ipython3",
   "version": "3.9.7"
  }
 },
 "nbformat": 4,
 "nbformat_minor": 4
}
