{
  "cells": [
    {
      "cell_type": "markdown",
      "metadata": {
        "id": "RL72cmsUlSd6"
      },
      "source": [
        "<a href=\"https://colab.research.google.com/github/https-deeplearning-ai/tensorflow-1-public/blob/master/C3/W3/ungraded_labs/C3_W3_Lab_3_Conv1D.ipynb\" target=\"_parent\"><img src=\"https://colab.research.google.com/assets/colab-badge.svg\" alt=\"Open In Colab\"/></a>"
      ]
    },
    {
      "cell_type": "code",
      "source": [
        "!wget https://raw.githubusercontent.com/doantronghieu/DEEP-LEARNING/main/helper_DL.py\n",
        "!pip install colorama\n",
        "import matplotlib.pyplot as plt\n",
        "plt.rcParams.update({'font.size':15})\n",
        "import seaborn           as sns\n",
        "sns.set()\n",
        "import helper_DL as helper"
      ],
      "metadata": {
        "id": "pGDr6176leom"
      },
      "execution_count": null,
      "outputs": []
    },
    {
      "cell_type": "markdown",
      "metadata": {
        "id": "rFiCyWQ-NC5D"
      },
      "source": [
        "# Ungraded Lab: Using Convolutional Neural Networks\n",
        "\n",
        "In this lab, you will look at another way of building your text classification model and this will be with a convolution layer. As you learned in Course 2 of this specialization, convolutions extract features by applying filters to the input. Let's see how you can use that for text data in the next sections."
      ]
    },
    {
      "cell_type": "markdown",
      "metadata": {
        "id": "djvGxIRDHT5e"
      },
      "source": [
        "## Download and prepare the dataset"
      ]
    },
    {
      "cell_type": "code",
      "execution_count": null,
      "metadata": {
        "id": "Y20Lud2ZMBhW"
      },
      "outputs": [],
      "source": [
        "import tensorflow_datasets as tfds\n",
        "\n",
        "# Download the subword encoded pretokenized dataset\n",
        "dataset, info = tfds.load('imdb_reviews/subwords8k', with_info = True, as_supervised = True)\n",
        "\n",
        "# Get then tokenizer\n",
        "tokenizer = info.features['text'].encoder"
      ]
    },
    {
      "cell_type": "code",
      "execution_count": null,
      "metadata": {
        "id": "AW-4Vo4TMUHb"
      },
      "outputs": [],
      "source": [
        "BUFFER_SIZE = 10000\n",
        "BATCH_SIZE  = 256\n",
        "\n",
        "# Get the train and test splits\n",
        "train_data, test_data = dataset['train'], dataset['test']\n",
        "\n",
        "# Shuffle the training data\n",
        "train_dataset = train_data.shuffle(BUFFER_SIZE)\n",
        "\n",
        "# Batch and pad the datasets to the maximum length of the sequences\n",
        "train_dataset = train_dataset.padded_batch(BATCH_SIZE)\n",
        "test_dataset  = test_data    .padded_batch(BATCH_SIZE)"
      ]
    },
    {
      "cell_type": "markdown",
      "metadata": {
        "id": "nfatNr6-IAcd"
      },
      "source": [
        "## Build the Model\n",
        "\n",
        "In Course 2, you were using 2D convolution layers because you were applying it on images. For temporal data such as text sequences, you will use [Conv1D](https://www.tensorflow.org/api_docs/python/tf/keras/layers/Conv1D) instead so the convolution will happen over a single dimension. You will also append a pooling layer to reduce the output of the convolution layer. For this lab, you will use [GlobalMaxPooling1D](https://www.tensorflow.org/api_docs/python/tf/keras/layers/GlobalMaxPool1D) to get the max value across the time dimension. You can also use average pooling and you will do that in the next labs. See how these layers behave as standalone layers in the cell below."
      ]
    },
    {
      "cell_type": "code",
      "source": [
        "import tensorflow as tf\n",
        "import tensorflow.keras as tfk\n",
        "from tensorflow import nn\n",
        "from tensorflow.keras import layers, losses, optimizers, models, Model\n",
        "import numpy as np"
      ],
      "metadata": {
        "id": "KluX8Yu_lsM2"
      },
      "execution_count": null,
      "outputs": []
    },
    {
      "cell_type": "code",
      "execution_count": null,
      "metadata": {
        "id": "Ay87qbqwIJaV"
      },
      "outputs": [],
      "source": [
        "# Hyperparameters\n",
        "BATCH_SIZE  = 1   # Batch size\n",
        "TIMESTEPS   = 20  # Sequence length\n",
        "FEATURES    = 20  # Embedding size\n",
        "FILTERS     = 128\n",
        "KERNEL_SIZE = 5\n",
        "\n",
        "# Define array input with random values\n",
        "random_input = np.random.rand(BATCH_SIZE, TIMESTEPS, FEATURES)\n",
        "print(f'Shape of input array: {random_input.shape}')\n",
        "\n",
        "# Pass array to convolution layer and inspect output shape\n",
        "conv1d = layers.Conv1D(filters = FILTERS, kernel_size = KERNEL_SIZE, activation = nn.relu)\n",
        "result = conv1d(random_input)\n",
        "print(f'Shape of conv1d output: {result.shape}')\n",
        "\n",
        "# Pass array to max pooling layer and inspect output shape\n",
        "gmp = layers.GlobalMaxPooling1D()\n",
        "result = gmp(result)\n",
        "print(f'Shape of global max pooling output: {result.shape}')"
      ]
    },
    {
      "cell_type": "markdown",
      "metadata": {
        "id": "lNNYF7tqO7it"
      },
      "source": [
        "You can build the model by simply appending the convolution and pooling layer after the embedding layer as shown below."
      ]
    },
    {
      "cell_type": "code",
      "execution_count": null,
      "metadata": {
        "id": "jo1jjO3vn0jo"
      },
      "outputs": [],
      "source": [
        "# Hyperparameters\n",
        "EMBEDDING_DIM = 64\n",
        "FILERS        = 128\n",
        "KERNEL_SIZE   = 5\n",
        "DENSE_DIM     = 64\n",
        "\n",
        "# Buid the model\n",
        "model = models.Sequential([\n",
        "    layers.Embedding(tokenizer.vocab_size, EMBEDDING_DIM),\n",
        "    layers.Conv1D(filters = FILTERS, kernel_size = KERNEL_SIZE, activation = nn.relu),\n",
        "    layers.GlobalMaxPooling1D(),\n",
        "    layers.Dense(DENSE_DIM, activation = nn.relu),\n",
        "    layers.Dense(1, activation = nn.sigmoid)                         \n",
        "])\n",
        "\n",
        "model.summary()\n",
        "\n",
        "# Set the training parameters\n",
        "model.compile(loss = losses.binary_crossentropy,\n",
        "              optimizer = optimizers.Adam(),\n",
        "              metrics = ['accuracy'])"
      ]
    },
    {
      "cell_type": "markdown",
      "metadata": {
        "id": "iLJu8HEvPG0L"
      },
      "source": [
        "## Train the model\n",
        "\n",
        "Training will take around 30 seconds per epoch and you will notice that it reaches higher accuracies than the previous models you've built."
      ]
    },
    {
      "cell_type": "code",
      "execution_count": null,
      "metadata": {
        "id": "7mlgzaRDMtF6"
      },
      "outputs": [],
      "source": [
        "NUM_EPOCHS = 10\n",
        "\n",
        "history = model.fit(train_dataset, epochs = NUM_EPOCHS, validation_data = test_dataset)"
      ]
    },
    {
      "cell_type": "code",
      "execution_count": null,
      "metadata": {
        "id": "Mp1Z7P9pYRSK"
      },
      "outputs": [],
      "source": [
        "helper.plot_history_curves(history)"
      ]
    },
    {
      "cell_type": "markdown",
      "metadata": {
        "id": "0rD7ZS84PlUp"
      },
      "source": [
        "## Wrap Up\n",
        "\n",
        "In this lab, you explored another model architecture you can use for text classification. In the next lessons, you will revisit full word encoding of the IMDB reviews and compare which model works best when the data is prepared that way."
      ]
    }
  ],
  "metadata": {
    "accelerator": "GPU",
    "colab": {
      "collapsed_sections": [],
      "name": "C3_W3_Lab_3_Conv1D.ipynb",
      "private_outputs": true,
      "provenance": []
    },
    "kernelspec": {
      "display_name": "Python 3",
      "language": "python",
      "name": "python3"
    },
    "language_info": {
      "codemirror_mode": {
        "name": "ipython",
        "version": 3
      },
      "file_extension": ".py",
      "mimetype": "text/x-python",
      "name": "python",
      "nbconvert_exporter": "python",
      "pygments_lexer": "ipython3",
      "version": "3.7.4"
    }
  },
  "nbformat": 4,
  "nbformat_minor": 0
}