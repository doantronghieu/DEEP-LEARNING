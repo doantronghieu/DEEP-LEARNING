{
  "cells": [
    {
      "cell_type": "markdown",
      "metadata": {
        "id": "ilD-UPAr0Aa1"
      },
      "source": [
        "<a href=\"https://colab.research.google.com/github/https-deeplearning-ai/tensorflow-1-public/blob/master/C3/W4/ungraded_labs/C3_W4_Lab_2_irish_lyrics.ipynb\" target=\"_parent\"><img src=\"https://colab.research.google.com/assets/colab-badge.svg\" alt=\"Open In Colab\"/></a>"
      ]
    },
    {
      "cell_type": "code",
      "source": [
        "!wget https://raw.githubusercontent.com/doantronghieu/DEEP-LEARNING/main/helper_DL.py\n",
        "!pip install colorama\n",
        "import matplotlib.pyplot as plt\n",
        "plt.rcParams.update({'font.size':15})\n",
        "import seaborn           as sns\n",
        "sns.set()\n",
        "import helper_DL as helper"
      ],
      "metadata": {
        "id": "aZTOXznW0Gjb"
      },
      "execution_count": null,
      "outputs": []
    },
    {
      "cell_type": "markdown",
      "metadata": {
        "id": "SqIxQYm8h06Z"
      },
      "source": [
        "# Ungraded Lab: Generating Text from Irish Lyrics\n",
        "\n",
        "In the previous lab, you trained a model on just a single song. You might have found that the output text can quickly become gibberish or repetitive. Even if you tweak the hyperparameters, the model will still be limited by its vocabulary of only 263 words. The model will be more flexible if you train it on a much larger corpus and that's what you'll be doing in this lab. You will use lyrics from more Irish songs then see how the generated text looks like. You will also see how this impacts the process from data preparation to model training. Let's get started!"
      ]
    },
    {
      "cell_type": "markdown",
      "metadata": {
        "id": "wb1mfOvch4Sv"
      },
      "source": [
        "## Imports"
      ]
    },
    {
      "cell_type": "code",
      "execution_count": null,
      "metadata": {
        "id": "BOwsuGQQY9OL"
      },
      "outputs": [],
      "source": [
        "import numpy as np\n",
        "import tensorflow as tf\n",
        "import tensorflow.keras as tfk\n",
        "from tensorflow import nn\n",
        "from tensorflow.keras import layers, losses, optimizers, models, Model\n",
        "import tensorflow.keras.preprocessing as tfkp"
      ]
    },
    {
      "cell_type": "markdown",
      "metadata": {
        "id": "jmBFI788pOXx"
      },
      "source": [
        "## Building the Word Vocabulary\n",
        "\n",
        "You will first download the lyrics dataset. These will be from a compilation of traditional Irish songs and you can see them [here](https://github.com/https-deeplearning-ai/tensorflow-1-public/blob/main/C3/W4/misc/Laurences_generated_poetry.txt). "
      ]
    },
    {
      "cell_type": "code",
      "execution_count": null,
      "metadata": {
        "id": "pylt5qZYsWPh"
      },
      "outputs": [],
      "source": [
        "# Download the dataset\n",
        "!wget https://storage.googleapis.com/tensorflow-1-public/course3/irish-lyrics-eof.txt"
      ]
    },
    {
      "cell_type": "markdown",
      "metadata": {
        "id": "-v6JYQGNPXCW"
      },
      "source": [
        "Next, you will lowercase and split the plain text into a list of sentences:"
      ]
    },
    {
      "cell_type": "code",
      "execution_count": null,
      "metadata": {
        "id": "LKOO7DFCPX3L"
      },
      "outputs": [],
      "source": [
        "# Load the dataset\n",
        "data = open('./irish-lyrics-eof.txt').read()\n",
        "\n",
        "# Lower case and split the text\n",
        "corpus = data.lower().split('\\n')\n",
        "\n",
        "print(corpus)"
      ]
    },
    {
      "cell_type": "markdown",
      "metadata": {
        "id": "EkP2CP0qP8RD"
      },
      "source": [
        "From here, you can initialize the `Tokenizer` class and generate the word index dictionary:"
      ]
    },
    {
      "cell_type": "code",
      "execution_count": null,
      "metadata": {
        "id": "PRnDnCW-Z7qv"
      },
      "outputs": [],
      "source": [
        "# Initialize the Tokenizer class\n",
        "tokenizer = tfkp.text.Tokenizer()\n",
        "\n",
        "# Generate the word index dictionary\n",
        "tokenizer.fit_on_texts(corpus)\n",
        "\n",
        "# Define the total words. Add 1 for the index `0` which is just the padding token.\n",
        "total_words = len(tokenizer.word_index) + 1\n",
        "\n",
        "print(f'Word index dictionary:\\n{tokenizer.word_index}\\n')\n",
        "print(f'Total words: {total_words}')"
      ]
    },
    {
      "cell_type": "markdown",
      "metadata": {
        "id": "JK29FzZ7QW-4"
      },
      "source": [
        "## Preprocessing the Dataset\n",
        "\n",
        "Next, you will generate the inputs and labels for your model. The process will be identical to the previous lab. The `xs` or inputs to the model will be padded sequences, while the `ys` or labels are one-hot encoded arrays."
      ]
    },
    {
      "cell_type": "code",
      "execution_count": null,
      "metadata": {
        "id": "soPGVheskaQP"
      },
      "outputs": [],
      "source": [
        "# Initialize the sequences list\n",
        "input_sequences = []\n",
        "\n",
        "# Loop over every line\n",
        "for line in corpus:\n",
        "\n",
        "\t# Tokenize the current line\n",
        "\ttoken_list = tokenizer.texts_to_sequences([line])[0]\n",
        "\n",
        "\t# Loop over the line several times to generate the subphrases\n",
        "\tfor i in range(1, len(token_list)):\n",
        "\t\t\n",
        "\t\t# Generate the subphrase\n",
        "\t\tn_gram_sequence = token_list[:i+1]\n",
        "\n",
        "\t\t# Append the subphrase the the sequences list\n",
        "\t\tinput_sequences.append(n_gram_sequence)\n",
        "  \n",
        "# Get the length of the longest line\n",
        "max_sequence_len = max([len(x) for x in input_sequences])\n",
        "\n",
        "# Pad all sequences\n",
        "input_sequences = np.array(tfkp.sequence.pad_sequences(input_sequences,\n",
        "                                                       maxlen = max_sequence_len,\n",
        "\t\t\t\t\t\t\t\t\t\t\t\t\t   padding = 'pre'))\n",
        "\n",
        "# Create inputs and label by splitting the last token in the subphrase\n",
        "xs     = input_sequences[:, :-1]\n",
        "labels = input_sequences[:, -1]\n",
        "\n",
        "# Convert the label into one-hot arrays\n",
        "ys = tfk.utils.to_categorical(labels, num_classes = total_words)\n",
        "\n",
        "print(xs.shape, '-', ys.shape)"
      ]
    },
    {
      "cell_type": "markdown",
      "metadata": {
        "id": "TmWHCO0dQGlZ"
      },
      "source": [
        "You can then print some of the examples as a sanity check."
      ]
    },
    {
      "cell_type": "code",
      "execution_count": null,
      "metadata": {
        "id": "pJtwVB2NbOAP"
      },
      "outputs": [],
      "source": [
        "# Get sample sentence\n",
        "sentence = corpus[0].split()\n",
        "\n",
        "# Initialize token list\n",
        "token_list = []\n",
        "\n",
        "# Look up the indices of each word and append to the list\n",
        "for word in sentence:\n",
        "    token_list.append(tokenizer.word_index[word])\n",
        "\n",
        "print(f'Corpus: {corpus}\\n')\n",
        "print(f'Sentence: {sentence}\\n')\n",
        "print(f'Token list: {token_list}')"
      ]
    },
    {
      "cell_type": "code",
      "execution_count": null,
      "metadata": {
        "id": "lMr6kKfzROlW"
      },
      "outputs": [],
      "source": [
        "# Pick element\n",
        "elem_number = 5\n",
        "\n",
        "# Print token list and phrase\n",
        "print(f'Token list:\\n{xs[elem_number]}\\n')\n",
        "print(f'Decoded to text: {tokenizer.sequences_to_texts([xs[elem_number]])}\\n')\n",
        "\n",
        "# Print label\n",
        "print(f'Ont-hot label:\\n{ys[elem_number]}\\n')\n",
        "print(f'Index of label: {np.argmax(ys[elem_number])}')"
      ]
    },
    {
      "cell_type": "markdown",
      "metadata": {
        "id": "VKWWUZm5VPG9"
      },
      "source": [
        "## Build and compile the Model\n",
        "\n",
        "Next, you will build and compile the model. We placed some of the hyperparameters at the top of the code cell so you can easily tweak it later if you want."
      ]
    },
    {
      "cell_type": "code",
      "source": [
        "# Hyperparameters\n",
        "EMBEDDING_DIM = 100\n",
        "LSTM_UNITS    = 150\n",
        "LEARNING_RATE = 0.001\n",
        "\n",
        "# Build the model\n",
        "model = models.Sequential([\n",
        "    layers.Embedding(total_words, EMBEDDING_DIM, input_length = max_sequence_len - 1),\n",
        "    layers.Bidirectional(layers.LSTM(LSTM_UNITS)),\n",
        "    layers.Dense(total_words, activation = nn.softmax)                           \n",
        "])\n",
        "\n",
        "# Use categorical crossentropy because this is a multi-class problem\n",
        "model.compile(loss = losses.categorical_crossentropy,\n",
        "              optimizer = optimizers.Adam(learning_rate = LEARNING_RATE),\n",
        "              metrics = ['accuracy'])\n",
        "\n",
        "model.summary()"
      ],
      "metadata": {
        "id": "YFGT2q-g1QbN"
      },
      "execution_count": null,
      "outputs": []
    },
    {
      "cell_type": "markdown",
      "metadata": {
        "id": "OpI0d9cfR43c"
      },
      "source": [
        "## Train the model\n",
        "\n",
        "From the model summary above, you'll notice that the number of trainable params is much larger than the one in the previous lab. Consequently, that usually means a slower training time. It will take roughly 7 seconds per epoch with the GPU enabled in Colab and you'll reach around 76% accuracy after 100 epochs."
      ]
    },
    {
      "cell_type": "code",
      "execution_count": null,
      "metadata": {
        "id": "Nc4zC7C4jJpN"
      },
      "outputs": [],
      "source": [
        "epochs = 100\n",
        "\n",
        "# Train the model\n",
        "history = model.fit(xs, ys, epochs=epochs)"
      ]
    },
    {
      "cell_type": "markdown",
      "metadata": {
        "id": "WgAzLnLATFts"
      },
      "source": [
        "You can visualize the accuracy below to see how it fluctuates as the training progresses."
      ]
    },
    {
      "cell_type": "code",
      "execution_count": null,
      "metadata": {
        "id": "3YXGelKThoTT"
      },
      "outputs": [],
      "source": [
        "import matplotlib.pyplot as plt\n",
        "\n",
        "# Plot utility\n",
        "def plot_graphs(history, string):\n",
        "  plt.plot(history.history[string])\n",
        "  plt.xlabel(\"Epochs\")\n",
        "  plt.ylabel(string)\n",
        "  plt.show()\n",
        "\n",
        "# Visualize the accuracy\n",
        "plot_graphs(history, 'accuracy')"
      ]
    },
    {
      "cell_type": "markdown",
      "metadata": {
        "id": "9gxKIcvGTUnw"
      },
      "source": [
        "## Generating Text\n",
        "\n",
        "Now you can let the model make its own songs or poetry! Because it is trained on a much larger corpus, the results below should contain less repetitions as before. The code below picks the next word based on the highest probability output."
      ]
    },
    {
      "cell_type": "code",
      "execution_count": null,
      "metadata": {
        "id": "6Vc6PHgxa6Hm"
      },
      "outputs": [],
      "source": [
        "# Define seed text\n",
        "seed_text = \"help me obi-wan kinobi youre my only hope\"\n",
        "\n",
        "# Total words to predict\n",
        "next_words = 100\n",
        "\n",
        "# Loop until desired length is reached\n",
        "for _ in range(next_words):\n",
        "\n",
        "    # Convert the seed text to a token sequence\n",
        "    token_list = np.squeeze(tokenizer.texts_to_sequences([seed_text]))\n",
        "\n",
        "    # Pad the sequence\n",
        "    token_list = tfkp.sequence.pad_sequences([token_list], \n",
        "                                                maxlen = max_sequence_len - 1,\n",
        "                                                padding = 'pre')\n",
        "\n",
        "    # Feed to the model and get probabilities for each index\n",
        "    probabilities = np.squeeze(model.predict(token_list))\n",
        "\n",
        "    # Pick a random number from [1, 2, 3]\n",
        "    choice = np.random.choice([1, 2, 3])\n",
        "\n",
        "    # - Sort the probabilities in ascending order and get the random choice from\n",
        "    # the end of the array\n",
        "    predicted = np.argsort(probabilities)[-choice]\n",
        "\n",
        "    # Ignore if index is 0 (just the padding)\n",
        "    if (predicted != 0):\n",
        "\n",
        "        # Look up the word associated with the index\n",
        "        output_word = tokenizer.index_word[predicted]\n",
        "\n",
        "        # Combine with the seed text\n",
        "        seed_text += ' ' + output_word\n",
        "\n",
        "# Print the result\n",
        "print(seed_text)"
      ]
    },
    {
      "cell_type": "markdown",
      "metadata": {
        "id": "wHtrtAFAT6tn"
      },
      "source": [
        "Here again is the code that gets the top 3 predictions and picks one at random."
      ]
    },
    {
      "cell_type": "code",
      "execution_count": null,
      "metadata": {
        "id": "yJfzKm-8mVKD"
      },
      "outputs": [],
      "source": [
        "# Define seed text\n",
        "seed_text = \"help me obi-wan kinobi youre my only hope\"\n",
        "\n",
        "# Total words to predict\n",
        "next_words = 100\n",
        "\n",
        "# Loop until desired length is reached\n",
        "for _ in range(next_words):\n",
        "\n",
        "    # Convert the seed text to a token sequence\n",
        "    token_list = np.squeeze(tokenizer.texts_to_sequences([seed_text]))\n",
        "\n",
        "    # Pad the sequence\n",
        "    token_list = tfkp.sequence.pad_sequences([token_list], \n",
        "                                                maxlen = max_sequence_len - 1,\n",
        "                                                padding = 'pre')\n",
        "\n",
        "    # Feed to the model and get probabilities for each index\n",
        "    probabilities = np.squeeze(model.predict(token_list))\n",
        "\n",
        "    # Pick a random number from [1, 2, 3]\n",
        "    choice = np.random.choice([1, 2, 3])\n",
        "\n",
        "    # - Sort the probabilities in ascending order and get the random choice from\n",
        "    # the end of the array\n",
        "    predicted = np.argsort(probabilities)[-choice]\n",
        "\n",
        "    # Ignore if index is 0 (just the padding)\n",
        "    if (predicted != 0):\n",
        "\n",
        "        # Look up the word associated with the index\n",
        "        output_word = tokenizer.index_word[predicted]\n",
        "\n",
        "        # Combine with the seed text\n",
        "        seed_text += ' ' + output_word\n",
        "\n",
        "# Print the result\n",
        "print(seed_text)"
      ]
    },
    {
      "cell_type": "markdown",
      "metadata": {
        "id": "DP0--sdMUJ_k"
      },
      "source": [
        "## Wrap Up\n",
        "\n",
        "This lab shows the effect of having a larger dataset to train your text generation model. As expected, this will take a longer time to prepare and train but the output will less likely become repetitive or gibberish. Try to tweak the hyperparameters and see if you get better results. You can also find some other text datasets and use it to train the model here.  "
      ]
    }
  ],
  "metadata": {
    "accelerator": "GPU",
    "colab": {
      "collapsed_sections": [],
      "name": "C3_W4_Lab_2_irish_lyrics.ipynb",
      "private_outputs": true,
      "provenance": []
    },
    "kernelspec": {
      "display_name": "Python 3",
      "language": "python",
      "name": "python3"
    },
    "language_info": {
      "codemirror_mode": {
        "name": "ipython",
        "version": 3
      },
      "file_extension": ".py",
      "mimetype": "text/x-python",
      "name": "python",
      "nbconvert_exporter": "python",
      "pygments_lexer": "ipython3",
      "version": "3.7.4"
    }
  },
  "nbformat": 4,
  "nbformat_minor": 0
}