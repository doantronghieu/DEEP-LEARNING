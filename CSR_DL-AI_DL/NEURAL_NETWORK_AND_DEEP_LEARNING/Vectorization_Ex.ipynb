{
 "cells": [
  {
   "cell_type": "code",
   "execution_count": 1,
   "metadata": {},
   "outputs": [],
   "source": [
    "import numpy as np\n",
    "import time"
   ]
  },
  {
   "cell_type": "code",
   "execution_count": 5,
   "metadata": {},
   "outputs": [
    {
     "name": "stdout",
     "output_type": "stream",
     "text": [
      "[0.00253717 0.68700428 0.63915249 ... 0.28099138 0.3477526  0.69531058] 1000000\n",
      "[0.68414195 0.32737931 0.56022493 ... 0.25199043 0.59114835 0.37874557] 1000000\n",
      "249925.29019511904\n",
      "Vectorized Version: 2.001523971557617 ms\n",
      "249925.29019513004\n",
      "For-Loop Version: 457.08441734313965 ms\n"
     ]
    }
   ],
   "source": [
    "a = np.random.rand(1000000)\n",
    "b = np.random.rand(1000000)\n",
    "print(a, len(a))\n",
    "print(b, len(b))\n",
    "\n",
    "tic = time.time()\n",
    "c = np.dot(a, b)\n",
    "toc = time.time()\n",
    "print(c)\n",
    "print(f'Vectorized Version: {str(1000 * (toc - tic))} ms')\n",
    "\n",
    "c = 0\n",
    "tic = time.time()\n",
    "for i in range(len(a)):\n",
    "    c += a[i] * b[i]\n",
    "toc = time.time()\n",
    "print(c)\n",
    "print(f'For-Loop Version: {str(1000 * (toc - tic))} ms')"
   ]
  }
 ],
 "metadata": {
  "interpreter": {
   "hash": "ee5cc6fef2d70a7e71ee3826687cbd150f18158e0b1eef11d4f4f92bb920e304"
  },
  "kernelspec": {
   "display_name": "Python 3.9.7 64-bit",
   "language": "python",
   "name": "python3"
  },
  "language_info": {
   "codemirror_mode": {
    "name": "ipython",
    "version": 3
   },
   "file_extension": ".py",
   "mimetype": "text/x-python",
   "name": "python",
   "nbconvert_exporter": "python",
   "pygments_lexer": "ipython3",
   "version": "3.9.7"
  },
  "orig_nbformat": 4
 },
 "nbformat": 4,
 "nbformat_minor": 2
}
