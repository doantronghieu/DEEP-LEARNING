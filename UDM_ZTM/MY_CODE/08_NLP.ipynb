{
  "cells": [
    {
      "cell_type": "markdown",
      "metadata": {
        "id": "view-in-github",
        "colab_type": "text"
      },
      "source": [
        "<a href=\"https://colab.research.google.com/github/tronghieu2810/DEEP-LEARNING/blob/main/UDM_ZTM_DL/MY_CODE/08_NLP.ipynb\" target=\"_parent\"><img src=\"https://colab.research.google.com/assets/colab-badge.svg\" alt=\"Open In Colab\"/></a>"
      ]
    },
    {
      "cell_type": "markdown",
      "metadata": {
        "id": "C517r9lh_pYl"
      },
      "source": [
        "# Libraries"
      ]
    },
    {
      "cell_type": "code",
      "source": [
        "!wget https://raw.githubusercontent.com/tronghieu2810/DEEP-LEARNING/main/helper_DL.py"
      ],
      "metadata": {
        "id": "D0m7kn74_r-S",
        "colab": {
          "base_uri": "https://localhost:8080/"
        },
        "outputId": "a64ebd73-4952-491f-bec1-850f2b19d89c"
      },
      "execution_count": 1,
      "outputs": [
        {
          "output_type": "stream",
          "name": "stdout",
          "text": [
            "--2022-04-09 03:00:53--  https://raw.githubusercontent.com/tronghieu2810/DEEP-LEARNING/main/helper_DL.py\n",
            "Resolving raw.githubusercontent.com (raw.githubusercontent.com)... 185.199.110.133, 185.199.108.133, 185.199.109.133, ...\n",
            "Connecting to raw.githubusercontent.com (raw.githubusercontent.com)|185.199.110.133|:443... connected.\n",
            "HTTP request sent, awaiting response... 200 OK\n",
            "Length: 26611 (26K) [text/plain]\n",
            "Saving to: ‘helper_DL.py’\n",
            "\n",
            "helper_DL.py        100%[===================>]  25.99K  --.-KB/s    in 0.001s  \n",
            "\n",
            "2022-04-09 03:00:53 (19.3 MB/s) - ‘helper_DL.py’ saved [26611/26611]\n",
            "\n"
          ]
        }
      ]
    },
    {
      "cell_type": "code",
      "execution_count": 123,
      "metadata": {
        "id": "o7HTelZV_pYq",
        "colab": {
          "base_uri": "https://localhost:8080/"
        },
        "outputId": "e2cf6b01-2554-46a2-ff01-803876983c29"
      },
      "outputs": [
        {
          "output_type": "stream",
          "name": "stdout",
          "text": [
            "Requirement already satisfied: colorama in /usr/local/lib/python3.7/dist-packages (0.4.4)\n"
          ]
        }
      ],
      "source": [
        "!pip install colorama\n",
        "import helper_DL as helper\n",
        "import random\n",
        "import time\n",
        "\n",
        "from sklearn.model_selection import train_test_split\n",
        "from sklearn.feature_extraction.text import TfidfVectorizer\n",
        "from sklearn.naive_bayes import MultinomialNB\n",
        "from sklearn.pipeline import Pipeline\n",
        "from sklearn.metrics import accuracy_score, precision_recall_fscore_support\n",
        "\n",
        "import numpy as np\n",
        "import pandas as pd\n",
        "import seaborn as sns\n",
        "sns.set()\n",
        "import matplotlib.pyplot as plt\n",
        "\n",
        "import tensorflow as tf\n",
        "import tensorflow.keras as tfk\n",
        "from tensorflow.keras import layers\n",
        "from tensorflow.keras.layers import TextVectorization\n",
        "import tensorflow_hub as hub"
      ]
    },
    {
      "cell_type": "markdown",
      "source": [
        "# Text dataset"
      ],
      "metadata": {
        "id": "wSvDdZtH_3Y1"
      }
    },
    {
      "cell_type": "code",
      "source": [
        "!wget https://storage.googleapis.com/ztm_tf_course/nlp_getting_started.zip\n",
        "helper.unzip_data('nlp_getting_started.zip')"
      ],
      "metadata": {
        "id": "E_3rLyUD_3tr",
        "colab": {
          "base_uri": "https://localhost:8080/"
        },
        "outputId": "6ea48302-b0d3-4402-ff56-e294f13751c0"
      },
      "execution_count": 3,
      "outputs": [
        {
          "output_type": "stream",
          "name": "stdout",
          "text": [
            "--2022-04-09 03:01:14--  https://storage.googleapis.com/ztm_tf_course/nlp_getting_started.zip\n",
            "Resolving storage.googleapis.com (storage.googleapis.com)... 142.250.152.128, 173.194.194.128, 173.194.197.128, ...\n",
            "Connecting to storage.googleapis.com (storage.googleapis.com)|142.250.152.128|:443... connected.\n",
            "HTTP request sent, awaiting response... 200 OK\n",
            "Length: 607343 (593K) [application/zip]\n",
            "Saving to: ‘nlp_getting_started.zip’\n",
            "\n",
            "nlp_getting_started 100%[===================>] 593.11K  --.-KB/s    in 0.004s  \n",
            "\n",
            "2022-04-09 03:01:14 (133 MB/s) - ‘nlp_getting_started.zip’ saved [607343/607343]\n",
            "\n"
          ]
        }
      ]
    },
    {
      "cell_type": "markdown",
      "source": [
        "# Explore data"
      ],
      "metadata": {
        "id": "5hDC6QjM_3w2"
      }
    },
    {
      "cell_type": "code",
      "source": [
        "train_df = pd.read_csv('train.csv')\n",
        "test_df  = pd.read_csv('test.csv')\n",
        "\n",
        "print(train_df.head(), '\\n')\n",
        "print(train_df.target.value_counts(), '\\n') # How many examples of each class?\n",
        "print(len(train_df), len(test_df), '\\n') # How many total examples?"
      ],
      "metadata": {
        "id": "XywQAd0w_3z7",
        "colab": {
          "base_uri": "https://localhost:8080/"
        },
        "outputId": "1e466792-3b1d-4d83-c430-aafe72bb8dcd"
      },
      "execution_count": 4,
      "outputs": [
        {
          "output_type": "stream",
          "name": "stdout",
          "text": [
            "   id keyword location                                               text  \\\n",
            "0   1     NaN      NaN  Our Deeds are the Reason of this #earthquake M...   \n",
            "1   4     NaN      NaN             Forest fire near La Ronge Sask. Canada   \n",
            "2   5     NaN      NaN  All residents asked to 'shelter in place' are ...   \n",
            "3   6     NaN      NaN  13,000 people receive #wildfires evacuation or...   \n",
            "4   7     NaN      NaN  Just got sent this photo from Ruby #Alaska as ...   \n",
            "\n",
            "   target  \n",
            "0       1  \n",
            "1       1  \n",
            "2       1  \n",
            "3       1  \n",
            "4       1   \n",
            "\n",
            "0    4342\n",
            "1    3271\n",
            "Name: target, dtype: int64 \n",
            "\n",
            "7613 3263 \n",
            "\n"
          ]
        }
      ]
    },
    {
      "cell_type": "code",
      "source": [
        "# Shuffle training datafram\n",
        "train_df_shuffled = train_df.sample(frac=1, random_state=42)\n",
        "train_df_shuffled.head()"
      ],
      "metadata": {
        "id": "SKmHu5yc_33O",
        "colab": {
          "base_uri": "https://localhost:8080/",
          "height": 206
        },
        "outputId": "f4053a08-a4e3-4a6c-c565-6198f42bddcc"
      },
      "execution_count": 5,
      "outputs": [
        {
          "output_type": "execute_result",
          "data": {
            "text/plain": [
              "        id      keyword               location  \\\n",
              "2644  3796  destruction                    NaN   \n",
              "2227  3185       deluge                    NaN   \n",
              "5448  7769       police                     UK   \n",
              "132    191   aftershock                    NaN   \n",
              "6845  9810       trauma  Montgomery County, MD   \n",
              "\n",
              "                                                   text  target  \n",
              "2644  So you have a new weapon that can cause un-ima...       1  \n",
              "2227  The f$&amp;@ing things I do for #GISHWHES Just...       0  \n",
              "5448  DT @georgegalloway: RT @Galloway4Mayor: ÛÏThe...       1  \n",
              "132   Aftershock back to school kick off was great. ...       0  \n",
              "6845  in response to trauma Children of Addicts deve...       0  "
            ],
            "text/html": [
              "\n",
              "  <div id=\"df-93bc99b2-d0b1-46e0-a0cc-c86ba19624a9\">\n",
              "    <div class=\"colab-df-container\">\n",
              "      <div>\n",
              "<style scoped>\n",
              "    .dataframe tbody tr th:only-of-type {\n",
              "        vertical-align: middle;\n",
              "    }\n",
              "\n",
              "    .dataframe tbody tr th {\n",
              "        vertical-align: top;\n",
              "    }\n",
              "\n",
              "    .dataframe thead th {\n",
              "        text-align: right;\n",
              "    }\n",
              "</style>\n",
              "<table border=\"1\" class=\"dataframe\">\n",
              "  <thead>\n",
              "    <tr style=\"text-align: right;\">\n",
              "      <th></th>\n",
              "      <th>id</th>\n",
              "      <th>keyword</th>\n",
              "      <th>location</th>\n",
              "      <th>text</th>\n",
              "      <th>target</th>\n",
              "    </tr>\n",
              "  </thead>\n",
              "  <tbody>\n",
              "    <tr>\n",
              "      <th>2644</th>\n",
              "      <td>3796</td>\n",
              "      <td>destruction</td>\n",
              "      <td>NaN</td>\n",
              "      <td>So you have a new weapon that can cause un-ima...</td>\n",
              "      <td>1</td>\n",
              "    </tr>\n",
              "    <tr>\n",
              "      <th>2227</th>\n",
              "      <td>3185</td>\n",
              "      <td>deluge</td>\n",
              "      <td>NaN</td>\n",
              "      <td>The f$&amp;amp;@ing things I do for #GISHWHES Just...</td>\n",
              "      <td>0</td>\n",
              "    </tr>\n",
              "    <tr>\n",
              "      <th>5448</th>\n",
              "      <td>7769</td>\n",
              "      <td>police</td>\n",
              "      <td>UK</td>\n",
              "      <td>DT @georgegalloway: RT @Galloway4Mayor: ÛÏThe...</td>\n",
              "      <td>1</td>\n",
              "    </tr>\n",
              "    <tr>\n",
              "      <th>132</th>\n",
              "      <td>191</td>\n",
              "      <td>aftershock</td>\n",
              "      <td>NaN</td>\n",
              "      <td>Aftershock back to school kick off was great. ...</td>\n",
              "      <td>0</td>\n",
              "    </tr>\n",
              "    <tr>\n",
              "      <th>6845</th>\n",
              "      <td>9810</td>\n",
              "      <td>trauma</td>\n",
              "      <td>Montgomery County, MD</td>\n",
              "      <td>in response to trauma Children of Addicts deve...</td>\n",
              "      <td>0</td>\n",
              "    </tr>\n",
              "  </tbody>\n",
              "</table>\n",
              "</div>\n",
              "      <button class=\"colab-df-convert\" onclick=\"convertToInteractive('df-93bc99b2-d0b1-46e0-a0cc-c86ba19624a9')\"\n",
              "              title=\"Convert this dataframe to an interactive table.\"\n",
              "              style=\"display:none;\">\n",
              "        \n",
              "  <svg xmlns=\"http://www.w3.org/2000/svg\" height=\"24px\"viewBox=\"0 0 24 24\"\n",
              "       width=\"24px\">\n",
              "    <path d=\"M0 0h24v24H0V0z\" fill=\"none\"/>\n",
              "    <path d=\"M18.56 5.44l.94 2.06.94-2.06 2.06-.94-2.06-.94-.94-2.06-.94 2.06-2.06.94zm-11 1L8.5 8.5l.94-2.06 2.06-.94-2.06-.94L8.5 2.5l-.94 2.06-2.06.94zm10 10l.94 2.06.94-2.06 2.06-.94-2.06-.94-.94-2.06-.94 2.06-2.06.94z\"/><path d=\"M17.41 7.96l-1.37-1.37c-.4-.4-.92-.59-1.43-.59-.52 0-1.04.2-1.43.59L10.3 9.45l-7.72 7.72c-.78.78-.78 2.05 0 2.83L4 21.41c.39.39.9.59 1.41.59.51 0 1.02-.2 1.41-.59l7.78-7.78 2.81-2.81c.8-.78.8-2.07 0-2.86zM5.41 20L4 18.59l7.72-7.72 1.47 1.35L5.41 20z\"/>\n",
              "  </svg>\n",
              "      </button>\n",
              "      \n",
              "  <style>\n",
              "    .colab-df-container {\n",
              "      display:flex;\n",
              "      flex-wrap:wrap;\n",
              "      gap: 12px;\n",
              "    }\n",
              "\n",
              "    .colab-df-convert {\n",
              "      background-color: #E8F0FE;\n",
              "      border: none;\n",
              "      border-radius: 50%;\n",
              "      cursor: pointer;\n",
              "      display: none;\n",
              "      fill: #1967D2;\n",
              "      height: 32px;\n",
              "      padding: 0 0 0 0;\n",
              "      width: 32px;\n",
              "    }\n",
              "\n",
              "    .colab-df-convert:hover {\n",
              "      background-color: #E2EBFA;\n",
              "      box-shadow: 0px 1px 2px rgba(60, 64, 67, 0.3), 0px 1px 3px 1px rgba(60, 64, 67, 0.15);\n",
              "      fill: #174EA6;\n",
              "    }\n",
              "\n",
              "    [theme=dark] .colab-df-convert {\n",
              "      background-color: #3B4455;\n",
              "      fill: #D2E3FC;\n",
              "    }\n",
              "\n",
              "    [theme=dark] .colab-df-convert:hover {\n",
              "      background-color: #434B5C;\n",
              "      box-shadow: 0px 1px 3px 1px rgba(0, 0, 0, 0.15);\n",
              "      filter: drop-shadow(0px 1px 2px rgba(0, 0, 0, 0.3));\n",
              "      fill: #FFFFFF;\n",
              "    }\n",
              "  </style>\n",
              "\n",
              "      <script>\n",
              "        const buttonEl =\n",
              "          document.querySelector('#df-93bc99b2-d0b1-46e0-a0cc-c86ba19624a9 button.colab-df-convert');\n",
              "        buttonEl.style.display =\n",
              "          google.colab.kernel.accessAllowed ? 'block' : 'none';\n",
              "\n",
              "        async function convertToInteractive(key) {\n",
              "          const element = document.querySelector('#df-93bc99b2-d0b1-46e0-a0cc-c86ba19624a9');\n",
              "          const dataTable =\n",
              "            await google.colab.kernel.invokeFunction('convertToInteractive',\n",
              "                                                     [key], {});\n",
              "          if (!dataTable) return;\n",
              "\n",
              "          const docLinkHtml = 'Like what you see? Visit the ' +\n",
              "            '<a target=\"_blank\" href=https://colab.research.google.com/notebooks/data_table.ipynb>data table notebook</a>'\n",
              "            + ' to learn more about interactive tables.';\n",
              "          element.innerHTML = '';\n",
              "          dataTable['output_type'] = 'display_data';\n",
              "          await google.colab.output.renderOutput(dataTable, element);\n",
              "          const docLink = document.createElement('div');\n",
              "          docLink.innerHTML = docLinkHtml;\n",
              "          element.appendChild(docLink);\n",
              "        }\n",
              "      </script>\n",
              "    </div>\n",
              "  </div>\n",
              "  "
            ]
          },
          "metadata": {},
          "execution_count": 5
        }
      ]
    },
    {
      "cell_type": "code",
      "source": [
        "test_df.head()"
      ],
      "metadata": {
        "id": "lAcMOJjV_36f",
        "colab": {
          "base_uri": "https://localhost:8080/",
          "height": 206
        },
        "outputId": "5d97a481-7a13-4665-de32-552702315c48"
      },
      "execution_count": 6,
      "outputs": [
        {
          "output_type": "execute_result",
          "data": {
            "text/plain": [
              "   id keyword location                                               text\n",
              "0   0     NaN      NaN                 Just happened a terrible car crash\n",
              "1   2     NaN      NaN  Heard about #earthquake is different cities, s...\n",
              "2   3     NaN      NaN  there is a forest fire at spot pond, geese are...\n",
              "3   9     NaN      NaN           Apocalypse lighting. #Spokane #wildfires\n",
              "4  11     NaN      NaN      Typhoon Soudelor kills 28 in China and Taiwan"
            ],
            "text/html": [
              "\n",
              "  <div id=\"df-9f600e36-d54a-468c-b20e-a2875032de68\">\n",
              "    <div class=\"colab-df-container\">\n",
              "      <div>\n",
              "<style scoped>\n",
              "    .dataframe tbody tr th:only-of-type {\n",
              "        vertical-align: middle;\n",
              "    }\n",
              "\n",
              "    .dataframe tbody tr th {\n",
              "        vertical-align: top;\n",
              "    }\n",
              "\n",
              "    .dataframe thead th {\n",
              "        text-align: right;\n",
              "    }\n",
              "</style>\n",
              "<table border=\"1\" class=\"dataframe\">\n",
              "  <thead>\n",
              "    <tr style=\"text-align: right;\">\n",
              "      <th></th>\n",
              "      <th>id</th>\n",
              "      <th>keyword</th>\n",
              "      <th>location</th>\n",
              "      <th>text</th>\n",
              "    </tr>\n",
              "  </thead>\n",
              "  <tbody>\n",
              "    <tr>\n",
              "      <th>0</th>\n",
              "      <td>0</td>\n",
              "      <td>NaN</td>\n",
              "      <td>NaN</td>\n",
              "      <td>Just happened a terrible car crash</td>\n",
              "    </tr>\n",
              "    <tr>\n",
              "      <th>1</th>\n",
              "      <td>2</td>\n",
              "      <td>NaN</td>\n",
              "      <td>NaN</td>\n",
              "      <td>Heard about #earthquake is different cities, s...</td>\n",
              "    </tr>\n",
              "    <tr>\n",
              "      <th>2</th>\n",
              "      <td>3</td>\n",
              "      <td>NaN</td>\n",
              "      <td>NaN</td>\n",
              "      <td>there is a forest fire at spot pond, geese are...</td>\n",
              "    </tr>\n",
              "    <tr>\n",
              "      <th>3</th>\n",
              "      <td>9</td>\n",
              "      <td>NaN</td>\n",
              "      <td>NaN</td>\n",
              "      <td>Apocalypse lighting. #Spokane #wildfires</td>\n",
              "    </tr>\n",
              "    <tr>\n",
              "      <th>4</th>\n",
              "      <td>11</td>\n",
              "      <td>NaN</td>\n",
              "      <td>NaN</td>\n",
              "      <td>Typhoon Soudelor kills 28 in China and Taiwan</td>\n",
              "    </tr>\n",
              "  </tbody>\n",
              "</table>\n",
              "</div>\n",
              "      <button class=\"colab-df-convert\" onclick=\"convertToInteractive('df-9f600e36-d54a-468c-b20e-a2875032de68')\"\n",
              "              title=\"Convert this dataframe to an interactive table.\"\n",
              "              style=\"display:none;\">\n",
              "        \n",
              "  <svg xmlns=\"http://www.w3.org/2000/svg\" height=\"24px\"viewBox=\"0 0 24 24\"\n",
              "       width=\"24px\">\n",
              "    <path d=\"M0 0h24v24H0V0z\" fill=\"none\"/>\n",
              "    <path d=\"M18.56 5.44l.94 2.06.94-2.06 2.06-.94-2.06-.94-.94-2.06-.94 2.06-2.06.94zm-11 1L8.5 8.5l.94-2.06 2.06-.94-2.06-.94L8.5 2.5l-.94 2.06-2.06.94zm10 10l.94 2.06.94-2.06 2.06-.94-2.06-.94-.94-2.06-.94 2.06-2.06.94z\"/><path d=\"M17.41 7.96l-1.37-1.37c-.4-.4-.92-.59-1.43-.59-.52 0-1.04.2-1.43.59L10.3 9.45l-7.72 7.72c-.78.78-.78 2.05 0 2.83L4 21.41c.39.39.9.59 1.41.59.51 0 1.02-.2 1.41-.59l7.78-7.78 2.81-2.81c.8-.78.8-2.07 0-2.86zM5.41 20L4 18.59l7.72-7.72 1.47 1.35L5.41 20z\"/>\n",
              "  </svg>\n",
              "      </button>\n",
              "      \n",
              "  <style>\n",
              "    .colab-df-container {\n",
              "      display:flex;\n",
              "      flex-wrap:wrap;\n",
              "      gap: 12px;\n",
              "    }\n",
              "\n",
              "    .colab-df-convert {\n",
              "      background-color: #E8F0FE;\n",
              "      border: none;\n",
              "      border-radius: 50%;\n",
              "      cursor: pointer;\n",
              "      display: none;\n",
              "      fill: #1967D2;\n",
              "      height: 32px;\n",
              "      padding: 0 0 0 0;\n",
              "      width: 32px;\n",
              "    }\n",
              "\n",
              "    .colab-df-convert:hover {\n",
              "      background-color: #E2EBFA;\n",
              "      box-shadow: 0px 1px 2px rgba(60, 64, 67, 0.3), 0px 1px 3px 1px rgba(60, 64, 67, 0.15);\n",
              "      fill: #174EA6;\n",
              "    }\n",
              "\n",
              "    [theme=dark] .colab-df-convert {\n",
              "      background-color: #3B4455;\n",
              "      fill: #D2E3FC;\n",
              "    }\n",
              "\n",
              "    [theme=dark] .colab-df-convert:hover {\n",
              "      background-color: #434B5C;\n",
              "      box-shadow: 0px 1px 3px 1px rgba(0, 0, 0, 0.15);\n",
              "      filter: drop-shadow(0px 1px 2px rgba(0, 0, 0, 0.3));\n",
              "      fill: #FFFFFF;\n",
              "    }\n",
              "  </style>\n",
              "\n",
              "      <script>\n",
              "        const buttonEl =\n",
              "          document.querySelector('#df-9f600e36-d54a-468c-b20e-a2875032de68 button.colab-df-convert');\n",
              "        buttonEl.style.display =\n",
              "          google.colab.kernel.accessAllowed ? 'block' : 'none';\n",
              "\n",
              "        async function convertToInteractive(key) {\n",
              "          const element = document.querySelector('#df-9f600e36-d54a-468c-b20e-a2875032de68');\n",
              "          const dataTable =\n",
              "            await google.colab.kernel.invokeFunction('convertToInteractive',\n",
              "                                                     [key], {});\n",
              "          if (!dataTable) return;\n",
              "\n",
              "          const docLinkHtml = 'Like what you see? Visit the ' +\n",
              "            '<a target=\"_blank\" href=https://colab.research.google.com/notebooks/data_table.ipynb>data table notebook</a>'\n",
              "            + ' to learn more about interactive tables.';\n",
              "          element.innerHTML = '';\n",
              "          dataTable['output_type'] = 'display_data';\n",
              "          await google.colab.output.renderOutput(dataTable, element);\n",
              "          const docLink = document.createElement('div');\n",
              "          docLink.innerHTML = docLinkHtml;\n",
              "          element.appendChild(docLink);\n",
              "        }\n",
              "      </script>\n",
              "    </div>\n",
              "  </div>\n",
              "  "
            ]
          },
          "metadata": {},
          "execution_count": 6
        }
      ]
    },
    {
      "cell_type": "code",
      "source": [
        "# Visualize some random training examples\n",
        "random_index = random.randint(0, len(train_df)-5) # Create random index not higher than the number of samples\n",
        "for row in train_df_shuffled[['text', 'target']][random_index:random_index+5].itertuples(): # Turning values in DF into a tuple (text, target)\n",
        "    # _: Get rid of index\n",
        "    _, text, target = row\n",
        "    print(f'Target: {target} ', '(real disaster)' if (target > 0) else '(not real disaster)')\n",
        "    print(f'Text:   {text}\\n')\n",
        "    print('---\\n')\n"
      ],
      "metadata": {
        "id": "ockdgoyRDbGM",
        "colab": {
          "base_uri": "https://localhost:8080/"
        },
        "outputId": "b539160b-9a1a-4a98-83d3-5bc426ac023c"
      },
      "execution_count": 7,
      "outputs": [
        {
          "output_type": "stream",
          "name": "stdout",
          "text": [
            "Target: 0  (not real disaster)\n",
            "Text:   don't stop believing just came on the radio at this restaurant and a lil white bit screamed 'it's mommys song'\n",
            "\n",
            "---\n",
            "\n",
            "Target: 1  (real disaster)\n",
            "Text:   New Giant Flames (GIANT FULL BLACK PANTOFEL) info/order sms:087809233445 pin:23928835 http://t.co/dthNEezupe  pic.twitter.com/pNPiZoDY\n",
            "\n",
            "---\n",
            "\n",
            "Target: 1  (real disaster)\n",
            "Text:   Spokane authorities say they're struggling to solve arson cases like today's on Hamilton. http://t.co/Qbs2k01WzK http://t.co/mvLZIYsGLL\n",
            "\n",
            "---\n",
            "\n",
            "Target: 1  (real disaster)\n",
            "Text:   TRUCK ABLAZE : R21. VOORTREKKER AVE. OUTSIDE OR TAMBO INTL. CARGO SECTION. http://t.co/8kscqKfKkF\n",
            "\n",
            "---\n",
            "\n",
            "Target: 1  (real disaster)\n",
            "Text:   rgj: Truck trailer catches fire in Reno http://t.co/kAF3WdRmTn\n",
            "\n",
            "---\n",
            "\n"
          ]
        }
      ]
    },
    {
      "cell_type": "markdown",
      "source": [
        "# Splitting data into training and validation sets"
      ],
      "metadata": {
        "id": "47RHhZsZDbJp"
      }
    },
    {
      "cell_type": "code",
      "source": [
        "train_sentences, val_sentences, train_labels, val_labels = train_test_split(train_df_shuffled['text'].to_numpy(),\n",
        "                                                                            train_df_shuffled['target'].to_numpy(),\n",
        "                                                                            test_size=0.1,\n",
        "                                                                            random_state=42)"
      ],
      "metadata": {
        "id": "sHpE9j8uDbM6"
      },
      "execution_count": 8,
      "outputs": []
    },
    {
      "cell_type": "code",
      "source": [
        "print(f'{len(train_sentences)} - {len(val_sentences)} - {len(train_labels)} - {len(val_labels)}\\n')\n",
        "print(train_sentences[:5], '\\n')\n",
        "print(train_labels[:5], '\\n')"
      ],
      "metadata": {
        "id": "pTq8jx2mDbQJ",
        "colab": {
          "base_uri": "https://localhost:8080/"
        },
        "outputId": "e20839d0-39d4-4e21-c938-8ffe46085938"
      },
      "execution_count": 9,
      "outputs": [
        {
          "output_type": "stream",
          "name": "stdout",
          "text": [
            "6851 - 762 - 6851 - 762\n",
            "\n",
            "['@mogacola @zamtriossu i screamed after hitting tweet'\n",
            " 'Imagine getting flattened by Kurt Zouma'\n",
            " '@Gurmeetramrahim #MSGDoing111WelfareWorks Green S welfare force ke appx 65000 members har time disaster victim ki help ke liye tyar hai....'\n",
            " \"@shakjn @C7 @Magnums im shaking in fear he's gonna hack the planet\"\n",
            " 'Somehow find you and I collide http://t.co/Ee8RpOahPk'] \n",
            "\n",
            "[0 0 1 0 0] \n",
            "\n"
          ]
        }
      ]
    },
    {
      "cell_type": "markdown",
      "source": [
        "# Converting text data to numbers using tokenisation and embeddings"
      ],
      "metadata": {
        "id": "XdBTuJimDbTS"
      }
    },
    {
      "cell_type": "code",
      "source": [
        "text_vectorizer = TextVectorization(max_tokens=None,\n",
        "                                    standardize='lower_and_strip_punctuation',\n",
        "                                    split='whitespace',\n",
        "                                    ngrams=None,\n",
        "                                    output_mode='int',\n",
        "                                    output_sequence_length=None)"
      ],
      "metadata": {
        "id": "RM_PkC2QDbW5"
      },
      "execution_count": 10,
      "outputs": []
    },
    {
      "cell_type": "code",
      "source": [
        "print(train_sentences, '\\n')\n",
        "print(train_sentences[0], '\\n')\n",
        "print(train_sentences[0].split(), '\\n')\n",
        "print(len(train_sentences[0].split()), '\\n')\n",
        "print(round(sum([len(i.split()) for i in train_sentences])), '\\n')\n",
        "print(round(sum([len(i.split()) for i in train_sentences]) / len(train_sentences)), '\\n')"
      ],
      "metadata": {
        "colab": {
          "base_uri": "https://localhost:8080/"
        },
        "id": "wBsdG4f_E4FX",
        "outputId": "96b1207a-4946-4e95-eef1-980a694570a8"
      },
      "execution_count": 11,
      "outputs": [
        {
          "output_type": "stream",
          "name": "stdout",
          "text": [
            "['@mogacola @zamtriossu i screamed after hitting tweet'\n",
            " 'Imagine getting flattened by Kurt Zouma'\n",
            " '@Gurmeetramrahim #MSGDoing111WelfareWorks Green S welfare force ke appx 65000 members har time disaster victim ki help ke liye tyar hai....'\n",
            " ...\n",
            " 'Near them on the sand half sunk a shattered visage lies... http://t.co/0kCCG1BT06'\n",
            " \"kesabaran membuahkan hasil indah pada saat tepat! life isn't about waiting for the storm to pass it's about learning to dance in the rain.\"\n",
            " \"@ScottDPierce @billharris_tv @HarrisGle @Beezersun I'm forfeiting this years fantasy football pool out of fear I may win n get my ass kicked\"] \n",
            "\n",
            "@mogacola @zamtriossu i screamed after hitting tweet \n",
            "\n",
            "['@mogacola', '@zamtriossu', 'i', 'screamed', 'after', 'hitting', 'tweet'] \n",
            "\n",
            "7 \n",
            "\n",
            "102087 \n",
            "\n",
            "15 \n",
            "\n"
          ]
        }
      ]
    },
    {
      "cell_type": "code",
      "source": [
        "max_vocab_length = 10000\n",
        "max_length       = round(sum([len(i.split()) for i in train_sentences]) / len(train_sentences)) # Max length our sequences will be (number of words)\n",
        "text_vectorizer = TextVectorization(max_tokens=max_vocab_length,\n",
        "                                    output_mode='int',\n",
        "                                    output_sequence_length=max_length)"
      ],
      "metadata": {
        "id": "sUDv8EPaE5aD"
      },
      "execution_count": 12,
      "outputs": []
    },
    {
      "cell_type": "markdown",
      "source": [
        "# Mapping the TextVectorization layer to text data and turning it into numbers"
      ],
      "metadata": {
        "id": "NyHA1vjxOa6w"
      }
    },
    {
      "cell_type": "code",
      "source": [
        "# Fit the text vectorizer to the training text\n",
        "text_vectorizer.adapt(train_sentences)"
      ],
      "metadata": {
        "id": "wHEiDOxWE5eR"
      },
      "execution_count": 13,
      "outputs": []
    },
    {
      "cell_type": "code",
      "source": [
        "sample_sentence = \"There's a flood in my street!\"\n",
        "text_vectorizer([sample_sentence])"
      ],
      "metadata": {
        "colab": {
          "base_uri": "https://localhost:8080/"
        },
        "id": "-EpsruRiVEJl",
        "outputId": "510730ff-8849-46cf-e279-c3921bee5eb3"
      },
      "execution_count": 14,
      "outputs": [
        {
          "output_type": "execute_result",
          "data": {
            "text/plain": [
              "<tf.Tensor: shape=(1, 15), dtype=int64, numpy=\n",
              "array([[264,   3, 232,   4,  13, 698,   0,   0,   0,   0,   0,   0,   0,\n",
              "          0,   0]])>"
            ]
          },
          "metadata": {},
          "execution_count": 14
        }
      ]
    },
    {
      "cell_type": "code",
      "source": [
        "random_sentence = random.choice(train_sentences)\n",
        "print(f'Original text:      {random_sentence}\\\n",
        "      \\nVectorized version: {text_vectorizer([random_sentence])}')"
      ],
      "metadata": {
        "colab": {
          "base_uri": "https://localhost:8080/"
        },
        "id": "uHFbgvKxVM_F",
        "outputId": "ea37a12f-d5b3-42a7-a213-d7cbc819ed06"
      },
      "execution_count": 15,
      "outputs": [
        {
          "output_type": "stream",
          "name": "stdout",
          "text": [
            "Original text:      @bettyfreedoms @AbnInfVet hillary mass murderer.      \n",
            "Vectorized version: [[   1    1 3777  157  538    0    0    0    0    0    0    0    0    0\n",
            "     0]]\n"
          ]
        }
      ]
    },
    {
      "cell_type": "code",
      "source": [
        "words_in_vocab = text_vectorizer.get_vocabulary()\n",
        "top_5_words = words_in_vocab[:5]\n",
        "bottom_5_words = words_in_vocab[-5:]\n",
        "\n",
        "print(f'Number of words in vocab: {len(words_in_vocab)}')\n",
        "print(f'5 most common words:      {top_5_words}')\n",
        "print(f'5 least common words:     {bottom_5_words}')"
      ],
      "metadata": {
        "colab": {
          "base_uri": "https://localhost:8080/"
        },
        "id": "SLQ7fyhyWJKd",
        "outputId": "c473b89e-fbb5-46c7-971a-a983de5d9943"
      },
      "execution_count": 16,
      "outputs": [
        {
          "output_type": "stream",
          "name": "stdout",
          "text": [
            "Number of words in vocab: 10000\n",
            "5 most common words:      ['', '[UNK]', 'the', 'a', 'in']\n",
            "5 least common words:     ['pages', 'paeds', 'pads', 'padres', 'paddytomlinson1']\n"
          ]
        }
      ]
    },
    {
      "cell_type": "markdown",
      "source": [
        "# Creating an Embedding layer to turn tokenised text into embedding vectors"
      ],
      "metadata": {
        "id": "g6uPhm7SXwpD"
      }
    },
    {
      "cell_type": "code",
      "source": [
        "embedding = tfk.layers.Embedding(input_dim=max_vocab_length,\n",
        "                                 output_dim=128,\n",
        "                                 input_length=max_length)\n",
        "embedding"
      ],
      "metadata": {
        "colab": {
          "base_uri": "https://localhost:8080/"
        },
        "id": "S5HgxIt9E5iO",
        "outputId": "b0d03510-5d30-448c-cf62-85da5d4ecec2"
      },
      "execution_count": 17,
      "outputs": [
        {
          "output_type": "execute_result",
          "data": {
            "text/plain": [
              "<keras.layers.embeddings.Embedding at 0x7f6b2d4a4dd0>"
            ]
          },
          "metadata": {},
          "execution_count": 17
        }
      ]
    },
    {
      "cell_type": "code",
      "source": [
        "random_sentence = random.choice(train_sentences)\n",
        "print(f'Original text:\\n{random_sentence}\\n')\n",
        "\n",
        "sample_embed = embedding(text_vectorizer([random_sentence]))\n",
        "print(f'Embedded version: '), print(sample_embed)\n",
        "print()\n",
        "\n",
        "print(sample_embed[0][0])\n",
        "print(sample_embed[0][0].shape)\n",
        "print(random_sentence)"
      ],
      "metadata": {
        "colab": {
          "base_uri": "https://localhost:8080/"
        },
        "id": "qE5FNYRUbAla",
        "outputId": "b4189567-c638-4a05-8713-4edd13542b19"
      },
      "execution_count": 18,
      "outputs": [
        {
          "output_type": "stream",
          "name": "stdout",
          "text": [
            "Original text:\n",
            "Hellfire is surrounded by desires so be careful and donÛªt let your desires control you! #Afterlife #islam\n",
            "\n",
            "Embedded version: \n",
            "tf.Tensor(\n",
            "[[[-0.01552739 -0.02307343 -0.01090856 ...  0.00891138  0.01830572\n",
            "    0.00445269]\n",
            "  [ 0.04622957  0.01153659 -0.00192131 ... -0.02443842 -0.00696586\n",
            "    0.03060528]\n",
            "  [ 0.04976993 -0.01790943 -0.01688346 ...  0.01360018 -0.00879816\n",
            "   -0.00339488]\n",
            "  ...\n",
            "  [-0.04431365 -0.0378411   0.01420322 ...  0.0371697  -0.00750326\n",
            "   -0.00767351]\n",
            "  [-0.03686124  0.04799496  0.02086569 ...  0.02072097  0.04174973\n",
            "    0.01934547]\n",
            "  [ 0.02387578  0.01544433  0.03621701 ...  0.04981193 -0.04583945\n",
            "    0.03280859]]], shape=(1, 15, 128), dtype=float32)\n",
            "\n",
            "tf.Tensor(\n",
            "[-0.01552739 -0.02307343 -0.01090856 -0.04167812  0.0497137   0.04996736\n",
            " -0.00959309 -0.03961843 -0.01547253 -0.02106478  0.00885767 -0.03890041\n",
            " -0.02963399 -0.02861636  0.03442372 -0.02420207 -0.02130215  0.00494671\n",
            "  0.02054887 -0.00287441 -0.02643588 -0.04434146  0.03769595  0.01680164\n",
            " -0.04762033 -0.03186808  0.04635776  0.04330863  0.02922788 -0.03915351\n",
            " -0.03069787 -0.04222519  0.00181466  0.00538777  0.01268965 -0.0296366\n",
            "  0.04095041 -0.01098358  0.01142436  0.01041417  0.0478535  -0.0233726\n",
            " -0.0171367  -0.03207972  0.002829    0.02403888  0.03187417 -0.0247993\n",
            " -0.00878327 -0.00970937  0.03666833  0.00826111 -0.00083746 -0.00038249\n",
            " -0.03413832  0.04519219  0.00642388 -0.00032603 -0.01757326  0.01675875\n",
            " -0.00773083 -0.0139237  -0.00247998 -0.00992199  0.0339137  -0.00261031\n",
            "  0.02367398  0.00433447  0.04241959 -0.00951699 -0.03063982  0.02144382\n",
            "  0.00864919  0.00777666  0.00170102 -0.01109932 -0.04648844 -0.01672057\n",
            "  0.0396123  -0.00020692 -0.02324047 -0.02195541  0.04250492 -0.00929989\n",
            " -0.04678179 -0.01718491  0.0299096  -0.04019     0.03355854  0.00502606\n",
            " -0.02342011 -0.01444806 -0.04475797 -0.02116076  0.0372269  -0.02530727\n",
            " -0.00387035 -0.02791311 -0.04284519 -0.03406432 -0.0417577  -0.02072423\n",
            " -0.00216807  0.01665952  0.00516907  0.00690327 -0.04710095 -0.02584809\n",
            " -0.02377856 -0.03271341 -0.02303466 -0.04245932  0.00613486  0.00984895\n",
            " -0.02345684  0.03132067 -0.01760379  0.00068849 -0.03900259 -0.03691895\n",
            " -0.04466547 -0.03338052 -0.0359534  -0.01588693 -0.04649922  0.00891138\n",
            "  0.01830572  0.00445269], shape=(128,), dtype=float32)\n",
            "(128,)\n",
            "Hellfire is surrounded by desires so be careful and donÛªt let your desires control you! #Afterlife #islam\n"
          ]
        }
      ]
    },
    {
      "cell_type": "markdown",
      "source": [
        "# Model 0: Building a baseline model to try and improve upon"
      ],
      "metadata": {
        "id": "KZyMbgJMb7bY"
      }
    },
    {
      "cell_type": "code",
      "source": [
        "model_0 = Pipeline([\n",
        "    ('tfidf', TfidfVectorizer()),\n",
        "    ('clf', MultinomialNB())                    \n",
        "])\n",
        "\n",
        "model_0.fit(train_sentences, train_labels)\n",
        "baseline_score = model_0.score(val_sentences, val_labels)\n",
        "print(f'Our baseline model achieves an accuracy of: {baseline_score * 100:.2f}%')\n"
      ],
      "metadata": {
        "colab": {
          "base_uri": "https://localhost:8080/"
        },
        "id": "2009T4ubE5le",
        "outputId": "62cb743c-6f11-4cb2-e108-f311be3fb74d"
      },
      "execution_count": 19,
      "outputs": [
        {
          "output_type": "stream",
          "name": "stdout",
          "text": [
            "Our baseline model achieves an accuracy of: 79.27%\n"
          ]
        }
      ]
    },
    {
      "cell_type": "markdown",
      "source": [
        "# Creating a function to track and evaluate our model's results"
      ],
      "metadata": {
        "id": "3mJ8MhosjRUG"
      }
    },
    {
      "cell_type": "code",
      "source": [
        "def calculate_results(y_true, y_pred):\n",
        "    \"\"\"\n",
        "    - Calculates model accuracy, precision, recall and f1 score of a binary classification model.\n",
        "    \"\"\"\n",
        "\n",
        "    model_accuracy = accuracy_score(y_true, y_pred) * 100\n",
        "    model_precision, model_recall, model_f1, _ = precision_recall_fscore_support(y_true,\n",
        "                                                                                 y_pred,\n",
        "                                                                                 average='weighted')\n",
        "    \n",
        "    model_results = {'accuracy':  round(model_accuracy, 2),\n",
        "                     'precision': round(model_precision, 2),\n",
        "                     'recall':    round(model_recall, 2),\n",
        "                     'f1':        round(model_f1, 2)}\n",
        "\n",
        "    return model_results"
      ],
      "metadata": {
        "id": "ZHj0TSXflHuG"
      },
      "execution_count": 20,
      "outputs": []
    },
    {
      "cell_type": "code",
      "source": [
        "baseline_preds = model_0.predict(val_sentences)\n",
        "baseline_results = calculate_results(y_true=val_labels, y_pred=baseline_preds)\n",
        "print(baseline_results)"
      ],
      "metadata": {
        "colab": {
          "base_uri": "https://localhost:8080/"
        },
        "id": "1oAZRN8GE5pE",
        "outputId": "ed3e00a0-3bcd-440b-f2cb-16c120b5594e"
      },
      "execution_count": 21,
      "outputs": [
        {
          "output_type": "stream",
          "name": "stdout",
          "text": [
            "{'accuracy': 79.27, 'precision': 0.81, 'recall': 0.79, 'f1': 0.79}\n"
          ]
        }
      ]
    },
    {
      "cell_type": "code",
      "source": [
        "round(2.1111, 2)"
      ],
      "metadata": {
        "colab": {
          "base_uri": "https://localhost:8080/"
        },
        "id": "KM1qgNjOE5sV",
        "outputId": "f12b3a16-4177-46fe-abb2-b944e45d3c74"
      },
      "execution_count": 22,
      "outputs": [
        {
          "output_type": "execute_result",
          "data": {
            "text/plain": [
              "2.11"
            ]
          },
          "metadata": {},
          "execution_count": 22
        }
      ]
    },
    {
      "cell_type": "markdown",
      "source": [
        "# Model 1: Building, fitting and evaluating our first deep model on text data"
      ],
      "metadata": {
        "id": "uLF6mX30E5v7"
      }
    },
    {
      "cell_type": "code",
      "source": [
        "SAVE_DIR = 'model_logs'\n",
        "\n",
        "inputs = tfk.layers.Input(shape=(1,), dtype=tf.string)\n",
        "x = text_vectorizer(inputs)\n",
        "x = embedding(x)\n",
        "x = tfk.layers.GlobalAveragePooling1D()(x)\n",
        "outputs = tfk.layers.Dense(1, activation='sigmoid')(x)\n",
        "\n",
        "model_1 = tfk.Model(inputs, outputs, name='model_1_dense')\n",
        "model_1.compile(loss='binary_crossentropy',\n",
        "                optimizer=tfk.optimizers.Adam(),\n",
        "                metrics=['accuracy'])\n",
        "\n",
        "model_1.summary()"
      ],
      "metadata": {
        "id": "deOlirZDE5zX",
        "colab": {
          "base_uri": "https://localhost:8080/"
        },
        "outputId": "277ea174-debb-43f0-f964-05b883dc4fba"
      },
      "execution_count": 23,
      "outputs": [
        {
          "output_type": "stream",
          "name": "stdout",
          "text": [
            "Model: \"model_1_dense\"\n",
            "_________________________________________________________________\n",
            " Layer (type)                Output Shape              Param #   \n",
            "=================================================================\n",
            " input_1 (InputLayer)        [(None, 1)]               0         \n",
            "                                                                 \n",
            " text_vectorization_1 (TextV  (None, 15)               0         \n",
            " ectorization)                                                   \n",
            "                                                                 \n",
            " embedding (Embedding)       (None, 15, 128)           1280000   \n",
            "                                                                 \n",
            " global_average_pooling1d (G  (None, 128)              0         \n",
            " lobalAveragePooling1D)                                          \n",
            "                                                                 \n",
            " dense (Dense)               (None, 1)                 129       \n",
            "                                                                 \n",
            "=================================================================\n",
            "Total params: 1,280,129\n",
            "Trainable params: 1,280,129\n",
            "Non-trainable params: 0\n",
            "_________________________________________________________________\n"
          ]
        }
      ]
    },
    {
      "cell_type": "code",
      "source": [
        "model_1_history = model_1.fit(x=train_sentences,\n",
        "                              y=train_labels,\n",
        "                              epochs=5,\n",
        "                              validation_data=(val_sentences, val_labels),\n",
        "                              callbacks=[helper.create_tensorboard_callback(dir_name=SAVE_DIR,\n",
        "                                                                            experiment_name='model_1_dense')])"
      ],
      "metadata": {
        "colab": {
          "base_uri": "https://localhost:8080/"
        },
        "id": "Wn5Xa6kYPQe8",
        "outputId": "1277ba49-3b8c-4924-cf23-cc1dd89ecbc3"
      },
      "execution_count": 24,
      "outputs": [
        {
          "output_type": "stream",
          "name": "stdout",
          "text": [
            "Saving TensorBoard log files to: model_logs/model_1_dense/20220409-030117\n",
            "Epoch 1/5\n",
            "215/215 [==============================] - 6s 25ms/step - loss: 0.6121 - accuracy: 0.6904 - val_loss: 0.5409 - val_accuracy: 0.7480\n",
            "Epoch 2/5\n",
            "215/215 [==============================] - 6s 28ms/step - loss: 0.4424 - accuracy: 0.8159 - val_loss: 0.4743 - val_accuracy: 0.7822\n",
            "Epoch 3/5\n",
            "215/215 [==============================] - 6s 26ms/step - loss: 0.3469 - accuracy: 0.8602 - val_loss: 0.4628 - val_accuracy: 0.7900\n",
            "Epoch 4/5\n",
            "215/215 [==============================] - 6s 27ms/step - loss: 0.2836 - accuracy: 0.8915 - val_loss: 0.4660 - val_accuracy: 0.7861\n",
            "Epoch 5/5\n",
            "215/215 [==============================] - 6s 28ms/step - loss: 0.2375 - accuracy: 0.9127 - val_loss: 0.4816 - val_accuracy: 0.7808\n"
          ]
        }
      ]
    },
    {
      "cell_type": "code",
      "source": [
        "model_1_pred_probs = model_1.predict(val_sentences)\n",
        "print(model_1_pred_probs.shape)\n",
        "print(model_1_pred_probs[0], val_labels[0])\n",
        "print()\n",
        "\n",
        "model_1_pred_probs = tf.squeeze(model_1_pred_probs)\n",
        "print(model_1_pred_probs.shape)"
      ],
      "metadata": {
        "colab": {
          "base_uri": "https://localhost:8080/"
        },
        "id": "FgTY1nMOPvxN",
        "outputId": "dcec7a48-d2bf-4b14-8a84-8a09d1bc2ec6"
      },
      "execution_count": 25,
      "outputs": [
        {
          "output_type": "stream",
          "name": "stdout",
          "text": [
            "(762, 1)\n",
            "[0.40951604] 0\n",
            "\n",
            "(762,)\n"
          ]
        }
      ]
    },
    {
      "cell_type": "code",
      "source": [
        "model_1_preds = tf.round(model_1_pred_probs)\n",
        "print(model_1_preds[:10])"
      ],
      "metadata": {
        "colab": {
          "base_uri": "https://localhost:8080/"
        },
        "id": "RYgMibgAQsWH",
        "outputId": "da2a5faa-6c3c-4d04-cb1a-50392bd1fb78"
      },
      "execution_count": 26,
      "outputs": [
        {
          "output_type": "stream",
          "name": "stdout",
          "text": [
            "tf.Tensor([0. 1. 1. 0. 0. 1. 1. 1. 1. 0.], shape=(10,), dtype=float32)\n"
          ]
        }
      ]
    },
    {
      "cell_type": "code",
      "source": [
        "model_1_results = calculate_results(y_true=val_labels, y_pred=model_1_preds)\n",
        "print(model_1_results)\n",
        "print(baseline_results)\n",
        "print(np.array(list(model_1_results.values())) > np.array(list(baseline_results.values())))"
      ],
      "metadata": {
        "colab": {
          "base_uri": "https://localhost:8080/"
        },
        "id": "-aXBnnqkTS1M",
        "outputId": "97f5d316-c9b4-4ac1-a628-40f734e132ee"
      },
      "execution_count": 27,
      "outputs": [
        {
          "output_type": "stream",
          "name": "stdout",
          "text": [
            "{'accuracy': 78.08, 'precision': 0.78, 'recall': 0.78, 'f1': 0.78}\n",
            "{'accuracy': 79.27, 'precision': 0.81, 'recall': 0.79, 'f1': 0.79}\n",
            "[False False False False]\n"
          ]
        }
      ]
    },
    {
      "cell_type": "markdown",
      "source": [
        "# Visualising our model's learned word embeddings with TensorFlow's projector too"
      ],
      "metadata": {
        "id": "IjbHYHBqTkoE"
      }
    },
    {
      "cell_type": "code",
      "source": [
        "words_in_vocab = text_vectorizer.get_vocabulary()\n",
        "print(len(words_in_vocab), words_in_vocab[:10])"
      ],
      "metadata": {
        "colab": {
          "base_uri": "https://localhost:8080/"
        },
        "id": "vFwv9A2aQpAn",
        "outputId": "e45ee7ab-0b56-45de-d2ed-eae4e3edae83"
      },
      "execution_count": 28,
      "outputs": [
        {
          "output_type": "stream",
          "name": "stdout",
          "text": [
            "10000 ['', '[UNK]', 'the', 'a', 'in', 'to', 'of', 'and', 'i', 'is']\n"
          ]
        }
      ]
    },
    {
      "cell_type": "code",
      "source": [
        "embed_weights = model_1.get_layer('embedding').get_weights()[0]\n",
        "print(embed_weights, embed_weights.shape)"
      ],
      "metadata": {
        "colab": {
          "base_uri": "https://localhost:8080/"
        },
        "id": "V3Be0KmIVWcQ",
        "outputId": "8d5fcc65-23bc-450b-d39a-0281f0486627"
      },
      "execution_count": 29,
      "outputs": [
        {
          "output_type": "stream",
          "name": "stdout",
          "text": [
            "[[ 0.06868201 -0.02231645 -0.00044085 ... -0.0264012   0.00451367\n",
            "  -0.05681162]\n",
            " [-0.0013253   0.01301463  0.00426587 ... -0.02496698 -0.04452747\n",
            "  -0.03930094]\n",
            " [-0.01803764  0.0237759  -0.04706891 ... -0.01374004 -0.00334152\n",
            "  -0.02129962]\n",
            " ...\n",
            " [-0.0183093   0.01456288  0.04976762 ... -0.03983175 -0.03711892\n",
            "  -0.00199366]\n",
            " [ 0.00878946  0.00801481 -0.06471687 ... -0.00575518  0.00535406\n",
            "  -0.01649981]\n",
            " [ 0.04024557 -0.0125607  -0.06138333 ... -0.00803439 -0.07336622\n",
            "  -0.06746805]] (10000, 128)\n"
          ]
        }
      ]
    },
    {
      "cell_type": "code",
      "source": [
        "# import io\n",
        "# out_v = io.open('vectors.tsv', 'w', encoding='utf-8')\n",
        "# out_m = io.open('metadata.tsv', 'w', encoding='utf-8')\n",
        "\n",
        "# for index, word in enumerate(words_in_vocab):\n",
        "#   if index == 0:\n",
        "#     continue  # skip 0, it's padding.\n",
        "#   vec = embed_weights[index]\n",
        "#   out_v.write('\\t'.join([str(x) for x in vec]) + \"\\n\")\n",
        "#   out_m.write(word + \"\\n\")\n",
        "# out_v.close()\n",
        "# out_m.close()"
      ],
      "metadata": {
        "id": "mYz-_K8sOvw9"
      },
      "execution_count": 30,
      "outputs": []
    },
    {
      "cell_type": "code",
      "source": [
        "# try:\n",
        "#     from google.colab import files\n",
        "#     files.download('vectors.tsv')\n",
        "#     files.download('metadata.tsv')\n",
        "# except Exception:\n",
        "#     pass"
      ],
      "metadata": {
        "id": "ONTWArroE53G"
      },
      "execution_count": 31,
      "outputs": []
    },
    {
      "cell_type": "markdown",
      "source": [
        "# Model 2: Building, fitting and evaluating our first TensorFlow RNN model (LSTM)"
      ],
      "metadata": {
        "id": "w8nPDx2lE56Y"
      }
    },
    {
      "cell_type": "code",
      "source": [
        "inputs = tfk.layers.Input(shape=(1,), dtype=tf.string)\n",
        "x = text_vectorizer(inputs)\n",
        "x = embedding(x)\n",
        "x = tfk.layers.LSTM(units=64)(x)\n",
        "x = tfk.layers.Dense(units=64, activation='relu')(x)\n",
        "outputs = tfk.layers.Dense(units=1, activation='sigmoid')(x)\n",
        "\n",
        "model_2 = tfk.Model(inputs, outputs, name='model_2_LSTM')\n",
        "\n",
        "model_2.compile(loss='binary_crossentropy',\n",
        "                optimizer=tfk.optimizers.Adam(),\n",
        "                metrics=['accuracy'])\n",
        "\n",
        "print(model_2.summary(), '\\n')\n",
        "\n",
        "model_2_history = model_2.fit(train_sentences,\n",
        "                              train_labels,\n",
        "                              epochs=5,\n",
        "                              validation_data=(val_sentences, val_labels),\n",
        "                              callbacks=[helper.create_tensorboard_callback(SAVE_DIR,\n",
        "                                                                            'model_2_LSTM')])"
      ],
      "metadata": {
        "id": "0g9EN0jPE5-P",
        "colab": {
          "base_uri": "https://localhost:8080/"
        },
        "outputId": "1f65b4e0-ad0f-4923-8a66-ca66ef9959e5"
      },
      "execution_count": 32,
      "outputs": [
        {
          "output_type": "stream",
          "name": "stdout",
          "text": [
            "Model: \"model_2_LSTM\"\n",
            "_________________________________________________________________\n",
            " Layer (type)                Output Shape              Param #   \n",
            "=================================================================\n",
            " input_2 (InputLayer)        [(None, 1)]               0         \n",
            "                                                                 \n",
            " text_vectorization_1 (TextV  (None, 15)               0         \n",
            " ectorization)                                                   \n",
            "                                                                 \n",
            " embedding (Embedding)       (None, 15, 128)           1280000   \n",
            "                                                                 \n",
            " lstm (LSTM)                 (None, 64)                49408     \n",
            "                                                                 \n",
            " dense_1 (Dense)             (None, 64)                4160      \n",
            "                                                                 \n",
            " dense_2 (Dense)             (None, 1)                 65        \n",
            "                                                                 \n",
            "=================================================================\n",
            "Total params: 1,333,633\n",
            "Trainable params: 1,333,633\n",
            "Non-trainable params: 0\n",
            "_________________________________________________________________\n",
            "None \n",
            "\n",
            "Saving TensorBoard log files to: model_logs/model_2_LSTM/20220409-030200\n",
            "Epoch 1/5\n",
            "215/215 [==============================] - 19s 58ms/step - loss: 0.2276 - accuracy: 0.9132 - val_loss: 0.5393 - val_accuracy: 0.7835\n",
            "Epoch 2/5\n",
            "215/215 [==============================] - 10s 46ms/step - loss: 0.1544 - accuracy: 0.9431 - val_loss: 0.6007 - val_accuracy: 0.7782\n",
            "Epoch 3/5\n",
            "215/215 [==============================] - 10s 45ms/step - loss: 0.1244 - accuracy: 0.9514 - val_loss: 0.6668 - val_accuracy: 0.7795\n",
            "Epoch 4/5\n",
            "215/215 [==============================] - 9s 44ms/step - loss: 0.1018 - accuracy: 0.9599 - val_loss: 0.8574 - val_accuracy: 0.7822\n",
            "Epoch 5/5\n",
            "215/215 [==============================] - 10s 44ms/step - loss: 0.0829 - accuracy: 0.9666 - val_loss: 1.3220 - val_accuracy: 0.7808\n"
          ]
        }
      ]
    },
    {
      "cell_type": "code",
      "source": [
        "model_2_pred_probs = model_2.predict(val_sentences)\n",
        "print(model_2_pred_probs[:5])\n",
        "\n",
        "model_2_preds = tf.squeeze(tf.round(model_2_pred_probs))\n",
        "print(model_2_preds[:5])\n",
        "print(val_labels[:5], '\\n')"
      ],
      "metadata": {
        "colab": {
          "base_uri": "https://localhost:8080/"
        },
        "id": "Dr0wLUsNnLtP",
        "outputId": "1861d26b-d887-4858-b136-6897d8f4a677"
      },
      "execution_count": 33,
      "outputs": [
        {
          "output_type": "stream",
          "name": "stdout",
          "text": [
            "[[1.4272630e-03]\n",
            " [7.4659848e-01]\n",
            " [9.9993527e-01]\n",
            " [1.0925829e-03]\n",
            " [1.7142964e-05]]\n",
            "tf.Tensor([0. 1. 1. 0. 0.], shape=(5,), dtype=float32)\n",
            "[0 0 1 1 1] \n",
            "\n"
          ]
        }
      ]
    },
    {
      "cell_type": "code",
      "source": [
        "model_2_results = calculate_results(y_true=val_labels, y_pred=model_2_preds)\n",
        "print(model_2_results)\n",
        "print(baseline_results)"
      ],
      "metadata": {
        "colab": {
          "base_uri": "https://localhost:8080/"
        },
        "id": "scE3Qz_BlBPb",
        "outputId": "489dcaf6-70a6-42ea-c5cc-2e6825fc1463"
      },
      "execution_count": 34,
      "outputs": [
        {
          "output_type": "stream",
          "name": "stdout",
          "text": [
            "{'accuracy': 78.08, 'precision': 0.78, 'recall': 0.78, 'f1': 0.78}\n",
            "{'accuracy': 79.27, 'precision': 0.81, 'recall': 0.79, 'f1': 0.79}\n"
          ]
        }
      ]
    },
    {
      "cell_type": "markdown",
      "source": [
        "# Model 3: Building, fitting and evaluating a GRU-cell powered RNN"
      ],
      "metadata": {
        "id": "rub3N82iozHk"
      }
    },
    {
      "cell_type": "code",
      "source": [
        "inputs = layers.Input(shape=(1,), dtype=tf.string)\n",
        "x = text_vectorizer(inputs)\n",
        "x = embedding(x)\n",
        "x = layers.GRU(64, return_sequences=True)(x)\n",
        "x = layers.GlobalAveragePooling1D()(x)\n",
        "outputs = layers.Dense(1, activation='sigmoid')(x)\n",
        "model_3 = tfk.Model(inputs, outputs, name='model_3_GRU')\n",
        "\n",
        "model_3.summary()\n",
        "\n",
        "model_3.compile(loss='binary_crossentropy',\n",
        "                optimizer=tfk.optimizers.Adam(),\n",
        "                metrics=['accuracy'])\n",
        "\n",
        "model_3_history = model_3.fit(train_sentences,\n",
        "                              train_labels,\n",
        "                              epochs=5,\n",
        "                              validation_data=(val_sentences, val_labels),\n",
        "                              callbacks=[helper.create_tensorboard_callback(SAVE_DIR,\n",
        "                                                                            'model_3_GRU')])"
      ],
      "metadata": {
        "id": "vr6gXD65E6B3",
        "colab": {
          "base_uri": "https://localhost:8080/"
        },
        "outputId": "c76c7b7b-3012-4805-f076-e2e1adf2760c"
      },
      "execution_count": 35,
      "outputs": [
        {
          "output_type": "stream",
          "name": "stdout",
          "text": [
            "Model: \"model_3_GRU\"\n",
            "_________________________________________________________________\n",
            " Layer (type)                Output Shape              Param #   \n",
            "=================================================================\n",
            " input_3 (InputLayer)        [(None, 1)]               0         \n",
            "                                                                 \n",
            " text_vectorization_1 (TextV  (None, 15)               0         \n",
            " ectorization)                                                   \n",
            "                                                                 \n",
            " embedding (Embedding)       (None, 15, 128)           1280000   \n",
            "                                                                 \n",
            " gru (GRU)                   (None, 15, 64)            37248     \n",
            "                                                                 \n",
            " global_average_pooling1d_1   (None, 64)               0         \n",
            " (GlobalAveragePooling1D)                                        \n",
            "                                                                 \n",
            " dense_3 (Dense)             (None, 1)                 65        \n",
            "                                                                 \n",
            "=================================================================\n",
            "Total params: 1,317,313\n",
            "Trainable params: 1,317,313\n",
            "Non-trainable params: 0\n",
            "_________________________________________________________________\n",
            "Saving TensorBoard log files to: model_logs/model_3_GRU/20220409-030330\n",
            "Epoch 1/5\n",
            "215/215 [==============================] - 15s 48ms/step - loss: 0.1772 - accuracy: 0.9391 - val_loss: 0.6616 - val_accuracy: 0.7808\n",
            "Epoch 2/5\n",
            "215/215 [==============================] - 9s 43ms/step - loss: 0.1033 - accuracy: 0.9620 - val_loss: 0.7839 - val_accuracy: 0.7690\n",
            "Epoch 3/5\n",
            "215/215 [==============================] - 9s 42ms/step - loss: 0.0849 - accuracy: 0.9660 - val_loss: 0.8816 - val_accuracy: 0.7717\n",
            "Epoch 4/5\n",
            "215/215 [==============================] - 10s 44ms/step - loss: 0.0759 - accuracy: 0.9696 - val_loss: 1.0229 - val_accuracy: 0.7664\n",
            "Epoch 5/5\n",
            "215/215 [==============================] - 10s 46ms/step - loss: 0.0648 - accuracy: 0.9737 - val_loss: 1.0264 - val_accuracy: 0.7690\n"
          ]
        }
      ]
    },
    {
      "cell_type": "code",
      "source": [
        "model_3_pred_probs = model_3.predict(val_sentences)\n",
        "print(model_3_pred_probs.shape)\n",
        "print(model_3_pred_probs[:5])\n",
        "print()\n",
        "\n",
        "model_3_preds = tf.squeeze(tf.round(model_3_pred_probs))\n",
        "print(model_3_preds.shape)\n",
        "print(model_3_preds[:5])\n",
        "print()\n",
        "\n",
        "model_3_results = calculate_results(y_true=val_labels, y_pred=model_3_preds)\n",
        "print(model_3_results)"
      ],
      "metadata": {
        "colab": {
          "base_uri": "https://localhost:8080/"
        },
        "id": "VAI-3cvTwBaZ",
        "outputId": "c7f39b78-b70b-4bee-b220-ba05f989ef46"
      },
      "execution_count": 36,
      "outputs": [
        {
          "output_type": "stream",
          "name": "stdout",
          "text": [
            "(762, 1)\n",
            "[[1.4523059e-02]\n",
            " [8.1732380e-01]\n",
            " [9.9981797e-01]\n",
            " [6.6167325e-02]\n",
            " [4.3085217e-04]]\n",
            "\n",
            "(762,)\n",
            "tf.Tensor([0. 1. 1. 0. 0.], shape=(5,), dtype=float32)\n",
            "\n",
            "{'accuracy': 76.9, 'precision': 0.78, 'recall': 0.77, 'f1': 0.76}\n"
          ]
        }
      ]
    },
    {
      "cell_type": "markdown",
      "source": [
        "# Model 4: Building, fitting and evaluating a bidirectional RNN model"
      ],
      "metadata": {
        "id": "i85XLVScwvbo"
      }
    },
    {
      "cell_type": "code",
      "source": [
        "inputs = layers.Input(shape=(1,), dtype=tf.string)\n",
        "x = text_vectorizer(inputs)\n",
        "x = embedding(x)\n",
        "x = layers.Bidirectional(layers.LSTM(64))(x)\n",
        "outputs = layers.Dense(1, activation='sigmoid')(x)\n",
        "\n",
        "model_4 = tfk.Model(inputs, outputs, name='model_4_bidirectional')\n",
        "\n",
        "model_4.summary()\n",
        "\n",
        "model_4.compile(loss='binary_crossentropy',\n",
        "                optimizer=tfk.optimizers.Adam(),\n",
        "                metrics=['accuracy'])\n",
        "\n",
        "model_4_history = model_4.fit(train_sentences,\n",
        "                              train_labels,\n",
        "                              epochs=5,\n",
        "                              validation_data=(val_sentences, val_labels),\n",
        "                              callbacks=[helper.create_tensorboard_callback(SAVE_DIR,\n",
        "                                                                            'model_4_bidirectional')])"
      ],
      "metadata": {
        "colab": {
          "base_uri": "https://localhost:8080/"
        },
        "id": "ZivMwOK_wgFP",
        "outputId": "96fb1310-03e4-4679-f469-f097e83b462f"
      },
      "execution_count": 37,
      "outputs": [
        {
          "output_type": "stream",
          "name": "stdout",
          "text": [
            "Model: \"model_4_bidirectional\"\n",
            "_________________________________________________________________\n",
            " Layer (type)                Output Shape              Param #   \n",
            "=================================================================\n",
            " input_4 (InputLayer)        [(None, 1)]               0         \n",
            "                                                                 \n",
            " text_vectorization_1 (TextV  (None, 15)               0         \n",
            " ectorization)                                                   \n",
            "                                                                 \n",
            " embedding (Embedding)       (None, 15, 128)           1280000   \n",
            "                                                                 \n",
            " bidirectional (Bidirectiona  (None, 128)              98816     \n",
            " l)                                                              \n",
            "                                                                 \n",
            " dense_4 (Dense)             (None, 1)                 129       \n",
            "                                                                 \n",
            "=================================================================\n",
            "Total params: 1,378,945\n",
            "Trainable params: 1,378,945\n",
            "Non-trainable params: 0\n",
            "_________________________________________________________________\n",
            "Saving TensorBoard log files to: model_logs/model_4_bidirectional/20220409-030458\n",
            "Epoch 1/5\n",
            "215/215 [==============================] - 25s 72ms/step - loss: 0.1083 - accuracy: 0.9669 - val_loss: 1.0337 - val_accuracy: 0.7703\n",
            "Epoch 2/5\n",
            "215/215 [==============================] - 14s 64ms/step - loss: 0.0538 - accuracy: 0.9769 - val_loss: 1.2276 - val_accuracy: 0.7585\n",
            "Epoch 3/5\n",
            "215/215 [==============================] - 13s 63ms/step - loss: 0.0496 - accuracy: 0.9768 - val_loss: 1.1341 - val_accuracy: 0.7664\n",
            "Epoch 4/5\n",
            "215/215 [==============================] - 13s 63ms/step - loss: 0.0449 - accuracy: 0.9794 - val_loss: 1.3784 - val_accuracy: 0.7690\n",
            "Epoch 5/5\n",
            "215/215 [==============================] - 14s 65ms/step - loss: 0.0409 - accuracy: 0.9806 - val_loss: 1.2380 - val_accuracy: 0.7769\n"
          ]
        }
      ]
    },
    {
      "cell_type": "code",
      "source": [
        "model_4_pred_probs = model_4.predict(val_sentences)\n",
        "print(model_4_pred_probs[:5])\n",
        "\n",
        "model_4_preds = tf.squeeze(tf.round(model_4_pred_probs))\n",
        "print(model_4_preds[:5])\n",
        "print()\n",
        "\n",
        "model_4_results = calculate_results(y_true=val_labels, y_pred=model_4_preds)\n",
        "print(model_4_results)"
      ],
      "metadata": {
        "colab": {
          "base_uri": "https://localhost:8080/"
        },
        "id": "apMxMcZk07bt",
        "outputId": "a3cd1114-7461-4390-cdf6-767e2b4a48b3"
      },
      "execution_count": 38,
      "outputs": [
        {
          "output_type": "stream",
          "name": "stdout",
          "text": [
            "[[6.1747432e-04]\n",
            " [6.4594728e-01]\n",
            " [9.9990255e-01]\n",
            " [2.3551235e-01]\n",
            " [5.4419423e-05]]\n",
            "tf.Tensor([0. 1. 1. 0. 0.], shape=(5,), dtype=float32)\n",
            "\n",
            "{'accuracy': 77.69, 'precision': 0.78, 'recall': 0.78, 'f1': 0.77}\n"
          ]
        }
      ]
    },
    {
      "cell_type": "markdown",
      "source": [
        "# Model 5: Building, fitting and evaluating a 1D CNN for text"
      ],
      "metadata": {
        "id": "Jh6jhGuv3PVb"
      }
    },
    {
      "cell_type": "code",
      "source": [
        "embedding_test = embedding(text_vectorizer(['this is a test sentence']))\n",
        "\n",
        "conv_1d = layers.Conv1D(filters=32, \n",
        "                        kernel_size=5, \n",
        "                        activation='relu', \n",
        "                        padding='valid')\n",
        "conv_1d_output = conv_1d(embedding_test)\n",
        "\n",
        "max_pool = layers.GlobalMaxPool1D()\n",
        "max_pool_output = max_pool(conv_1d_output)\n",
        "\n",
        "print(embedding_test.shape)\n",
        "print(conv_1d_output.shape)\n",
        "print(max_pool_output.shape)"
      ],
      "metadata": {
        "colab": {
          "base_uri": "https://localhost:8080/"
        },
        "id": "mtwUF_9PwWIq",
        "outputId": "e3c16df2-d0a8-4aa0-8b00-1fa5b77509bb"
      },
      "execution_count": 39,
      "outputs": [
        {
          "output_type": "stream",
          "name": "stdout",
          "text": [
            "(1, 15, 128)\n",
            "(1, 11, 32)\n",
            "(1, 32)\n"
          ]
        }
      ]
    },
    {
      "cell_type": "code",
      "source": [
        "inputs = layers.Input(shape=(1,), dtype=tf.string)\n",
        "x = text_vectorizer(inputs)\n",
        "x = embedding(x)\n",
        "x = layers.Conv1D(filters=64, kernel_size=5, strides=1, activation='relu', padding='valid')(x)\n",
        "x = layers.GlobalMaxPool1D()(x)\n",
        "outputs = layers.Dense(1, activation='sigmoid')(x)\n",
        "model_5 = tfk.Model(inputs, outputs, name='model_5_Conv1D')\n",
        "\n",
        "model_5.compile(loss='binary_crossentropy',\n",
        "                optimizer=tfk.optimizers.Adam(),\n",
        "                metrics=['accuracy'])\n",
        "\n",
        "model_5.summary()\n",
        "\n",
        "model_5_history = model_5.fit(train_sentences,\n",
        "                              train_labels,\n",
        "                              epochs=5,\n",
        "                              validation_data=(val_sentences, val_labels),\n",
        "                              callbacks=[helper.create_tensorboard_callback(SAVE_DIR,\n",
        "                                                                            'Conv1D')])"
      ],
      "metadata": {
        "colab": {
          "base_uri": "https://localhost:8080/"
        },
        "id": "wpPNaYRkuxvP",
        "outputId": "c6522623-ba92-4f8c-c78d-258bfee619fa"
      },
      "execution_count": 42,
      "outputs": [
        {
          "output_type": "stream",
          "name": "stdout",
          "text": [
            "Model: \"model_5_Conv1D\"\n",
            "_________________________________________________________________\n",
            " Layer (type)                Output Shape              Param #   \n",
            "=================================================================\n",
            " input_7 (InputLayer)        [(None, 1)]               0         \n",
            "                                                                 \n",
            " text_vectorization_1 (TextV  (None, 15)               0         \n",
            " ectorization)                                                   \n",
            "                                                                 \n",
            " embedding (Embedding)       (None, 15, 128)           1280000   \n",
            "                                                                 \n",
            " conv1d_2 (Conv1D)           (None, 11, 64)            41024     \n",
            "                                                                 \n",
            " global_max_pooling1d_2 (Glo  (None, 64)               0         \n",
            " balMaxPooling1D)                                                \n",
            "                                                                 \n",
            " dense_5 (Dense)             (None, 1)                 65        \n",
            "                                                                 \n",
            "=================================================================\n",
            "Total params: 1,321,089\n",
            "Trainable params: 1,321,089\n",
            "Non-trainable params: 0\n",
            "_________________________________________________________________\n",
            "Saving TensorBoard log files to: model_logs/Conv1D/20220409-030740\n",
            "Epoch 1/5\n",
            "215/215 [==============================] - 8s 32ms/step - loss: 0.1244 - accuracy: 0.9596 - val_loss: 0.8936 - val_accuracy: 0.7703\n",
            "Epoch 2/5\n",
            "215/215 [==============================] - 6s 26ms/step - loss: 0.0738 - accuracy: 0.9727 - val_loss: 1.0287 - val_accuracy: 0.7677\n",
            "Epoch 3/5\n",
            "215/215 [==============================] - 5s 21ms/step - loss: 0.0601 - accuracy: 0.9768 - val_loss: 1.1233 - val_accuracy: 0.7572\n",
            "Epoch 4/5\n",
            "215/215 [==============================] - 4s 20ms/step - loss: 0.0553 - accuracy: 0.9766 - val_loss: 1.2236 - val_accuracy: 0.7598\n",
            "Epoch 5/5\n",
            "215/215 [==============================] - 4s 21ms/step - loss: 0.0513 - accuracy: 0.9788 - val_loss: 1.1903 - val_accuracy: 0.7572\n"
          ]
        }
      ]
    },
    {
      "cell_type": "code",
      "source": [
        "model_5_pred_probs = model_5.predict(val_sentences)\n",
        "model_5_preds = tf.squeeze(tf.round(model_5_pred_probs))\n",
        "model_5_results = calculate_results(y_true=val_labels, y_pred=model_5_preds)\n",
        "\n",
        "print(model_5_pred_probs[:5], model_5_pred_probs.shape, '\\n')\n",
        "print(model_5_preds[:5], '\\n')\n",
        "print(model_5_results)"
      ],
      "metadata": {
        "colab": {
          "base_uri": "https://localhost:8080/"
        },
        "id": "YebEq0cOQx2y",
        "outputId": "9e67c487-f0cc-497e-c342-79988f78a997"
      },
      "execution_count": 43,
      "outputs": [
        {
          "output_type": "stream",
          "name": "stdout",
          "text": [
            "[[6.473519e-01]\n",
            " [9.280760e-01]\n",
            " [9.999814e-01]\n",
            " [8.375171e-02]\n",
            " [4.760007e-06]] (762, 1) \n",
            "\n",
            "tf.Tensor([1. 1. 1. 0. 0.], shape=(5,), dtype=float32) \n",
            "\n",
            "{'accuracy': 75.72, 'precision': 0.76, 'recall': 0.76, 'f1': 0.76}\n"
          ]
        }
      ]
    },
    {
      "cell_type": "markdown",
      "source": [
        "# Using TensorFlow Hub for pretrained word embeddings (transfer learning for NLP)"
      ],
      "metadata": {
        "id": "j3cGNS0SuYkX"
      }
    },
    {
      "cell_type": "code",
      "source": [
        "embed = hub.load('https://tfhub.dev/google/universal-sentence-encoder/4')"
      ],
      "metadata": {
        "id": "xq5b6VFZuLpR"
      },
      "execution_count": 47,
      "outputs": []
    },
    {
      "cell_type": "code",
      "source": [
        "embed_samples = embed([sample_sentence])\n",
        "print(embed_samples.shape)\n",
        "print(embed_samples[0])"
      ],
      "metadata": {
        "id": "yTD80RhJE6Fl",
        "colab": {
          "base_uri": "https://localhost:8080/"
        },
        "outputId": "ad5857a7-c0c2-4bb3-d259-d99040c3cb45"
      },
      "execution_count": 50,
      "outputs": [
        {
          "output_type": "stream",
          "name": "stdout",
          "text": [
            "(1, 512)\n",
            "tf.Tensor(\n",
            "[-0.01157023  0.0248591   0.0287805  -0.012715    0.0397154   0.08827761\n",
            "  0.02680985  0.05589836 -0.01068731 -0.00597294  0.00639323 -0.01819518\n",
            "  0.00030816  0.09105889  0.05874644 -0.03180627  0.01512473 -0.05162927\n",
            "  0.00991365 -0.06865345 -0.04209307  0.02678979  0.03011006  0.00321066\n",
            " -0.00337968 -0.04787358  0.0226672  -0.00985927 -0.04063615 -0.01292093\n",
            " -0.04666384  0.056303   -0.03949255  0.00517686  0.02495824 -0.07014441\n",
            "  0.02871509  0.04947678 -0.00633977 -0.08960192  0.02807121 -0.00808365\n",
            " -0.01360599  0.0599865  -0.10361788 -0.05195372  0.00232955 -0.0233253\n",
            " -0.03758106  0.03327728 -0.00430603 -0.05894246 -0.06101274 -0.02220005\n",
            " -0.01575761 -0.00474411 -0.03515062 -0.04440378 -0.04174352  0.04943503\n",
            " -0.02740932 -0.041331    0.01634345 -0.0371368   0.07395209 -0.00659237\n",
            " -0.06943311 -0.00361752  0.08656701  0.07717379 -0.06633056  0.02086629\n",
            "  0.06676424  0.00982107  0.01410715  0.07672232  0.05026635  0.02969933\n",
            " -0.01391872  0.06082513  0.08967173 -0.01739939 -0.02335795  0.01980951\n",
            " -0.05318438 -0.00597195 -0.01789535  0.03518631  0.0331638  -0.01078375\n",
            " -0.04246281  0.02813077 -0.04440409  0.02138846 -0.07827792  0.0037878\n",
            "  0.02113333  0.0489828   0.01862646  0.04409023 -0.00877465 -0.080099\n",
            " -0.06491723  0.03673802  0.02910934  0.04377056 -0.02771871 -0.00020968\n",
            " -0.04724235  0.00211792  0.00241361 -0.03451072 -0.05195144  0.04019915\n",
            " -0.01107909  0.02099738  0.07319079 -0.06645014  0.02918022  0.07274124\n",
            "  0.09450107 -0.05549989 -0.02150274 -0.02160009 -0.09313713  0.03371139\n",
            " -0.01765815  0.02668387 -0.01314888  0.07629129  0.05064229  0.03545806\n",
            " -0.05802932 -0.00128817  0.02550667 -0.06641157 -0.04101516 -0.07549172\n",
            "  0.0149991  -0.01135048 -0.04933348 -0.07272242  0.00363881 -0.01518947\n",
            "  0.05594091 -0.04914046 -0.0184242  -0.01433044 -0.06046046  0.02016241\n",
            "  0.05592836 -0.01900854  0.03671473  0.00335186 -0.06538392 -0.04100158\n",
            "  0.00468298 -0.03396352  0.04442607  0.07719965 -0.08504523  0.01783496\n",
            "  0.02114928 -0.05993735 -0.04932677 -0.05756365  0.10220414  0.00475884\n",
            " -0.00511756 -0.06249483 -0.01093349 -0.07538158 -0.00616411 -0.05241332\n",
            " -0.02642498 -0.06815229 -0.02264816 -0.05251469 -0.06109069  0.04736179\n",
            " -0.02116432 -0.02787968 -0.04840662  0.00624503 -0.00694632 -0.01796259\n",
            " -0.03916385 -0.05585475 -0.01492355  0.05002924 -0.06699254  0.07363344\n",
            "  0.05643307  0.00630319 -0.03625729 -0.01286143  0.06335041 -0.04099047\n",
            " -0.02099766 -0.01769313 -0.03773161  0.02522287 -0.00515926  0.0971251\n",
            "  0.01081978  0.0388332   0.01335085 -0.01399826 -0.04374618  0.03636792\n",
            " -0.01776025 -0.05713793  0.04273816  0.0163923   0.00094627  0.03364853\n",
            "  0.04082774  0.06279302  0.01755403 -0.06590243  0.02764744  0.07578105\n",
            "  0.02397399  0.00288976 -0.0202519   0.01948242 -0.04223579 -0.03046629\n",
            "  0.04044751 -0.0483441  -0.02124537  0.06924416 -0.01574232  0.0994121\n",
            "  0.07451483  0.00243587  0.04384918  0.05336051 -0.08577849 -0.02304756\n",
            " -0.01068814 -0.01797064  0.08412118  0.05105529  0.0198401   0.0422286\n",
            " -0.04869327  0.08947874  0.0250803   0.07413822  0.03269236 -0.01735415\n",
            " -0.0330414  -0.0495681  -0.00326106 -0.03993595 -0.0300711  -0.04603602\n",
            " -0.02892623 -0.07143307  0.02684832  0.01602264 -0.06831488  0.03801536\n",
            " -0.02441481  0.05378303  0.03296163 -0.03403031 -0.02332755  0.04537229\n",
            " -0.03889669 -0.00617606 -0.00882423  0.00267765 -0.08132634  0.05419118\n",
            " -0.05534778 -0.0259224   0.04277049  0.02693451 -0.03611584  0.03778698\n",
            "  0.06067453  0.03575343  0.00916521 -0.00827851  0.06276242  0.04202007\n",
            " -0.03204758  0.02008643  0.08058751 -0.05461727  0.07798669  0.05942629\n",
            "  0.00883447 -0.00695633  0.02571713  0.02623856 -0.07648966  0.03418234\n",
            " -0.01819848 -0.04301028  0.01286275 -0.04837705 -0.0091009  -0.01071084\n",
            "  0.00010401  0.02701861 -0.04757859  0.02599771 -0.00684557  0.01497613\n",
            " -0.08898537  0.03221716 -0.00036083 -0.06063571 -0.03318378  0.03554994\n",
            "  0.03847636  0.06862564  0.05161576  0.04342311  0.04140062 -0.04563705\n",
            " -0.03845314  0.03083179  0.0082776  -0.00866155 -0.04097845  0.06381843\n",
            " -0.01308795 -0.02424813 -0.0517582   0.01835051 -0.07147805  0.00725172\n",
            " -0.07211173  0.06165016 -0.03569034 -0.01217909  0.06172423 -0.04625789\n",
            "  0.00082077  0.04339873  0.00091035 -0.07088619  0.01646287 -0.08164823\n",
            " -0.0371655   0.04262332 -0.01241014 -0.0837284  -0.01366773  0.005719\n",
            " -0.00477374  0.06399126 -0.09433511  0.01710172 -0.01227763  0.05677068\n",
            " -0.0038279  -0.05680655  0.08489886  0.07041533 -0.00456506 -0.03479037\n",
            " -0.04344758 -0.06414609  0.0016613   0.02918556  0.03372652 -0.0077852\n",
            "  0.03244483 -0.00989516 -0.03030809 -0.07584874  0.05150712 -0.02841255\n",
            " -0.07917359 -0.03578366  0.05016284  0.01860838  0.00074915 -0.00872888\n",
            " -0.01031676 -0.02014873 -0.09723577  0.03965212 -0.06817244 -0.00105303\n",
            "  0.00737339 -0.00222846  0.02685834  0.06966114  0.02972177  0.04178471\n",
            " -0.02220552  0.01747187 -0.0335375  -0.03834699 -0.01922802 -0.03150897\n",
            "  0.05334109  0.02373906 -0.01034903  0.00214743 -0.04157256 -0.03025418\n",
            "  0.00581007  0.01137193 -0.00592396 -0.05769085 -0.06344255  0.04439218\n",
            "  0.01658632  0.0566541  -0.02544702  0.02046601  0.05887648 -0.07208317\n",
            " -0.03404436 -0.0658371  -0.02519127 -0.00026585  0.03846851 -0.02013167\n",
            "  0.00200025 -0.00627344 -0.0466603  -0.00455736  0.006055   -0.01356126\n",
            "  0.04474311  0.0247194  -0.07321873 -0.05608065 -0.06762251 -0.01433571\n",
            "  0.03541975 -0.04898684 -0.04268678  0.03438697  0.02330969 -0.00562102\n",
            "  0.05483436  0.0128366   0.02040323 -0.00852736 -0.07735825 -0.01213964\n",
            " -0.0233245  -0.02154292  0.04894268 -0.08804284 -0.02543786 -0.04927175\n",
            " -0.04087909 -0.01773587 -0.07637208  0.0026929  -0.0602887   0.0186177\n",
            "  0.06966407 -0.06209605 -0.06811607 -0.08184288 -0.02575569 -0.02269542\n",
            "  0.08195686  0.05823719 -0.07867002  0.07145876 -0.04366785  0.02787705\n",
            " -0.0125781  -0.0581189   0.03620556 -0.05508832 -0.00261797 -0.09346888\n",
            "  0.09706796 -0.05189689 -0.00031375  0.06562174 -0.02415269  0.00901651\n",
            "  0.05061338  0.00056092 -0.01252413  0.09506278 -0.01020624 -0.01407782\n",
            "  0.05391152  0.04550585  0.03244825  0.04292121 -0.01375778 -0.03055828\n",
            " -0.01261503  0.05822346  0.02029675  0.03866008  0.00686579  0.0053889\n",
            " -0.02150048  0.0026167   0.03741339 -0.03374724 -0.0228951  -0.00186125\n",
            "  0.02315823 -0.01485022], shape=(512,), dtype=float32)\n"
          ]
        }
      ]
    },
    {
      "cell_type": "code",
      "source": [
        "sentence_encoder_layer = hub.KerasLayer('https://tfhub.dev/google/universal-sentence-encoder/4',\n",
        "                                        input_shape=[],\n",
        "                                        dtype=tf.string,\n",
        "                                        trainable=False,\n",
        "                                        name='USE')"
      ],
      "metadata": {
        "id": "mftG2jK6E6JL"
      },
      "execution_count": 51,
      "outputs": []
    },
    {
      "cell_type": "code",
      "source": [
        "model_6 = tfk.Sequential([sentence_encoder_layer,\n",
        "                          layers.Dense(1, activation='sigmoid')],\n",
        "                         name='model_6_USE')\n",
        "model_6.compile(loss='binary_crossentropy',\n",
        "                optimizer=tfk.optimizers.Adam(),\n",
        "                metrics=['accuracy'])\n",
        "model_6.summary()\n",
        "model_6_history = model_6.fit(train_sentences,\n",
        "                              train_labels,\n",
        "                              epochs=5,\n",
        "                              validation_data=(val_sentences, val_labels),\n",
        "                              callbacks=[helper.create_tensorboard_callback(SAVE_DIR,\n",
        "                                                                            'tf_hub_sentence_encoder')])"
      ],
      "metadata": {
        "id": "OBp6kk7zE6NF",
        "colab": {
          "base_uri": "https://localhost:8080/"
        },
        "outputId": "3d5226c3-e576-40b6-e49a-14894333a08e"
      },
      "execution_count": 53,
      "outputs": [
        {
          "output_type": "stream",
          "name": "stdout",
          "text": [
            "Model: \"model_6_USE\"\n",
            "_________________________________________________________________\n",
            " Layer (type)                Output Shape              Param #   \n",
            "=================================================================\n",
            " USE (KerasLayer)            (None, 512)               256797824 \n",
            "                                                                 \n",
            " dense_7 (Dense)             (None, 1)                 513       \n",
            "                                                                 \n",
            "=================================================================\n",
            "Total params: 256,798,337\n",
            "Trainable params: 513\n",
            "Non-trainable params: 256,797,824\n",
            "_________________________________________________________________\n",
            "Saving TensorBoard log files to: model_logs/tf_hub_sentence_encoder/20220409-034153\n",
            "Epoch 1/5\n",
            "215/215 [==============================] - 10s 23ms/step - loss: 0.6488 - accuracy: 0.7211 - val_loss: 0.6134 - val_accuracy: 0.7730\n",
            "Epoch 2/5\n",
            "215/215 [==============================] - 4s 18ms/step - loss: 0.5818 - accuracy: 0.7841 - val_loss: 0.5644 - val_accuracy: 0.7848\n",
            "Epoch 3/5\n",
            "215/215 [==============================] - 4s 17ms/step - loss: 0.5392 - accuracy: 0.7935 - val_loss: 0.5330 - val_accuracy: 0.7874\n",
            "Epoch 4/5\n",
            "215/215 [==============================] - 4s 19ms/step - loss: 0.5104 - accuracy: 0.7975 - val_loss: 0.5115 - val_accuracy: 0.7900\n",
            "Epoch 5/5\n",
            "215/215 [==============================] - 4s 19ms/step - loss: 0.4902 - accuracy: 0.8000 - val_loss: 0.4968 - val_accuracy: 0.7927\n"
          ]
        }
      ]
    },
    {
      "cell_type": "code",
      "source": [
        "model_6_pred_probs = model_6.predict(val_sentences)\n",
        "print(model_6_pred_probs[:5]), print()\n",
        "\n",
        "model_6_preds = tf.squeeze(tf.round(model_6_pred_probs))\n",
        "print(model_6_preds[:5]), print()\n",
        "\n",
        "model_6_results = calculate_results(y_true=val_labels, y_pred=model_6_preds)\n",
        "print(model_6_results)"
      ],
      "metadata": {
        "colab": {
          "base_uri": "https://localhost:8080/"
        },
        "id": "fhZMeCbYafUc",
        "outputId": "c8edfa50-ee60-474e-ba95-4dbcfaeb3cab"
      },
      "execution_count": 58,
      "outputs": [
        {
          "output_type": "stream",
          "name": "stdout",
          "text": [
            "[[0.3768071 ]\n",
            " [0.6755946 ]\n",
            " [0.86114705]\n",
            " [0.34265015]\n",
            " [0.6291756 ]]\n",
            "\n",
            "tf.Tensor([0. 1. 1. 0. 1.], shape=(5,), dtype=float32)\n",
            "\n",
            "{'accuracy': 79.27, 'precision': 0.79, 'recall': 0.79, 'f1': 0.79}\n"
          ]
        }
      ]
    },
    {
      "cell_type": "code",
      "source": [
        "model_6a = tfk.Sequential([sentence_encoder_layer,\n",
        "                          layers.Dense(128, activation='relu'),\n",
        "                          layers.Dense(1, activation='sigmoid')],\n",
        "                         name='model_6a_USE')\n",
        "model_6a.compile(loss='binary_crossentropy',\n",
        "                optimizer=tfk.optimizers.Adam(),\n",
        "                metrics=['accuracy'])\n",
        "model_6a.summary()\n",
        "model_6a_history = model_6a.fit(train_sentences,\n",
        "                              train_labels,\n",
        "                              epochs=5,\n",
        "                              validation_data=(val_sentences, val_labels),\n",
        "                              callbacks=[helper.create_tensorboard_callback(SAVE_DIR,\n",
        "                                                                            'tf_hub_sentence_encoder')])\n",
        "\n",
        "print()\n",
        "model_6a_pred_probs = model_6a.predict(val_sentences)\n",
        "print(model_6a_pred_probs[:5]), print()\n",
        "\n",
        "model_6a_preds = tf.squeeze(tf.round(model_6a_pred_probs))\n",
        "print(model_6a_preds[:5]), print()\n",
        "\n",
        "model_6a_results = calculate_results(y_true=val_labels, y_pred=model_6a_preds)\n",
        "print(model_6a_results)"
      ],
      "metadata": {
        "colab": {
          "base_uri": "https://localhost:8080/"
        },
        "id": "bUzvy3pTa-8o",
        "outputId": "e790d79c-62fe-475b-f938-c4bf8a1d7efe"
      },
      "execution_count": 62,
      "outputs": [
        {
          "output_type": "stream",
          "name": "stdout",
          "text": [
            "Model: \"model_6a_USE\"\n",
            "_________________________________________________________________\n",
            " Layer (type)                Output Shape              Param #   \n",
            "=================================================================\n",
            " USE (KerasLayer)            (None, 512)               256797824 \n",
            "                                                                 \n",
            " dense_11 (Dense)            (None, 128)               65664     \n",
            "                                                                 \n",
            " dense_12 (Dense)            (None, 1)                 129       \n",
            "                                                                 \n",
            "=================================================================\n",
            "Total params: 256,863,617\n",
            "Trainable params: 65,793\n",
            "Non-trainable params: 256,797,824\n",
            "_________________________________________________________________\n",
            "Saving TensorBoard log files to: model_logs/tf_hub_sentence_encoder/20220409-035826\n",
            "Epoch 1/5\n",
            "215/215 [==============================] - 7s 19ms/step - loss: 0.4901 - accuracy: 0.7860 - val_loss: 0.4456 - val_accuracy: 0.8071\n",
            "Epoch 2/5\n",
            "215/215 [==============================] - 3s 13ms/step - loss: 0.4085 - accuracy: 0.8180 - val_loss: 0.4364 - val_accuracy: 0.8123\n",
            "Epoch 3/5\n",
            "215/215 [==============================] - 3s 13ms/step - loss: 0.3946 - accuracy: 0.8248 - val_loss: 0.4288 - val_accuracy: 0.8110\n",
            "Epoch 4/5\n",
            "215/215 [==============================] - 3s 12ms/step - loss: 0.3831 - accuracy: 0.8317 - val_loss: 0.4256 - val_accuracy: 0.8136\n",
            "Epoch 5/5\n",
            "215/215 [==============================] - 3s 12ms/step - loss: 0.3732 - accuracy: 0.8348 - val_loss: 0.4287 - val_accuracy: 0.8150\n",
            "\n",
            "[[0.16820225]\n",
            " [0.80012   ]\n",
            " [0.9938693 ]\n",
            " [0.1939727 ]\n",
            " [0.6392    ]]\n",
            "\n",
            "tf.Tensor([0. 1. 1. 0. 1.], shape=(5,), dtype=float32)\n",
            "\n",
            "{'accuracy': 81.5, 'precision': 0.82, 'recall': 0.81, 'f1': 0.81}\n"
          ]
        }
      ]
    },
    {
      "cell_type": "markdown",
      "source": [
        "# Preparing subsets of data for model 7 (same as model 6 but 10% of data)"
      ],
      "metadata": {
        "id": "I3MkbNDWZ_at"
      }
    },
    {
      "cell_type": "code",
      "source": [
        "train_df_shuffled"
      ],
      "metadata": {
        "id": "0Yo2yMPEE6Q5",
        "colab": {
          "base_uri": "https://localhost:8080/",
          "height": 468
        },
        "outputId": "8175afef-0caa-454f-d541-bddb26de42f9"
      },
      "execution_count": 64,
      "outputs": [
        {
          "output_type": "execute_result",
          "data": {
            "text/plain": [
              "         id       keyword                        location  \\\n",
              "2644   3796   destruction                             NaN   \n",
              "2227   3185        deluge                             NaN   \n",
              "5448   7769        police                              UK   \n",
              "132     191    aftershock                             NaN   \n",
              "6845   9810        trauma           Montgomery County, MD   \n",
              "...     ...           ...                             ...   \n",
              "5226   7470  obliteration                         Merica!   \n",
              "5390   7691         panic                             NaN   \n",
              "860    1242         blood                             NaN   \n",
              "7603  10862           NaN                             NaN   \n",
              "7270  10409     whirlwind  Stamford & Cork (& Shropshire)   \n",
              "\n",
              "                                                   text  target  \n",
              "2644  So you have a new weapon that can cause un-ima...       1  \n",
              "2227  The f$&amp;@ing things I do for #GISHWHES Just...       0  \n",
              "5448  DT @georgegalloway: RT @Galloway4Mayor: ÛÏThe...       1  \n",
              "132   Aftershock back to school kick off was great. ...       0  \n",
              "6845  in response to trauma Children of Addicts deve...       0  \n",
              "...                                                 ...     ...  \n",
              "5226  @Eganator2000 There aren't many Obliteration s...       0  \n",
              "5390  just had a panic attack bc I don't have enough...       0  \n",
              "860   Omron HEM-712C Automatic Blood Pressure Monito...       0  \n",
              "7603  Officials say a quarantine is in place at an A...       1  \n",
              "7270  I moved to England five years ago today. What ...       1  \n",
              "\n",
              "[7613 rows x 5 columns]"
            ],
            "text/html": [
              "\n",
              "  <div id=\"df-f1cb7508-37d8-4e45-a95e-3322e4b27060\">\n",
              "    <div class=\"colab-df-container\">\n",
              "      <div>\n",
              "<style scoped>\n",
              "    .dataframe tbody tr th:only-of-type {\n",
              "        vertical-align: middle;\n",
              "    }\n",
              "\n",
              "    .dataframe tbody tr th {\n",
              "        vertical-align: top;\n",
              "    }\n",
              "\n",
              "    .dataframe thead th {\n",
              "        text-align: right;\n",
              "    }\n",
              "</style>\n",
              "<table border=\"1\" class=\"dataframe\">\n",
              "  <thead>\n",
              "    <tr style=\"text-align: right;\">\n",
              "      <th></th>\n",
              "      <th>id</th>\n",
              "      <th>keyword</th>\n",
              "      <th>location</th>\n",
              "      <th>text</th>\n",
              "      <th>target</th>\n",
              "    </tr>\n",
              "  </thead>\n",
              "  <tbody>\n",
              "    <tr>\n",
              "      <th>2644</th>\n",
              "      <td>3796</td>\n",
              "      <td>destruction</td>\n",
              "      <td>NaN</td>\n",
              "      <td>So you have a new weapon that can cause un-ima...</td>\n",
              "      <td>1</td>\n",
              "    </tr>\n",
              "    <tr>\n",
              "      <th>2227</th>\n",
              "      <td>3185</td>\n",
              "      <td>deluge</td>\n",
              "      <td>NaN</td>\n",
              "      <td>The f$&amp;amp;@ing things I do for #GISHWHES Just...</td>\n",
              "      <td>0</td>\n",
              "    </tr>\n",
              "    <tr>\n",
              "      <th>5448</th>\n",
              "      <td>7769</td>\n",
              "      <td>police</td>\n",
              "      <td>UK</td>\n",
              "      <td>DT @georgegalloway: RT @Galloway4Mayor: ÛÏThe...</td>\n",
              "      <td>1</td>\n",
              "    </tr>\n",
              "    <tr>\n",
              "      <th>132</th>\n",
              "      <td>191</td>\n",
              "      <td>aftershock</td>\n",
              "      <td>NaN</td>\n",
              "      <td>Aftershock back to school kick off was great. ...</td>\n",
              "      <td>0</td>\n",
              "    </tr>\n",
              "    <tr>\n",
              "      <th>6845</th>\n",
              "      <td>9810</td>\n",
              "      <td>trauma</td>\n",
              "      <td>Montgomery County, MD</td>\n",
              "      <td>in response to trauma Children of Addicts deve...</td>\n",
              "      <td>0</td>\n",
              "    </tr>\n",
              "    <tr>\n",
              "      <th>...</th>\n",
              "      <td>...</td>\n",
              "      <td>...</td>\n",
              "      <td>...</td>\n",
              "      <td>...</td>\n",
              "      <td>...</td>\n",
              "    </tr>\n",
              "    <tr>\n",
              "      <th>5226</th>\n",
              "      <td>7470</td>\n",
              "      <td>obliteration</td>\n",
              "      <td>Merica!</td>\n",
              "      <td>@Eganator2000 There aren't many Obliteration s...</td>\n",
              "      <td>0</td>\n",
              "    </tr>\n",
              "    <tr>\n",
              "      <th>5390</th>\n",
              "      <td>7691</td>\n",
              "      <td>panic</td>\n",
              "      <td>NaN</td>\n",
              "      <td>just had a panic attack bc I don't have enough...</td>\n",
              "      <td>0</td>\n",
              "    </tr>\n",
              "    <tr>\n",
              "      <th>860</th>\n",
              "      <td>1242</td>\n",
              "      <td>blood</td>\n",
              "      <td>NaN</td>\n",
              "      <td>Omron HEM-712C Automatic Blood Pressure Monito...</td>\n",
              "      <td>0</td>\n",
              "    </tr>\n",
              "    <tr>\n",
              "      <th>7603</th>\n",
              "      <td>10862</td>\n",
              "      <td>NaN</td>\n",
              "      <td>NaN</td>\n",
              "      <td>Officials say a quarantine is in place at an A...</td>\n",
              "      <td>1</td>\n",
              "    </tr>\n",
              "    <tr>\n",
              "      <th>7270</th>\n",
              "      <td>10409</td>\n",
              "      <td>whirlwind</td>\n",
              "      <td>Stamford &amp; Cork (&amp; Shropshire)</td>\n",
              "      <td>I moved to England five years ago today. What ...</td>\n",
              "      <td>1</td>\n",
              "    </tr>\n",
              "  </tbody>\n",
              "</table>\n",
              "<p>7613 rows × 5 columns</p>\n",
              "</div>\n",
              "      <button class=\"colab-df-convert\" onclick=\"convertToInteractive('df-f1cb7508-37d8-4e45-a95e-3322e4b27060')\"\n",
              "              title=\"Convert this dataframe to an interactive table.\"\n",
              "              style=\"display:none;\">\n",
              "        \n",
              "  <svg xmlns=\"http://www.w3.org/2000/svg\" height=\"24px\"viewBox=\"0 0 24 24\"\n",
              "       width=\"24px\">\n",
              "    <path d=\"M0 0h24v24H0V0z\" fill=\"none\"/>\n",
              "    <path d=\"M18.56 5.44l.94 2.06.94-2.06 2.06-.94-2.06-.94-.94-2.06-.94 2.06-2.06.94zm-11 1L8.5 8.5l.94-2.06 2.06-.94-2.06-.94L8.5 2.5l-.94 2.06-2.06.94zm10 10l.94 2.06.94-2.06 2.06-.94-2.06-.94-.94-2.06-.94 2.06-2.06.94z\"/><path d=\"M17.41 7.96l-1.37-1.37c-.4-.4-.92-.59-1.43-.59-.52 0-1.04.2-1.43.59L10.3 9.45l-7.72 7.72c-.78.78-.78 2.05 0 2.83L4 21.41c.39.39.9.59 1.41.59.51 0 1.02-.2 1.41-.59l7.78-7.78 2.81-2.81c.8-.78.8-2.07 0-2.86zM5.41 20L4 18.59l7.72-7.72 1.47 1.35L5.41 20z\"/>\n",
              "  </svg>\n",
              "      </button>\n",
              "      \n",
              "  <style>\n",
              "    .colab-df-container {\n",
              "      display:flex;\n",
              "      flex-wrap:wrap;\n",
              "      gap: 12px;\n",
              "    }\n",
              "\n",
              "    .colab-df-convert {\n",
              "      background-color: #E8F0FE;\n",
              "      border: none;\n",
              "      border-radius: 50%;\n",
              "      cursor: pointer;\n",
              "      display: none;\n",
              "      fill: #1967D2;\n",
              "      height: 32px;\n",
              "      padding: 0 0 0 0;\n",
              "      width: 32px;\n",
              "    }\n",
              "\n",
              "    .colab-df-convert:hover {\n",
              "      background-color: #E2EBFA;\n",
              "      box-shadow: 0px 1px 2px rgba(60, 64, 67, 0.3), 0px 1px 3px 1px rgba(60, 64, 67, 0.15);\n",
              "      fill: #174EA6;\n",
              "    }\n",
              "\n",
              "    [theme=dark] .colab-df-convert {\n",
              "      background-color: #3B4455;\n",
              "      fill: #D2E3FC;\n",
              "    }\n",
              "\n",
              "    [theme=dark] .colab-df-convert:hover {\n",
              "      background-color: #434B5C;\n",
              "      box-shadow: 0px 1px 3px 1px rgba(0, 0, 0, 0.15);\n",
              "      filter: drop-shadow(0px 1px 2px rgba(0, 0, 0, 0.3));\n",
              "      fill: #FFFFFF;\n",
              "    }\n",
              "  </style>\n",
              "\n",
              "      <script>\n",
              "        const buttonEl =\n",
              "          document.querySelector('#df-f1cb7508-37d8-4e45-a95e-3322e4b27060 button.colab-df-convert');\n",
              "        buttonEl.style.display =\n",
              "          google.colab.kernel.accessAllowed ? 'block' : 'none';\n",
              "\n",
              "        async function convertToInteractive(key) {\n",
              "          const element = document.querySelector('#df-f1cb7508-37d8-4e45-a95e-3322e4b27060');\n",
              "          const dataTable =\n",
              "            await google.colab.kernel.invokeFunction('convertToInteractive',\n",
              "                                                     [key], {});\n",
              "          if (!dataTable) return;\n",
              "\n",
              "          const docLinkHtml = 'Like what you see? Visit the ' +\n",
              "            '<a target=\"_blank\" href=https://colab.research.google.com/notebooks/data_table.ipynb>data table notebook</a>'\n",
              "            + ' to learn more about interactive tables.';\n",
              "          element.innerHTML = '';\n",
              "          dataTable['output_type'] = 'display_data';\n",
              "          await google.colab.output.renderOutput(dataTable, element);\n",
              "          const docLink = document.createElement('div');\n",
              "          docLink.innerHTML = docLinkHtml;\n",
              "          element.appendChild(docLink);\n",
              "        }\n",
              "      </script>\n",
              "    </div>\n",
              "  </div>\n",
              "  "
            ]
          },
          "metadata": {},
          "execution_count": 64
        }
      ]
    },
    {
      "cell_type": "code",
      "source": [
        "train_10_percent = train_df_shuffled[['text', 'target']].sample(frac=0.1, random_state=42)\n",
        "print(train_10_percent.head(1), len(train_10_percent)), print()\n",
        "\n",
        "train_sentences_10_percent = train_10_percent['text'].to_list()\n",
        "train_labels_10_percent = train_10_percent['target'].to_list()\n",
        "print(len(train_sentences_10_percent), len(train_labels_10_percent)), print()\n",
        "\n",
        "print(train_10_percent['target'].value_counts())\n",
        "print(train_df_shuffled['target'].value_counts())"
      ],
      "metadata": {
        "id": "STliU01rE6Uo",
        "colab": {
          "base_uri": "https://localhost:8080/"
        },
        "outputId": "f1230971-a1ea-492d-f9bc-20a0496e788f"
      },
      "execution_count": 71,
      "outputs": [
        {
          "output_type": "stream",
          "name": "stdout",
          "text": [
            "                                                   text  target\n",
            "4955  DFR EP016 Monthly Meltdown - On Dnbheaven 2015...       0 761\n",
            "\n",
            "761 761\n",
            "\n",
            "0    413\n",
            "1    348\n",
            "Name: target, dtype: int64\n",
            "0    4342\n",
            "1    3271\n",
            "Name: target, dtype: int64\n"
          ]
        }
      ]
    },
    {
      "cell_type": "markdown",
      "source": [
        "# Model 7: Building, training and evaluating a transfer learning model on 10% data"
      ],
      "metadata": {
        "id": "fromzp1lE6YM"
      }
    },
    {
      "cell_type": "code",
      "source": [
        "model_7 = tfk.Sequential([sentence_encoder_layer,\n",
        "                          layers.Dense(128, activation='relu'),\n",
        "                          layers.Dense(1, activation='sigmoid')],\n",
        "                         name='model_6a_USE')\n",
        "model_7.compile(loss='binary_crossentropy',\n",
        "                optimizer=tfk.optimizers.Adam(),\n",
        "                metrics=['accuracy'])\n",
        "\n",
        "model_7.summary(), print()\n",
        "\n",
        "model_7_history = model_7.fit(train_sentences_10_percent,\n",
        "                              train_labels_10_percent,\n",
        "                              epochs=5,\n",
        "                              validation_data=(val_sentences, val_labels),\n",
        "                              callbacks=[helper.create_tensorboard_callback(SAVE_DIR,\n",
        "                                                                            'tf_hub_sentence_encoder_10_percent')])\n",
        "\n"
      ],
      "metadata": {
        "id": "UAyJAfOIE4nI",
        "colab": {
          "base_uri": "https://localhost:8080/"
        },
        "outputId": "ce9785b6-dbb2-45f5-f1f3-a090d7d784aa"
      },
      "execution_count": 78,
      "outputs": [
        {
          "output_type": "stream",
          "name": "stdout",
          "text": [
            "Model: \"model_6a_USE\"\n",
            "_________________________________________________________________\n",
            " Layer (type)                Output Shape              Param #   \n",
            "=================================================================\n",
            " USE (KerasLayer)            (None, 512)               256797824 \n",
            "                                                                 \n",
            " dense_17 (Dense)            (None, 128)               65664     \n",
            "                                                                 \n",
            " dense_18 (Dense)            (None, 1)                 129       \n",
            "                                                                 \n",
            "=================================================================\n",
            "Total params: 256,863,617\n",
            "Trainable params: 65,793\n",
            "Non-trainable params: 256,797,824\n",
            "_________________________________________________________________\n",
            "\n",
            "Saving TensorBoard log files to: model_logs/tf_hub_sentence_encoder_10_percent/20220409-042649\n",
            "Epoch 1/5\n",
            "24/24 [==============================] - 5s 73ms/step - loss: 0.6584 - accuracy: 0.7109 - val_loss: 0.6030 - val_accuracy: 0.8031\n",
            "Epoch 2/5\n",
            "24/24 [==============================] - 1s 27ms/step - loss: 0.5617 - accuracy: 0.7976 - val_loss: 0.5065 - val_accuracy: 0.8084\n",
            "Epoch 3/5\n",
            "24/24 [==============================] - 1s 28ms/step - loss: 0.4776 - accuracy: 0.8108 - val_loss: 0.4389 - val_accuracy: 0.8176\n",
            "Epoch 4/5\n",
            "24/24 [==============================] - 1s 27ms/step - loss: 0.4272 - accuracy: 0.8108 - val_loss: 0.3998 - val_accuracy: 0.8228\n",
            "Epoch 5/5\n",
            "24/24 [==============================] - 1s 29ms/step - loss: 0.3932 - accuracy: 0.8305 - val_loss: 0.3714 - val_accuracy: 0.8399\n"
          ]
        }
      ]
    },
    {
      "cell_type": "code",
      "source": [
        "model_7_pred_probs = model_7.predict(val_sentences)\n",
        "print(model_7_pred_probs[:5])\n",
        "\n",
        "model_7_preds = tf.squeeze(tf.round(model_7_pred_probs))\n",
        "print(model_7_preds[:5]), print()\n",
        "\n",
        "model_7_results = calculate_results(y_true=val_labels, y_pred=model_7_preds)\n",
        "print(model_7_results)"
      ],
      "metadata": {
        "colab": {
          "base_uri": "https://localhost:8080/"
        },
        "id": "IriFq-cwj-Ec",
        "outputId": "64fe8545-ef7e-4c33-c295-27cfce4a56cf"
      },
      "execution_count": 79,
      "outputs": [
        {
          "output_type": "stream",
          "name": "stdout",
          "text": [
            "[[0.18137464]\n",
            " [0.8269342 ]\n",
            " [0.9461236 ]\n",
            " [0.3044838 ]\n",
            " [0.8575606 ]]\n",
            "tf.Tensor([0. 1. 1. 0. 1.], shape=(5,), dtype=float32)\n",
            "\n",
            "{'accuracy': 83.99, 'precision': 0.84, 'recall': 0.84, 'f1': 0.84}\n"
          ]
        }
      ]
    },
    {
      "cell_type": "markdown",
      "source": [
        "# Fixing our data leakage issue with model 7 and retraining it"
      ],
      "metadata": {
        "id": "i5egluhViJQa"
      }
    },
    {
      "cell_type": "code",
      "source": [
        "train_10_percent_split = int(0.1 * len(train_sentences))\n",
        "train_sentences_10_percent = train_sentences[:train_10_percent_split]\n",
        "print(train_10_percent_split, len(train_sentences))\n",
        "print(len(train_10_percent))\n",
        "print(train_10_percent[:5]), print()\n",
        "\n",
        "train_labels_10_percent = train_labels[:train_10_percent_split]\n",
        "print(len(train_labels_10_percent))\n",
        "print(train_labels_10_percent[:5])\n",
        "print(pd.Series(train_labels_10_percent).value_counts())"
      ],
      "metadata": {
        "colab": {
          "base_uri": "https://localhost:8080/"
        },
        "id": "aAc5pQ5HiJTU",
        "outputId": "1ecc4fc5-3a73-4f47-9f04-812c6b4e529a"
      },
      "execution_count": 89,
      "outputs": [
        {
          "output_type": "stream",
          "name": "stdout",
          "text": [
            "685 6851\n",
            "685\n",
            "['@mogacola @zamtriossu i screamed after hitting tweet'\n",
            " 'Imagine getting flattened by Kurt Zouma'\n",
            " '@Gurmeetramrahim #MSGDoing111WelfareWorks Green S welfare force ke appx 65000 members har time disaster victim ki help ke liye tyar hai....'\n",
            " \"@shakjn @C7 @Magnums im shaking in fear he's gonna hack the planet\"\n",
            " 'Somehow find you and I collide http://t.co/Ee8RpOahPk']\n",
            "\n",
            "685\n",
            "[0 0 1 0 0]\n",
            "0    406\n",
            "1    279\n",
            "dtype: int64\n"
          ]
        }
      ]
    },
    {
      "cell_type": "code",
      "source": [
        "model_7 = tfk.Sequential([sentence_encoder_layer,\n",
        "                          layers.Dense(128, activation='relu'),\n",
        "                          layers.Dense(1, activation='sigmoid')],\n",
        "                         name='model_6a_USE')\n",
        "model_7.compile(loss='binary_crossentropy',\n",
        "                optimizer=tfk.optimizers.Adam(),\n",
        "                metrics=['accuracy'])\n",
        "\n",
        "model_7.summary(), print()\n",
        "\n",
        "model_7_history = model_7.fit(train_sentences_10_percent,\n",
        "                              train_labels_10_percent,\n",
        "                              epochs=5,\n",
        "                              validation_data=(val_sentences, val_labels),\n",
        "                              callbacks=[helper.create_tensorboard_callback(SAVE_DIR,\n",
        "                                                                            'tf_hub_sentence_encoder_10_percent_correct_split')])\n",
        "print()\n",
        "\n",
        "model_7_pred_probs = model_7.predict(val_sentences)\n",
        "print(model_7_pred_probs[:5])\n",
        "\n",
        "model_7_preds = tf.squeeze(tf.round(model_7_pred_probs))\n",
        "print(model_7_preds[:5]), print()\n",
        "\n",
        "model_7_results = calculate_results(y_true=val_labels, y_pred=model_7_preds)\n",
        "print(model_7_results)"
      ],
      "metadata": {
        "colab": {
          "base_uri": "https://localhost:8080/"
        },
        "id": "E6T9w-RXnZON",
        "outputId": "20498221-1379-4f44-f473-1a7beed8f5e0"
      },
      "execution_count": 90,
      "outputs": [
        {
          "output_type": "stream",
          "name": "stdout",
          "text": [
            "Model: \"model_6a_USE\"\n",
            "_________________________________________________________________\n",
            " Layer (type)                Output Shape              Param #   \n",
            "=================================================================\n",
            " USE (KerasLayer)            (None, 512)               256797824 \n",
            "                                                                 \n",
            " dense_19 (Dense)            (None, 128)               65664     \n",
            "                                                                 \n",
            " dense_20 (Dense)            (None, 1)                 129       \n",
            "                                                                 \n",
            "=================================================================\n",
            "Total params: 256,863,617\n",
            "Trainable params: 65,793\n",
            "Non-trainable params: 256,797,824\n",
            "_________________________________________________________________\n",
            "\n",
            "Saving TensorBoard log files to: model_logs/tf_hub_sentence_encoder_10_percent_correct_split/20220409-044513\n",
            "Epoch 1/5\n",
            "22/22 [==============================] - 4s 117ms/step - loss: 0.6614 - accuracy: 0.7051 - val_loss: 0.6303 - val_accuracy: 0.7507\n",
            "Epoch 2/5\n",
            "22/22 [==============================] - 1s 54ms/step - loss: 0.5630 - accuracy: 0.8146 - val_loss: 0.5562 - val_accuracy: 0.7756\n",
            "Epoch 3/5\n",
            "22/22 [==============================] - 1s 25ms/step - loss: 0.4724 - accuracy: 0.8277 - val_loss: 0.4990 - val_accuracy: 0.7795\n",
            "Epoch 4/5\n",
            "22/22 [==============================] - 1s 29ms/step - loss: 0.4155 - accuracy: 0.8234 - val_loss: 0.4830 - val_accuracy: 0.7795\n",
            "Epoch 5/5\n",
            "22/22 [==============================] - 1s 27ms/step - loss: 0.3819 - accuracy: 0.8496 - val_loss: 0.4857 - val_accuracy: 0.7795\n",
            "[[0.13136491]\n",
            " [0.5477268 ]\n",
            " [0.9468085 ]\n",
            " [0.32908037]\n",
            " [0.50292635]]\n",
            "tf.Tensor([0. 1. 1. 0. 1.], shape=(5,), dtype=float32)\n",
            "\n",
            "{'accuracy': 77.95, 'precision': 0.78, 'recall': 0.78, 'f1': 0.78}\n"
          ]
        }
      ]
    },
    {
      "cell_type": "markdown",
      "source": [
        "# Comparing all our modelling experiments evaluation metrics"
      ],
      "metadata": {
        "id": "zXYAw6M-nVrD"
      }
    },
    {
      "cell_type": "code",
      "source": [
        "all_model_results = pd.DataFrame({'0_baseline': baseline_results,\n",
        "                                  '1_simple_dense': model_1_results,\n",
        "                                  '2_lstm': model_2_results,\n",
        "                                  '3_gru': model_3_results,\n",
        "                                  '4_bidirectional': model_4_results,\n",
        "                                  '5_conv1d': model_5_results,\n",
        "                                  '6_tf_hub_use_encoder': model_6_results,\n",
        "                                  '7_tf_hub_use_encoder_10_percent': model_7_results})\n",
        "all_model_results = all_model_results.T\n",
        "all_model_results"
      ],
      "metadata": {
        "colab": {
          "base_uri": "https://localhost:8080/",
          "height": 300
        },
        "id": "uBhVZQBIiJWl",
        "outputId": "414da60c-145f-4a86-c6e3-8fe7477b1797"
      },
      "execution_count": 96,
      "outputs": [
        {
          "output_type": "execute_result",
          "data": {
            "text/plain": [
              "                                 accuracy  precision  recall    f1\n",
              "0_baseline                          79.27       0.81    0.79  0.79\n",
              "1_simple_dense                      78.08       0.78    0.78  0.78\n",
              "2_lstm                              78.08       0.78    0.78  0.78\n",
              "3_gru                               76.90       0.78    0.77  0.76\n",
              "4_bidirectional                     77.69       0.78    0.78  0.77\n",
              "5_conv1d                            75.72       0.76    0.76  0.76\n",
              "6_tf_hub_use_encoder                79.27       0.79    0.79  0.79\n",
              "7_tf_hub_use_encoder_10_percent     77.95       0.78    0.78  0.78"
            ],
            "text/html": [
              "\n",
              "  <div id=\"df-bf47064d-89a2-492f-93a4-b5c76ffa51c5\">\n",
              "    <div class=\"colab-df-container\">\n",
              "      <div>\n",
              "<style scoped>\n",
              "    .dataframe tbody tr th:only-of-type {\n",
              "        vertical-align: middle;\n",
              "    }\n",
              "\n",
              "    .dataframe tbody tr th {\n",
              "        vertical-align: top;\n",
              "    }\n",
              "\n",
              "    .dataframe thead th {\n",
              "        text-align: right;\n",
              "    }\n",
              "</style>\n",
              "<table border=\"1\" class=\"dataframe\">\n",
              "  <thead>\n",
              "    <tr style=\"text-align: right;\">\n",
              "      <th></th>\n",
              "      <th>accuracy</th>\n",
              "      <th>precision</th>\n",
              "      <th>recall</th>\n",
              "      <th>f1</th>\n",
              "    </tr>\n",
              "  </thead>\n",
              "  <tbody>\n",
              "    <tr>\n",
              "      <th>0_baseline</th>\n",
              "      <td>79.27</td>\n",
              "      <td>0.81</td>\n",
              "      <td>0.79</td>\n",
              "      <td>0.79</td>\n",
              "    </tr>\n",
              "    <tr>\n",
              "      <th>1_simple_dense</th>\n",
              "      <td>78.08</td>\n",
              "      <td>0.78</td>\n",
              "      <td>0.78</td>\n",
              "      <td>0.78</td>\n",
              "    </tr>\n",
              "    <tr>\n",
              "      <th>2_lstm</th>\n",
              "      <td>78.08</td>\n",
              "      <td>0.78</td>\n",
              "      <td>0.78</td>\n",
              "      <td>0.78</td>\n",
              "    </tr>\n",
              "    <tr>\n",
              "      <th>3_gru</th>\n",
              "      <td>76.90</td>\n",
              "      <td>0.78</td>\n",
              "      <td>0.77</td>\n",
              "      <td>0.76</td>\n",
              "    </tr>\n",
              "    <tr>\n",
              "      <th>4_bidirectional</th>\n",
              "      <td>77.69</td>\n",
              "      <td>0.78</td>\n",
              "      <td>0.78</td>\n",
              "      <td>0.77</td>\n",
              "    </tr>\n",
              "    <tr>\n",
              "      <th>5_conv1d</th>\n",
              "      <td>75.72</td>\n",
              "      <td>0.76</td>\n",
              "      <td>0.76</td>\n",
              "      <td>0.76</td>\n",
              "    </tr>\n",
              "    <tr>\n",
              "      <th>6_tf_hub_use_encoder</th>\n",
              "      <td>79.27</td>\n",
              "      <td>0.79</td>\n",
              "      <td>0.79</td>\n",
              "      <td>0.79</td>\n",
              "    </tr>\n",
              "    <tr>\n",
              "      <th>7_tf_hub_use_encoder_10_percent</th>\n",
              "      <td>77.95</td>\n",
              "      <td>0.78</td>\n",
              "      <td>0.78</td>\n",
              "      <td>0.78</td>\n",
              "    </tr>\n",
              "  </tbody>\n",
              "</table>\n",
              "</div>\n",
              "      <button class=\"colab-df-convert\" onclick=\"convertToInteractive('df-bf47064d-89a2-492f-93a4-b5c76ffa51c5')\"\n",
              "              title=\"Convert this dataframe to an interactive table.\"\n",
              "              style=\"display:none;\">\n",
              "        \n",
              "  <svg xmlns=\"http://www.w3.org/2000/svg\" height=\"24px\"viewBox=\"0 0 24 24\"\n",
              "       width=\"24px\">\n",
              "    <path d=\"M0 0h24v24H0V0z\" fill=\"none\"/>\n",
              "    <path d=\"M18.56 5.44l.94 2.06.94-2.06 2.06-.94-2.06-.94-.94-2.06-.94 2.06-2.06.94zm-11 1L8.5 8.5l.94-2.06 2.06-.94-2.06-.94L8.5 2.5l-.94 2.06-2.06.94zm10 10l.94 2.06.94-2.06 2.06-.94-2.06-.94-.94-2.06-.94 2.06-2.06.94z\"/><path d=\"M17.41 7.96l-1.37-1.37c-.4-.4-.92-.59-1.43-.59-.52 0-1.04.2-1.43.59L10.3 9.45l-7.72 7.72c-.78.78-.78 2.05 0 2.83L4 21.41c.39.39.9.59 1.41.59.51 0 1.02-.2 1.41-.59l7.78-7.78 2.81-2.81c.8-.78.8-2.07 0-2.86zM5.41 20L4 18.59l7.72-7.72 1.47 1.35L5.41 20z\"/>\n",
              "  </svg>\n",
              "      </button>\n",
              "      \n",
              "  <style>\n",
              "    .colab-df-container {\n",
              "      display:flex;\n",
              "      flex-wrap:wrap;\n",
              "      gap: 12px;\n",
              "    }\n",
              "\n",
              "    .colab-df-convert {\n",
              "      background-color: #E8F0FE;\n",
              "      border: none;\n",
              "      border-radius: 50%;\n",
              "      cursor: pointer;\n",
              "      display: none;\n",
              "      fill: #1967D2;\n",
              "      height: 32px;\n",
              "      padding: 0 0 0 0;\n",
              "      width: 32px;\n",
              "    }\n",
              "\n",
              "    .colab-df-convert:hover {\n",
              "      background-color: #E2EBFA;\n",
              "      box-shadow: 0px 1px 2px rgba(60, 64, 67, 0.3), 0px 1px 3px 1px rgba(60, 64, 67, 0.15);\n",
              "      fill: #174EA6;\n",
              "    }\n",
              "\n",
              "    [theme=dark] .colab-df-convert {\n",
              "      background-color: #3B4455;\n",
              "      fill: #D2E3FC;\n",
              "    }\n",
              "\n",
              "    [theme=dark] .colab-df-convert:hover {\n",
              "      background-color: #434B5C;\n",
              "      box-shadow: 0px 1px 3px 1px rgba(0, 0, 0, 0.15);\n",
              "      filter: drop-shadow(0px 1px 2px rgba(0, 0, 0, 0.3));\n",
              "      fill: #FFFFFF;\n",
              "    }\n",
              "  </style>\n",
              "\n",
              "      <script>\n",
              "        const buttonEl =\n",
              "          document.querySelector('#df-bf47064d-89a2-492f-93a4-b5c76ffa51c5 button.colab-df-convert');\n",
              "        buttonEl.style.display =\n",
              "          google.colab.kernel.accessAllowed ? 'block' : 'none';\n",
              "\n",
              "        async function convertToInteractive(key) {\n",
              "          const element = document.querySelector('#df-bf47064d-89a2-492f-93a4-b5c76ffa51c5');\n",
              "          const dataTable =\n",
              "            await google.colab.kernel.invokeFunction('convertToInteractive',\n",
              "                                                     [key], {});\n",
              "          if (!dataTable) return;\n",
              "\n",
              "          const docLinkHtml = 'Like what you see? Visit the ' +\n",
              "            '<a target=\"_blank\" href=https://colab.research.google.com/notebooks/data_table.ipynb>data table notebook</a>'\n",
              "            + ' to learn more about interactive tables.';\n",
              "          element.innerHTML = '';\n",
              "          dataTable['output_type'] = 'display_data';\n",
              "          await google.colab.output.renderOutput(dataTable, element);\n",
              "          const docLink = document.createElement('div');\n",
              "          docLink.innerHTML = docLinkHtml;\n",
              "          element.appendChild(docLink);\n",
              "        }\n",
              "      </script>\n",
              "    </div>\n",
              "  </div>\n",
              "  "
            ]
          },
          "metadata": {},
          "execution_count": 96
        }
      ]
    },
    {
      "cell_type": "code",
      "source": [
        "all_model_results['accuracy'] = all_model_results['accuracy'] / 100\n",
        "\n",
        "all_model_results.plot.bar(figsize=(22, 8)).legend(bbox_to_anchor=(1.0, 1.0));"
      ],
      "metadata": {
        "colab": {
          "base_uri": "https://localhost:8080/",
          "height": 417
        },
        "id": "K50NPL9aiJZp",
        "outputId": "e435ee5d-b37c-4fd3-ccc4-6ad476a9bcfb"
      },
      "execution_count": 97,
      "outputs": [
        {
          "output_type": "display_data",
          "data": {
            "text/plain": [
              "<Figure size 1584x576 with 1 Axes>"
            ],
            "image/png": "[encoded data removed]"
          },
          "metadata": {}
        }
      ]
    },
    {
      "cell_type": "code",
      "source": [
        "all_model_results.sort_values('f1', ascending=False)['f1'].plot.bar(figsize=(22, 8));\n"
      ],
      "metadata": {
        "colab": {
          "base_uri": "https://localhost:8080/",
          "height": 465
        },
        "id": "A0ozooWuiJc9",
        "outputId": "deceda5a-6b75-4ee2-b8f2-b9550574cd98"
      },
      "execution_count": 98,
      "outputs": [
        {
          "output_type": "execute_result",
          "data": {
            "text/plain": [
              "<matplotlib.axes._subplots.AxesSubplot at 0x7f6b1d409110>"
            ]
          },
          "metadata": {},
          "execution_count": 98
        },
        {
          "output_type": "display_data",
          "data": {
            "text/plain": [
              "<Figure size 1584x576 with 1 Axes>"
            ],
            "image/png": "[encoded data removed]"
          },
          "metadata": {}
        }
      ]
    },
    {
      "cell_type": "markdown",
      "source": [
        "# Uploading our model's training logs to TensorBoard and comparing them"
      ],
      "metadata": {
        "id": "xQTzkoVTiJgH"
      }
    },
    {
      "cell_type": "code",
      "source": [
        "!tensorboard dev upload \\\n",
        "    --logdir ./model_logs/ \\\n",
        "    --name \"NLP Modelling Experiment\" \\\n",
        "    --description \"Comparing multiple differnt types of model architectures on the Kaggle Tweets text classifcation dataset\" \\\n",
        "    --one_shot"
      ],
      "metadata": {
        "colab": {
          "base_uri": "https://localhost:8080/"
        },
        "id": "WeblvIA6iJji",
        "outputId": "f5358cfc-0146-4410-82f0-0061d35430f8"
      },
      "execution_count": 99,
      "outputs": [
        {
          "output_type": "stream",
          "name": "stdout",
          "text": [
            "2022-04-09 05:39:02.980649: E tensorflow/stream_executor/cuda/cuda_driver.cc:271] failed call to cuInit: CUDA_ERROR_NO_DEVICE: no CUDA-capable device is detected\n",
            "\n",
            "***** TensorBoard Uploader *****\n",
            "\n",
            "This will upload your TensorBoard logs to https://tensorboard.dev/ from\n",
            "the following directory:\n",
            "\n",
            "./model_logs/\n",
            "\n",
            "This TensorBoard will be visible to everyone. Do not upload sensitive\n",
            "data.\n",
            "\n",
            "Your use of this service is subject to Google's Terms of Service\n",
            "<https://policies.google.com/terms> and Privacy Policy\n",
            "<https://policies.google.com/privacy>, and TensorBoard.dev's Terms of Service\n",
            "<https://tensorboard.dev/policy/terms/>.\n",
            "\n",
            "This notice will not be shown again while you are logged into the uploader.\n",
            "To log out, run `tensorboard dev auth revoke`.\n",
            "\n",
            "Continue? (yes/NO) yes\n",
            "\n",
            "Please visit this URL to authorize this application: https://accounts.google.com/o/oauth2/auth?response_type=code&client_id=373649185512-8v619h5kft38l4456nm2dj4ubeqsrvh6.apps.googleusercontent.com&redirect_uri=urn%3Aietf%3Awg%3Aoauth%3A2.0%3Aoob&scope=openid+https%3A%2F%2Fwww.googleapis.com%2Fauth%2Fuserinfo.email&state=2xLPaW1AL2rmYbjteMm6U6lQcl19ES&prompt=consent&access_type=offline\n",
            "Enter the authorization code: 4/1AX4XfWjNFrB6UkooPuRW6X9E7s8FPhp6ivLCJMne3yzUgiCp8dx8vGTbc1g\n",
            "\n",
            "\n",
            "New experiment created. View your TensorBoard at: https://tensorboard.dev/experiment/nj6DtK6vRVek5oRlet4B3Q/\n",
            "\n",
            "\u001b[1m[2022-04-09T05:39:31]\u001b[0m Started scanning logdir.\n",
            "\u001b[1m[2022-04-09T05:39:43]\u001b[0m Total uploaded: 390 scalars, 0 tensors, 13 binary objects (8.0 MB)\n",
            "\u001b[1m[2022-04-09T05:39:43]\u001b[0m Done scanning logdir.\n",
            "\n",
            "\n",
            "Done. View your TensorBoard at https://tensorboard.dev/experiment/nj6DtK6vRVek5oRlet4B3Q/\n"
          ]
        }
      ]
    },
    {
      "cell_type": "code",
      "source": [
        "!tensorboard dev list"
      ],
      "metadata": {
        "colab": {
          "base_uri": "https://localhost:8080/"
        },
        "id": "XJpAOvvUiJp5",
        "outputId": "79f09f15-e422-4edd-9b1d-9cbfdd0c2ece"
      },
      "execution_count": 100,
      "outputs": [
        {
          "output_type": "stream",
          "name": "stdout",
          "text": [
            "2022-04-09 05:44:36.912254: E tensorflow/stream_executor/cuda/cuda_driver.cc:271] failed call to cuInit: CUDA_ERROR_NO_DEVICE: no CUDA-capable device is detected\n",
            "https://tensorboard.dev/experiment/nj6DtK6vRVek5oRlet4B3Q/\n",
            "\tName                 NLP Modelling Experiment\n",
            "\tDescription          Comparing multiple differnt types of model architectures on the Kaggle Tweets text classifcation dataset\n",
            "\tId                   nj6DtK6vRVek5oRlet4B3Q\n",
            "\tCreated              2022-04-09 05:39:31 (5 minutes ago)\n",
            "\tUpdated              2022-04-09 05:39:43 (5 minutes ago)\n",
            "\tRuns                 26\n",
            "\tTags                 5\n",
            "\tScalars              390\n",
            "\tTensor bytes         0\n",
            "\tBinary object bytes  8439693\n",
            "Total: 1 experiment(s)\n"
          ]
        }
      ]
    },
    {
      "cell_type": "code",
      "source": [
        "!tensorboard dev delete --experiment_id nj6DtK6vRVek5oRlet4B3Q"
      ],
      "metadata": {
        "colab": {
          "base_uri": "https://localhost:8080/"
        },
        "id": "Kpvng0KdiJtE",
        "outputId": "c04d3a52-e7e3-45ad-b47e-d4fc4c40fce3"
      },
      "execution_count": 101,
      "outputs": [
        {
          "output_type": "stream",
          "name": "stdout",
          "text": [
            "2022-04-09 05:45:47.984762: E tensorflow/stream_executor/cuda/cuda_driver.cc:271] failed call to cuInit: CUDA_ERROR_NO_DEVICE: no CUDA-capable device is detected\n",
            "Deleted experiment nj6DtK6vRVek5oRlet4B3Q.\n"
          ]
        }
      ]
    },
    {
      "cell_type": "markdown",
      "source": [
        "# Saving and loading in a trained NLP model with TensorFlow"
      ],
      "metadata": {
        "id": "zCKEazzTE4qk"
      }
    },
    {
      "cell_type": "code",
      "source": [
        "model_6_results"
      ],
      "metadata": {
        "id": "aninud3q_397",
        "colab": {
          "base_uri": "https://localhost:8080/"
        },
        "outputId": "ddaa6ce4-a47b-4b23-a947-db551740480f"
      },
      "execution_count": 102,
      "outputs": [
        {
          "output_type": "execute_result",
          "data": {
            "text/plain": [
              "{'accuracy': 79.27, 'f1': 0.79, 'precision': 0.79, 'recall': 0.79}"
            ]
          },
          "metadata": {},
          "execution_count": 102
        }
      ]
    },
    {
      "cell_type": "code",
      "source": [
        "model_6.save('model_6.h5')"
      ],
      "metadata": {
        "id": "-HCo-Qnh39Y5"
      },
      "execution_count": 103,
      "outputs": []
    },
    {
      "cell_type": "code",
      "source": [
        "loaded_model_6 = tfk.models.load_model('/content/model_6.h5',\n",
        "                                       custom_objects={'KerasLayer': hub.KerasLayer})"
      ],
      "metadata": {
        "id": "rqlyyQtE39cK"
      },
      "execution_count": 104,
      "outputs": []
    },
    {
      "cell_type": "code",
      "source": [
        "print(loaded_model_6.evaluate(val_sentences, val_labels))\n",
        "print(model_6_results)"
      ],
      "metadata": {
        "colab": {
          "base_uri": "https://localhost:8080/"
        },
        "id": "3KJeYpDa39fq",
        "outputId": "c76865a5-3b78-4722-da18-28f3b5c19964"
      },
      "execution_count": 106,
      "outputs": [
        {
          "output_type": "stream",
          "name": "stdout",
          "text": [
            "24/24 [==============================] - 0s 17ms/step - loss: 0.4968 - accuracy: 0.7927\n",
            "[0.49679917097091675, 0.7926509380340576]\n",
            "{'accuracy': 79.27, 'precision': 0.79, 'recall': 0.79, 'f1': 0.79}\n"
          ]
        }
      ]
    },
    {
      "cell_type": "markdown",
      "source": [
        "# Downloading a pretrained model and preparing data to investigate predictions"
      ],
      "metadata": {
        "id": "EIsW4sIh39jU"
      }
    },
    {
      "cell_type": "code",
      "source": [
        "!wget https://storage.googleapis.com/ztm_tf_course/08_model_6_USE_feature_extractor.zip\n",
        "!unzip 08_model_6_USE_feature_extractor.zip"
      ],
      "metadata": {
        "colab": {
          "base_uri": "https://localhost:8080/"
        },
        "id": "Umo2QR8f39mQ",
        "outputId": "4ea63611-e885-4ddc-d83f-b4f0617b0ac9"
      },
      "execution_count": 107,
      "outputs": [
        {
          "output_type": "stream",
          "name": "stdout",
          "text": [
            "--2022-04-09 06:02:58--  https://storage.googleapis.com/ztm_tf_course/08_model_6_USE_feature_extractor.zip\n",
            "Resolving storage.googleapis.com (storage.googleapis.com)... 142.250.148.128, 74.125.129.128, 74.125.124.128, ...\n",
            "Connecting to storage.googleapis.com (storage.googleapis.com)|142.250.148.128|:443... connected.\n",
            "HTTP request sent, awaiting response... 200 OK\n",
            "Length: 960779165 (916M) [application/zip]\n",
            "Saving to: ‘08_model_6_USE_feature_extractor.zip’\n",
            "\n",
            "08_model_6_USE_feat 100%[===================>] 916.27M   110MB/s    in 9.3s    \n",
            "\n",
            "2022-04-09 06:03:07 (98.3 MB/s) - ‘08_model_6_USE_feature_extractor.zip’ saved [960779165/960779165]\n",
            "\n",
            "Archive:  08_model_6_USE_feature_extractor.zip\n",
            "   creating: 08_model_6_USE_feature_extractor/\n",
            "   creating: 08_model_6_USE_feature_extractor/assets/\n",
            "   creating: 08_model_6_USE_feature_extractor/variables/\n",
            "  inflating: 08_model_6_USE_feature_extractor/variables/variables.data-00000-of-00001  \n",
            "  inflating: 08_model_6_USE_feature_extractor/variables/variables.index  \n",
            "  inflating: 08_model_6_USE_feature_extractor/saved_model.pb  \n"
          ]
        }
      ]
    },
    {
      "cell_type": "code",
      "source": [
        "model_6_pretrained = tfk.models.load_model('08_model_6_USE_feature_extractor')\n",
        "model_6_pretrained.evaluate(val_sentences, val_labels)"
      ],
      "metadata": {
        "colab": {
          "base_uri": "https://localhost:8080/"
        },
        "id": "Nk6Ls1Yv3-B7",
        "outputId": "43a414f8-130a-4597-9863-54f95c126347"
      },
      "execution_count": 108,
      "outputs": [
        {
          "output_type": "stream",
          "name": "stdout",
          "text": [
            "WARNING:tensorflow:SavedModel saved prior to TF 2.5 detected when loading Keras model. Please ensure that you are saving the model with model.save() or tf.keras.models.save_model(), *NOT* tf.saved_model.save(). To confirm, there should be a file named \"keras_metadata.pb\" in the SavedModel directory.\n"
          ]
        },
        {
          "output_type": "stream",
          "name": "stderr",
          "text": [
            "WARNING:tensorflow:SavedModel saved prior to TF 2.5 detected when loading Keras model. Please ensure that you are saving the model with model.save() or tf.keras.models.save_model(), *NOT* tf.saved_model.save(). To confirm, there should be a file named \"keras_metadata.pb\" in the SavedModel directory.\n"
          ]
        },
        {
          "output_type": "stream",
          "name": "stdout",
          "text": [
            "24/24 [==============================] - 1s 21ms/step - loss: 0.4272 - accuracy: 0.8163\n"
          ]
        },
        {
          "output_type": "execute_result",
          "data": {
            "text/plain": [
              "[0.42723119258880615, 0.8162729740142822]"
            ]
          },
          "metadata": {},
          "execution_count": 108
        }
      ]
    },
    {
      "cell_type": "code",
      "source": [
        "model_6_pretrained_pred_probs = model_6_pretrained.predict(val_sentences)\n",
        "model_6_pretrained_preds = tf.squeeze(tf.round(model_6_pretrained_pred_probs))\n",
        "print(model_6_pretrained_preds[:5])"
      ],
      "metadata": {
        "colab": {
          "base_uri": "https://localhost:8080/"
        },
        "id": "JY2XSk_i3-F9",
        "outputId": "212e0aec-b572-4a9a-a5fa-68be8a9d49ce"
      },
      "execution_count": 109,
      "outputs": [
        {
          "output_type": "stream",
          "name": "stdout",
          "text": [
            "tf.Tensor([0. 1. 1. 0. 1.], shape=(5,), dtype=float32)\n"
          ]
        }
      ]
    },
    {
      "cell_type": "code",
      "source": [
        "val_df = pd.DataFrame({'text': val_sentences,\n",
        "                       'target': val_labels,\n",
        "                       'pred': model_6_pretrained_preds,\n",
        "                       'pred_prob': tf.squeeze(model_6_pretrained_pred_probs)})\n",
        "val_df.head()"
      ],
      "metadata": {
        "colab": {
          "base_uri": "https://localhost:8080/",
          "height": 206
        },
        "id": "ail7qxuE3-KC",
        "outputId": "85c12f0b-7aa2-4a01-ddaf-c487e6837ea5"
      },
      "execution_count": 112,
      "outputs": [
        {
          "output_type": "execute_result",
          "data": {
            "text/plain": [
              "                                                text  target  pred  pred_prob\n",
              "0  DFR EP016 Monthly Meltdown - On Dnbheaven 2015...       0   0.0   0.159757\n",
              "1  FedEx no longer to transport bioterror germs i...       0   1.0   0.747162\n",
              "2  Gunmen kill four in El Salvador bus attack: Su...       1   1.0   0.988749\n",
              "3  @camilacabello97 Internally and externally scr...       1   0.0   0.196229\n",
              "4  Radiation emergency #preparedness starts with ...       1   1.0   0.707808"
            ],
            "text/html": [
              "\n",
              "  <div id=\"df-9b531fb6-2e22-482d-bd8b-4d880d534282\">\n",
              "    <div class=\"colab-df-container\">\n",
              "      <div>\n",
              "<style scoped>\n",
              "    .dataframe tbody tr th:only-of-type {\n",
              "        vertical-align: middle;\n",
              "    }\n",
              "\n",
              "    .dataframe tbody tr th {\n",
              "        vertical-align: top;\n",
              "    }\n",
              "\n",
              "    .dataframe thead th {\n",
              "        text-align: right;\n",
              "    }\n",
              "</style>\n",
              "<table border=\"1\" class=\"dataframe\">\n",
              "  <thead>\n",
              "    <tr style=\"text-align: right;\">\n",
              "      <th></th>\n",
              "      <th>text</th>\n",
              "      <th>target</th>\n",
              "      <th>pred</th>\n",
              "      <th>pred_prob</th>\n",
              "    </tr>\n",
              "  </thead>\n",
              "  <tbody>\n",
              "    <tr>\n",
              "      <th>0</th>\n",
              "      <td>DFR EP016 Monthly Meltdown - On Dnbheaven 2015...</td>\n",
              "      <td>0</td>\n",
              "      <td>0.0</td>\n",
              "      <td>0.159757</td>\n",
              "    </tr>\n",
              "    <tr>\n",
              "      <th>1</th>\n",
              "      <td>FedEx no longer to transport bioterror germs i...</td>\n",
              "      <td>0</td>\n",
              "      <td>1.0</td>\n",
              "      <td>0.747162</td>\n",
              "    </tr>\n",
              "    <tr>\n",
              "      <th>2</th>\n",
              "      <td>Gunmen kill four in El Salvador bus attack: Su...</td>\n",
              "      <td>1</td>\n",
              "      <td>1.0</td>\n",
              "      <td>0.988749</td>\n",
              "    </tr>\n",
              "    <tr>\n",
              "      <th>3</th>\n",
              "      <td>@camilacabello97 Internally and externally scr...</td>\n",
              "      <td>1</td>\n",
              "      <td>0.0</td>\n",
              "      <td>0.196229</td>\n",
              "    </tr>\n",
              "    <tr>\n",
              "      <th>4</th>\n",
              "      <td>Radiation emergency #preparedness starts with ...</td>\n",
              "      <td>1</td>\n",
              "      <td>1.0</td>\n",
              "      <td>0.707808</td>\n",
              "    </tr>\n",
              "  </tbody>\n",
              "</table>\n",
              "</div>\n",
              "      <button class=\"colab-df-convert\" onclick=\"convertToInteractive('df-9b531fb6-2e22-482d-bd8b-4d880d534282')\"\n",
              "              title=\"Convert this dataframe to an interactive table.\"\n",
              "              style=\"display:none;\">\n",
              "        \n",
              "  <svg xmlns=\"http://www.w3.org/2000/svg\" height=\"24px\"viewBox=\"0 0 24 24\"\n",
              "       width=\"24px\">\n",
              "    <path d=\"M0 0h24v24H0V0z\" fill=\"none\"/>\n",
              "    <path d=\"M18.56 5.44l.94 2.06.94-2.06 2.06-.94-2.06-.94-.94-2.06-.94 2.06-2.06.94zm-11 1L8.5 8.5l.94-2.06 2.06-.94-2.06-.94L8.5 2.5l-.94 2.06-2.06.94zm10 10l.94 2.06.94-2.06 2.06-.94-2.06-.94-.94-2.06-.94 2.06-2.06.94z\"/><path d=\"M17.41 7.96l-1.37-1.37c-.4-.4-.92-.59-1.43-.59-.52 0-1.04.2-1.43.59L10.3 9.45l-7.72 7.72c-.78.78-.78 2.05 0 2.83L4 21.41c.39.39.9.59 1.41.59.51 0 1.02-.2 1.41-.59l7.78-7.78 2.81-2.81c.8-.78.8-2.07 0-2.86zM5.41 20L4 18.59l7.72-7.72 1.47 1.35L5.41 20z\"/>\n",
              "  </svg>\n",
              "      </button>\n",
              "      \n",
              "  <style>\n",
              "    .colab-df-container {\n",
              "      display:flex;\n",
              "      flex-wrap:wrap;\n",
              "      gap: 12px;\n",
              "    }\n",
              "\n",
              "    .colab-df-convert {\n",
              "      background-color: #E8F0FE;\n",
              "      border: none;\n",
              "      border-radius: 50%;\n",
              "      cursor: pointer;\n",
              "      display: none;\n",
              "      fill: #1967D2;\n",
              "      height: 32px;\n",
              "      padding: 0 0 0 0;\n",
              "      width: 32px;\n",
              "    }\n",
              "\n",
              "    .colab-df-convert:hover {\n",
              "      background-color: #E2EBFA;\n",
              "      box-shadow: 0px 1px 2px rgba(60, 64, 67, 0.3), 0px 1px 3px 1px rgba(60, 64, 67, 0.15);\n",
              "      fill: #174EA6;\n",
              "    }\n",
              "\n",
              "    [theme=dark] .colab-df-convert {\n",
              "      background-color: #3B4455;\n",
              "      fill: #D2E3FC;\n",
              "    }\n",
              "\n",
              "    [theme=dark] .colab-df-convert:hover {\n",
              "      background-color: #434B5C;\n",
              "      box-shadow: 0px 1px 3px 1px rgba(0, 0, 0, 0.15);\n",
              "      filter: drop-shadow(0px 1px 2px rgba(0, 0, 0, 0.3));\n",
              "      fill: #FFFFFF;\n",
              "    }\n",
              "  </style>\n",
              "\n",
              "      <script>\n",
              "        const buttonEl =\n",
              "          document.querySelector('#df-9b531fb6-2e22-482d-bd8b-4d880d534282 button.colab-df-convert');\n",
              "        buttonEl.style.display =\n",
              "          google.colab.kernel.accessAllowed ? 'block' : 'none';\n",
              "\n",
              "        async function convertToInteractive(key) {\n",
              "          const element = document.querySelector('#df-9b531fb6-2e22-482d-bd8b-4d880d534282');\n",
              "          const dataTable =\n",
              "            await google.colab.kernel.invokeFunction('convertToInteractive',\n",
              "                                                     [key], {});\n",
              "          if (!dataTable) return;\n",
              "\n",
              "          const docLinkHtml = 'Like what you see? Visit the ' +\n",
              "            '<a target=\"_blank\" href=https://colab.research.google.com/notebooks/data_table.ipynb>data table notebook</a>'\n",
              "            + ' to learn more about interactive tables.';\n",
              "          element.innerHTML = '';\n",
              "          dataTable['output_type'] = 'display_data';\n",
              "          await google.colab.output.renderOutput(dataTable, element);\n",
              "          const docLink = document.createElement('div');\n",
              "          docLink.innerHTML = docLinkHtml;\n",
              "          element.appendChild(docLink);\n",
              "        }\n",
              "      </script>\n",
              "    </div>\n",
              "  </div>\n",
              "  "
            ]
          },
          "metadata": {},
          "execution_count": 112
        }
      ]
    },
    {
      "cell_type": "code",
      "source": [
        "most_wrong = val_df[val_df['target'] != val_df['pred']].sort_values('pred_prob', ascending=False)\n",
        "most_wrong.head()"
      ],
      "metadata": {
        "colab": {
          "base_uri": "https://localhost:8080/",
          "height": 206
        },
        "id": "WTrRIwe-3-OD",
        "outputId": "42ec6e75-29a7-4763-aa38-298603dca684"
      },
      "execution_count": 114,
      "outputs": [
        {
          "output_type": "execute_result",
          "data": {
            "text/plain": [
              "                                                  text  target  pred  \\\n",
              "31   ? High Skies - Burning Buildings ? http://t.co...       0   1.0   \n",
              "759  FedEx will no longer transport bioterror patho...       0   1.0   \n",
              "628  @noah_anyname That's where the concentration c...       0   1.0   \n",
              "209  Ashes 2015: AustraliaÛªs collapse at Trent Br...       0   1.0   \n",
              "251  @AshGhebranious civil rights continued in the ...       0   1.0   \n",
              "\n",
              "     pred_prob  \n",
              "31    0.910196  \n",
              "759   0.876982  \n",
              "628   0.852300  \n",
              "209   0.835454  \n",
              "251   0.827213  "
            ],
            "text/html": [
              "\n",
              "  <div id=\"df-6384e819-c938-4ff0-90d9-6be94820ef66\">\n",
              "    <div class=\"colab-df-container\">\n",
              "      <div>\n",
              "<style scoped>\n",
              "    .dataframe tbody tr th:only-of-type {\n",
              "        vertical-align: middle;\n",
              "    }\n",
              "\n",
              "    .dataframe tbody tr th {\n",
              "        vertical-align: top;\n",
              "    }\n",
              "\n",
              "    .dataframe thead th {\n",
              "        text-align: right;\n",
              "    }\n",
              "</style>\n",
              "<table border=\"1\" class=\"dataframe\">\n",
              "  <thead>\n",
              "    <tr style=\"text-align: right;\">\n",
              "      <th></th>\n",
              "      <th>text</th>\n",
              "      <th>target</th>\n",
              "      <th>pred</th>\n",
              "      <th>pred_prob</th>\n",
              "    </tr>\n",
              "  </thead>\n",
              "  <tbody>\n",
              "    <tr>\n",
              "      <th>31</th>\n",
              "      <td>? High Skies - Burning Buildings ? http://t.co...</td>\n",
              "      <td>0</td>\n",
              "      <td>1.0</td>\n",
              "      <td>0.910196</td>\n",
              "    </tr>\n",
              "    <tr>\n",
              "      <th>759</th>\n",
              "      <td>FedEx will no longer transport bioterror patho...</td>\n",
              "      <td>0</td>\n",
              "      <td>1.0</td>\n",
              "      <td>0.876982</td>\n",
              "    </tr>\n",
              "    <tr>\n",
              "      <th>628</th>\n",
              "      <td>@noah_anyname That's where the concentration c...</td>\n",
              "      <td>0</td>\n",
              "      <td>1.0</td>\n",
              "      <td>0.852300</td>\n",
              "    </tr>\n",
              "    <tr>\n",
              "      <th>209</th>\n",
              "      <td>Ashes 2015: AustraliaÛªs collapse at Trent Br...</td>\n",
              "      <td>0</td>\n",
              "      <td>1.0</td>\n",
              "      <td>0.835454</td>\n",
              "    </tr>\n",
              "    <tr>\n",
              "      <th>251</th>\n",
              "      <td>@AshGhebranious civil rights continued in the ...</td>\n",
              "      <td>0</td>\n",
              "      <td>1.0</td>\n",
              "      <td>0.827213</td>\n",
              "    </tr>\n",
              "  </tbody>\n",
              "</table>\n",
              "</div>\n",
              "      <button class=\"colab-df-convert\" onclick=\"convertToInteractive('df-6384e819-c938-4ff0-90d9-6be94820ef66')\"\n",
              "              title=\"Convert this dataframe to an interactive table.\"\n",
              "              style=\"display:none;\">\n",
              "        \n",
              "  <svg xmlns=\"http://www.w3.org/2000/svg\" height=\"24px\"viewBox=\"0 0 24 24\"\n",
              "       width=\"24px\">\n",
              "    <path d=\"M0 0h24v24H0V0z\" fill=\"none\"/>\n",
              "    <path d=\"M18.56 5.44l.94 2.06.94-2.06 2.06-.94-2.06-.94-.94-2.06-.94 2.06-2.06.94zm-11 1L8.5 8.5l.94-2.06 2.06-.94-2.06-.94L8.5 2.5l-.94 2.06-2.06.94zm10 10l.94 2.06.94-2.06 2.06-.94-2.06-.94-.94-2.06-.94 2.06-2.06.94z\"/><path d=\"M17.41 7.96l-1.37-1.37c-.4-.4-.92-.59-1.43-.59-.52 0-1.04.2-1.43.59L10.3 9.45l-7.72 7.72c-.78.78-.78 2.05 0 2.83L4 21.41c.39.39.9.59 1.41.59.51 0 1.02-.2 1.41-.59l7.78-7.78 2.81-2.81c.8-.78.8-2.07 0-2.86zM5.41 20L4 18.59l7.72-7.72 1.47 1.35L5.41 20z\"/>\n",
              "  </svg>\n",
              "      </button>\n",
              "      \n",
              "  <style>\n",
              "    .colab-df-container {\n",
              "      display:flex;\n",
              "      flex-wrap:wrap;\n",
              "      gap: 12px;\n",
              "    }\n",
              "\n",
              "    .colab-df-convert {\n",
              "      background-color: #E8F0FE;\n",
              "      border: none;\n",
              "      border-radius: 50%;\n",
              "      cursor: pointer;\n",
              "      display: none;\n",
              "      fill: #1967D2;\n",
              "      height: 32px;\n",
              "      padding: 0 0 0 0;\n",
              "      width: 32px;\n",
              "    }\n",
              "\n",
              "    .colab-df-convert:hover {\n",
              "      background-color: #E2EBFA;\n",
              "      box-shadow: 0px 1px 2px rgba(60, 64, 67, 0.3), 0px 1px 3px 1px rgba(60, 64, 67, 0.15);\n",
              "      fill: #174EA6;\n",
              "    }\n",
              "\n",
              "    [theme=dark] .colab-df-convert {\n",
              "      background-color: #3B4455;\n",
              "      fill: #D2E3FC;\n",
              "    }\n",
              "\n",
              "    [theme=dark] .colab-df-convert:hover {\n",
              "      background-color: #434B5C;\n",
              "      box-shadow: 0px 1px 3px 1px rgba(0, 0, 0, 0.15);\n",
              "      filter: drop-shadow(0px 1px 2px rgba(0, 0, 0, 0.3));\n",
              "      fill: #FFFFFF;\n",
              "    }\n",
              "  </style>\n",
              "\n",
              "      <script>\n",
              "        const buttonEl =\n",
              "          document.querySelector('#df-6384e819-c938-4ff0-90d9-6be94820ef66 button.colab-df-convert');\n",
              "        buttonEl.style.display =\n",
              "          google.colab.kernel.accessAllowed ? 'block' : 'none';\n",
              "\n",
              "        async function convertToInteractive(key) {\n",
              "          const element = document.querySelector('#df-6384e819-c938-4ff0-90d9-6be94820ef66');\n",
              "          const dataTable =\n",
              "            await google.colab.kernel.invokeFunction('convertToInteractive',\n",
              "                                                     [key], {});\n",
              "          if (!dataTable) return;\n",
              "\n",
              "          const docLinkHtml = 'Like what you see? Visit the ' +\n",
              "            '<a target=\"_blank\" href=https://colab.research.google.com/notebooks/data_table.ipynb>data table notebook</a>'\n",
              "            + ' to learn more about interactive tables.';\n",
              "          element.innerHTML = '';\n",
              "          dataTable['output_type'] = 'display_data';\n",
              "          await google.colab.output.renderOutput(dataTable, element);\n",
              "          const docLink = document.createElement('div');\n",
              "          docLink.innerHTML = docLinkHtml;\n",
              "          element.appendChild(docLink);\n",
              "        }\n",
              "      </script>\n",
              "    </div>\n",
              "  </div>\n",
              "  "
            ]
          },
          "metadata": {},
          "execution_count": 114
        }
      ]
    },
    {
      "cell_type": "markdown",
      "source": [
        "# Visualising our model's most wrong predictions"
      ],
      "metadata": {
        "id": "tY2UuKr2DVGC"
      }
    },
    {
      "cell_type": "code",
      "source": [
        "# Check the false positives (model predicted 1 when should've been 0)\n",
        "for row in most_wrong[-10:].itertuples():\n",
        "    _, text, target, pred, pred_prob = row\n",
        "    print(f'Target: {target}, Pred: {pred}, Prob: {pred_prob}')\n",
        "    print(f'Text: {text}')\n",
        "    print('---')"
      ],
      "metadata": {
        "colab": {
          "base_uri": "https://localhost:8080/"
        },
        "id": "o2omp6Aa3-SB",
        "outputId": "8383ca2f-ee60-4aae-8dbe-dc91192aa393"
      },
      "execution_count": 117,
      "outputs": [
        {
          "output_type": "stream",
          "name": "stdout",
          "text": [
            "Target: 1, Pred: 0.0, Prob: 0.06730341911315918\n",
            "Text: @DavidVonderhaar At least you were sincere ??\n",
            "---\n",
            "Target: 1, Pred: 0.0, Prob: 0.05507582426071167\n",
            "Text: @willienelson We need help! Horses will die!Please RT &amp; sign petition!Take a stand &amp; be a voice for them! #gilbert23 https://t.co/e8dl1lNCVu\n",
            "---\n",
            "Target: 1, Pred: 0.0, Prob: 0.054603368043899536\n",
            "Text: Lucas Duda is Ghost Rider. Not the Nic Cage version but an actual 'engulfed in flames' badass. #Mets\n",
            "---\n",
            "Target: 1, Pred: 0.0, Prob: 0.05459702014923096\n",
            "Text: going to redo my nails and watch behind the scenes of desolation of smaug ayyy\n",
            "---\n",
            "Target: 1, Pred: 0.0, Prob: 0.049637287855148315\n",
            "Text: You can never escape me. Bullets don't harm me. Nothing harms me. But I know pain. I know pain. Sometimes I share it. With someone like you.\n",
            "---\n",
            "Target: 1, Pred: 0.0, Prob: 0.043918460607528687\n",
            "Text: @SoonerMagic_ I mean I'm a fan but I don't need a girl sounding off like a damn siren\n",
            "---\n",
            "Target: 1, Pred: 0.0, Prob: 0.04208683967590332\n",
            "Text: I get to smoke my shit in peace\n",
            "---\n",
            "Target: 1, Pred: 0.0, Prob: 0.038997918367385864\n",
            "Text: Why are you deluged with low self-image? Take the quiz: http://t.co/XsPqdOrIqj http://t.co/CQYvFR4UCy\n",
            "---\n",
            "Target: 1, Pred: 0.0, Prob: 0.038949429988861084\n",
            "Text: Reddit Will Now QuarantineÛ_ http://t.co/pkUAMXw6pm #onlinecommunities #reddit #amageddon #freespeech #Business http://t.co/PAWvNJ4sAP\n",
            "---\n",
            "Target: 1, Pred: 0.0, Prob: 0.03718575835227966\n",
            "Text: Ron &amp; Fez - Dave's High School Crush https://t.co/aN3W16c8F6 via @YouTube\n",
            "---\n"
          ]
        }
      ]
    },
    {
      "cell_type": "code",
      "source": [
        "# Check the false negatives (model predicted 0 when should've been 1)\n",
        "for row in most_wrong[10:].itertuples():\n",
        "    _, text, target, pred, pred_prob = row\n",
        "    print(f'Target: {target}, Pred: {pred}, Prob: {pred_prob}')\n",
        "    print(f'Text: {text}')\n",
        "    print('---')"
      ],
      "metadata": {
        "colab": {
          "base_uri": "https://localhost:8080/"
        },
        "id": "b1sFteQOEXgP",
        "outputId": "cb4a1217-0d6f-4f04-b1da-8c8c873908f4"
      },
      "execution_count": 116,
      "outputs": [
        {
          "output_type": "stream",
          "name": "stdout",
          "text": [
            "Target: 0, Pred: 1.0, Prob: 0.7626620531082153\n",
            "Text: The Sound of Arson\n",
            "---\n",
            "Target: 0, Pred: 1.0, Prob: 0.7472230195999146\n",
            "Text: Deaths 3 http://t.co/nApviyGKYK\n",
            "---\n",
            "Target: 0, Pred: 1.0, Prob: 0.7471619844436646\n",
            "Text: FedEx no longer to transport bioterror germs in wake of anthrax lab mishaps http://t.co/qZQc8WWwcN via @usatoday\n",
            "---\n",
            "Target: 0, Pred: 1.0, Prob: 0.7424100637435913\n",
            "Text: åÈMGN-AFRICAå¨ pin:263789F4 åÈ Correction: Tent Collapse Story: Correction: Tent Collapse story åÈ http://t.co/fDJUYvZMrv @wizkidayo\n",
            "---\n",
            "Target: 0, Pred: 1.0, Prob: 0.7399969100952148\n",
            "Text: A look at state actions a year after Ferguson's upheaval http://t.co/GZEkQWzijq\n",
            "---\n",
            "Target: 0, Pred: 1.0, Prob: 0.7380801439285278\n",
            "Text: The #tubestrike is because TFL workers may have trouble planning downtime. I hope none need emergency services. http://t.co/iCSFDSiFqb\n",
            "---\n",
            "Target: 0, Pred: 1.0, Prob: 0.73566073179245\n",
            "Text: @BrodyFrieling @hanna_brooksie photo bombed\n",
            "---\n",
            "Target: 0, Pred: 1.0, Prob: 0.716756284236908\n",
            "Text: GENERAL AUDIENCE: On Wounded Families | ZENIT - The World Seen From Rome http://t.co/hFvnyfT78C\n",
            "---\n",
            "Target: 0, Pred: 1.0, Prob: 0.7162530422210693\n",
            "Text: Day 2. Liquidation of emergency at chemical object. #USAR2015 #USAR15 #RUOR #??????????? http://t.co/gGTmDqUdDo\n",
            "---\n",
            "Target: 0, Pred: 1.0, Prob: 0.7122592926025391\n",
            "Text: @RebeccaforReal accepts Wisconsin Emergency Response Plan on behalf of @GovWalker #nbc15 http://t.co/Pis0aiVRbR\n",
            "---\n",
            "Target: 0, Pred: 1.0, Prob: 0.7117387056350708\n",
            "Text: @pxnatosil @RenuncieDilma  Fatality!\n",
            "---\n",
            "Target: 0, Pred: 1.0, Prob: 0.6949764490127563\n",
            "Text: Trafford Centre film fans angry after Odeon cinema evacuated following false fire alarm   http://t.co/6GLDwx71DA\n",
            "---\n",
            "Target: 0, Pred: 1.0, Prob: 0.6924800872802734\n",
            "Text: Article by Michael Jackman at Metro Times Detroit:\n",
            "The group later downgraded the estimate to 37 square miles of... http://t.co/h31mmuduqt\n",
            "---\n",
            "Target: 0, Pred: 1.0, Prob: 0.6918948888778687\n",
            "Text: .@AIGinsurance CEO: Divestitures and #Catastrophe Losses Temper Q2 #Results http://t.co/2y2wZk1FrM\n",
            "---\n",
            "Target: 0, Pred: 1.0, Prob: 0.688007116317749\n",
            "Text: My phone looks like it was in a car ship airplane accident. Terrible\n",
            "---\n",
            "Target: 0, Pred: 1.0, Prob: 0.657195508480072\n",
            "Text: Love is the weapon for this wounded generation &lt;3\n",
            "---\n",
            "Target: 0, Pred: 1.0, Prob: 0.656648576259613\n",
            "Text: Cyclists it is pandemonium on the roads today. Drive carefully!\n",
            "---\n",
            "Target: 0, Pred: 1.0, Prob: 0.6561859846115112\n",
            "Text: the windstorm blew thru my open window and now my bong is in pieces just another example of nature's indifference to human suffering\n",
            "---\n",
            "Target: 0, Pred: 1.0, Prob: 0.6449202299118042\n",
            "Text: Haley Lu Richardson Fights for Water in The Last Survivors (Review) http://t.co/oObSCFOKtQ\n",
            "---\n",
            "Target: 0, Pred: 1.0, Prob: 0.6337714791297913\n",
            "Text: Photo: postapocalypticflimflam: Prodding around the rubble. http://t.co/Bgy4i47j70\n",
            "---\n",
            "Target: 0, Pred: 1.0, Prob: 0.6278929710388184\n",
            "Text: @cjbanning 4sake of argsuppose pre-born has attained individl rights.Generally courtof law forbids killing unless dead person did something\n",
            "---\n",
            "Target: 0, Pred: 1.0, Prob: 0.6268866658210754\n",
            "Text: Diageo's CEO stresses that a board revolt at United Spirits has not impacted Indian operations http://t.co/STPOdA901U\n",
            "---\n",
            "Target: 0, Pred: 1.0, Prob: 0.6126309633255005\n",
            "Text: Crack in the path where I wiped out this morning during beach run. Surface wounds on left elbow and right knee. http://t.co/yaqRSximph\n",
            "---\n",
            "Target: 0, Pred: 1.0, Prob: 0.6044843196868896\n",
            "Text: Do you have a plan? Emergency Preparedness for #Families of\n",
            "Children with Special Needs  http://t.co/RdOVqaUAx5  #autism #specialneeds\n",
            "---\n",
            "Target: 0, Pred: 1.0, Prob: 0.5865287780761719\n",
            "Text: @RedCoatJackpot *As it was typical for them their bullets collided and none managed to reach their targets; such was the ''curse'' of a --\n",
            "---\n",
            "Target: 0, Pred: 1.0, Prob: 0.5798134803771973\n",
            "Text: there's this person &amp; they reckon when you're dying your brain floods with dmt causing you to relive your life in real time in a simulation\n",
            "---\n",
            "Target: 0, Pred: 1.0, Prob: 0.574448823928833\n",
            "Text: He made such a good point. White person comings mass murder labelled as criminal minority does the same thing... http://t.co/37qPsSnaCv\n",
            "---\n",
            "Target: 0, Pred: 1.0, Prob: 0.5735117197036743\n",
            "Text: Emergency Response and Hazardous Chemical Management: Principles and Practices http://t.co/4sSuyhkgRB http://t.co/TDerBtgZ2k\n",
            "---\n",
            "Target: 0, Pred: 1.0, Prob: 0.5689481496810913\n",
            "Text: Came across this fire video not mine..enjoy..Babes way of saying hi to me while he's in the fire truck??\n",
            "#fireman #Û_ http://t.co/V5gTUnwohy\n",
            "---\n",
            "Target: 0, Pred: 1.0, Prob: 0.5630191564559937\n",
            "Text: Public Hearing on 2015-16 @SUNY_Orange budget Thurs 8/6 at 3:15 Emergency Services Ctr Goshen. http://t.co/80DzgCo6Vc\n",
            "---\n",
            "Target: 0, Pred: 1.0, Prob: 0.5628424286842346\n",
            "Text: #helpme what do I do? My friend has been ticketed by Police in Wayne County Michigan into never- sending poverty cycle. How do I help him?\n",
            "---\n",
            "Target: 0, Pred: 1.0, Prob: 0.5570698976516724\n",
            "Text: Ignition Knock (Detonation) Sensor Connector-Connecto MOTORCRAFT WPT-410 http://t.co/bSmJ2HVgwD http://t.co/bXalnEdy49\n",
            "---\n",
            "Target: 0, Pred: 1.0, Prob: 0.5384085774421692\n",
            "Text: @Azimel 'Screaming Mad Scientist deceased after tumbling over heels and falling into sinkhole during investigation'\n",
            "---\n",
            "Target: 0, Pred: 1.0, Prob: 0.527985692024231\n",
            "Text: @nagel_ashley @Vicken52 @BasedLaRock @goonc1ty rip the world... its burning\n",
            "---\n",
            "Target: 0, Pred: 1.0, Prob: 0.5257343053817749\n",
            "Text: @LegacyOfTheSith @SagaciousSaber @Lordofbetrayal Moved in a crescent formation small trails of dust left in their wake as they moved.\n",
            "---\n",
            "Target: 0, Pred: 1.0, Prob: 0.5202777981758118\n",
            "Text: WPRI 12 Eyewitness News Rhode Island set to modernize its voting equipment WPRI 12 EyewitnessÛ_ http://t.co/aP9JBrPmQg\n",
            "---\n",
            "Target: 0, Pred: 1.0, Prob: 0.5095020532608032\n",
            "Text: Aftershock ã¢ (2010) Fullã¢ Streaming - YouTube http://t.co/vVE3UsesGf\n",
            "---\n",
            "Target: 0, Pred: 1.0, Prob: 0.5092294216156006\n",
            "Text: Russian #ushanka #winter #military fur hat (xl61-62) with soviet badge LINK:\n",
            "http://t.co/74YFQxvAK0 http://t.co/KXrEHVt6hL\n",
            "---\n",
            "Target: 0, Pred: 1.0, Prob: 0.5043440461158752\n",
            "Text: The Five Fatal Flaws in the Iran Deal https://t.co/ztfEAd8GId via @YouTube\n",
            "---\n",
            "Target: 1, Pred: 0.0, Prob: 0.4978567361831665\n",
            "Text: @Dirk_NoMissSki yea but if someone faints why are they panicking?.. thats basic stuff ??\n",
            "---\n",
            "Target: 1, Pred: 0.0, Prob: 0.49502047896385193\n",
            "Text: Back from Seattle Tacoma and Portland. Whirlwind! http://t.co/qwHINBni8e\n",
            "---\n",
            "Target: 1, Pred: 0.0, Prob: 0.49278557300567627\n",
            "Text: #computers #gadgets Two giant cranes holding a bridge collapse into nearby homes http://t.co/UZIWgZRynY #slingnews\n",
            "---\n",
            "Target: 1, Pred: 0.0, Prob: 0.49255257844924927\n",
            "Text: I moved to England five years ago today. What a whirlwind of time it has been! http://t.co/eaSlGeA1B7\n",
            "---\n",
            "Target: 1, Pred: 0.0, Prob: 0.49134403467178345\n",
            "Text: China's Stock Market Crash: Are There Gems In The Rubble? http://t.co/BqBLWiw08g #ROIMentor #yycwalks\n",
            "---\n",
            "Target: 1, Pred: 0.0, Prob: 0.4635712206363678\n",
            "Text: Medieval airplane hijacker testa: earnings the distinction divers: HtaRvrGLY\n",
            "---\n",
            "Target: 1, Pred: 0.0, Prob: 0.45674198865890503\n",
            "Text: DireTube Information ÛÒ Egypt Cyprus and Greece agreed to fightåÊterrorism http://t.co/V6IjxCCD2I http://t.co/YSXhFWMGOD\n",
            "---\n",
            "Target: 1, Pred: 0.0, Prob: 0.4498385787010193\n",
            "Text: US wont upgrade its infrastructure? http://t.co/NGEHhG9YGa' it a bad situation and its going to get ugly very quickly #USA #sustainability\n",
            "---\n",
            "Target: 1, Pred: 0.0, Prob: 0.4387255907058716\n",
            "Text: A Dayton-area org tells me it was hit by a cyber attack: http://t.co/7LhKJz0IVO\n",
            "---\n",
            "Target: 1, Pred: 0.0, Prob: 0.4106840491294861\n",
            "Text: 133 N past  the 5 L lane is reopened. All other lanes are closed. All lanes are open on the 133 S. Trash truck fire cleanup. @KNX1070\n",
            "---\n",
            "Target: 1, Pred: 0.0, Prob: 0.4041581451892853\n",
            "Text: Nearly had a heart attack just now; loud bang against window next to meÛ_turns out it was two birds flying into the glass.\n",
            "---\n",
            "Target: 1, Pred: 0.0, Prob: 0.3958092927932739\n",
            "Text: #World #News Qld police wrap Billy Gordon investigation: QUEENSLAND Police have wrapped up their investigation...  http://t.co/msgnNDxOeK\n",
            "---\n",
            "Target: 1, Pred: 0.0, Prob: 0.39491432905197144\n",
            "Text: When ur friend and u are talking about forest fires in a forest and he tells u to drop ur mix tape out there... #straightfire\n",
            "---\n",
            "Target: 1, Pred: 0.0, Prob: 0.3919871151447296\n",
            "Text: I never knew about the relationship btwn Kansas City Hyatt bridge collapse &amp; AIA's COTE.   http://t.co/ThS9IqSWP3 via @HuffPostArts\n",
            "---\n",
            "Target: 1, Pred: 0.0, Prob: 0.38917961716651917\n",
            "Text: @DavidJordan88 @Stephanenny Except we don't know who started the riot or if it even makes sense to credit any particular individuals...\n",
            "---\n",
            "Target: 1, Pred: 0.0, Prob: 0.388081431388855\n",
            "Text: There's a weird siren going off here...I hope Hunterston isn't in the process of blowing itself to smithereens...\n",
            "---\n",
            "Target: 1, Pred: 0.0, Prob: 0.38723450899124146\n",
            "Text: #ClimateChange Eyewitness to Extreme Weather: 11 Social Media Posts that Show Just How Crazy Things A... http://t.co/czpDn9oBiT #Anarchy\n",
            "---\n",
            "Target: 1, Pred: 0.0, Prob: 0.38472411036491394\n",
            "Text: #Metepec #Mexico - ?NIGHT DISASTER?...E(Oficial) @ #NitClub #mÌ¼sica #mÌ¼sica http://t.co/WTfJF9jjzs\n",
            "---\n",
            "Target: 1, Pred: 0.0, Prob: 0.3820633888244629\n",
            "Text: RT NotExplained: The only known image of infamous hijacker D.B. Cooper. http://t.co/JlzK2HdeTG\n",
            "---\n",
            "Target: 1, Pred: 0.0, Prob: 0.3810732066631317\n",
            "Text: So this storm just came out of no where. .fuck me its cool\n",
            "---\n",
            "Target: 1, Pred: 0.0, Prob: 0.37615373730659485\n",
            "Text: Breakfast links: Work from home: Derailed: An empty train derailed at Smithsonian this morning suspending ser... http://t.co/iD4QGqDnJQ\n",
            "---\n",
            "Target: 1, Pred: 0.0, Prob: 0.3712228536605835\n",
            "Text: Oops: Bounty hunters try to raid Phoenix police chief's home: http://t.co/yPRJWMigHL -- A group of armed bounty... http://t.co/3RrKRCjYW7\n",
            "---\n",
            "Target: 1, Pred: 0.0, Prob: 0.3646329939365387\n",
            "Text: @emmerdale can we have a public vote for the next annual village disaster?  i want an isis strike or a nuclear accident &amp; end this forever\n",
            "---\n",
            "Target: 1, Pred: 0.0, Prob: 0.36173996329307556\n",
            "Text: @ColdMpress You up to commiting mass murder tonight?\n",
            "---\n",
            "Target: 1, Pred: 0.0, Prob: 0.3460537791252136\n",
            "Text: Savings and sewing in Guatemala: Savings and sewing in Guatemala. When a natural disaster hit seamstress Elvia...  http://t.co/jdx9OX2kIk\n",
            "---\n",
            "Target: 1, Pred: 0.0, Prob: 0.34354186058044434\n",
            "Text: Toddler drowned in bath after mum left room to fetch his pyjamas http://t.co/k9aSKtwXfL\n",
            "---\n",
            "Target: 1, Pred: 0.0, Prob: 0.3345523476600647\n",
            "Text: Hollywood Movie About Trapped Miners Released in Chile: 'The 33' Hollywood movie about trapped miners starring... http://t.co/tyyfG4qQvM\n",
            "---\n",
            "Target: 1, Pred: 0.0, Prob: 0.32017284631729126\n",
            "Text: Policyholders object to Clico rescue plan http://t.co/E4DvI9vUXZ http://t.co/JyCpf8iYhg\n",
            "---\n",
            "Target: 1, Pred: 0.0, Prob: 0.3073952794075012\n",
            "Text: Crazy Mom Threw Teen Daughter a NUDE Twister Sex Party According To Her Friend50 =&gt;http://t.co/Hy5Pbe12TM http://t.co/c1nJpLi5oR\n",
            "---\n",
            "Target: 1, Pred: 0.0, Prob: 0.3052244186401367\n",
            "Text: How is it one careless match can start a forest fire but it takes a whole box to start a campfire?\n",
            "---\n",
            "Target: 1, Pred: 0.0, Prob: 0.2612628638744354\n",
            "Text: In Kalmikya Astrakhan Volgagrad and Dagestan there is already no food left for the locusts\n",
            "\n",
            "  http://t.co/79Fw9zWxtP via @TIMEWorld\n",
            "---\n",
            "Target: 1, Pred: 0.0, Prob: 0.26033514738082886\n",
            "Text: Owner of Chicago-Area Gay Bar Admits to Arson Scheme http://t.co/ZPxE3fMYNG #LGBT\n",
            "---\n",
            "Target: 1, Pred: 0.0, Prob: 0.2523592412471771\n",
            "Text: shit is hard to get over but sometimes the tragedy means it's over soulja..\n",
            "---\n",
            "Target: 1, Pred: 0.0, Prob: 0.2481275200843811\n",
            "Text: #hot  Funtenna: hijacking computers to send data as sound waves [Black Hat 2015] http://t.co/cOMuiOk3mP #prebreak #best\n",
            "---\n",
            "Target: 1, Pred: 0.0, Prob: 0.2458740472793579\n",
            "Text: Another fake hate crime Lesbians burn their own house down. What else Is new :http://t.co/66oBQmxImb\n",
            "---\n",
            "Target: 1, Pred: 0.0, Prob: 0.24200862646102905\n",
            "Text: The date for the release of EP03 DESOLATION is set. Stay tuned for more info while we finalise the schedule. #alt #electro #rock #comingsoon\n",
            "---\n",
            "Target: 1, Pred: 0.0, Prob: 0.2301475703716278\n",
            "Text: Would a paramedic really do that? Leave someone inside a building that's about to collapse/blow up? @HalloIkBenWill\n",
            "---\n",
            "Target: 1, Pred: 0.0, Prob: 0.22556006908416748\n",
            "Text: Two hours to get to a client meeting. Whirlwind of emotions with this #tubestrike\n",
            "---\n",
            "Target: 1, Pred: 0.0, Prob: 0.2230648696422577\n",
            "Text: First time getting into #gbbo2015 and physically gasped at the cake 'mudslide' incident already way too emotionally invested...\n",
            "---\n",
            "Target: 1, Pred: 0.0, Prob: 0.21822312474250793\n",
            "Text: Plans by former First Lady and wife of ex-President Goodluck Jonathan Dame Patience Jonathan to hijack the All... http://t.co/HaShGQAFic\n",
            "---\n",
            "Target: 1, Pred: 0.0, Prob: 0.1962294578552246\n",
            "Text: @camilacabello97 Internally and externally screaming\n",
            "---\n",
            "Target: 1, Pred: 0.0, Prob: 0.19319221377372742\n",
            "Text: Sadly before she could save humanity Ursula drowned in the drool of a protoshoggoth but at least she sort of died doing what she loved.\n",
            "---\n",
            "Target: 1, Pred: 0.0, Prob: 0.19235989451408386\n",
            "Text: annihilating quarterstaff of annihilation\n",
            "---\n",
            "Target: 1, Pred: 0.0, Prob: 0.18886810541152954\n",
            "Text: How to prepare your #property for a #storm:\n",
            "\n",
            "http://t.co/KhYqQsi6My http://t.co/G6Vs3XEinb\n",
            "---\n",
            "Target: 1, Pred: 0.0, Prob: 0.1862843632698059\n",
            "Text: Just came back from camping and returned with a new song which gets recorded tomorrow. Can't wait! #Desolation #TheConspiracyTheory #NewEP\n",
            "---\n",
            "Target: 1, Pred: 0.0, Prob: 0.18448218703269958\n",
            "Text: when you don't know which way an ambulance is coming from &lt;&lt;\n",
            "---\n",
            "Target: 1, Pred: 0.0, Prob: 0.18259313702583313\n",
            "Text: Body shops inundated with cars dented by hail... Good news insurance pays... Bad news :  you are stuck with deductible !\n",
            "#wcvb\n",
            "---\n",
            "Target: 1, Pred: 0.0, Prob: 0.1809845268726349\n",
            "Text: Julian Knight - @SCVSupremeCourt dismisses mass murderer's attempt to increase prisoner pay. Challenged quantum of 5% increase 2013.\n",
            "---\n",
            "Target: 1, Pred: 0.0, Prob: 0.1805841624736786\n",
            "Text: CDC has a pretty cool list of all bioterrorism agents :3\n",
            "---\n",
            "Target: 1, Pred: 0.0, Prob: 0.1740589737892151\n",
            "Text: Can't believe more people in their mid 20's don't have high blood pressure. Life is stressful. #DecisionsOnDecisions\n",
            "---\n",
            "Target: 1, Pred: 0.0, Prob: 0.1733350157737732\n",
            "Text: Stupid women nearly collided into me today after she came out of a junction not looking. Still kept coming towards me till I beep my horn\n",
            "---\n",
            "Target: 1, Pred: 0.0, Prob: 0.1731703281402588\n",
            "Text: #download &amp; #watch Demolition Frog (2002) http://t.co/81nEizeknm #movie\n",
            "---\n",
            "Target: 1, Pred: 0.0, Prob: 0.17275023460388184\n",
            "Text: Indeed!! I am fully aware of that battle! I support you in that fight!!  https://t.co/MctJnZX4H8\n",
            "---\n",
            "Target: 1, Pred: 0.0, Prob: 0.17246338725090027\n",
            "Text: @dreamoforgonon @TeeEss not to hijack but as a bona fide cislady I can confirm this as true; incidental homosexuality =/= gay/bi for women.\n",
            "---\n",
            "Target: 1, Pred: 0.0, Prob: 0.17010685801506042\n",
            "Text: World War II book LIGHTNING JOE An Autobiography by General J. Lawton Collins http://t.co/R4khEH7iaf http://t.co/qSZgJfUutu\n",
            "---\n",
            "Target: 1, Pred: 0.0, Prob: 0.1676202118396759\n",
            "Text: suddenly it's off &amp; on gloomy &amp; thunder so loud it shakes the windows? Not ever on the Bay Area. Miss me w/that lol http://t.co/x4eCGGvnSN\n",
            "---\n",
            "Target: 1, Pred: 0.0, Prob: 0.16570726037025452\n",
            "Text: @MichaelWestBiz standard damage control\n",
            "---\n",
            "Target: 1, Pred: 0.0, Prob: 0.1549466848373413\n",
            "Text: When you go to a concert and someone screams in your ear... Does it look like I wanna loose my hearing anytime soon???\n",
            "---\n",
            "Target: 1, Pred: 0.0, Prob: 0.1503564417362213\n",
            "Text: A quarter whirlwind. They don't see it coming.\n",
            "---\n",
            "Target: 1, Pred: 0.0, Prob: 0.14835861325263977\n",
            "Text: @Habbo bring back games from the past. Snowstorm. Tic tac toe. Battleships. Fast food. Matchwood.\n",
            "---\n",
            "Target: 1, Pred: 0.0, Prob: 0.1193600594997406\n",
            "Text: Leitchfield KY:\n",
            "\n",
            " Bella Edward &amp; Rosalie need rescue/adoption/local foster home(s)/sponsorships.\n",
            "\n",
            " Trapped &amp;... http://t.co/Ajay0sNPlg\n",
            "---\n",
            "Target: 1, Pred: 0.0, Prob: 0.11672410368919373\n",
            "Text: So I pick myself off the ground and swam before I drowned. Hit the bottom so hard I bounced twice suffice this time around is different.\n",
            "---\n",
            "Target: 1, Pred: 0.0, Prob: 0.11602184176445007\n",
            "Text: @GodOf_Mischief_ -of Loki's daggers she pulled it out and jammed it into Mina's thigh. When Mina screamed and grabbed at her leg sif-\n",
            "---\n",
            "Target: 1, Pred: 0.0, Prob: 0.1144515872001648\n",
            "Text: The ol' meltdown victory for the Mets.\n",
            "---\n",
            "Target: 1, Pred: 0.0, Prob: 0.1119164526462555\n",
            "Text: @cspanwj If 90BLKs&amp;8WHTs colluded 2 take WHT F @USAgov AUTH Hostage&amp;2 make her look BLK w/Bioterrorism&amp;use her lgl/org IDis ID still hers?\n",
            "---\n",
            "Target: 1, Pred: 0.0, Prob: 0.10821017622947693\n",
            "Text: Yelp Bolsters Health Care Reviews With Investigative Journalism: Sick and injured patients at a local ER are t... http://t.co/E8aEGOFDY2\n",
            "---\n",
            "Target: 1, Pred: 0.0, Prob: 0.10678562521934509\n",
            "Text: @SaintRobinho86 someone has to be at the bottom of every league. Tonight clearly demonstrated why the Lions are where they are - sunk!\n",
            "---\n",
            "Target: 1, Pred: 0.0, Prob: 0.10654851794242859\n",
            "Text: Until my death I'll forever rep the Jets.\n",
            "---\n",
            "Target: 1, Pred: 0.0, Prob: 0.10461503267288208\n",
            "Text: If I fall is men GOD @Praiz8 is d bomb well av always known dat since 2008 bigger u I pray sir\n",
            "---\n",
            "Target: 1, Pred: 0.0, Prob: 0.10175436735153198\n",
            "Text: I Will Survive by Gloria Gaynor (with Oktaviana Devi) ÛÓ https://t.co/HUkJZ1wT36\n",
            "---\n",
            "Target: 1, Pred: 0.0, Prob: 0.10133489966392517\n",
            "Text: I wanna set some shit on fire.\n",
            "---\n",
            "Target: 1, Pred: 0.0, Prob: 0.0988767147064209\n",
            "Text: Rand Paul's Debate Strategy 'demolish Some other bad ideas out there or point out maybe that there are some em... http://t.co/qzdqRBr4Lh\n",
            "---\n",
            "Target: 1, Pred: 0.0, Prob: 0.09457096457481384\n",
            "Text: Perspectives on the Grateful Dead: Critical Writings (Contributions to the Study http://t.co/fmu0fnuMxf http://t.co/AgGRyhVXKr\n",
            "---\n",
            "Target: 1, Pred: 0.0, Prob: 0.09369730949401855\n",
            "Text: Petition | Heartless owner that whipped horse until it collapsed is told he can KEEP his animal! Act Now! http://t.co/87eFCBIczM\n",
            "---\n",
            "Target: 1, Pred: 0.0, Prob: 0.09234565496444702\n",
            "Text: @Zak_Bagans this is Sabrina my dad rescued her from some dude who kept her in a cage. We've had her since I was 4 http://t.co/1k2PhQcuW8\n",
            "---\n",
            "Target: 1, Pred: 0.0, Prob: 0.08252659440040588\n",
            "Text: New post from @darkreading http://t.co/8eIJDXApnp New SMB Relay Attack Steals User Credentials Over Internet\n",
            "---\n",
            "Target: 1, Pred: 0.0, Prob: 0.08042651414871216\n",
            "Text: VICTORINOX SWISS ARMY DATE WOMEN'S RUBBER MOP WATCH 241487 http://t.co/yFy3nkkcoH http://t.co/KNEhVvOHVK\n",
            "---\n",
            "Target: 1, Pred: 0.0, Prob: 0.07898202538490295\n",
            "Text: Next May I'll be free...from school from obligations like family.... Best of all that damn curfew...\n",
            "---\n",
            "Target: 1, Pred: 0.0, Prob: 0.07138806581497192\n",
            "Text: @BoyInAHorsemask its a panda trapped in a dogs body\n",
            "---\n",
            "Target: 1, Pred: 0.0, Prob: 0.07125729322433472\n",
            "Text: @reriellechan HE WAS THE LICH KING'S FIRST CASUALTY BLOCK ME BACK I HATE YOU! http://t.co/0Gidg9U45J\n",
            "---\n",
            "Target: 1, Pred: 0.0, Prob: 0.0696713924407959\n",
            "Text: 'The way you move is like a full on rainstorm and I'm a house of cards'\n",
            "---\n",
            "Target: 1, Pred: 0.0, Prob: 0.06730341911315918\n",
            "Text: @DavidVonderhaar At least you were sincere ??\n",
            "---\n",
            "Target: 1, Pred: 0.0, Prob: 0.05507582426071167\n",
            "Text: @willienelson We need help! Horses will die!Please RT &amp; sign petition!Take a stand &amp; be a voice for them! #gilbert23 https://t.co/e8dl1lNCVu\n",
            "---\n",
            "Target: 1, Pred: 0.0, Prob: 0.054603368043899536\n",
            "Text: Lucas Duda is Ghost Rider. Not the Nic Cage version but an actual 'engulfed in flames' badass. #Mets\n",
            "---\n",
            "Target: 1, Pred: 0.0, Prob: 0.05459702014923096\n",
            "Text: going to redo my nails and watch behind the scenes of desolation of smaug ayyy\n",
            "---\n",
            "Target: 1, Pred: 0.0, Prob: 0.049637287855148315\n",
            "Text: You can never escape me. Bullets don't harm me. Nothing harms me. But I know pain. I know pain. Sometimes I share it. With someone like you.\n",
            "---\n",
            "Target: 1, Pred: 0.0, Prob: 0.043918460607528687\n",
            "Text: @SoonerMagic_ I mean I'm a fan but I don't need a girl sounding off like a damn siren\n",
            "---\n",
            "Target: 1, Pred: 0.0, Prob: 0.04208683967590332\n",
            "Text: I get to smoke my shit in peace\n",
            "---\n",
            "Target: 1, Pred: 0.0, Prob: 0.038997918367385864\n",
            "Text: Why are you deluged with low self-image? Take the quiz: http://t.co/XsPqdOrIqj http://t.co/CQYvFR4UCy\n",
            "---\n",
            "Target: 1, Pred: 0.0, Prob: 0.038949429988861084\n",
            "Text: Reddit Will Now QuarantineÛ_ http://t.co/pkUAMXw6pm #onlinecommunities #reddit #amageddon #freespeech #Business http://t.co/PAWvNJ4sAP\n",
            "---\n",
            "Target: 1, Pred: 0.0, Prob: 0.03718575835227966\n",
            "Text: Ron &amp; Fez - Dave's High School Crush https://t.co/aN3W16c8F6 via @YouTube\n",
            "---\n"
          ]
        }
      ]
    },
    {
      "cell_type": "markdown",
      "source": [
        "# Making and visualising predictions on the test dataset"
      ],
      "metadata": {
        "id": "G80LRZw6FI3K"
      }
    },
    {
      "cell_type": "code",
      "source": [
        "test_sentences = test_df['text'].to_list()\n",
        "print(test_sentences[:5], '\\n')\n",
        "\n",
        "test_samples = random.sample(test_sentences, 10)\n",
        "for test_sample in test_samples:\n",
        "    pred_prob = tf.squeeze(model_6_pretrained.predict([test_sample]))\n",
        "    pred = tf.round(pred_prob)\n",
        "    print(f'Pred: {int(pred)}, Prob: {pred_prob}')\n",
        "    print(f'Text: {test_sample}')\n",
        "    print('-----')"
      ],
      "metadata": {
        "colab": {
          "base_uri": "https://localhost:8080/"
        },
        "id": "umnADhw6DX7-",
        "outputId": "53dd2ff0-3b13-4b61-925f-cd3747051566"
      },
      "execution_count": 122,
      "outputs": [
        {
          "output_type": "stream",
          "name": "stdout",
          "text": [
            "['Just happened a terrible car crash', 'Heard about #earthquake is different cities, stay safe everyone.', 'there is a forest fire at spot pond, geese are fleeing across the street, I cannot save them all', 'Apocalypse lighting. #Spokane #wildfires', 'Typhoon Soudelor kills 28 in China and Taiwan'] \n",
            "\n",
            "Pred: 0, Prob: 0.104428231716156\n",
            "Text: @Sawyer_DAA @GuerrillaDawg worst feel in DS when u panicking during  boss fight and you chug two estus and the boss kills you while u drink\n",
            "-----\n",
            "Pred: 0, Prob: 0.10681039094924927\n",
            "Text: Idk if ithats thunder or people rolling in their trashcans ??????\n",
            "-----\n",
            "Pred: 0, Prob: 0.10922986268997192\n",
            "Text: We're about to demolish the other team right after we eat this pizza. We don't need no fitness- Ashton Irwin #MTVHottest 5SOS #5sosquotes\n",
            "-----\n",
            "Pred: 0, Prob: 0.05009758472442627\n",
            "Text: Just blew you up @abbss_13 just so I can get that follow back ????\n",
            "-----\n",
            "Pred: 0, Prob: 0.37357455492019653\n",
            "Text: #NuclearPower Global Nuclear Reactor Construction Market grew 4.5% between 2013 and 2014: Û_ Nuclear Reactor Co...  http://t.co/BXPjjeQDrG\n",
            "-----\n",
            "Pred: 0, Prob: 0.10032087564468384\n",
            "Text: Val rescued the sister but alone died. In the end she wasn't selfish. It was beautiful but very sad #emmerdale\n",
            "-----\n",
            "Pred: 0, Prob: 0.060410499572753906\n",
            "Text: did harry survive the show\n",
            "-----\n",
            "Pred: 1, Prob: 0.7999387979507446\n",
            "Text: here is goes again #abstorm #hailstorm #yychail stay safe everyone!\n",
            "-----\n",
            "Pred: 0, Prob: 0.04385915398597717\n",
            "Text: Tonight It's Going To Be Mayhem @ #4PlayThursdays. Everybody Free w/ Text. 1716 I ST NW (18+) http://t.co/wDefhbkF9g\n",
            "-----\n",
            "Pred: 0, Prob: 0.06720840930938721\n",
            "Text: ???????? this the dead ass truth you pay for shit you not gone use  https://t.co/iW1sDopMvR\n",
            "-----\n"
          ]
        }
      ]
    },
    {
      "cell_type": "markdown",
      "source": [
        "# Understanding the concept of the speed/score tradeoff"
      ],
      "metadata": {
        "id": "8ZA3Hr9UHNCN"
      }
    },
    {
      "cell_type": "code",
      "source": [
        "def pred_timer(model, samples):\n",
        "    start_time = time.perf_counter()\n",
        "    model.predict(samples)\n",
        "    end_time = time.perf_counter()\n",
        "    total_time = end_time - start_time\n",
        "    time_per_pred = total_time / len(samples)\n",
        "    \n",
        "    return round(total_time, 4), round(time_per_pred, 4)"
      ],
      "metadata": {
        "id": "4ggTx8OIGeXG"
      },
      "execution_count": 136,
      "outputs": []
    },
    {
      "cell_type": "code",
      "source": [
        "model_6_total_pred_time, model_6_time_per_pred = pred_timer(model_6_pretrained, \n",
        "                                                            samples=val_sentences)\n",
        "baseline_total_pred_time, baseline_time_per_pred = pred_timer(model_0, val_sentences)\n",
        "\n",
        "print(model_6_total_pred_time, model_6_time_per_pred)\n",
        "print(baseline_total_pred_time, baseline_time_per_pred)"
      ],
      "metadata": {
        "id": "ILk2o1drKUuS",
        "outputId": "e584e36e-aade-46c0-9fb2-e2596cba1103",
        "colab": {
          "base_uri": "https://localhost:8080/"
        }
      },
      "execution_count": 137,
      "outputs": [
        {
          "output_type": "stream",
          "name": "stdout",
          "text": [
            "0.4795 0.0006\n",
            "0.0246 0.0\n"
          ]
        }
      ]
    },
    {
      "cell_type": "code",
      "source": [
        "model_6_pretrained_results = calculate_results(y_true=val_labels,\n",
        "                                               y_pred=model_6_pretrained_preds)"
      ],
      "metadata": {
        "id": "ybl1OlndDYAC"
      },
      "execution_count": 138,
      "outputs": []
    },
    {
      "cell_type": "code",
      "source": [
        "plt.figure(figsize=(10, 7))\n",
        "plt.scatter(baseline_time_per_pred, baseline_results['f1'], label='baseline')\n",
        "plt.scatter(model_6_time_per_pred, model_6_pretrained_results['f1'], label='tf_hub_sentences_encoder')\n",
        "plt.legend()\n",
        "plt.title('F1-score versus time per prediction')\n",
        "plt.xlabel('Time per prediction')\n",
        "plt.ylabel('F1-score')"
      ],
      "metadata": {
        "colab": {
          "base_uri": "https://localhost:8080/",
          "height": 481
        },
        "id": "gpGhBQoNDYEx",
        "outputId": "9d6d8eeb-3dd7-48e1-a147-5a926f6c7bba"
      },
      "execution_count": 139,
      "outputs": [
        {
          "output_type": "execute_result",
          "data": {
            "text/plain": [
              "Text(0, 0.5, 'F1-score')"
            ]
          },
          "metadata": {},
          "execution_count": 139
        },
        {
          "output_type": "display_data",
          "data": {
            "text/plain": [
              "<Figure size 720x504 with 1 Axes>"
            ],
            "image/png": "[encoded data removed]"
          },
          "metadata": {}
        }
      ]
    },
    {
      "cell_type": "code",
      "source": [
        ""
      ],
      "metadata": {
        "id": "EOsW4vopMNCT"
      },
      "execution_count": null,
      "outputs": []
    },
    {
      "cell_type": "code",
      "source": [
        ""
      ],
      "metadata": {
        "id": "ScfDj0g1DYIl"
      },
      "execution_count": null,
      "outputs": []
    },
    {
      "cell_type": "code",
      "source": [
        ""
      ],
      "metadata": {
        "id": "7y73J7zo3-Wy"
      },
      "execution_count": null,
      "outputs": []
    },
    {
      "cell_type": "code",
      "source": [
        ""
      ],
      "metadata": {
        "id": "y7G-fe6m_4BN"
      },
      "execution_count": 79,
      "outputs": []
    }
  ],
  "metadata": {
    "language_info": {
      "name": "python"
    },
    "orig_nbformat": 4,
    "colab": {
      "name": "08_NLP.ipynb",
      "provenance": [],
      "toc_visible": true,
      "include_colab_link": true
    },
    "kernelspec": {
      "name": "python3",
      "display_name": "Python 3"
    },
    "accelerator": "TPU"
  },
  "nbformat": 4,
  "nbformat_minor": 0
}